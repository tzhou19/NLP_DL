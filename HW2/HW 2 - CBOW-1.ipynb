{
 "cells": [
  {
   "cell_type": "code",
   "execution_count": 1,
   "id": "080d50fc",
   "metadata": {},
   "outputs": [
    {
     "name": "stderr",
     "output_type": "stream",
     "text": [
      "c:\\Users\\Alex\\miniconda3\\lib\\site-packages\\tqdm\\auto.py:22: TqdmWarning: IProgress not found. Please update jupyter and ipywidgets. See https://ipywidgets.readthedocs.io/en/stable/user_install.html\n",
      "  from .autonotebook import tqdm as notebook_tqdm\n"
     ]
    }
   ],
   "source": [
    "import time\n",
    "import torch\n",
    "from torch.utils.data import DataLoader, TensorDataset\n",
    "from torchtext.data.utils import get_tokenizer\n",
    "from torchtext.datasets import DATASETS\n",
    "from torchtext.vocab import build_vocab_from_iterator\n",
    "import torch.nn as nn\n",
    "from tqdm import tqdm\n",
    "import pickle\n",
    "import random\n",
    "import numpy as np\n",
    "from collections import Counter, defaultdict\n",
    "import numpy as np\n",
    "import matplotlib.pyplot as plt\n",
    "from sklearn.decomposition import PCA\n",
    "from gensim.test.utils import datapath, get_tmpfile\n",
    "from gensim.models import KeyedVectors\n",
    "import gensim.downloader\n",
    "from torch import FloatTensor as FT\n",
    "\n",
    "# Get the interactive Tools for Matplotlib\n",
    "%matplotlib notebook\n",
    "%matplotlib inline\n",
    "\n",
    "plt.style.use('ggplot')"
   ]
  },
  {
   "cell_type": "code",
   "execution_count": 2,
   "id": "f5419c32",
   "metadata": {},
   "outputs": [
    {
     "data": {
      "text/plain": [
       "True"
      ]
     },
     "execution_count": 2,
     "metadata": {},
     "output_type": "execute_result"
    }
   ],
   "source": [
    "import torch\n",
    "torch.cuda.is_available()\n"
   ]
  },
  {
   "cell_type": "markdown",
   "id": "66eb271d",
   "metadata": {},
   "source": [
    "### Instructions\n",
    "For this part, fill in the required code and make the notebook work. This wll be very similar to the Skip-Gram model, but a little more difficult. Look for the \"\"\" FILL IN \"\"\" string to guide you."
   ]
  },
  {
   "cell_type": "code",
   "execution_count": 3,
   "id": "31b412ca",
   "metadata": {},
   "outputs": [],
   "source": [
    "# Where do I want to run my job. You can do \"cuda\" on linux machines.\n",
    "DEVICE = torch.device(\"cuda:0\" if torch.cuda.is_available() else \"cpu\")\n",
    "# The batch size in Adam or SGD.\n",
    "BATCH_SIZE = 512\n",
    "# Number of epochs.\n",
    "NUM_EPOCHS = 10\n",
    "# Predict from 2 words the inner word for CBOW.\n",
    "# I.e. I'll have a window like [\"a\", \"b\", \"c\"] of continuous text (each is a word).\n",
    "# We'll predict each of wc = [\"a\", \"c\"] from \"b\" = wc for Skip-Gram.\n",
    "# For CBOW, we'll use [\"a\", \"c\"] to predict \"b\" = wo.\n",
    "WINDOW = 1\n",
    "\n",
    "# Negative samples.\n",
    "K = 4"
   ]
  },
  {
   "cell_type": "code",
   "execution_count": null,
   "id": "e3311ae5",
   "metadata": {},
   "outputs": [],
   "source": []
  },
  {
   "cell_type": "markdown",
   "id": "3ec9f90a",
   "metadata": {},
   "source": [
    "The text8 Wikipedia corpus. 100M characters."
   ]
  },
  {
   "cell_type": "code",
   "execution_count": 4,
   "id": "c32bf008",
   "metadata": {},
   "outputs": [
    {
     "name": "stderr",
     "output_type": "stream",
     "text": [
      "'du' is not recognized as an internal or external command,\n",
      "operable program or batch file.\n"
     ]
    }
   ],
   "source": [
    "!du -h text8"
   ]
  },
  {
   "cell_type": "code",
   "execution_count": 5,
   "id": "3217b67b",
   "metadata": {},
   "outputs": [
    {
     "name": "stdout",
     "output_type": "stream",
     "text": [
      "100000000\n"
     ]
    }
   ],
   "source": [
    "f = open('text8', 'r')\n",
    "text = f.read()\n",
    "# One big string of size 100M.\n",
    "print(len(text))"
   ]
  },
  {
   "cell_type": "code",
   "execution_count": 6,
   "id": "6c1bf892",
   "metadata": {},
   "outputs": [],
   "source": [
    "punc = '!\"#$%&()*+,-./:;<=>?@[\\\\]^_\\'{|}~\\t\\n'\n",
    "\n",
    "# Can do regular expressions here too.\n",
    "for c in punc:\n",
    "    if c in text:\n",
    "        text.replace(c, ' ')"
   ]
  },
  {
   "cell_type": "code",
   "execution_count": null,
   "id": "451bf3ab",
   "metadata": {},
   "outputs": [],
   "source": []
  },
  {
   "cell_type": "code",
   "execution_count": 7,
   "id": "0bc19b0c",
   "metadata": {},
   "outputs": [],
   "source": [
    "# A very crude tokenizer you get for free: lower case and also split on spaces.\n",
    "TOKENIZER = get_tokenizer(\"basic_english\")"
   ]
  },
  {
   "cell_type": "code",
   "execution_count": 8,
   "id": "ff8fd598",
   "metadata": {},
   "outputs": [],
   "source": [
    "words = TOKENIZER(text)\n",
    "f = Counter(words)"
   ]
  },
  {
   "cell_type": "code",
   "execution_count": 9,
   "id": "ba7f72f8",
   "metadata": {},
   "outputs": [
    {
     "data": {
      "text/plain": [
       "17005207"
      ]
     },
     "execution_count": 9,
     "metadata": {},
     "output_type": "execute_result"
    }
   ],
   "source": [
    "len(words)"
   ]
  },
  {
   "cell_type": "code",
   "execution_count": 10,
   "id": "16b736a4",
   "metadata": {},
   "outputs": [],
   "source": [
    "# Do a very crude filter on the text which removes all very popular words.\n",
    "text = [word for word in words if f[word] > 5]"
   ]
  },
  {
   "cell_type": "code",
   "execution_count": 11,
   "id": "6916a763",
   "metadata": {},
   "outputs": [
    {
     "data": {
      "text/plain": [
       "['anarchism', 'originated', 'as', 'a', 'term']"
      ]
     },
     "execution_count": 11,
     "metadata": {},
     "output_type": "execute_result"
    }
   ],
   "source": [
    "text[0:5]"
   ]
  },
  {
   "cell_type": "code",
   "execution_count": 12,
   "id": "10ad817a",
   "metadata": {},
   "outputs": [],
   "source": [
    "VOCAB = build_vocab_from_iterator([text])"
   ]
  },
  {
   "cell_type": "code",
   "execution_count": 13,
   "id": "a7f69fc9",
   "metadata": {},
   "outputs": [],
   "source": [
    "# word -> int hash map.\n",
    "stoi = VOCAB.get_stoi()\n",
    "# int -> word hash map.\n",
    "itos = VOCAB.get_itos() "
   ]
  },
  {
   "cell_type": "code",
   "execution_count": 14,
   "id": "9991f9ab",
   "metadata": {},
   "outputs": [
    {
     "data": {
      "text/plain": [
       "11"
      ]
     },
     "execution_count": 14,
     "metadata": {},
     "output_type": "execute_result"
    }
   ],
   "source": [
    "stoi['as']"
   ]
  },
  {
   "cell_type": "code",
   "execution_count": 15,
   "id": "0f49f5fa",
   "metadata": {},
   "outputs": [
    {
     "data": {
      "text/plain": [
       "63641"
      ]
     },
     "execution_count": 15,
     "metadata": {},
     "output_type": "execute_result"
    }
   ],
   "source": [
    "# Total number of words.\n",
    "len(stoi)"
   ]
  },
  {
   "cell_type": "code",
   "execution_count": 16,
   "id": "6c5c415a",
   "metadata": {},
   "outputs": [],
   "source": [
    "f = Counter(text)\n",
    "# This is the probability that we pick a word in the corpus.\n",
    "z = {word: f[word] / len(text) for word in f}"
   ]
  },
  {
   "cell_type": "code",
   "execution_count": 17,
   "id": "1e543e1e",
   "metadata": {},
   "outputs": [],
   "source": [
    "threshold = 1e-5\n",
    "# Probability that word is kept while subsampling.\n",
    "# This is explained here and sightly differet from the paper: http://mccormickml.com/2017/01/11/word2vec-tutorial-part-2-negative-sampling/\n",
    "p_keep = {word: (np.sqrt(z[word] / 0.001) + 1)*(0.0001 / z[word]) for word in f}"
   ]
  },
  {
   "cell_type": "code",
   "execution_count": 18,
   "id": "dd22119d",
   "metadata": {},
   "outputs": [],
   "source": [
    "# This is in the integer space.\n",
    "train_dataset = [word for word in text if random.random() < p_keep[word]]\n",
    "\n",
    "# Rebuild the vocabulary.\n",
    "VOCAB = build_vocab_from_iterator([train_dataset])"
   ]
  },
  {
   "cell_type": "code",
   "execution_count": 19,
   "id": "a2d695da",
   "metadata": {},
   "outputs": [
    {
     "data": {
      "text/plain": [
       "7845879"
      ]
     },
     "execution_count": 19,
     "metadata": {},
     "output_type": "execute_result"
    }
   ],
   "source": [
    "len(train_dataset)"
   ]
  },
  {
   "cell_type": "code",
   "execution_count": 20,
   "id": "30d67549",
   "metadata": {},
   "outputs": [],
   "source": [
    "# word -> int mapping.\n",
    "stoi = VOCAB.get_stoi()\n",
    "# int -> word mapping.\n",
    "itos = VOCAB.get_itos() "
   ]
  },
  {
   "cell_type": "code",
   "execution_count": 21,
   "id": "b46337b8",
   "metadata": {},
   "outputs": [
    {
     "data": {
      "text/plain": [
       "63641"
      ]
     },
     "execution_count": 21,
     "metadata": {},
     "output_type": "execute_result"
    }
   ],
   "source": [
    "# The vocabulary size after we do all the filters.\n",
    "len(VOCAB)"
   ]
  },
  {
   "cell_type": "code",
   "execution_count": 22,
   "id": "c9346f36",
   "metadata": {},
   "outputs": [],
   "source": [
    "# The probability we draw something for negative sampling.\n",
    "f = Counter(train_dataset)\n",
    "p = torch.zeros(len(VOCAB))\n",
    "\n",
    "# Downsample frequent words and upsample less frequent.\n",
    "s = sum([np.power(freq, 0.75) for word, freq in f.items()])        \n",
    "\n",
    "for word in f:\n",
    "    p[stoi[word]] = np.power(f[word], 0.75) / s"
   ]
  },
  {
   "cell_type": "code",
   "execution_count": 23,
   "id": "dd713c15",
   "metadata": {},
   "outputs": [],
   "source": [
    "# Map everything to integers.\n",
    "train_dataset = [stoi[word] for word in text]"
   ]
  },
  {
   "cell_type": "code",
   "execution_count": 24,
   "id": "8e96c0c4",
   "metadata": {},
   "outputs": [],
   "source": [
    "# This just gets the (wc, wo) pairs that are positive - they are seen together!\n",
    "def get_tokenized_dataset(dataset, verbose=False):\n",
    "    x_list = []\n",
    "        \n",
    "    for i, token in enumerate(dataset):\n",
    "        m = 1\n",
    "        \n",
    "        # Get the left and right tokens.\n",
    "        start = max(0,i-m)\n",
    "        left_tokens = dataset[start:i]\n",
    "        \n",
    "        end = min(i+m,len(dataset)-1)\n",
    "        right_tokens = dataset[i+1:end+1]\n",
    "        \n",
    "        # Check these are the same length, and if so use them to add a row of data. This should be a list like.\n",
    "        # [a, c, b] where b is the center word.\n",
    "        if len(left_tokens) == len(right_tokens):\n",
    "            w_context = left_tokens + right_tokens\n",
    "            \n",
    "            wc = token\n",
    "                        \n",
    "            x_list.extend(\n",
    "                [w_context + [wc]]\n",
    "            )\n",
    "            \n",
    "    return x_list"
   ]
  },
  {
   "cell_type": "code",
   "execution_count": 25,
   "id": "3eb82aad",
   "metadata": {},
   "outputs": [],
   "source": [
    "train_x_list = get_tokenized_dataset(train_dataset, verbose=False)"
   ]
  },
  {
   "cell_type": "code",
   "execution_count": 26,
   "id": "8412ee4d",
   "metadata": {},
   "outputs": [],
   "source": [
    "pickle.dump(train_x_list, open('train_x_list.pkl', 'wb'))"
   ]
  },
  {
   "cell_type": "code",
   "execution_count": 27,
   "id": "3fd54caf",
   "metadata": {},
   "outputs": [],
   "source": [
    "train_x_list = pickle.load(open('train_x_list.pkl', 'rb'))"
   ]
  },
  {
   "cell_type": "code",
   "execution_count": 28,
   "id": "576765f3",
   "metadata": {},
   "outputs": [
    {
     "data": {
      "text/plain": [
       "[[5233, 12, 3083],\n",
       " [3083, 5, 12],\n",
       " [12, 174, 5],\n",
       " [5, 1, 174],\n",
       " [174, 3133, 1],\n",
       " [1, 45, 3133],\n",
       " [3133, 58, 45],\n",
       " [45, 177, 58],\n",
       " [58, 117, 177],\n",
       " [177, 741, 117]]"
      ]
     },
     "execution_count": 28,
     "metadata": {},
     "output_type": "execute_result"
    }
   ],
   "source": [
    "# These are (wc, wo) pairs. All are y = +1 by design.\n",
    "train_x_list[:10]"
   ]
  },
  {
   "cell_type": "code",
   "execution_count": 29,
   "id": "f3644378",
   "metadata": {},
   "outputs": [
    {
     "data": {
      "text/plain": [
       "32579"
      ]
     },
     "execution_count": 29,
     "metadata": {},
     "output_type": "execute_result"
    }
   ],
   "source": [
    "len(train_x_list)// BATCH_SIZE"
   ]
  },
  {
   "cell_type": "code",
   "execution_count": 30,
   "id": "316df1dc",
   "metadata": {},
   "outputs": [],
   "source": [
    "# The number of things of BATCH_SIZE = 512.\n",
    "assert(len(train_x_list) // BATCH_SIZE == 32579)"
   ]
  },
  {
   "cell_type": "code",
   "execution_count": null,
   "id": "8012d03d",
   "metadata": {},
   "outputs": [],
   "source": []
  },
  {
   "cell_type": "markdown",
   "id": "488c3519",
   "metadata": {},
   "source": [
    "### Set up the dataloader."
   ]
  },
  {
   "cell_type": "code",
   "execution_count": 31,
   "id": "2e31ae4b",
   "metadata": {},
   "outputs": [],
   "source": [
    "train_dl = DataLoader(\n",
    "    TensorDataset(\n",
    "        torch.tensor(train_x_list).to(DEVICE),\n",
    "    ),\n",
    "    batch_size=BATCH_SIZE,\n",
    "    shuffle=True\n",
    ")"
   ]
  },
  {
   "cell_type": "code",
   "execution_count": 32,
   "id": "e9c42f50",
   "metadata": {},
   "outputs": [],
   "source": [
    "for xb in train_dl:\n",
    "    assert(xb[0].shape == (BATCH_SIZE, 3))\n",
    "    break"
   ]
  },
  {
   "cell_type": "code",
   "execution_count": null,
   "id": "8c949153",
   "metadata": {},
   "outputs": [],
   "source": []
  },
  {
   "cell_type": "markdown",
   "id": "12d93d22",
   "metadata": {},
   "source": [
    "### Words we'll use to asses the quality of the model ..."
   ]
  },
  {
   "cell_type": "code",
   "execution_count": 33,
   "id": "ffada8d0",
   "metadata": {},
   "outputs": [],
   "source": [
    "valid_ids = torch.tensor([\n",
    "    stoi['money'],\n",
    "    stoi['lion'],\n",
    "    stoi['africa'],\n",
    "    stoi['musician'],\n",
    "    stoi['dance'],\n",
    "])"
   ]
  },
  {
   "cell_type": "code",
   "execution_count": null,
   "id": "59d1c98c",
   "metadata": {},
   "outputs": [],
   "source": []
  },
  {
   "cell_type": "markdown",
   "id": "64096cd8",
   "metadata": {},
   "source": [
    "### Get the model."
   ]
  },
  {
   "cell_type": "code",
   "execution_count": 34,
   "id": "dc51c359",
   "metadata": {},
   "outputs": [],
   "source": [
    "class CBOWNegativeSampling(nn.Module):\n",
    "    def __init__(self, vocab_size, embed_dim):\n",
    "        super(CBOWNegativeSampling, self).__init__()\n",
    "        self.A = nn.Embedding(vocab_size, embed_dim) # Context vectors - center word.\n",
    "        self.B = nn.Embedding(vocab_size, embed_dim) # Output vectors - words around the center word.\n",
    "        self.init_weights()\n",
    "\n",
    "    def init_weights(self):\n",
    "        # Is this the best way? Not sure.\n",
    "        initrange = 0.5\n",
    "        self.A.weight.data.uniform_(-initrange, initrange)\n",
    "        self.B.weight.data.uniform_(-initrange, initrange)\n",
    "\n",
    "    def forward(self, x):\n",
    "        # N is the batch size.\n",
    "        # x is (N, 3)\n",
    "        \n",
    "        # Context words are 2m things, m = 1 so w_context is (N, 2) while wc is (N, 1)\n",
    "        w_context, wc = x[:,0:2], x[:,2]\n",
    "                \n",
    "        # Each of these is (N, 2, D) since each context has 2 word.\n",
    "        # We want this to be (N, D) and this is what we get.\n",
    "        \n",
    "        # (N, 2, D)\n",
    "        a = self.A(w_context)\n",
    "        \n",
    "        # (N, D)\n",
    "        a_avg = torch.mean(a, dim=1)\n",
    "        \n",
    "        # Each of these is (N, D) since each target has 1 word.\n",
    "        b = self.B(wc)\n",
    "      \n",
    "        # The product between each context and target vector. Look at the Skip-Gram code.\n",
    "        # The logits is now (N, 1) since we sum across the final dimension.\n",
    "        logits = torch.sum(a_avg*b, dim=1).to(DEVICE)\n",
    "                \n",
    "        return logits"
   ]
  },
  {
   "cell_type": "code",
   "execution_count": null,
   "id": "7ae817c1",
   "metadata": {},
   "outputs": [],
   "source": []
  },
  {
   "cell_type": "code",
   "execution_count": 35,
   "id": "ed9c509d",
   "metadata": {},
   "outputs": [],
   "source": [
    "@torch.no_grad()\n",
    "def validate_embeddings(\n",
    "    model,\n",
    "    valid_ids,\n",
    "    itos\n",
    "):\n",
    "    \"\"\" Validation logic \"\"\"\n",
    "\n",
    "    # We will use context embeddings to get the most similar words\n",
    "    # Other strategies include: using target embeddings, mean embeddings after avaraging context/target\n",
    "    embedding_weights = model.A.weight\n",
    "        \n",
    "    normalized_embeddings = embedding_weights.cpu() / np.sqrt(\n",
    "        np.sum(embedding_weights.cpu().numpy()**2, axis=1, keepdims=True)\n",
    "    )\n",
    "\n",
    "    # Get the embeddings corresponding to valid_term_ids\n",
    "    valid_embeddings = normalized_embeddings[valid_ids, :]\n",
    "\n",
    "    # Compute the similarity between valid_term_ids (S) and all the embeddings (V).\n",
    "    # We do S x d (d x V) => S x D and sort by negative similarity.\n",
    "    top_k = 10 # Top k items will be displayed.\n",
    "    similarity = np.dot(valid_embeddings.cpu().numpy(), normalized_embeddings.cpu().numpy().T)\n",
    "\n",
    "    # Invert similarity matrix to negative\n",
    "    # Ignore the first one because that would be the same word as the probe word\n",
    "    similarity_top_k = np.argsort(-similarity, axis=1)[:, 1: top_k+1]\n",
    "\n",
    "    # Print the output.\n",
    "    for i, word_id in enumerate(valid_ids):\n",
    "        # j >= 1 here since we don't want to include the word itself.\n",
    "        similar_word_str = ', '.join([itos[j] for j in similarity_top_k[i, :] if j >= 1])\n",
    "        print(f\"{itos[word_id]}: {similar_word_str}\")\n",
    "\n",
    "    print('\\n')"
   ]
  },
  {
   "cell_type": "code",
   "execution_count": null,
   "id": "b0c194b8",
   "metadata": {},
   "outputs": [],
   "source": []
  },
  {
   "cell_type": "markdown",
   "id": "3b3c6ed5",
   "metadata": {},
   "source": [
    "### Set up the model"
   ]
  },
  {
   "cell_type": "code",
   "execution_count": 36,
   "id": "16da95d1",
   "metadata": {},
   "outputs": [],
   "source": [
    "LR = 10.0\n",
    "NUM_EPOCHS = 10\n",
    "EMBED_DIM = 300"
   ]
  },
  {
   "cell_type": "code",
   "execution_count": 37,
   "id": "cef585f4",
   "metadata": {},
   "outputs": [],
   "source": [
    "model = CBOWNegativeSampling(len(VOCAB), EMBED_DIM).to(DEVICE)\n",
    "optimizer = torch.optim.SGD(model.parameters(), lr=LR)\n",
    "# The learning rate is lowered every epoch by 1/10.\n",
    "# Is this a good idea?\n",
    "scheduler = torch.optim.lr_scheduler.StepLR(optimizer, 1, gamma=0.1)"
   ]
  },
  {
   "cell_type": "code",
   "execution_count": 38,
   "id": "f8a642bf",
   "metadata": {},
   "outputs": [
    {
     "data": {
      "text/plain": [
       "CBOWNegativeSampling(\n",
       "  (A): Embedding(63641, 300)\n",
       "  (B): Embedding(63641, 300)\n",
       ")"
      ]
     },
     "execution_count": 38,
     "metadata": {},
     "output_type": "execute_result"
    }
   ],
   "source": [
    "model"
   ]
  },
  {
   "cell_type": "code",
   "execution_count": 39,
   "id": "85773616",
   "metadata": {},
   "outputs": [
    {
     "name": "stdout",
     "output_type": "stream",
     "text": [
      "money: mjf, reckoning, citymayors, airtime, trustees, aengus, renting, wormholes, teutonic, copper\n",
      "lion: marge, loam, participated, neatly, impart, race, matlab, reconstructing, prince, interleague\n",
      "africa: squeezing, shrews, freleng, lid, mindy, outclassed, brigitte, endothelial, koo, heartbreaker\n",
      "musician: armature, priesthoods, banacek, devour, televangelist, kaveri, mogens, cato, cloned, lamiaceae\n",
      "dance: adirondack, dontrelle, grouping, buscema, bres, transhumanism, final, winningest, overturn, syntax\n",
      "\n",
      "\n"
     ]
    }
   ],
   "source": [
    "validate_embeddings(model, valid_ids, itos)"
   ]
  },
  {
   "cell_type": "code",
   "execution_count": null,
   "id": "66075f5e",
   "metadata": {},
   "outputs": [],
   "source": []
  },
  {
   "cell_type": "markdown",
   "id": "86476e2a",
   "metadata": {},
   "source": [
    "### Train the model"
   ]
  },
  {
   "cell_type": "code",
   "execution_count": 40,
   "id": "24950481",
   "metadata": {},
   "outputs": [],
   "source": [
    "ratios = []\n",
    "\n",
    "def train(dataloader, model, optimizer, epoch):\n",
    "    model.train()\n",
    "    total_acc, total_count, total_loss, total_batches = 0, 0, 0.0, 0.0\n",
    "    log_interval = 500\n",
    "    \n",
    "    for idx, x_batch in tqdm(enumerate(dataloader)):\n",
    "        \n",
    "        x_batch = x_batch[0]\n",
    "                \n",
    "        batch_size = x_batch.shape[0]\n",
    "        \n",
    "        # Zero the gradient so they don't accumulate.\n",
    "        optimizer.zero_grad()\n",
    "        \n",
    "        logits = model(x_batch)\n",
    "                        \n",
    "        # Get the positive samples loss. Notice we use weights here.\n",
    "        positive_loss = torch.nn.BCEWithLogitsLoss()(input=logits, target=torch.ones(batch_size).to(DEVICE).float())\n",
    "        \n",
    "        # For each batch, get some negative samples.\n",
    "        # We need a total of len(y_batch) * 2* WINDOW * K samples across a batch.\n",
    "        # We then reshape this batch.\n",
    "        # These are effectively the output words.\n",
    "        \n",
    "        negative_samples = torch.multinomial(p, batch_size * K, replacement=True)\n",
    "        # print(\"negative_samples\", negative_samples.size())\n",
    "\n",
    "        # Context words are 2m things, m = 1 so w_context is (N, 2) while wc is (N, 1)\n",
    "        w_context, wc = x_batch[:,0:2].to('cpu'), negative_samples \n",
    "        # print(\"w_context\", w_context.size())\n",
    "        # print(\"wc\", wc.size())\n",
    "\n",
    "        \"\"\"\n",
    "        if w_context looks like below (batch_size = 3)\n",
    "        [\n",
    "        (a, b),\n",
    "        (c, d),\n",
    "        (e, f)\n",
    "        ] and K = 2 we'd like to get:\n",
    "        \n",
    "        [\n",
    "        (a, b),\n",
    "        (a, b),\n",
    "        (c, d), \n",
    "        (c, d),\n",
    "        (e, f),\n",
    "        (e, f)\n",
    "        ]\n",
    "        \n",
    "        This will be batch_size * K rows.\n",
    "        \"\"\"\n",
    "        \n",
    "        # This should be (N * K, 2)\n",
    "        w_context = torch.concat([\n",
    "            w.repeat(K, 1) for w in torch.tensor(w_context).split(1)\n",
    "        ])\n",
    "        \n",
    "        # Remove the last dimension 1.\n",
    "        \n",
    "        wc = wc.view(wc.size()[0],1)\n",
    "        # print(\"w_context\", w_context.size())\n",
    "        # print(\"wc\", wc.size())\n",
    "\n",
    "        # Get the negative samples. This should be (N * K, 3).\n",
    "        # Concatenate the w_context and wc along the column. Make sure everything is on CUDA / MPS or CPU.\n",
    "        x_batch_negative = torch.cat([w_context, wc], axis = 1).to(DEVICE)\n",
    "                \n",
    "        \"\"\"\n",
    "        Note the way we formulated the targets: they are all 0 since these are negative samples.\n",
    "        We do the BCEWithLogitsLoss by hand basically here.\n",
    "        Notice we sum across the negative samples, per positive word.\n",
    "        \n",
    "        This is literally the equation in the lecture notes.\n",
    "        \"\"\"\n",
    "        \n",
    "        # (N, K, D) -> (N, D) -> (N)\n",
    "        # Look at the Skip-Gram notebook.\n",
    "        negative_loss = model(x_batch_negative).neg().sigmoid().log().reshape(\n",
    "            batch_size, K\n",
    "        ).sum(1).mean().neg().to(DEVICE)\n",
    "        \n",
    "        loss = (positive_loss + negative_loss).mean()\n",
    "                \n",
    "        # Get the gradients via back propagation. \n",
    "        loss.backward()\n",
    "                        \n",
    "        # Clip the gradients? Generally a good idea.\n",
    "        torch.nn.utils.clip_grad_norm_(model.parameters(), 0.1)\n",
    "        \n",
    "        # Used for optimization. This should be roughly 0.001, on average.\n",
    "        # You can use this to see if your learning rate is right - you can also plot the loss performance.\n",
    "        with torch.no_grad():\n",
    "            r = [\n",
    "                (LR * p.grad.std() / p.data.std()).log10().item() for _, p in model.named_parameters()\n",
    "            ]\n",
    "            ratios.append(r)  \n",
    "        \n",
    "        # Do an optimization step. Update the parameters A and B.\n",
    "        optimizer.step()\n",
    "        # Get the new loss.\n",
    "        total_loss += loss.item()\n",
    "        # Update the batch count.\n",
    "        total_batches += 1\n",
    "                \n",
    "        if idx % log_interval == 0:\n",
    "            print(\n",
    "                \"| epoch {:3d} | {:5d}/{:5d} batches \"\n",
    "                \"| loss {:8.3f} \".format(\n",
    "                    epoch,\n",
    "                    idx,\n",
    "                    len(dataloader),\n",
    "                    total_loss / total_batches\n",
    "                )\n",
    "            )\n",
    "            validate_embeddings(model, valid_ids, itos)\n",
    "            total_loss, total_batches = 0.0, 0.0"
   ]
  },
  {
   "cell_type": "code",
   "execution_count": null,
   "id": "987182aa",
   "metadata": {},
   "outputs": [],
   "source": []
  },
  {
   "cell_type": "markdown",
   "id": "0764d675",
   "metadata": {},
   "source": [
    "### Some results from the run look like below:\n",
    "\n",
    "Somewhere inside of 2 iterations you should get sensible associattions.\n",
    "Paste here a screenshot of the closest vectors."
   ]
  },
  {
   "cell_type": "code",
   "execution_count": 41,
   "id": "a9e02c09",
   "metadata": {},
   "outputs": [
    {
     "name": "stderr",
     "output_type": "stream",
     "text": [
      "0it [00:00, ?it/s]C:\\Users\\Alex\\AppData\\Local\\Temp\\ipykernel_24028\\973106114.py:57: UserWarning: To copy construct from a tensor, it is recommended to use sourceTensor.clone().detach() or sourceTensor.clone().detach().requires_grad_(True), rather than torch.tensor(sourceTensor).\n",
      "  w.repeat(K, 1) for w in torch.tensor(w_context).split(1)\n",
      "1it [00:00,  1.23it/s]"
     ]
    },
    {
     "name": "stdout",
     "output_type": "stream",
     "text": [
      "| epoch   1 |     0/32580 batches | loss    4.079 \n",
      "money: mjf, reckoning, citymayors, airtime, trustees, aengus, renting, wormholes, teutonic, copper\n",
      "lion: marge, loam, participated, neatly, impart, race, matlab, reconstructing, prince, interleague\n",
      "africa: squeezing, shrews, freleng, lid, mindy, outclassed, brigitte, endothelial, koo, heartbreaker\n",
      "musician: armature, priesthoods, banacek, devour, televangelist, kaveri, mogens, cato, cloned, lamiaceae\n",
      "dance: adirondack, dontrelle, grouping, buscema, bres, transhumanism, final, winningest, overturn, syntax\n",
      "\n",
      "\n"
     ]
    },
    {
     "name": "stderr",
     "output_type": "stream",
     "text": [
      "505it [00:08, 56.65it/s]"
     ]
    },
    {
     "name": "stdout",
     "output_type": "stream",
     "text": [
      "| epoch   1 |   500/32580 batches | loss    3.720 \n",
      "money: mjf, reckoning, citymayors, airtime, trustees, aengus, renting, wormholes, teutonic, logrus\n",
      "lion: marge, loam, participated, neatly, impart, race, matlab, prince, reconstructing, interleague\n",
      "africa: squeezing, shrews, lid, mindy, outclassed, freleng, brigitte, koo, endothelial, heartbreaker\n",
      "musician: armature, priesthoods, banacek, devour, televangelist, kaveri, mogens, lamiaceae, cato, cloned\n",
      "dance: adirondack, dontrelle, grouping, buscema, bres, transhumanism, final, winningest, syntax, althea\n",
      "\n",
      "\n"
     ]
    },
    {
     "name": "stderr",
     "output_type": "stream",
     "text": [
      "1008it [00:14, 58.77it/s]"
     ]
    },
    {
     "name": "stdout",
     "output_type": "stream",
     "text": [
      "| epoch   1 |  1000/32580 batches | loss    3.358 \n",
      "money: mjf, reckoning, citymayors, airtime, trustees, aengus, renting, wormholes, teutonic, inexorably\n",
      "lion: marge, participated, loam, neatly, impart, race, prince, matlab, reconstructing, interleague\n",
      "africa: shrews, squeezing, mindy, outclassed, lid, brigitte, freleng, koo, endothelial, zawahiri\n",
      "musician: armature, priesthoods, banacek, televangelist, kaveri, devour, mogens, cato, benn, lamiaceae\n",
      "dance: adirondack, dontrelle, buscema, grouping, bres, transhumanism, final, insurgencies, syntax, althea\n",
      "\n",
      "\n"
     ]
    },
    {
     "name": "stderr",
     "output_type": "stream",
     "text": [
      "1503it [00:21, 58.90it/s]"
     ]
    },
    {
     "name": "stdout",
     "output_type": "stream",
     "text": [
      "| epoch   1 |  1500/32580 batches | loss    3.026 \n",
      "money: mjf, citymayors, reckoning, airtime, trustees, renting, aengus, wormholes, teutonic, inexorably\n",
      "lion: marge, participated, loam, neatly, impart, race, prince, matlab, reconstructing, interleague\n",
      "africa: squeezing, shrews, mindy, outclassed, lid, brigitte, zawahiri, freleng, rep, koo\n",
      "musician: armature, priesthoods, banacek, kaveri, televangelist, devour, mogens, cato, lamiaceae, benn\n",
      "dance: adirondack, dontrelle, buscema, grouping, bres, transhumanism, final, insurgencies, syntax, althea\n",
      "\n",
      "\n"
     ]
    },
    {
     "name": "stderr",
     "output_type": "stream",
     "text": [
      "2007it [00:28, 58.00it/s]"
     ]
    },
    {
     "name": "stdout",
     "output_type": "stream",
     "text": [
      "| epoch   1 |  2000/32580 batches | loss    2.789 \n",
      "money: mjf, citymayors, airtime, reckoning, trustees, renting, aengus, saxonis, wormholes, inexorably\n",
      "lion: marge, participated, loam, neatly, impart, race, prince, matlab, reconstructing, emanates\n",
      "africa: mindy, squeezing, shrews, but, outclassed, zawahiri, lid, freleng, rep, anthropology\n",
      "musician: armature, priesthoods, kaveri, televangelist, banacek, devour, v, cato, mogens, cloned\n",
      "dance: adirondack, dontrelle, buscema, bres, final, grouping, transhumanism, heian, insurgencies, winningest\n",
      "\n",
      "\n"
     ]
    },
    {
     "name": "stderr",
     "output_type": "stream",
     "text": [
      "2503it [00:35, 59.71it/s]"
     ]
    },
    {
     "name": "stdout",
     "output_type": "stream",
     "text": [
      "| epoch   1 |  2500/32580 batches | loss    2.617 \n",
      "money: mjf, citymayors, airtime, trustees, reckoning, renting, aengus, scarface, saxonis, sirens\n",
      "lion: marge, participated, neatly, loam, impart, race, prince, matlab, reconstructing, emanates\n",
      "africa: mindy, squeezing, but, shrews, zawahiri, lid, outclassed, rep, became, anthropology\n",
      "musician: armature, priesthoods, kaveri, televangelist, v, banacek, devour, mogens, cato, cloned\n",
      "dance: adirondack, final, buscema, dontrelle, bres, grouping, heian, insurgencies, transhumanism, althea\n",
      "\n",
      "\n"
     ]
    },
    {
     "name": "stderr",
     "output_type": "stream",
     "text": [
      "3007it [00:42, 57.00it/s]"
     ]
    },
    {
     "name": "stdout",
     "output_type": "stream",
     "text": [
      "| epoch   1 |  3000/32580 batches | loss    2.482 \n",
      "money: mjf, citymayors, airtime, trustees, reckoning, aengus, renting, short, scarface, saxonis\n",
      "lion: marge, participated, neatly, loam, impart, race, matlab, reconstructing, prince, emanates\n",
      "africa: but, world, mindy, became, and, k, use, zawahiri, he, group\n",
      "musician: armature, priesthoods, kaveri, v, televangelist, banacek, devour, cato, cloned, mogens\n",
      "dance: adirondack, final, dontrelle, buscema, heian, bres, grouping, insurgencies, transhumanism, lesbians\n",
      "\n",
      "\n"
     ]
    },
    {
     "name": "stderr",
     "output_type": "stream",
     "text": [
      "3503it [00:49, 58.79it/s]"
     ]
    },
    {
     "name": "stdout",
     "output_type": "stream",
     "text": [
      "| epoch   1 |  3500/32580 batches | loss    2.379 \n",
      "money: mjf, citymayors, airtime, short, people, church, it, trustees, called, so\n",
      "lion: marge, participated, loam, neatly, impart, race, reconstructing, prince, matlab, bdeac\n",
      "africa: world, but, he, two, use, became, b, was, k, group\n",
      "musician: priesthoods, v, armature, kaveri, televangelist, devour, cato, cloned, banacek, hejira\n",
      "dance: adirondack, final, dontrelle, heian, buscema, bres, grouping, insurgencies, lesbians, transhumanism\n",
      "\n",
      "\n"
     ]
    },
    {
     "name": "stderr",
     "output_type": "stream",
     "text": [
      "4005it [00:56, 59.00it/s]"
     ]
    },
    {
     "name": "stdout",
     "output_type": "stream",
     "text": [
      "| epoch   1 |  4000/32580 batches | loss    2.284 \n",
      "money: short, called, mjf, so, people, church, citymayors, it, there, often\n",
      "lion: marge, participated, loam, neatly, impart, race, reconstructing, prince, matlab, bdeac\n",
      "africa: world, but, use, would, b, had, became, he, made, eight\n",
      "musician: v, priesthoods, armature, kaveri, televangelist, english, hejira, devour, cato, de\n",
      "dance: adirondack, final, dontrelle, heian, buscema, bres, insurgencies, stirrups, wolfgang, lesbians\n",
      "\n",
      "\n"
     ]
    },
    {
     "name": "stderr",
     "output_type": "stream",
     "text": [
      "4500it [01:03, 71.87it/s]"
     ]
    },
    {
     "name": "stdout",
     "output_type": "stream",
     "text": [
      "| epoch   1 |  4500/32580 batches | loss    2.218 \n",
      "money: called, so, short, people, often, there, church, world, it, will\n",
      "lion: marge, participated, loam, race, neatly, impart, reconstructing, bdeac, prince, matlab\n",
      "africa: world, but, use, b, eight, made, two, would, some, had\n",
      "musician: v, priesthoods, armature, kaveri, language, english, by, televangelist, hejira, de\n",
      "dance: final, adirondack, heian, buscema, dontrelle, university, stirrups, insurgencies, bres, wolfgang\n",
      "\n",
      "\n"
     ]
    },
    {
     "name": "stderr",
     "output_type": "stream",
     "text": [
      "5003it [01:10, 58.29it/s]"
     ]
    },
    {
     "name": "stdout",
     "output_type": "stream",
     "text": [
      "| epoch   1 |  5000/32580 batches | loss    2.154 \n",
      "money: called, so, often, people, short, there, it, church, united, them\n",
      "lion: marge, race, participated, loam, neatly, impart, reconstructing, prince, bdeac, matlab\n",
      "africa: world, but, use, made, b, group, some, eight, two, became\n",
      "musician: v, language, english, priesthoods, armature, kaveri, de, us, new, g\n",
      "dance: final, adirondack, university, buscema, heian, new, dontrelle, natural, stirrups, insurgencies\n",
      "\n",
      "\n"
     ]
    },
    {
     "name": "stderr",
     "output_type": "stream",
     "text": [
      "5508it [01:17, 60.37it/s]"
     ]
    },
    {
     "name": "stdout",
     "output_type": "stream",
     "text": [
      "| epoch   1 |  5500/32580 batches | loss    2.104 \n",
      "money: people, so, often, called, there, short, united, it, them, church\n",
      "lion: marge, participated, race, loam, impart, neatly, reconstructing, prince, bdeac, matlab\n",
      "africa: world, use, but, made, b, group, what, part, eight, two\n",
      "musician: v, english, language, g, original, us, de, new, use, california\n",
      "dance: final, university, new, adirondack, natural, buscema, heian, dontrelle, through, stirrups\n",
      "\n",
      "\n"
     ]
    },
    {
     "name": "stderr",
     "output_type": "stream",
     "text": [
      "6001it [01:24, 57.47it/s]"
     ]
    },
    {
     "name": "stdout",
     "output_type": "stream",
     "text": [
      "| epoch   1 |  6000/32580 batches | loss    2.059 \n",
      "money: so, people, called, them, united, often, short, c, there, government\n",
      "lion: marge, race, participated, loam, impart, neatly, reconstructing, prince, bdeac, matlab\n",
      "africa: world, made, use, part, but, group, what, nine, four, b\n",
      "musician: v, language, english, original, new, g, us, by, california, use\n",
      "dance: final, university, new, natural, through, adirondack, four, long, high, eight\n",
      "\n",
      "\n"
     ]
    },
    {
     "name": "stderr",
     "output_type": "stream",
     "text": [
      "6504it [01:31, 58.47it/s]"
     ]
    },
    {
     "name": "stdout",
     "output_type": "stream",
     "text": [
      "| epoch   1 |  6500/32580 batches | loss    2.016 \n",
      "money: people, so, often, them, called, government, united, c, short, church\n",
      "lion: marge, race, participated, impart, loam, neatly, reconstructing, prince, bdeac, matlab\n",
      "africa: world, made, use, part, what, nine, group, but, eight, time\n",
      "musician: v, language, english, original, us, g, new, by, california, de\n",
      "dance: final, university, new, four, long, through, natural, high, seven, eight\n",
      "\n",
      "\n"
     ]
    },
    {
     "name": "stderr",
     "output_type": "stream",
     "text": [
      "7003it [01:39, 57.62it/s]"
     ]
    },
    {
     "name": "stdout",
     "output_type": "stream",
     "text": [
      "| epoch   1 |  7000/32580 batches | loss    1.976 \n",
      "money: people, so, often, them, government, united, called, c, short, used\n",
      "lion: marge, race, participated, impart, loam, neatly, reconstructing, prince, bdeac, matlab\n",
      "africa: world, use, part, made, nine, what, group, eight, time, four\n",
      "musician: v, language, english, original, us, g, by, new, california, order\n",
      "dance: final, university, new, long, four, natural, eight, high, zero, through\n",
      "\n",
      "\n"
     ]
    },
    {
     "name": "stderr",
     "output_type": "stream",
     "text": [
      "7505it [01:46, 57.28it/s]"
     ]
    },
    {
     "name": "stdout",
     "output_type": "stream",
     "text": [
      "| epoch   1 |  7500/32580 batches | loss    1.945 \n",
      "money: people, often, government, them, so, united, c, short, called, if\n",
      "lion: marge, race, participated, impart, loam, neatly, reconstructing, prince, bdeac, matlab\n",
      "africa: use, world, part, made, what, group, time, nine, eight, but\n",
      "musician: language, v, english, original, us, g, order, california, de, france\n",
      "dance: final, university, new, long, natural, zero, four, high, u, state\n",
      "\n",
      "\n"
     ]
    },
    {
     "name": "stderr",
     "output_type": "stream",
     "text": [
      "8006it [01:52, 61.69it/s]"
     ]
    },
    {
     "name": "stdout",
     "output_type": "stream",
     "text": [
      "| epoch   1 |  8000/32580 batches | loss    1.914 \n",
      "money: them, often, so, people, government, united, called, short, c, used\n",
      "lion: marge, race, participated, impart, loam, neatly, reconstructing, prince, bdeac, programming\n",
      "africa: part, use, world, made, what, group, time, nine, country, two\n",
      "musician: language, english, v, original, us, g, led, california, order, c\n",
      "dance: final, university, new, zero, long, four, high, u, natural, seven\n",
      "\n",
      "\n"
     ]
    },
    {
     "name": "stderr",
     "output_type": "stream",
     "text": [
      "8509it [01:59, 63.38it/s]"
     ]
    },
    {
     "name": "stdout",
     "output_type": "stream",
     "text": [
      "| epoch   1 |  8500/32580 batches | loss    1.889 \n",
      "money: them, so, often, government, people, united, if, called, work, short\n",
      "lion: race, marge, participated, impart, loam, neatly, reconstructing, prince, bdeac, programming\n",
      "africa: part, use, world, made, group, what, time, country, nine, them\n",
      "musician: language, english, v, original, led, order, us, g, france, c\n",
      "dance: final, university, new, zero, long, u, high, seven, four, natural\n",
      "\n",
      "\n"
     ]
    },
    {
     "name": "stderr",
     "output_type": "stream",
     "text": [
      "9005it [02:06, 61.87it/s]"
     ]
    },
    {
     "name": "stdout",
     "output_type": "stream",
     "text": [
      "| epoch   1 |  9000/32580 batches | loss    1.861 \n",
      "money: them, often, government, so, people, united, work, called, if, well\n",
      "lion: race, marge, participated, impart, loam, prince, neatly, reconstructing, bdeac, programming\n",
      "africa: part, world, use, group, made, nine, what, country, time, eight\n",
      "musician: language, english, v, original, led, us, order, france, g, c\n",
      "dance: final, university, four, new, long, high, seven, u, zero, eight\n",
      "\n",
      "\n"
     ]
    },
    {
     "name": "stderr",
     "output_type": "stream",
     "text": [
      "9501it [02:12, 61.49it/s]"
     ]
    },
    {
     "name": "stdout",
     "output_type": "stream",
     "text": [
      "| epoch   1 |  9500/32580 batches | loss    1.841 \n",
      "money: them, so, people, united, government, often, work, well, called, if\n",
      "lion: race, participated, marge, impart, loam, neatly, prince, reconstructing, real, bdeac\n",
      "africa: part, world, use, what, group, made, nine, country, eight, seven\n",
      "musician: language, english, v, led, us, original, order, five, california, g\n",
      "dance: final, four, university, new, long, u, high, zero, seven, state\n",
      "\n",
      "\n"
     ]
    },
    {
     "name": "stderr",
     "output_type": "stream",
     "text": [
      "10004it [02:19, 60.24it/s]"
     ]
    },
    {
     "name": "stdout",
     "output_type": "stream",
     "text": [
      "| epoch   1 | 10000/32580 batches | loss    1.815 \n",
      "money: them, so, people, united, often, work, government, well, if, god\n",
      "lion: race, participated, marge, impart, prince, loam, reconstructing, neatly, real, programming\n",
      "africa: part, use, world, what, group, nine, country, made, south, time\n",
      "musician: language, english, v, led, original, order, us, france, german, nine\n",
      "dance: four, final, new, university, u, zero, high, seven, long, father\n",
      "\n",
      "\n"
     ]
    },
    {
     "name": "stderr",
     "output_type": "stream",
     "text": [
      "10507it [02:26, 61.05it/s]"
     ]
    },
    {
     "name": "stdout",
     "output_type": "stream",
     "text": [
      "| epoch   1 | 10500/32580 batches | loss    1.793 \n",
      "money: them, people, so, often, united, work, government, god, well, example\n",
      "lion: race, participated, marge, impart, prince, neatly, loam, reconstructing, real, programming\n",
      "africa: part, use, world, what, group, country, nine, made, death, england\n",
      "musician: language, english, v, led, order, german, us, original, actor, france\n",
      "dance: four, final, university, eight, new, u, seven, father, long, study\n",
      "\n",
      "\n"
     ]
    },
    {
     "name": "stderr",
     "output_type": "stream",
     "text": [
      "11003it [02:33, 61.35it/s]"
     ]
    },
    {
     "name": "stdout",
     "output_type": "stream",
     "text": [
      "| epoch   1 | 11000/32580 batches | loss    1.774 \n",
      "money: them, people, work, united, so, often, government, god, well, example\n",
      "lion: race, participated, marge, prince, impart, real, programming, neatly, reconstructing, loam\n",
      "africa: part, use, nine, what, world, country, group, south, death, made\n",
      "musician: language, english, v, german, led, order, actor, original, us, france\n",
      "dance: final, four, u, father, eight, study, seven, long, new, y\n",
      "\n",
      "\n"
     ]
    },
    {
     "name": "stderr",
     "output_type": "stream",
     "text": [
      "11507it [02:39, 59.50it/s]"
     ]
    },
    {
     "name": "stdout",
     "output_type": "stream",
     "text": [
      "| epoch   1 | 11500/32580 batches | loss    1.756 \n",
      "money: them, people, work, united, so, often, god, example, name, used\n",
      "lion: race, participated, marge, prince, real, impart, programming, neatly, reconstructing, loam\n",
      "africa: part, use, world, nine, what, country, group, south, death, made\n",
      "musician: language, english, actor, german, led, v, order, original, nine, us\n",
      "dance: final, four, eight, father, study, new, high, long, y, u\n",
      "\n",
      "\n"
     ]
    },
    {
     "name": "stderr",
     "output_type": "stream",
     "text": [
      "12003it [02:46, 61.07it/s]"
     ]
    },
    {
     "name": "stdout",
     "output_type": "stream",
     "text": [
      "| epoch   1 | 12000/32580 batches | loss    1.744 \n",
      "money: them, work, so, people, united, often, god, name, example, well\n",
      "lion: race, participated, marge, prince, real, programming, impart, neatly, reconstructing, loam\n",
      "africa: part, use, nine, world, country, south, what, group, england, u\n",
      "musician: language, english, actor, nine, led, order, original, us, german, v\n",
      "dance: final, four, eight, father, study, u, long, new, y, seven\n",
      "\n",
      "\n"
     ]
    },
    {
     "name": "stderr",
     "output_type": "stream",
     "text": [
      "12507it [02:53, 60.13it/s]"
     ]
    },
    {
     "name": "stdout",
     "output_type": "stream",
     "text": [
      "| epoch   1 | 12500/32580 batches | loss    1.719 \n",
      "money: them, so, united, work, people, often, god, example, well, name\n",
      "lion: race, participated, marge, prince, real, programming, impart, neatly, reconstructing, fundamental\n",
      "africa: part, country, use, what, south, group, nine, world, u, england\n",
      "musician: language, actor, order, led, english, nine, german, original, us, v\n",
      "dance: final, four, study, father, u, y, eight, long, time, seven\n",
      "\n",
      "\n"
     ]
    },
    {
     "name": "stderr",
     "output_type": "stream",
     "text": [
      "13003it [03:00, 58.62it/s]"
     ]
    },
    {
     "name": "stdout",
     "output_type": "stream",
     "text": [
      "| epoch   1 | 13000/32580 batches | loss    1.705 \n",
      "money: so, them, god, united, work, example, people, well, name, often\n",
      "lion: race, participated, prince, marge, real, programming, impart, neatly, fundamental, reconstructing\n",
      "africa: part, country, what, nine, south, world, use, england, group, end\n",
      "musician: actor, led, order, language, english, nine, original, seven, france, us\n",
      "dance: final, study, father, y, u, long, four, eight, city, union\n",
      "\n",
      "\n"
     ]
    },
    {
     "name": "stderr",
     "output_type": "stream",
     "text": [
      "13506it [03:07, 59.64it/s]"
     ]
    },
    {
     "name": "stdout",
     "output_type": "stream",
     "text": [
      "| epoch   1 | 13500/32580 batches | loss    1.700 \n",
      "money: so, them, god, work, example, united, well, often, people, rather\n",
      "lion: race, participated, prince, real, marge, programming, impart, fundamental, neatly, reconstructing\n",
      "africa: part, country, south, nine, what, group, england, use, end, u\n",
      "musician: actor, english, language, led, seven, order, nine, france, original, german\n",
      "dance: final, father, study, y, u, union, city, eight, four, music\n",
      "\n",
      "\n"
     ]
    },
    {
     "name": "stderr",
     "output_type": "stream",
     "text": [
      "14002it [03:13, 61.43it/s]"
     ]
    },
    {
     "name": "stdout",
     "output_type": "stream",
     "text": [
      "| epoch   1 | 14000/32580 batches | loss    1.681 \n",
      "money: so, them, god, example, work, united, well, often, people, rather\n",
      "lion: race, participated, prince, real, marge, programming, impart, fundamental, neatly, reconstructing\n",
      "africa: part, country, nine, south, group, what, england, end, use, u\n",
      "musician: actor, led, english, language, nine, seven, order, original, france, german\n",
      "dance: father, final, u, study, y, city, four, union, seven, music\n",
      "\n",
      "\n"
     ]
    },
    {
     "name": "stderr",
     "output_type": "stream",
     "text": [
      "14505it [03:20, 60.57it/s]"
     ]
    },
    {
     "name": "stdout",
     "output_type": "stream",
     "text": [
      "| epoch   1 | 14500/32580 batches | loss    1.669 \n",
      "money: so, them, god, example, well, work, often, united, rather, people\n",
      "lion: race, real, prince, participated, programming, marge, impart, fundamental, neatly, reconstructing\n",
      "africa: part, country, nine, south, england, group, what, end, use, u\n",
      "musician: actor, nine, led, english, language, france, seven, order, original, german\n",
      "dance: father, final, study, city, y, u, union, four, music, long\n",
      "\n",
      "\n"
     ]
    },
    {
     "name": "stderr",
     "output_type": "stream",
     "text": [
      "15008it [03:26, 63.59it/s]"
     ]
    },
    {
     "name": "stdout",
     "output_type": "stream",
     "text": [
      "| epoch   1 | 15000/32580 batches | loss    1.656 \n",
      "money: them, so, example, god, often, well, work, united, men, rather\n",
      "lion: race, prince, real, participated, programming, marge, impart, fundamental, magnetic, large\n",
      "africa: part, country, nine, south, england, end, group, u, europe, what\n",
      "musician: actor, nine, led, seven, france, order, english, result, original, writer\n",
      "dance: father, study, final, u, y, city, union, four, music, zero\n",
      "\n",
      "\n"
     ]
    },
    {
     "name": "stderr",
     "output_type": "stream",
     "text": [
      "15504it [03:33, 60.40it/s]"
     ]
    },
    {
     "name": "stdout",
     "output_type": "stream",
     "text": [
      "| epoch   1 | 15500/32580 batches | loss    1.647 \n",
      "money: them, god, so, often, example, work, well, united, fact, men\n",
      "lion: race, real, prince, participated, programming, marge, fundamental, impart, large, magnetic\n",
      "africa: part, country, nine, south, england, end, group, u, europe, what\n",
      "musician: actor, nine, led, france, seven, order, english, language, result, writer\n",
      "dance: father, u, study, city, final, y, four, union, zero, music\n",
      "\n",
      "\n"
     ]
    },
    {
     "name": "stderr",
     "output_type": "stream",
     "text": [
      "16007it [03:40, 61.38it/s]"
     ]
    },
    {
     "name": "stdout",
     "output_type": "stream",
     "text": [
      "| epoch   1 | 16000/32580 batches | loss    1.636 \n",
      "money: them, so, often, god, example, work, fact, men, well, rather\n",
      "lion: race, prince, real, participated, programming, marge, fundamental, large, impart, magnetic\n",
      "africa: part, country, nine, england, south, end, europe, u, group, united\n",
      "musician: actor, nine, led, france, seven, english, order, writer, result, born\n",
      "dance: father, u, study, final, city, y, two, six, music, four\n",
      "\n",
      "\n"
     ]
    },
    {
     "name": "stderr",
     "output_type": "stream",
     "text": [
      "16502it [03:46, 59.95it/s]"
     ]
    },
    {
     "name": "stdout",
     "output_type": "stream",
     "text": [
      "| epoch   1 | 16500/32580 batches | loss    1.622 \n",
      "money: so, them, often, god, example, work, men, fact, rather, well\n",
      "lion: race, real, prince, participated, programming, marge, fundamental, large, magnetic, treatment\n",
      "africa: part, country, south, nine, end, england, europe, u, united, america\n",
      "musician: actor, nine, writer, led, english, france, author, result, german, actress\n",
      "dance: father, u, study, final, music, y, city, four, union, next\n",
      "\n",
      "\n"
     ]
    },
    {
     "name": "stderr",
     "output_type": "stream",
     "text": [
      "17006it [03:53, 59.67it/s]"
     ]
    },
    {
     "name": "stdout",
     "output_type": "stream",
     "text": [
      "| epoch   1 | 17000/32580 batches | loss    1.611 \n",
      "money: them, so, often, work, god, fact, example, men, rather, well\n",
      "lion: race, real, prince, participated, programming, marge, fundamental, large, treatment, magnetic\n",
      "africa: part, south, end, england, country, nine, europe, united, america, u\n",
      "musician: actor, nine, writer, author, led, english, german, actress, result, seven\n",
      "dance: father, study, u, final, music, y, union, city, united, next\n",
      "\n",
      "\n"
     ]
    },
    {
     "name": "stderr",
     "output_type": "stream",
     "text": [
      "17510it [04:00, 65.30it/s]"
     ]
    },
    {
     "name": "stdout",
     "output_type": "stream",
     "text": [
      "| epoch   1 | 17500/32580 batches | loss    1.603 \n",
      "money: so, them, often, work, fact, god, example, men, rather, well\n",
      "lion: race, prince, real, programming, participated, fundamental, large, marge, treatment, magnetic\n",
      "africa: part, south, end, country, england, nine, europe, america, united, u\n",
      "musician: actor, nine, english, writer, author, led, actress, result, german, france\n",
      "dance: father, study, u, music, union, y, final, united, city, next\n",
      "\n",
      "\n"
     ]
    },
    {
     "name": "stderr",
     "output_type": "stream",
     "text": [
      "18006it [04:07, 58.28it/s]"
     ]
    },
    {
     "name": "stdout",
     "output_type": "stream",
     "text": [
      "| epoch   1 | 18000/32580 batches | loss    1.595 \n",
      "money: so, them, fact, example, work, god, often, men, well, able\n",
      "lion: race, real, prince, programming, participated, fundamental, large, treatment, marge, west\n",
      "africa: part, south, end, country, england, europe, nine, america, united, u\n",
      "musician: actor, nine, writer, author, actress, led, english, german, born, singer\n",
      "dance: father, study, u, music, final, union, united, y, city, next\n",
      "\n",
      "\n"
     ]
    },
    {
     "name": "stderr",
     "output_type": "stream",
     "text": [
      "18502it [04:13, 61.31it/s]"
     ]
    },
    {
     "name": "stdout",
     "output_type": "stream",
     "text": [
      "| epoch   1 | 18500/32580 batches | loss    1.588 \n",
      "money: so, them, fact, often, example, god, work, men, able, seen\n",
      "lion: race, real, prince, programming, participated, large, fundamental, treatment, marge, west\n",
      "africa: part, south, end, europe, country, england, america, nine, united, india\n",
      "musician: actor, writer, nine, actress, author, led, german, singer, result, english\n",
      "dance: father, study, u, music, union, united, final, y, city, next\n",
      "\n",
      "\n"
     ]
    },
    {
     "name": "stderr",
     "output_type": "stream",
     "text": [
      "19006it [04:20, 61.07it/s]"
     ]
    },
    {
     "name": "stdout",
     "output_type": "stream",
     "text": [
      "| epoch   1 | 19000/32580 batches | loss    1.579 \n",
      "money: them, so, fact, often, men, example, able, seen, well, work\n",
      "lion: race, real, prince, programming, participated, large, fundamental, treatment, marge, west\n",
      "africa: part, end, south, europe, country, england, america, nine, north, united\n",
      "musician: actor, nine, actress, writer, author, singer, led, english, born, german\n",
      "dance: father, music, study, u, union, y, final, united, next, city\n",
      "\n",
      "\n"
     ]
    },
    {
     "name": "stderr",
     "output_type": "stream",
     "text": [
      "19510it [04:27, 63.58it/s]"
     ]
    },
    {
     "name": "stdout",
     "output_type": "stream",
     "text": [
      "| epoch   1 | 19500/32580 batches | loss    1.571 \n",
      "money: so, them, fact, seen, well, men, able, example, work, god\n",
      "lion: race, prince, real, programming, participated, fundamental, large, treatment, marge, west\n",
      "africa: part, south, end, europe, country, england, america, nine, india, north\n",
      "musician: actor, actress, writer, nine, author, singer, result, led, born, english\n",
      "dance: music, father, study, u, union, y, modern, united, final, four\n",
      "\n",
      "\n"
     ]
    },
    {
     "name": "stderr",
     "output_type": "stream",
     "text": [
      "20006it [04:33, 60.61it/s]"
     ]
    },
    {
     "name": "stdout",
     "output_type": "stream",
     "text": [
      "| epoch   1 | 20000/32580 batches | loss    1.562 \n",
      "money: so, fact, them, able, seen, well, men, work, example, taken\n",
      "lion: race, real, prince, programming, participated, fundamental, large, treatment, west, magnetic\n",
      "africa: south, part, end, europe, england, country, america, nine, india, north\n",
      "musician: actor, actress, nine, writer, author, singer, born, english, seven, result\n",
      "dance: father, music, study, u, modern, union, final, role, united, early\n",
      "\n",
      "\n"
     ]
    },
    {
     "name": "stderr",
     "output_type": "stream",
     "text": [
      "20509it [04:40, 64.59it/s]"
     ]
    },
    {
     "name": "stdout",
     "output_type": "stream",
     "text": [
      "| epoch   1 | 20500/32580 batches | loss    1.551 \n",
      "money: fact, so, them, able, men, seen, well, rather, example, taken\n",
      "lion: race, real, prince, programming, participated, fundamental, treatment, west, large, magnetic\n",
      "africa: south, europe, part, end, america, england, india, country, nine, united\n",
      "musician: actor, actress, author, writer, nine, singer, born, result, english, seven\n",
      "dance: father, music, study, union, u, modern, final, united, early, role\n",
      "\n",
      "\n"
     ]
    },
    {
     "name": "stderr",
     "output_type": "stream",
     "text": [
      "21005it [04:46, 61.22it/s]"
     ]
    },
    {
     "name": "stdout",
     "output_type": "stream",
     "text": [
      "| epoch   1 | 21000/32580 batches | loss    1.551 \n",
      "money: so, fact, able, them, seen, men, well, rather, taken, example\n",
      "lion: race, real, prince, programming, participated, treatment, large, fundamental, west, magnetic\n",
      "africa: south, europe, part, end, america, england, india, nine, country, north\n",
      "musician: actor, actress, nine, writer, author, singer, born, result, english, seven\n",
      "dance: music, father, study, modern, u, union, final, early, united, four\n",
      "\n",
      "\n"
     ]
    },
    {
     "name": "stderr",
     "output_type": "stream",
     "text": [
      "21509it [04:53, 65.26it/s]"
     ]
    },
    {
     "name": "stdout",
     "output_type": "stream",
     "text": [
      "| epoch   1 | 21500/32580 batches | loss    1.541 \n",
      "money: fact, so, able, seen, them, well, men, taken, god, rather\n",
      "lion: race, real, prince, programming, participated, fundamental, treatment, large, west, magnetic\n",
      "africa: south, europe, part, end, india, america, england, country, nine, kingdom\n",
      "musician: actor, actress, writer, nine, author, singer, born, result, english, led\n",
      "dance: father, music, study, modern, u, union, role, early, united, final\n",
      "\n",
      "\n"
     ]
    },
    {
     "name": "stderr",
     "output_type": "stream",
     "text": [
      "22005it [05:00, 61.21it/s]"
     ]
    },
    {
     "name": "stdout",
     "output_type": "stream",
     "text": [
      "| epoch   1 | 22000/32580 batches | loss    1.530 \n",
      "money: so, fact, able, seen, well, men, them, rather, taken, often\n",
      "lion: race, prince, real, programming, participated, large, treatment, fundamental, west, ocean\n",
      "africa: europe, south, part, end, india, america, england, country, nine, kingdom\n",
      "musician: actor, actress, nine, writer, author, singer, born, seven, english, result\n",
      "dance: father, music, study, modern, u, union, role, early, seven, united\n",
      "\n",
      "\n"
     ]
    },
    {
     "name": "stderr",
     "output_type": "stream",
     "text": [
      "22508it [05:06, 59.53it/s]"
     ]
    },
    {
     "name": "stdout",
     "output_type": "stream",
     "text": [
      "| epoch   1 | 22500/32580 batches | loss    1.523 \n",
      "money: so, fact, them, able, well, seen, men, rather, taken, often\n",
      "lion: race, prince, programming, real, participated, large, treatment, west, fundamental, ocean\n",
      "africa: europe, south, part, india, end, england, america, country, nine, kingdom\n",
      "musician: actor, actress, writer, nine, author, singer, born, seven, result, daughter\n",
      "dance: music, study, father, modern, u, early, union, role, seven, y\n",
      "\n",
      "\n"
     ]
    },
    {
     "name": "stderr",
     "output_type": "stream",
     "text": [
      "23010it [05:13, 63.18it/s]"
     ]
    },
    {
     "name": "stdout",
     "output_type": "stream",
     "text": [
      "| epoch   1 | 23000/32580 batches | loss    1.520 \n",
      "money: so, fact, able, well, seen, them, taken, men, rather, god\n",
      "lion: race, prince, programming, real, participated, large, treatment, west, fundamental, magnetic\n",
      "africa: europe, south, part, india, end, america, england, nine, country, kingdom\n",
      "musician: actor, actress, writer, author, singer, nine, born, seven, result, english\n",
      "dance: music, father, study, modern, early, u, four, union, final, role\n",
      "\n",
      "\n"
     ]
    },
    {
     "name": "stderr",
     "output_type": "stream",
     "text": [
      "23506it [05:20, 59.93it/s]"
     ]
    },
    {
     "name": "stdout",
     "output_type": "stream",
     "text": [
      "| epoch   1 | 23500/32580 batches | loss    1.509 \n",
      "money: so, fact, them, able, seen, well, taken, rather, god, men\n",
      "lion: race, programming, real, prince, participated, large, magnetic, west, treatment, fundamental\n",
      "africa: europe, south, india, part, end, america, england, kingdom, nine, country\n",
      "musician: actor, actress, writer, author, singer, born, nine, seven, english, result\n",
      "dance: music, study, father, u, modern, early, union, final, united, role\n",
      "\n",
      "\n"
     ]
    },
    {
     "name": "stderr",
     "output_type": "stream",
     "text": [
      "24009it [05:27, 62.95it/s]"
     ]
    },
    {
     "name": "stdout",
     "output_type": "stream",
     "text": [
      "| epoch   1 | 24000/32580 batches | loss    1.504 \n",
      "money: fact, them, so, able, seen, taken, well, god, rather, men\n",
      "lion: race, real, prince, programming, participated, large, west, magnetic, ocean, fundamental\n",
      "africa: europe, south, india, part, end, america, kingdom, england, country, nine\n",
      "musician: actor, actress, writer, author, singer, nine, born, english, result, daughter\n",
      "dance: music, study, modern, father, u, early, union, final, concept, united\n",
      "\n",
      "\n"
     ]
    },
    {
     "name": "stderr",
     "output_type": "stream",
     "text": [
      "24505it [05:33, 60.75it/s]"
     ]
    },
    {
     "name": "stdout",
     "output_type": "stream",
     "text": [
      "| epoch   1 | 24500/32580 batches | loss    1.499 \n",
      "money: so, fact, them, able, seen, god, well, taken, rather, men\n",
      "lion: race, real, programming, prince, participated, large, west, magnetic, treatment, fundamental\n",
      "africa: europe, india, south, part, end, america, kingdom, country, nine, england\n",
      "musician: actor, actress, writer, singer, author, nine, born, english, seven, daughter\n",
      "dance: music, modern, study, early, u, father, final, concept, role, united\n",
      "\n",
      "\n"
     ]
    },
    {
     "name": "stderr",
     "output_type": "stream",
     "text": [
      "25009it [05:40, 64.66it/s]"
     ]
    },
    {
     "name": "stdout",
     "output_type": "stream",
     "text": [
      "| epoch   1 | 25000/32580 batches | loss    1.492 \n",
      "money: so, them, fact, able, seen, taken, god, rather, well, men\n",
      "lion: race, real, programming, prince, participated, west, fundamental, magnetic, treatment, principle\n",
      "africa: europe, india, south, part, america, end, kingdom, country, nine, north\n",
      "musician: actor, actress, writer, singer, author, nine, born, english, daughter, kingdom\n",
      "dance: music, study, modern, early, u, father, final, role, concept, addition\n",
      "\n",
      "\n"
     ]
    },
    {
     "name": "stderr",
     "output_type": "stream",
     "text": [
      "25504it [05:47, 60.62it/s]"
     ]
    },
    {
     "name": "stdout",
     "output_type": "stream",
     "text": [
      "| epoch   1 | 25500/32580 batches | loss    1.484 \n",
      "money: so, them, fact, able, seen, rather, well, taken, god, men\n",
      "lion: race, real, programming, prince, participated, fundamental, west, magnetic, ocean, treatment\n",
      "africa: europe, india, south, end, part, america, nine, country, kingdom, north\n",
      "musician: actor, actress, writer, singer, author, nine, born, english, seven, daughter\n",
      "dance: music, study, modern, early, u, father, final, union, concept, addition\n",
      "\n",
      "\n"
     ]
    },
    {
     "name": "stderr",
     "output_type": "stream",
     "text": [
      "26004it [05:54, 50.84it/s]"
     ]
    },
    {
     "name": "stdout",
     "output_type": "stream",
     "text": [
      "| epoch   1 | 26000/32580 batches | loss    1.481 \n",
      "money: so, fact, them, able, seen, taken, rather, well, god, men\n",
      "lion: race, real, programming, prince, participated, fundamental, magnetic, west, large, principle\n",
      "africa: europe, india, south, america, part, end, nine, kingdom, england, north\n",
      "musician: actor, actress, writer, singer, author, nine, born, english, daughter, seven\n",
      "dance: music, study, modern, early, u, father, concept, union, final, role\n",
      "\n",
      "\n"
     ]
    },
    {
     "name": "stderr",
     "output_type": "stream",
     "text": [
      "26500it [06:00, 73.10it/s]"
     ]
    },
    {
     "name": "stdout",
     "output_type": "stream",
     "text": [
      "| epoch   1 | 26500/32580 batches | loss    1.475 \n",
      "money: so, them, fact, able, seen, well, taken, god, rather, men\n",
      "lion: race, real, programming, prince, participated, fundamental, magnetic, treatment, west, principle\n",
      "africa: europe, india, south, america, part, end, nine, kingdom, country, england\n",
      "musician: actor, actress, writer, singer, author, nine, born, english, seven, daughter\n",
      "dance: music, modern, study, early, u, union, father, concept, final, united\n",
      "\n",
      "\n"
     ]
    },
    {
     "name": "stderr",
     "output_type": "stream",
     "text": [
      "27004it [06:07, 59.36it/s]"
     ]
    },
    {
     "name": "stdout",
     "output_type": "stream",
     "text": [
      "| epoch   1 | 27000/32580 batches | loss    1.470 \n",
      "money: so, them, fact, well, seen, able, taken, rather, god, others\n",
      "lion: race, real, programming, prince, participated, fundamental, ocean, magnetic, principle, west\n",
      "africa: europe, india, south, america, part, end, nine, country, kingdom, england\n",
      "musician: actor, actress, writer, singer, author, nine, born, english, daughter, seven\n",
      "dance: music, modern, early, study, u, whole, concept, final, union, role\n",
      "\n",
      "\n"
     ]
    },
    {
     "name": "stderr",
     "output_type": "stream",
     "text": [
      "27504it [06:14, 60.48it/s]"
     ]
    },
    {
     "name": "stdout",
     "output_type": "stream",
     "text": [
      "| epoch   1 | 27500/32580 batches | loss    1.463 \n",
      "money: so, fact, them, well, able, seen, taken, if, rather, others\n",
      "lion: race, real, programming, prince, participated, fundamental, ocean, principle, magnetic, favor\n",
      "africa: europe, india, south, america, part, end, kingdom, north, nine, country\n",
      "musician: actor, actress, singer, writer, author, nine, born, english, seven, able\n",
      "dance: music, modern, study, early, u, concept, whole, united, union, role\n",
      "\n",
      "\n"
     ]
    },
    {
     "name": "stderr",
     "output_type": "stream",
     "text": [
      "28008it [06:21, 60.91it/s]"
     ]
    },
    {
     "name": "stdout",
     "output_type": "stream",
     "text": [
      "| epoch   1 | 28000/32580 batches | loss    1.459 \n",
      "money: so, them, fact, able, well, seen, taken, if, god, rather\n",
      "lion: race, real, programming, prince, participated, ocean, fundamental, magnetic, principle, accordance\n",
      "africa: europe, india, south, america, end, part, kingdom, north, united, country\n",
      "musician: actor, actress, singer, writer, author, nine, born, english, seven, five\n",
      "dance: music, modern, study, u, concept, early, seven, united, art, october\n",
      "\n",
      "\n"
     ]
    },
    {
     "name": "stderr",
     "output_type": "stream",
     "text": [
      "28503it [06:28, 59.54it/s]"
     ]
    },
    {
     "name": "stdout",
     "output_type": "stream",
     "text": [
      "| epoch   1 | 28500/32580 batches | loss    1.453 \n",
      "money: so, them, fact, seen, well, able, taken, if, rather, god\n",
      "lion: race, real, programming, prince, participated, ocean, principle, fundamental, magnetic, west\n",
      "africa: europe, india, south, america, kingdom, nine, end, part, united, england\n",
      "musician: actor, actress, singer, writer, author, nine, born, seven, english, able\n",
      "dance: music, modern, study, concept, u, early, final, united, art, seven\n",
      "\n",
      "\n"
     ]
    },
    {
     "name": "stderr",
     "output_type": "stream",
     "text": [
      "29006it [06:35, 60.91it/s]"
     ]
    },
    {
     "name": "stdout",
     "output_type": "stream",
     "text": [
      "| epoch   1 | 29000/32580 batches | loss    1.449 \n",
      "money: so, them, fact, seen, taken, if, able, well, rather, god\n",
      "lion: race, real, programming, prince, participated, magnetic, ocean, principle, fundamental, favor\n",
      "africa: europe, india, america, south, kingdom, end, part, united, nine, north\n",
      "musician: actor, actress, singer, writer, author, nine, born, five, seven, english\n",
      "dance: music, modern, study, concept, art, u, final, whole, traditional, early\n",
      "\n",
      "\n"
     ]
    },
    {
     "name": "stderr",
     "output_type": "stream",
     "text": [
      "29502it [06:41, 59.96it/s]"
     ]
    },
    {
     "name": "stdout",
     "output_type": "stream",
     "text": [
      "| epoch   1 | 29500/32580 batches | loss    1.448 \n",
      "money: so, them, fact, seen, taken, able, well, if, rather, god\n",
      "lion: race, real, programming, prince, participated, ocean, magnetic, principle, broke, fundamental\n",
      "africa: europe, india, south, america, kingdom, north, end, england, united, part\n",
      "musician: actor, actress, singer, writer, author, nine, born, five, able, english\n",
      "dance: music, modern, study, concept, art, four, traditional, final, u, classical\n",
      "\n",
      "\n"
     ]
    },
    {
     "name": "stderr",
     "output_type": "stream",
     "text": [
      "30005it [06:48, 60.77it/s]"
     ]
    },
    {
     "name": "stdout",
     "output_type": "stream",
     "text": [
      "| epoch   1 | 30000/32580 batches | loss    1.436 \n",
      "money: so, them, fact, taken, well, seen, able, rather, if, it\n",
      "lion: race, real, programming, prince, participated, ocean, magnetic, broke, principle, accordance\n",
      "africa: europe, india, america, south, kingdom, england, north, united, part, end\n",
      "musician: actor, actress, singer, writer, author, nine, born, english, composer, able\n",
      "dance: music, modern, study, art, concept, traditional, final, classical, whole, early\n",
      "\n",
      "\n"
     ]
    },
    {
     "name": "stderr",
     "output_type": "stream",
     "text": [
      "30509it [06:55, 64.58it/s]"
     ]
    },
    {
     "name": "stdout",
     "output_type": "stream",
     "text": [
      "| epoch   1 | 30500/32580 batches | loss    1.434 \n",
      "money: so, them, fact, taken, well, rather, seen, if, able, others\n",
      "lion: race, real, programming, prince, participated, ocean, principle, magnetic, favor, accordance\n",
      "africa: europe, india, america, south, kingdom, england, australia, part, north, united\n",
      "musician: actor, actress, singer, writer, author, nine, born, seven, composer, able\n",
      "dance: music, modern, art, study, concept, traditional, whole, addition, early, classical\n",
      "\n",
      "\n"
     ]
    },
    {
     "name": "stderr",
     "output_type": "stream",
     "text": [
      "31005it [07:01, 61.36it/s]"
     ]
    },
    {
     "name": "stdout",
     "output_type": "stream",
     "text": [
      "| epoch   1 | 31000/32580 batches | loss    1.432 \n",
      "money: so, them, fact, taken, seen, rather, able, well, if, others\n",
      "lion: race, real, programming, prince, participated, ocean, magnetic, principle, favor, accordance\n",
      "africa: europe, india, america, south, kingdom, australia, england, united, north, end\n",
      "musician: actor, actress, singer, writer, author, nine, born, composer, seven, poet\n",
      "dance: music, modern, art, study, concept, traditional, classical, early, addition, whole\n",
      "\n",
      "\n"
     ]
    },
    {
     "name": "stderr",
     "output_type": "stream",
     "text": [
      "31509it [07:08, 63.49it/s]"
     ]
    },
    {
     "name": "stdout",
     "output_type": "stream",
     "text": [
      "| epoch   1 | 31500/32580 batches | loss    1.429 \n",
      "money: so, them, if, rather, taken, fact, seen, well, able, others\n",
      "lion: race, programming, real, prince, participated, ocean, magnetic, principle, favor, defeated\n",
      "africa: europe, india, america, south, kingdom, england, australia, united, end, north\n",
      "musician: actor, actress, singer, writer, author, nine, born, poet, composer, seven\n",
      "dance: music, modern, art, study, traditional, concept, early, addition, classical, whole\n",
      "\n",
      "\n"
     ]
    },
    {
     "name": "stderr",
     "output_type": "stream",
     "text": [
      "32005it [07:14, 60.91it/s]"
     ]
    },
    {
     "name": "stdout",
     "output_type": "stream",
     "text": [
      "| epoch   1 | 32000/32580 batches | loss    1.424 \n",
      "money: so, them, if, rather, taken, fact, seen, well, able, others\n",
      "lion: race, programming, real, participated, prince, magnetic, ocean, favor, principle, accordance\n",
      "africa: europe, india, america, south, kingdom, australia, england, nine, united, north\n",
      "musician: actor, actress, singer, writer, author, nine, born, poet, composer, english\n",
      "dance: music, modern, art, traditional, study, concept, early, classical, addition, whole\n",
      "\n",
      "\n"
     ]
    },
    {
     "name": "stderr",
     "output_type": "stream",
     "text": [
      "32507it [07:21, 60.44it/s]"
     ]
    },
    {
     "name": "stdout",
     "output_type": "stream",
     "text": [
      "| epoch   1 | 32500/32580 batches | loss    1.417 \n",
      "money: so, them, if, rather, fact, taken, seen, others, able, need\n",
      "lion: race, programming, real, participated, prince, ocean, magnetic, favor, accordance, principle\n",
      "africa: europe, india, america, south, kingdom, australia, england, nine, united, north\n",
      "musician: actor, actress, singer, writer, author, nine, born, composer, poet, english\n",
      "dance: music, modern, art, concept, traditional, study, early, classical, whole, addition\n",
      "\n",
      "\n"
     ]
    },
    {
     "name": "stderr",
     "output_type": "stream",
     "text": [
      "32580it [07:23, 73.45it/s]\n",
      "8it [00:00, 11.01it/s]"
     ]
    },
    {
     "name": "stdout",
     "output_type": "stream",
     "text": [
      "| epoch   2 |     0/32580 batches | loss    1.272 \n",
      "money: so, them, if, rather, fact, taken, seen, able, others, need\n",
      "lion: race, real, programming, prince, participated, magnetic, ocean, favor, accordance, principle\n",
      "africa: europe, india, america, south, kingdom, australia, england, united, nine, north\n",
      "musician: actor, actress, singer, writer, author, nine, born, poet, composer, english\n",
      "dance: music, modern, art, traditional, concept, study, classical, early, whole, addition\n",
      "\n",
      "\n"
     ]
    },
    {
     "name": "stderr",
     "output_type": "stream",
     "text": [
      "503it [00:07, 61.10it/s]"
     ]
    },
    {
     "name": "stdout",
     "output_type": "stream",
     "text": [
      "| epoch   2 |   500/32580 batches | loss    1.377 \n",
      "money: so, them, if, rather, fact, seen, taken, able, others, need\n",
      "lion: race, real, programming, participated, prince, magnetic, ocean, favor, accordance, principle\n",
      "africa: europe, india, america, south, kingdom, australia, united, england, nine, north\n",
      "musician: actor, actress, singer, writer, author, nine, born, poet, composer, english\n",
      "dance: music, modern, art, traditional, concept, study, classical, early, whole, addition\n",
      "\n",
      "\n"
     ]
    },
    {
     "name": "stderr",
     "output_type": "stream",
     "text": [
      "1007it [00:14, 59.88it/s]"
     ]
    },
    {
     "name": "stdout",
     "output_type": "stream",
     "text": [
      "| epoch   2 |  1000/32580 batches | loss    1.375 \n",
      "money: so, if, them, fact, rather, seen, taken, able, need, others\n",
      "lion: race, real, programming, participated, prince, ocean, magnetic, favor, accordance, principle\n",
      "africa: europe, india, america, south, kingdom, australia, united, england, nine, north\n",
      "musician: actor, actress, singer, writer, author, nine, born, poet, composer, english\n",
      "dance: music, modern, art, traditional, concept, study, classical, early, whole, addition\n",
      "\n",
      "\n"
     ]
    },
    {
     "name": "stderr",
     "output_type": "stream",
     "text": [
      "1503it [00:21, 60.04it/s]"
     ]
    },
    {
     "name": "stdout",
     "output_type": "stream",
     "text": [
      "| epoch   2 |  1500/32580 batches | loss    1.372 \n",
      "money: so, them, if, fact, rather, seen, taken, able, need, others\n",
      "lion: race, real, programming, participated, prince, ocean, magnetic, favor, accordance, principle\n",
      "africa: europe, india, america, south, kingdom, australia, england, united, nine, north\n",
      "musician: actor, actress, singer, writer, author, nine, born, poet, composer, english\n",
      "dance: music, modern, art, traditional, concept, study, classical, early, whole, addition\n",
      "\n",
      "\n"
     ]
    },
    {
     "name": "stderr",
     "output_type": "stream",
     "text": [
      "2006it [00:27, 60.57it/s]"
     ]
    },
    {
     "name": "stdout",
     "output_type": "stream",
     "text": [
      "| epoch   2 |  2000/32580 batches | loss    1.370 \n",
      "money: so, them, if, fact, rather, seen, taken, able, others, need\n",
      "lion: race, real, programming, participated, prince, ocean, magnetic, favor, accordance, principle\n",
      "africa: europe, india, america, south, kingdom, australia, united, england, nine, north\n",
      "musician: actor, actress, singer, writer, author, nine, born, composer, poet, english\n",
      "dance: music, modern, art, traditional, concept, study, classical, early, whole, addition\n",
      "\n",
      "\n"
     ]
    },
    {
     "name": "stderr",
     "output_type": "stream",
     "text": [
      "2510it [00:34, 65.18it/s]"
     ]
    },
    {
     "name": "stdout",
     "output_type": "stream",
     "text": [
      "| epoch   2 |  2500/32580 batches | loss    1.369 \n",
      "money: so, them, if, fact, rather, taken, seen, able, others, need\n",
      "lion: race, real, programming, participated, prince, magnetic, ocean, favor, accordance, principle\n",
      "africa: europe, india, america, south, kingdom, australia, england, united, nine, north\n",
      "musician: actor, actress, singer, writer, author, nine, born, poet, composer, english\n",
      "dance: music, modern, art, traditional, concept, study, classical, early, whole, addition\n",
      "\n",
      "\n"
     ]
    },
    {
     "name": "stderr",
     "output_type": "stream",
     "text": [
      "3006it [00:41, 61.71it/s]"
     ]
    },
    {
     "name": "stdout",
     "output_type": "stream",
     "text": [
      "| epoch   2 |  3000/32580 batches | loss    1.368 \n",
      "money: so, them, if, fact, rather, taken, seen, able, others, need\n",
      "lion: race, real, programming, participated, prince, magnetic, favor, ocean, accordance, principle\n",
      "africa: europe, india, america, south, kingdom, australia, nine, england, united, north\n",
      "musician: actor, actress, singer, writer, author, nine, born, poet, composer, english\n",
      "dance: music, modern, art, traditional, concept, study, classical, early, whole, addition\n",
      "\n",
      "\n"
     ]
    },
    {
     "name": "stderr",
     "output_type": "stream",
     "text": [
      "3510it [00:47, 64.22it/s]"
     ]
    },
    {
     "name": "stdout",
     "output_type": "stream",
     "text": [
      "| epoch   2 |  3500/32580 batches | loss    1.367 \n",
      "money: so, them, if, fact, rather, taken, seen, able, others, need\n",
      "lion: race, real, programming, participated, prince, magnetic, favor, ocean, accordance, principle\n",
      "africa: europe, india, america, south, kingdom, australia, nine, united, england, north\n",
      "musician: actor, actress, singer, writer, author, nine, born, poet, composer, english\n",
      "dance: music, modern, art, traditional, concept, study, classical, early, whole, addition\n",
      "\n",
      "\n"
     ]
    },
    {
     "name": "stderr",
     "output_type": "stream",
     "text": [
      "4006it [00:54, 60.78it/s]"
     ]
    },
    {
     "name": "stdout",
     "output_type": "stream",
     "text": [
      "| epoch   2 |  4000/32580 batches | loss    1.361 \n",
      "money: so, them, if, fact, rather, taken, seen, able, others, need\n",
      "lion: race, real, programming, participated, prince, magnetic, favor, ocean, accordance, principle\n",
      "africa: europe, india, america, south, kingdom, australia, england, nine, united, north\n",
      "musician: actor, actress, singer, writer, author, nine, born, poet, composer, english\n",
      "dance: music, modern, art, traditional, concept, study, classical, early, whole, addition\n",
      "\n",
      "\n"
     ]
    },
    {
     "name": "stderr",
     "output_type": "stream",
     "text": [
      "4508it [01:01, 63.24it/s]"
     ]
    },
    {
     "name": "stdout",
     "output_type": "stream",
     "text": [
      "| epoch   2 |  4500/32580 batches | loss    1.366 \n",
      "money: so, them, if, fact, rather, taken, seen, able, others, need\n",
      "lion: race, real, programming, participated, prince, magnetic, favor, ocean, accordance, principle\n",
      "africa: europe, india, america, south, kingdom, australia, england, united, nine, north\n",
      "musician: actor, actress, singer, writer, author, nine, born, poet, composer, english\n",
      "dance: music, modern, art, traditional, concept, study, classical, early, whole, addition\n",
      "\n",
      "\n"
     ]
    },
    {
     "name": "stderr",
     "output_type": "stream",
     "text": [
      "5003it [01:08, 59.11it/s]"
     ]
    },
    {
     "name": "stdout",
     "output_type": "stream",
     "text": [
      "| epoch   2 |  5000/32580 batches | loss    1.365 \n",
      "money: so, them, if, fact, rather, taken, seen, able, others, need\n",
      "lion: race, real, programming, participated, prince, magnetic, favor, ocean, accordance, principle\n",
      "africa: europe, india, america, south, kingdom, australia, england, nine, united, north\n",
      "musician: actor, actress, singer, writer, author, nine, born, composer, poet, english\n",
      "dance: music, modern, art, traditional, concept, study, classical, whole, early, addition\n",
      "\n",
      "\n"
     ]
    },
    {
     "name": "stderr",
     "output_type": "stream",
     "text": [
      "5505it [01:14, 59.64it/s]"
     ]
    },
    {
     "name": "stdout",
     "output_type": "stream",
     "text": [
      "| epoch   2 |  5500/32580 batches | loss    1.365 \n",
      "money: so, them, if, fact, rather, taken, seen, able, others, need\n",
      "lion: race, real, programming, participated, prince, magnetic, favor, ocean, accordance, principle\n",
      "africa: europe, india, america, south, kingdom, australia, england, nine, united, north\n",
      "musician: actor, actress, singer, writer, author, nine, born, composer, poet, english\n",
      "dance: music, modern, art, traditional, concept, study, classical, whole, early, addition\n",
      "\n",
      "\n"
     ]
    },
    {
     "name": "stderr",
     "output_type": "stream",
     "text": [
      "6007it [01:21, 61.20it/s]"
     ]
    },
    {
     "name": "stdout",
     "output_type": "stream",
     "text": [
      "| epoch   2 |  6000/32580 batches | loss    1.364 \n",
      "money: so, them, if, fact, rather, taken, seen, able, others, need\n",
      "lion: race, real, programming, participated, prince, magnetic, favor, ocean, accordance, principle\n",
      "africa: europe, india, america, south, kingdom, australia, england, nine, united, north\n",
      "musician: actor, actress, singer, writer, author, nine, born, composer, poet, english\n",
      "dance: music, modern, art, traditional, concept, study, classical, whole, early, addition\n",
      "\n",
      "\n"
     ]
    },
    {
     "name": "stderr",
     "output_type": "stream",
     "text": [
      "6503it [01:28, 61.63it/s]"
     ]
    },
    {
     "name": "stdout",
     "output_type": "stream",
     "text": [
      "| epoch   2 |  6500/32580 batches | loss    1.365 \n",
      "money: so, them, if, fact, rather, taken, seen, able, others, need\n",
      "lion: race, real, programming, participated, prince, magnetic, favor, ocean, accordance, principle\n",
      "africa: europe, india, america, south, kingdom, australia, england, nine, united, north\n",
      "musician: actor, actress, singer, writer, author, nine, born, composer, poet, english\n",
      "dance: music, modern, art, traditional, concept, study, classical, whole, early, addition\n",
      "\n",
      "\n"
     ]
    },
    {
     "name": "stderr",
     "output_type": "stream",
     "text": [
      "7007it [01:35, 60.45it/s]"
     ]
    },
    {
     "name": "stdout",
     "output_type": "stream",
     "text": [
      "| epoch   2 |  7000/32580 batches | loss    1.364 \n",
      "money: so, them, if, fact, rather, taken, seen, able, others, need\n",
      "lion: race, real, programming, participated, prince, magnetic, favor, ocean, accordance, principle\n",
      "africa: europe, india, america, south, kingdom, australia, england, united, nine, north\n",
      "musician: actor, actress, singer, writer, author, nine, born, composer, poet, english\n",
      "dance: music, modern, art, traditional, concept, study, classical, whole, early, addition\n",
      "\n",
      "\n"
     ]
    },
    {
     "name": "stderr",
     "output_type": "stream",
     "text": [
      "7502it [01:42, 58.88it/s]"
     ]
    },
    {
     "name": "stdout",
     "output_type": "stream",
     "text": [
      "| epoch   2 |  7500/32580 batches | loss    1.362 \n",
      "money: so, them, if, fact, rather, taken, seen, able, others, need\n",
      "lion: race, real, programming, participated, prince, magnetic, favor, ocean, accordance, principle\n",
      "africa: europe, india, america, south, kingdom, australia, england, united, nine, north\n",
      "musician: actor, actress, singer, writer, author, nine, born, composer, poet, english\n",
      "dance: music, modern, art, traditional, concept, study, classical, whole, early, addition\n",
      "\n",
      "\n"
     ]
    },
    {
     "name": "stderr",
     "output_type": "stream",
     "text": [
      "8004it [01:49, 58.90it/s]"
     ]
    },
    {
     "name": "stdout",
     "output_type": "stream",
     "text": [
      "| epoch   2 |  8000/32580 batches | loss    1.363 \n",
      "money: so, them, if, fact, rather, taken, seen, able, others, need\n",
      "lion: race, real, programming, participated, magnetic, prince, favor, ocean, accordance, principle\n",
      "africa: europe, india, america, south, kingdom, australia, england, nine, united, north\n",
      "musician: actor, actress, singer, writer, author, nine, born, composer, poet, english\n",
      "dance: music, modern, art, traditional, concept, study, classical, whole, early, addition\n",
      "\n",
      "\n"
     ]
    },
    {
     "name": "stderr",
     "output_type": "stream",
     "text": [
      "8503it [01:55, 60.82it/s]"
     ]
    },
    {
     "name": "stdout",
     "output_type": "stream",
     "text": [
      "| epoch   2 |  8500/32580 batches | loss    1.360 \n",
      "money: so, them, if, fact, rather, taken, seen, able, others, need\n",
      "lion: race, real, programming, participated, prince, magnetic, favor, ocean, accordance, principle\n",
      "africa: europe, india, america, south, kingdom, australia, england, nine, united, north\n",
      "musician: actor, actress, singer, writer, author, nine, born, composer, poet, english\n",
      "dance: music, modern, art, traditional, concept, study, classical, whole, early, addition\n",
      "\n",
      "\n"
     ]
    },
    {
     "name": "stderr",
     "output_type": "stream",
     "text": [
      "9007it [02:02, 60.76it/s]"
     ]
    },
    {
     "name": "stdout",
     "output_type": "stream",
     "text": [
      "| epoch   2 |  9000/32580 batches | loss    1.359 \n",
      "money: so, them, if, fact, rather, taken, seen, able, others, need\n",
      "lion: race, real, programming, participated, magnetic, prince, favor, ocean, accordance, principle\n",
      "africa: europe, india, america, south, kingdom, australia, england, united, nine, north\n",
      "musician: actor, actress, singer, writer, author, nine, born, composer, poet, english\n",
      "dance: music, modern, art, traditional, concept, study, classical, whole, early, addition\n",
      "\n",
      "\n"
     ]
    },
    {
     "name": "stderr",
     "output_type": "stream",
     "text": [
      "9509it [02:09, 61.47it/s]"
     ]
    },
    {
     "name": "stdout",
     "output_type": "stream",
     "text": [
      "| epoch   2 |  9500/32580 batches | loss    1.359 \n",
      "money: so, them, if, fact, rather, taken, seen, able, others, need\n",
      "lion: race, real, programming, participated, magnetic, favor, prince, ocean, accordance, principle\n",
      "africa: europe, india, america, south, kingdom, australia, england, nine, united, north\n",
      "musician: actor, actress, singer, writer, author, nine, born, composer, poet, english\n",
      "dance: music, modern, art, traditional, concept, study, classical, whole, early, addition\n",
      "\n",
      "\n"
     ]
    },
    {
     "name": "stderr",
     "output_type": "stream",
     "text": [
      "10005it [02:16, 58.33it/s]"
     ]
    },
    {
     "name": "stdout",
     "output_type": "stream",
     "text": [
      "| epoch   2 | 10000/32580 batches | loss    1.362 \n",
      "money: so, them, if, fact, rather, taken, seen, able, others, need\n",
      "lion: race, real, programming, participated, magnetic, favor, prince, ocean, accordance, principle\n",
      "africa: europe, india, america, south, kingdom, australia, england, united, nine, north\n",
      "musician: actor, actress, singer, writer, author, nine, born, composer, poet, english\n",
      "dance: music, modern, art, traditional, concept, study, classical, whole, early, addition\n",
      "\n",
      "\n"
     ]
    },
    {
     "name": "stderr",
     "output_type": "stream",
     "text": [
      "10509it [02:25, 62.58it/s]"
     ]
    },
    {
     "name": "stdout",
     "output_type": "stream",
     "text": [
      "| epoch   2 | 10500/32580 batches | loss    1.360 \n",
      "money: so, them, if, fact, rather, taken, seen, able, others, need\n",
      "lion: race, real, programming, participated, magnetic, favor, prince, ocean, accordance, principle\n",
      "africa: europe, india, america, south, kingdom, australia, england, united, nine, north\n",
      "musician: actor, actress, singer, writer, author, nine, born, composer, poet, english\n",
      "dance: music, modern, art, traditional, concept, study, classical, whole, early, addition\n",
      "\n",
      "\n"
     ]
    },
    {
     "name": "stderr",
     "output_type": "stream",
     "text": [
      "11005it [02:32, 59.97it/s]"
     ]
    },
    {
     "name": "stdout",
     "output_type": "stream",
     "text": [
      "| epoch   2 | 11000/32580 batches | loss    1.360 \n",
      "money: so, them, if, fact, rather, taken, seen, able, others, need\n",
      "lion: race, real, programming, participated, magnetic, favor, ocean, prince, accordance, principle\n",
      "africa: europe, india, america, south, kingdom, australia, united, england, nine, north\n",
      "musician: actor, actress, singer, writer, author, nine, born, composer, poet, english\n",
      "dance: music, modern, art, traditional, concept, classical, study, whole, early, addition\n",
      "\n",
      "\n"
     ]
    },
    {
     "name": "stderr",
     "output_type": "stream",
     "text": [
      "11509it [02:39, 64.72it/s]"
     ]
    },
    {
     "name": "stdout",
     "output_type": "stream",
     "text": [
      "| epoch   2 | 11500/32580 batches | loss    1.362 \n",
      "money: so, them, if, fact, rather, taken, seen, able, others, need\n",
      "lion: race, real, programming, participated, favor, magnetic, ocean, prince, accordance, principle\n",
      "africa: europe, india, america, south, kingdom, australia, nine, england, united, north\n",
      "musician: actor, actress, singer, writer, author, nine, born, composer, poet, english\n",
      "dance: music, modern, art, traditional, concept, classical, study, whole, early, addition\n",
      "\n",
      "\n"
     ]
    },
    {
     "name": "stderr",
     "output_type": "stream",
     "text": [
      "12005it [02:46, 58.51it/s]"
     ]
    },
    {
     "name": "stdout",
     "output_type": "stream",
     "text": [
      "| epoch   2 | 12000/32580 batches | loss    1.356 \n",
      "money: so, them, if, fact, rather, taken, seen, able, others, need\n",
      "lion: race, real, programming, participated, favor, magnetic, ocean, prince, accordance, principle\n",
      "africa: europe, india, america, south, kingdom, australia, nine, united, england, north\n",
      "musician: actor, actress, singer, writer, author, nine, born, composer, poet, english\n",
      "dance: music, modern, art, traditional, concept, classical, study, whole, early, addition\n",
      "\n",
      "\n"
     ]
    },
    {
     "name": "stderr",
     "output_type": "stream",
     "text": [
      "12500it [02:52, 71.85it/s]"
     ]
    },
    {
     "name": "stdout",
     "output_type": "stream",
     "text": [
      "| epoch   2 | 12500/32580 batches | loss    1.355 \n",
      "money: so, them, if, fact, rather, taken, seen, able, others, need\n",
      "lion: race, real, programming, participated, favor, magnetic, ocean, prince, accordance, principle\n",
      "africa: europe, india, america, south, kingdom, australia, nine, united, england, north\n",
      "musician: actor, actress, singer, writer, author, nine, born, composer, poet, english\n",
      "dance: music, modern, art, traditional, concept, classical, study, whole, early, addition\n",
      "\n",
      "\n"
     ]
    },
    {
     "name": "stderr",
     "output_type": "stream",
     "text": [
      "13003it [03:00, 57.60it/s]"
     ]
    },
    {
     "name": "stdout",
     "output_type": "stream",
     "text": [
      "| epoch   2 | 13000/32580 batches | loss    1.356 \n",
      "money: so, them, if, fact, rather, taken, seen, able, others, need\n",
      "lion: race, real, programming, participated, favor, magnetic, ocean, prince, accordance, principle\n",
      "africa: europe, india, america, south, kingdom, australia, nine, united, england, north\n",
      "musician: actor, actress, singer, writer, author, nine, born, composer, poet, english\n",
      "dance: music, modern, art, traditional, concept, classical, study, whole, early, addition\n",
      "\n",
      "\n"
     ]
    },
    {
     "name": "stderr",
     "output_type": "stream",
     "text": [
      "13505it [03:07, 57.06it/s]"
     ]
    },
    {
     "name": "stdout",
     "output_type": "stream",
     "text": [
      "| epoch   2 | 13500/32580 batches | loss    1.356 \n",
      "money: so, them, if, fact, rather, taken, seen, able, others, need\n",
      "lion: race, real, programming, participated, favor, magnetic, ocean, prince, accordance, principle\n",
      "africa: europe, india, america, south, kingdom, australia, nine, united, england, north\n",
      "musician: actor, actress, singer, writer, author, nine, born, composer, poet, english\n",
      "dance: music, modern, art, traditional, concept, classical, study, whole, early, addition\n",
      "\n",
      "\n"
     ]
    },
    {
     "name": "stderr",
     "output_type": "stream",
     "text": [
      "14008it [03:13, 61.34it/s]"
     ]
    },
    {
     "name": "stdout",
     "output_type": "stream",
     "text": [
      "| epoch   2 | 14000/32580 batches | loss    1.355 \n",
      "money: so, them, if, fact, rather, taken, seen, able, others, need\n",
      "lion: race, real, programming, participated, favor, ocean, magnetic, prince, accordance, principle\n",
      "africa: europe, india, america, south, kingdom, australia, nine, united, england, north\n",
      "musician: actor, actress, singer, writer, author, nine, born, composer, poet, english\n",
      "dance: music, modern, art, traditional, concept, classical, study, whole, early, addition\n",
      "\n",
      "\n"
     ]
    },
    {
     "name": "stderr",
     "output_type": "stream",
     "text": [
      "14504it [03:20, 59.16it/s]"
     ]
    },
    {
     "name": "stdout",
     "output_type": "stream",
     "text": [
      "| epoch   2 | 14500/32580 batches | loss    1.353 \n",
      "money: so, them, if, fact, rather, taken, seen, able, others, need\n",
      "lion: race, real, programming, participated, favor, ocean, magnetic, prince, accordance, principle\n",
      "africa: europe, india, america, south, kingdom, australia, united, nine, england, north\n",
      "musician: actor, actress, singer, writer, author, nine, born, composer, poet, politician\n",
      "dance: music, modern, art, traditional, concept, classical, study, whole, early, addition\n",
      "\n",
      "\n"
     ]
    },
    {
     "name": "stderr",
     "output_type": "stream",
     "text": [
      "15007it [03:27, 57.88it/s]"
     ]
    },
    {
     "name": "stdout",
     "output_type": "stream",
     "text": [
      "| epoch   2 | 15000/32580 batches | loss    1.357 \n",
      "money: so, them, if, fact, rather, taken, seen, able, others, need\n",
      "lion: race, real, programming, participated, favor, ocean, magnetic, prince, accordance, principle\n",
      "africa: europe, india, america, south, kingdom, australia, united, nine, england, north\n",
      "musician: actor, actress, singer, writer, author, nine, born, composer, poet, politician\n",
      "dance: music, modern, art, traditional, concept, classical, study, whole, early, addition\n",
      "\n",
      "\n"
     ]
    },
    {
     "name": "stderr",
     "output_type": "stream",
     "text": [
      "15502it [03:34, 58.35it/s]"
     ]
    },
    {
     "name": "stdout",
     "output_type": "stream",
     "text": [
      "| epoch   2 | 15500/32580 batches | loss    1.355 \n",
      "money: so, them, if, rather, fact, taken, seen, others, able, need\n",
      "lion: race, real, programming, participated, favor, magnetic, ocean, prince, accordance, principle\n",
      "africa: europe, india, america, south, kingdom, australia, united, nine, england, north\n",
      "musician: actor, actress, singer, writer, author, nine, born, composer, poet, politician\n",
      "dance: music, modern, art, traditional, concept, classical, study, whole, early, addition\n",
      "\n",
      "\n"
     ]
    },
    {
     "name": "stderr",
     "output_type": "stream",
     "text": [
      "16009it [03:41, 60.76it/s]"
     ]
    },
    {
     "name": "stdout",
     "output_type": "stream",
     "text": [
      "| epoch   2 | 16000/32580 batches | loss    1.358 \n",
      "money: so, them, if, fact, rather, taken, seen, others, able, need\n",
      "lion: race, real, programming, participated, favor, magnetic, ocean, prince, accordance, principle\n",
      "africa: europe, india, america, south, kingdom, australia, united, nine, england, north\n",
      "musician: actor, actress, singer, writer, author, nine, born, composer, poet, politician\n",
      "dance: music, modern, art, traditional, concept, classical, study, whole, early, addition\n",
      "\n",
      "\n"
     ]
    },
    {
     "name": "stderr",
     "output_type": "stream",
     "text": [
      "16505it [03:48, 60.35it/s]"
     ]
    },
    {
     "name": "stdout",
     "output_type": "stream",
     "text": [
      "| epoch   2 | 16500/32580 batches | loss    1.352 \n",
      "money: so, them, if, fact, rather, taken, seen, others, able, need\n",
      "lion: race, real, programming, participated, favor, magnetic, ocean, prince, accordance, principle\n",
      "africa: europe, india, america, south, kingdom, australia, united, nine, england, north\n",
      "musician: actor, actress, singer, writer, author, nine, born, composer, poet, politician\n",
      "dance: music, modern, art, traditional, concept, classical, study, whole, early, addition\n",
      "\n",
      "\n"
     ]
    },
    {
     "name": "stderr",
     "output_type": "stream",
     "text": [
      "17008it [03:55, 58.88it/s]"
     ]
    },
    {
     "name": "stdout",
     "output_type": "stream",
     "text": [
      "| epoch   2 | 17000/32580 batches | loss    1.358 \n",
      "money: so, them, if, fact, rather, taken, seen, others, able, need\n",
      "lion: race, real, programming, participated, favor, magnetic, ocean, prince, accordance, principle\n",
      "africa: europe, india, america, south, kingdom, australia, united, nine, england, north\n",
      "musician: actor, actress, singer, writer, author, nine, born, composer, poet, politician\n",
      "dance: music, modern, art, traditional, concept, classical, whole, study, early, addition\n",
      "\n",
      "\n"
     ]
    },
    {
     "name": "stderr",
     "output_type": "stream",
     "text": [
      "17503it [04:01, 61.68it/s]"
     ]
    },
    {
     "name": "stdout",
     "output_type": "stream",
     "text": [
      "| epoch   2 | 17500/32580 batches | loss    1.351 \n",
      "money: so, them, if, rather, fact, taken, seen, others, able, need\n",
      "lion: race, real, programming, participated, favor, magnetic, ocean, prince, accordance, principle\n",
      "africa: europe, india, america, south, kingdom, australia, united, nine, england, north\n",
      "musician: actor, actress, singer, writer, author, nine, born, composer, poet, politician\n",
      "dance: music, modern, art, traditional, concept, classical, whole, study, early, addition\n",
      "\n",
      "\n"
     ]
    },
    {
     "name": "stderr",
     "output_type": "stream",
     "text": [
      "18007it [04:08, 61.48it/s]"
     ]
    },
    {
     "name": "stdout",
     "output_type": "stream",
     "text": [
      "| epoch   2 | 18000/32580 batches | loss    1.352 \n",
      "money: so, them, if, rather, fact, taken, seen, others, able, need\n",
      "lion: race, real, programming, participated, favor, ocean, magnetic, prince, accordance, principle\n",
      "africa: europe, india, america, south, kingdom, australia, united, england, nine, north\n",
      "musician: actor, actress, singer, writer, author, nine, born, composer, poet, politician\n",
      "dance: music, modern, art, traditional, concept, classical, whole, study, early, addition\n",
      "\n",
      "\n"
     ]
    },
    {
     "name": "stderr",
     "output_type": "stream",
     "text": [
      "18503it [04:14, 61.40it/s]"
     ]
    },
    {
     "name": "stdout",
     "output_type": "stream",
     "text": [
      "| epoch   2 | 18500/32580 batches | loss    1.349 \n",
      "money: so, them, if, fact, rather, taken, seen, others, need, able\n",
      "lion: race, real, programming, participated, favor, magnetic, prince, ocean, accordance, principle\n",
      "africa: europe, india, america, south, kingdom, australia, united, england, nine, north\n",
      "musician: actor, actress, singer, writer, author, nine, born, composer, poet, politician\n",
      "dance: music, modern, art, traditional, concept, classical, whole, study, early, addition\n",
      "\n",
      "\n"
     ]
    },
    {
     "name": "stderr",
     "output_type": "stream",
     "text": [
      "19007it [04:21, 60.62it/s]"
     ]
    },
    {
     "name": "stdout",
     "output_type": "stream",
     "text": [
      "| epoch   2 | 19000/32580 batches | loss    1.347 \n",
      "money: so, them, if, rather, fact, taken, seen, others, need, able\n",
      "lion: race, real, programming, participated, favor, magnetic, ocean, prince, accordance, principle\n",
      "africa: europe, india, america, south, kingdom, australia, united, england, nine, north\n",
      "musician: actor, actress, singer, writer, author, nine, born, composer, poet, politician\n",
      "dance: music, modern, art, traditional, concept, classical, whole, study, early, addition\n",
      "\n",
      "\n"
     ]
    },
    {
     "name": "stderr",
     "output_type": "stream",
     "text": [
      "19502it [04:28, 61.38it/s]"
     ]
    },
    {
     "name": "stdout",
     "output_type": "stream",
     "text": [
      "| epoch   2 | 19500/32580 batches | loss    1.350 \n",
      "money: so, them, if, fact, rather, taken, seen, others, need, able\n",
      "lion: race, real, programming, participated, favor, magnetic, ocean, prince, accordance, principle\n",
      "africa: europe, india, america, south, kingdom, australia, united, nine, england, north\n",
      "musician: actor, actress, singer, writer, author, nine, born, composer, poet, politician\n",
      "dance: music, modern, art, traditional, classical, concept, whole, study, early, addition\n",
      "\n",
      "\n"
     ]
    },
    {
     "name": "stderr",
     "output_type": "stream",
     "text": [
      "20006it [04:34, 60.86it/s]"
     ]
    },
    {
     "name": "stdout",
     "output_type": "stream",
     "text": [
      "| epoch   2 | 20000/32580 batches | loss    1.348 \n",
      "money: so, them, if, fact, rather, taken, seen, others, need, able\n",
      "lion: race, real, programming, participated, favor, magnetic, ocean, accordance, prince, principle\n",
      "africa: europe, india, america, south, kingdom, australia, united, nine, england, north\n",
      "musician: actor, actress, singer, writer, author, nine, born, composer, poet, politician\n",
      "dance: music, modern, art, traditional, classical, concept, whole, study, early, addition\n",
      "\n",
      "\n"
     ]
    },
    {
     "name": "stderr",
     "output_type": "stream",
     "text": [
      "20509it [04:41, 62.54it/s]"
     ]
    },
    {
     "name": "stdout",
     "output_type": "stream",
     "text": [
      "| epoch   2 | 20500/32580 batches | loss    1.348 \n",
      "money: so, them, if, fact, rather, taken, seen, others, need, able\n",
      "lion: race, real, programming, participated, favor, magnetic, ocean, accordance, prince, principle\n",
      "africa: europe, india, america, south, kingdom, australia, united, nine, england, north\n",
      "musician: actor, actress, singer, writer, author, nine, born, composer, poet, politician\n",
      "dance: music, modern, art, traditional, concept, classical, whole, study, addition, early\n",
      "\n",
      "\n"
     ]
    },
    {
     "name": "stderr",
     "output_type": "stream",
     "text": [
      "21005it [04:48, 58.94it/s]"
     ]
    },
    {
     "name": "stdout",
     "output_type": "stream",
     "text": [
      "| epoch   2 | 21000/32580 batches | loss    1.348 \n",
      "money: so, them, if, fact, rather, taken, seen, others, need, able\n",
      "lion: race, real, programming, participated, favor, magnetic, ocean, accordance, prince, principle\n",
      "africa: europe, india, america, south, kingdom, australia, united, england, nine, north\n",
      "musician: actor, actress, singer, writer, author, nine, born, composer, poet, politician\n",
      "dance: music, modern, art, traditional, concept, classical, whole, study, addition, early\n",
      "\n",
      "\n"
     ]
    },
    {
     "name": "stderr",
     "output_type": "stream",
     "text": [
      "21508it [04:55, 63.62it/s]"
     ]
    },
    {
     "name": "stdout",
     "output_type": "stream",
     "text": [
      "| epoch   2 | 21500/32580 batches | loss    1.351 \n",
      "money: so, them, if, fact, rather, taken, seen, need, others, well\n",
      "lion: race, real, programming, participated, favor, magnetic, ocean, accordance, prince, principle\n",
      "africa: europe, india, america, south, kingdom, australia, united, england, nine, north\n",
      "musician: actor, actress, singer, writer, author, nine, born, composer, poet, politician\n",
      "dance: music, modern, art, traditional, concept, classical, whole, study, addition, early\n",
      "\n",
      "\n"
     ]
    },
    {
     "name": "stderr",
     "output_type": "stream",
     "text": [
      "22004it [05:02, 60.59it/s]"
     ]
    },
    {
     "name": "stdout",
     "output_type": "stream",
     "text": [
      "| epoch   2 | 22000/32580 batches | loss    1.351 \n",
      "money: so, them, if, fact, rather, taken, seen, need, others, well\n",
      "lion: race, real, programming, participated, favor, magnetic, ocean, accordance, prince, principle\n",
      "africa: europe, india, america, south, kingdom, australia, united, nine, england, north\n",
      "musician: actor, actress, singer, writer, author, nine, born, composer, poet, politician\n",
      "dance: music, modern, art, traditional, concept, classical, whole, study, addition, early\n",
      "\n",
      "\n"
     ]
    },
    {
     "name": "stderr",
     "output_type": "stream",
     "text": [
      "22508it [05:08, 61.35it/s]"
     ]
    },
    {
     "name": "stdout",
     "output_type": "stream",
     "text": [
      "| epoch   2 | 22500/32580 batches | loss    1.357 \n",
      "money: so, them, if, rather, fact, taken, seen, others, need, well\n",
      "lion: race, real, programming, participated, favor, magnetic, ocean, accordance, prince, principle\n",
      "africa: europe, india, america, south, kingdom, australia, united, england, nine, asia\n",
      "musician: actor, actress, singer, writer, author, nine, born, composer, poet, politician\n",
      "dance: music, modern, art, traditional, classical, concept, whole, study, addition, early\n",
      "\n",
      "\n"
     ]
    },
    {
     "name": "stderr",
     "output_type": "stream",
     "text": [
      "23007it [05:15, 58.49it/s]"
     ]
    },
    {
     "name": "stdout",
     "output_type": "stream",
     "text": [
      "| epoch   2 | 23000/32580 batches | loss    1.348 \n",
      "money: so, them, if, fact, rather, taken, seen, others, need, well\n",
      "lion: race, real, programming, participated, favor, magnetic, accordance, ocean, prince, principle\n",
      "africa: europe, india, america, south, kingdom, australia, united, nine, england, asia\n",
      "musician: actor, actress, singer, writer, author, nine, born, composer, poet, politician\n",
      "dance: music, modern, art, traditional, concept, classical, whole, study, addition, early\n",
      "\n",
      "\n"
     ]
    },
    {
     "name": "stderr",
     "output_type": "stream",
     "text": [
      "23503it [05:22, 60.24it/s]"
     ]
    },
    {
     "name": "stdout",
     "output_type": "stream",
     "text": [
      "| epoch   2 | 23500/32580 batches | loss    1.347 \n",
      "money: so, them, if, fact, rather, taken, seen, others, need, well\n",
      "lion: race, real, programming, participated, favor, magnetic, accordance, ocean, prince, principle\n",
      "africa: europe, india, america, south, kingdom, australia, united, england, nine, asia\n",
      "musician: actor, actress, singer, writer, author, nine, born, composer, poet, politician\n",
      "dance: music, modern, art, traditional, classical, concept, whole, study, early, addition\n",
      "\n",
      "\n"
     ]
    },
    {
     "name": "stderr",
     "output_type": "stream",
     "text": [
      "24005it [05:29, 60.32it/s]"
     ]
    },
    {
     "name": "stdout",
     "output_type": "stream",
     "text": [
      "| epoch   2 | 24000/32580 batches | loss    1.349 \n",
      "money: so, them, if, rather, fact, taken, seen, others, need, well\n",
      "lion: race, real, programming, participated, favor, magnetic, accordance, ocean, prince, principle\n",
      "africa: europe, india, america, south, kingdom, australia, united, nine, england, asia\n",
      "musician: actor, actress, singer, writer, author, nine, born, composer, poet, politician\n",
      "dance: music, modern, art, traditional, classical, concept, whole, study, addition, early\n",
      "\n",
      "\n"
     ]
    },
    {
     "name": "stderr",
     "output_type": "stream",
     "text": [
      "24508it [05:36, 60.26it/s]"
     ]
    },
    {
     "name": "stdout",
     "output_type": "stream",
     "text": [
      "| epoch   2 | 24500/32580 batches | loss    1.347 \n",
      "money: so, them, if, rather, fact, taken, seen, others, need, well\n",
      "lion: race, real, programming, participated, favor, magnetic, accordance, ocean, prince, principle\n",
      "africa: europe, india, america, south, kingdom, australia, united, nine, england, asia\n",
      "musician: actor, actress, singer, writer, author, nine, born, composer, poet, politician\n",
      "dance: music, modern, art, traditional, classical, concept, whole, study, early, addition\n",
      "\n",
      "\n"
     ]
    },
    {
     "name": "stderr",
     "output_type": "stream",
     "text": [
      "25004it [05:42, 59.77it/s]"
     ]
    },
    {
     "name": "stdout",
     "output_type": "stream",
     "text": [
      "| epoch   2 | 25000/32580 batches | loss    1.345 \n",
      "money: so, them, if, rather, fact, taken, seen, others, need, well\n",
      "lion: race, real, programming, participated, favor, magnetic, accordance, ocean, prince, principle\n",
      "africa: europe, india, america, south, kingdom, australia, united, nine, england, asia\n",
      "musician: actor, actress, singer, writer, author, nine, born, composer, poet, politician\n",
      "dance: music, modern, art, traditional, classical, concept, whole, study, early, addition\n",
      "\n",
      "\n"
     ]
    },
    {
     "name": "stderr",
     "output_type": "stream",
     "text": [
      "25505it [05:49, 61.21it/s]"
     ]
    },
    {
     "name": "stdout",
     "output_type": "stream",
     "text": [
      "| epoch   2 | 25500/32580 batches | loss    1.346 \n",
      "money: so, them, if, rather, fact, taken, seen, others, need, well\n",
      "lion: race, real, programming, participated, favor, magnetic, accordance, ocean, prince, principle\n",
      "africa: europe, india, america, south, kingdom, australia, united, england, nine, asia\n",
      "musician: actor, actress, singer, writer, author, nine, born, composer, poet, politician\n",
      "dance: music, modern, art, traditional, classical, concept, whole, study, early, addition\n",
      "\n",
      "\n"
     ]
    },
    {
     "name": "stderr",
     "output_type": "stream",
     "text": [
      "26008it [05:56, 62.50it/s]"
     ]
    },
    {
     "name": "stdout",
     "output_type": "stream",
     "text": [
      "| epoch   2 | 26000/32580 batches | loss    1.351 \n",
      "money: them, so, if, rather, fact, taken, seen, others, need, well\n",
      "lion: race, real, programming, favor, participated, magnetic, accordance, ocean, prince, principle\n",
      "africa: europe, india, america, south, kingdom, australia, united, nine, england, asia\n",
      "musician: actor, actress, singer, writer, author, nine, born, composer, poet, politician\n",
      "dance: music, modern, art, traditional, classical, concept, whole, study, early, addition\n",
      "\n",
      "\n"
     ]
    },
    {
     "name": "stderr",
     "output_type": "stream",
     "text": [
      "26504it [06:03, 59.33it/s]"
     ]
    },
    {
     "name": "stdout",
     "output_type": "stream",
     "text": [
      "| epoch   2 | 26500/32580 batches | loss    1.346 \n",
      "money: them, so, if, rather, fact, taken, others, seen, need, well\n",
      "lion: race, real, programming, favor, participated, magnetic, accordance, ocean, prince, principle\n",
      "africa: europe, india, america, south, kingdom, australia, united, england, nine, asia\n",
      "musician: actor, actress, singer, writer, author, nine, born, composer, poet, politician\n",
      "dance: music, modern, art, traditional, classical, concept, whole, study, early, addition\n",
      "\n",
      "\n"
     ]
    },
    {
     "name": "stderr",
     "output_type": "stream",
     "text": [
      "27007it [06:10, 61.21it/s]"
     ]
    },
    {
     "name": "stdout",
     "output_type": "stream",
     "text": [
      "| epoch   2 | 27000/32580 batches | loss    1.343 \n",
      "money: them, so, if, rather, fact, taken, others, seen, well, need\n",
      "lion: race, real, programming, favor, participated, magnetic, accordance, ocean, prince, principle\n",
      "africa: europe, india, america, south, kingdom, australia, united, england, asia, nine\n",
      "musician: actor, actress, singer, writer, author, nine, born, composer, poet, politician\n",
      "dance: music, modern, art, traditional, classical, concept, whole, study, early, addition\n",
      "\n",
      "\n"
     ]
    },
    {
     "name": "stderr",
     "output_type": "stream",
     "text": [
      "27503it [06:16, 59.98it/s]"
     ]
    },
    {
     "name": "stdout",
     "output_type": "stream",
     "text": [
      "| epoch   2 | 27500/32580 batches | loss    1.347 \n",
      "money: them, so, if, rather, fact, taken, others, seen, well, need\n",
      "lion: race, real, programming, participated, favor, magnetic, accordance, ocean, prince, principle\n",
      "africa: europe, india, america, south, kingdom, australia, united, england, nine, asia\n",
      "musician: actor, actress, singer, writer, author, nine, born, composer, poet, politician\n",
      "dance: music, modern, art, traditional, classical, concept, whole, study, early, addition\n",
      "\n",
      "\n"
     ]
    },
    {
     "name": "stderr",
     "output_type": "stream",
     "text": [
      "28007it [06:23, 60.48it/s]"
     ]
    },
    {
     "name": "stdout",
     "output_type": "stream",
     "text": [
      "| epoch   2 | 28000/32580 batches | loss    1.344 \n",
      "money: them, so, if, rather, fact, taken, others, seen, well, need\n",
      "lion: race, real, programming, favor, participated, magnetic, accordance, ocean, prince, principle\n",
      "africa: europe, india, america, south, kingdom, australia, united, england, asia, nine\n",
      "musician: actor, actress, singer, writer, author, nine, born, composer, poet, politician\n",
      "dance: music, modern, art, traditional, classical, concept, whole, study, early, addition\n",
      "\n",
      "\n"
     ]
    },
    {
     "name": "stderr",
     "output_type": "stream",
     "text": [
      "28502it [06:29, 61.70it/s]"
     ]
    },
    {
     "name": "stdout",
     "output_type": "stream",
     "text": [
      "| epoch   2 | 28500/32580 batches | loss    1.341 \n",
      "money: them, so, if, rather, fact, taken, others, seen, well, need\n",
      "lion: race, real, programming, favor, participated, magnetic, accordance, prince, ocean, principle\n",
      "africa: europe, india, america, south, kingdom, australia, united, england, asia, nine\n",
      "musician: actor, actress, singer, writer, author, nine, born, composer, poet, politician\n",
      "dance: music, modern, art, traditional, classical, concept, whole, study, early, addition\n",
      "\n",
      "\n"
     ]
    },
    {
     "name": "stderr",
     "output_type": "stream",
     "text": [
      "29006it [06:36, 59.99it/s]"
     ]
    },
    {
     "name": "stdout",
     "output_type": "stream",
     "text": [
      "| epoch   2 | 29000/32580 batches | loss    1.342 \n",
      "money: them, so, if, rather, fact, taken, others, seen, well, need\n",
      "lion: race, real, programming, favor, participated, magnetic, accordance, ocean, prince, wales\n",
      "africa: europe, india, america, south, kingdom, australia, united, england, asia, nine\n",
      "musician: actor, actress, singer, writer, author, nine, born, composer, poet, politician\n",
      "dance: music, modern, art, traditional, classical, concept, whole, study, early, addition\n",
      "\n",
      "\n"
     ]
    },
    {
     "name": "stderr",
     "output_type": "stream",
     "text": [
      "29509it [06:43, 64.32it/s]"
     ]
    },
    {
     "name": "stdout",
     "output_type": "stream",
     "text": [
      "| epoch   2 | 29500/32580 batches | loss    1.346 \n",
      "money: them, so, if, rather, fact, taken, seen, others, well, need\n",
      "lion: race, real, programming, favor, participated, magnetic, accordance, ocean, prince, principle\n",
      "africa: europe, india, america, south, kingdom, australia, united, england, asia, nine\n",
      "musician: actor, actress, singer, writer, author, nine, born, composer, poet, politician\n",
      "dance: music, modern, art, traditional, classical, concept, whole, study, early, addition\n",
      "\n",
      "\n"
     ]
    },
    {
     "name": "stderr",
     "output_type": "stream",
     "text": [
      "30005it [06:50, 60.25it/s]"
     ]
    },
    {
     "name": "stdout",
     "output_type": "stream",
     "text": [
      "| epoch   2 | 30000/32580 batches | loss    1.344 \n",
      "money: them, so, if, rather, fact, taken, others, seen, well, need\n",
      "lion: race, real, programming, favor, participated, magnetic, accordance, ocean, prince, principle\n",
      "africa: europe, india, america, south, kingdom, australia, united, asia, england, nine\n",
      "musician: actor, actress, singer, writer, author, nine, born, composer, poet, politician\n",
      "dance: music, modern, art, traditional, classical, concept, whole, study, early, addition\n",
      "\n",
      "\n"
     ]
    },
    {
     "name": "stderr",
     "output_type": "stream",
     "text": [
      "30500it [06:56, 76.26it/s]"
     ]
    },
    {
     "name": "stdout",
     "output_type": "stream",
     "text": [
      "| epoch   2 | 30500/32580 batches | loss    1.339 \n",
      "money: them, so, if, rather, fact, taken, others, seen, well, need\n",
      "lion: race, real, programming, favor, participated, accordance, magnetic, ocean, prince, principle\n",
      "africa: europe, india, america, south, kingdom, australia, united, asia, england, nine\n",
      "musician: actor, actress, singer, writer, author, nine, born, composer, poet, politician\n",
      "dance: music, modern, art, traditional, classical, concept, whole, study, early, addition\n",
      "\n",
      "\n"
     ]
    },
    {
     "name": "stderr",
     "output_type": "stream",
     "text": [
      "31004it [07:03, 59.82it/s]"
     ]
    },
    {
     "name": "stdout",
     "output_type": "stream",
     "text": [
      "| epoch   2 | 31000/32580 batches | loss    1.342 \n",
      "money: so, them, if, rather, fact, taken, others, seen, well, need\n",
      "lion: race, real, programming, favor, participated, accordance, magnetic, ocean, prince, wales\n",
      "africa: europe, india, america, south, kingdom, australia, united, asia, england, nine\n",
      "musician: actor, actress, singer, writer, author, nine, born, composer, poet, politician\n",
      "dance: music, modern, art, traditional, classical, concept, whole, study, early, addition\n",
      "\n",
      "\n"
     ]
    },
    {
     "name": "stderr",
     "output_type": "stream",
     "text": [
      "31505it [07:10, 56.99it/s]"
     ]
    },
    {
     "name": "stdout",
     "output_type": "stream",
     "text": [
      "| epoch   2 | 31500/32580 batches | loss    1.339 \n",
      "money: so, them, if, rather, fact, taken, others, well, seen, need\n",
      "lion: race, real, programming, favor, participated, accordance, magnetic, ocean, prince, wales\n",
      "africa: europe, india, america, south, kingdom, australia, united, asia, england, nine\n",
      "musician: actor, actress, singer, writer, author, nine, born, composer, poet, politician\n",
      "dance: music, modern, art, traditional, classical, concept, whole, study, early, addition\n",
      "\n",
      "\n"
     ]
    },
    {
     "name": "stderr",
     "output_type": "stream",
     "text": [
      "32007it [07:17, 60.95it/s]"
     ]
    },
    {
     "name": "stdout",
     "output_type": "stream",
     "text": [
      "| epoch   2 | 32000/32580 batches | loss    1.343 \n",
      "money: them, so, if, rather, fact, taken, others, well, seen, need\n",
      "lion: race, real, programming, participated, favor, accordance, magnetic, ocean, prince, wales\n",
      "africa: europe, india, america, south, kingdom, australia, united, asia, england, nine\n",
      "musician: actor, actress, singer, writer, author, nine, born, composer, poet, politician\n",
      "dance: music, modern, art, traditional, classical, concept, whole, study, early, addition\n",
      "\n",
      "\n"
     ]
    },
    {
     "name": "stderr",
     "output_type": "stream",
     "text": [
      "32503it [07:23, 61.40it/s]"
     ]
    },
    {
     "name": "stdout",
     "output_type": "stream",
     "text": [
      "| epoch   2 | 32500/32580 batches | loss    1.340 \n",
      "money: so, them, if, rather, fact, taken, others, well, seen, need\n",
      "lion: race, real, programming, participated, favor, accordance, magnetic, ocean, prince, wales\n",
      "africa: europe, india, america, south, kingdom, australia, united, asia, england, nine\n",
      "musician: actor, actress, singer, writer, author, nine, born, composer, poet, politician\n",
      "dance: music, modern, art, traditional, classical, concept, whole, study, early, addition\n",
      "\n",
      "\n"
     ]
    },
    {
     "name": "stderr",
     "output_type": "stream",
     "text": [
      "32580it [07:25, 73.13it/s]\n",
      "4it [00:00,  5.84it/s]"
     ]
    },
    {
     "name": "stdout",
     "output_type": "stream",
     "text": [
      "| epoch   3 |     0/32580 batches | loss    1.286 \n",
      "money: so, them, if, rather, fact, taken, others, well, seen, need\n",
      "lion: race, real, programming, participated, favor, accordance, magnetic, ocean, prince, wales\n",
      "africa: europe, india, america, south, kingdom, australia, united, asia, england, nine\n",
      "musician: actor, actress, singer, writer, author, nine, born, composer, poet, politician\n",
      "dance: music, modern, art, traditional, classical, concept, whole, study, early, addition\n",
      "\n",
      "\n"
     ]
    },
    {
     "name": "stderr",
     "output_type": "stream",
     "text": [
      "500it [00:07, 76.81it/s]"
     ]
    },
    {
     "name": "stdout",
     "output_type": "stream",
     "text": [
      "| epoch   3 |   500/32580 batches | loss    1.331 \n",
      "money: so, them, if, rather, fact, taken, others, well, seen, need\n",
      "lion: race, real, programming, participated, favor, accordance, magnetic, ocean, prince, wales\n",
      "africa: europe, india, america, south, kingdom, australia, united, asia, england, nine\n",
      "musician: actor, actress, singer, writer, author, nine, born, composer, poet, politician\n",
      "dance: music, modern, art, traditional, classical, concept, whole, study, early, addition\n",
      "\n",
      "\n"
     ]
    },
    {
     "name": "stderr",
     "output_type": "stream",
     "text": [
      "1004it [00:14, 61.75it/s]"
     ]
    },
    {
     "name": "stdout",
     "output_type": "stream",
     "text": [
      "| epoch   3 |  1000/32580 batches | loss    1.332 \n",
      "money: so, them, if, rather, fact, taken, others, well, seen, need\n",
      "lion: race, real, programming, participated, favor, accordance, magnetic, ocean, prince, wales\n",
      "africa: europe, india, america, south, kingdom, australia, united, asia, england, nine\n",
      "musician: actor, actress, singer, writer, author, nine, born, composer, poet, politician\n",
      "dance: music, modern, art, traditional, classical, concept, whole, study, early, addition\n",
      "\n",
      "\n"
     ]
    },
    {
     "name": "stderr",
     "output_type": "stream",
     "text": [
      "1508it [00:22, 61.19it/s]"
     ]
    },
    {
     "name": "stdout",
     "output_type": "stream",
     "text": [
      "| epoch   3 |  1500/32580 batches | loss    1.335 \n",
      "money: so, them, if, rather, fact, taken, others, well, seen, need\n",
      "lion: race, real, programming, participated, favor, accordance, magnetic, ocean, prince, wales\n",
      "africa: europe, india, america, south, kingdom, australia, united, asia, england, nine\n",
      "musician: actor, actress, singer, writer, author, nine, born, composer, poet, politician\n",
      "dance: music, modern, art, traditional, classical, concept, whole, study, early, addition\n",
      "\n",
      "\n"
     ]
    },
    {
     "name": "stderr",
     "output_type": "stream",
     "text": [
      "2004it [00:28, 60.73it/s]"
     ]
    },
    {
     "name": "stdout",
     "output_type": "stream",
     "text": [
      "| epoch   3 |  2000/32580 batches | loss    1.335 \n",
      "money: so, them, if, rather, fact, taken, others, well, seen, need\n",
      "lion: race, real, programming, participated, favor, accordance, magnetic, ocean, prince, wales\n",
      "africa: europe, india, america, south, kingdom, australia, united, asia, england, nine\n",
      "musician: actor, actress, singer, writer, author, nine, born, composer, poet, politician\n",
      "dance: music, modern, art, traditional, classical, concept, whole, study, early, addition\n",
      "\n",
      "\n"
     ]
    },
    {
     "name": "stderr",
     "output_type": "stream",
     "text": [
      "2507it [00:35, 60.86it/s]"
     ]
    },
    {
     "name": "stdout",
     "output_type": "stream",
     "text": [
      "| epoch   3 |  2500/32580 batches | loss    1.334 \n",
      "money: so, them, if, rather, fact, taken, others, well, seen, need\n",
      "lion: race, real, programming, participated, favor, accordance, magnetic, ocean, prince, wales\n",
      "africa: europe, india, america, south, kingdom, australia, united, asia, england, nine\n",
      "musician: actor, actress, singer, writer, author, nine, born, composer, poet, politician\n",
      "dance: music, modern, art, traditional, classical, concept, whole, study, early, addition\n",
      "\n",
      "\n"
     ]
    },
    {
     "name": "stderr",
     "output_type": "stream",
     "text": [
      "3003it [00:42, 60.51it/s]"
     ]
    },
    {
     "name": "stdout",
     "output_type": "stream",
     "text": [
      "| epoch   3 |  3000/32580 batches | loss    1.332 \n",
      "money: so, them, if, rather, fact, taken, others, well, seen, need\n",
      "lion: race, real, programming, participated, favor, accordance, magnetic, ocean, prince, wales\n",
      "africa: europe, india, america, south, kingdom, australia, united, asia, england, nine\n",
      "musician: actor, actress, singer, writer, author, nine, born, composer, poet, politician\n",
      "dance: music, modern, art, traditional, classical, concept, whole, study, early, addition\n",
      "\n",
      "\n"
     ]
    },
    {
     "name": "stderr",
     "output_type": "stream",
     "text": [
      "3507it [00:48, 60.84it/s]"
     ]
    },
    {
     "name": "stdout",
     "output_type": "stream",
     "text": [
      "| epoch   3 |  3500/32580 batches | loss    1.332 \n",
      "money: so, them, if, rather, fact, taken, others, well, seen, need\n",
      "lion: race, real, programming, participated, favor, accordance, magnetic, ocean, prince, wales\n",
      "africa: europe, india, america, south, kingdom, australia, united, asia, england, nine\n",
      "musician: actor, actress, singer, writer, author, nine, born, composer, poet, politician\n",
      "dance: music, modern, art, traditional, classical, concept, whole, study, early, addition\n",
      "\n",
      "\n"
     ]
    },
    {
     "name": "stderr",
     "output_type": "stream",
     "text": [
      "4003it [00:55, 61.16it/s]"
     ]
    },
    {
     "name": "stdout",
     "output_type": "stream",
     "text": [
      "| epoch   3 |  4000/32580 batches | loss    1.338 \n",
      "money: so, them, if, rather, fact, taken, others, well, seen, need\n",
      "lion: race, real, programming, participated, favor, accordance, magnetic, ocean, prince, wales\n",
      "africa: europe, india, america, south, kingdom, australia, united, asia, england, nine\n",
      "musician: actor, actress, singer, writer, author, nine, born, composer, poet, politician\n",
      "dance: music, modern, art, traditional, classical, concept, whole, study, early, addition\n",
      "\n",
      "\n"
     ]
    },
    {
     "name": "stderr",
     "output_type": "stream",
     "text": [
      "4507it [01:02, 60.92it/s]"
     ]
    },
    {
     "name": "stdout",
     "output_type": "stream",
     "text": [
      "| epoch   3 |  4500/32580 batches | loss    1.328 \n",
      "money: so, them, if, rather, fact, taken, others, well, seen, need\n",
      "lion: race, real, programming, participated, favor, accordance, magnetic, ocean, prince, wales\n",
      "africa: europe, india, america, south, kingdom, australia, united, asia, england, nine\n",
      "musician: actor, actress, singer, writer, author, nine, born, composer, poet, politician\n",
      "dance: music, modern, art, traditional, classical, concept, whole, study, early, addition\n",
      "\n",
      "\n"
     ]
    },
    {
     "name": "stderr",
     "output_type": "stream",
     "text": [
      "5003it [01:08, 61.42it/s]"
     ]
    },
    {
     "name": "stdout",
     "output_type": "stream",
     "text": [
      "| epoch   3 |  5000/32580 batches | loss    1.330 \n",
      "money: so, them, if, rather, fact, taken, others, well, seen, need\n",
      "lion: race, real, programming, participated, favor, accordance, magnetic, ocean, prince, wales\n",
      "africa: europe, india, america, south, kingdom, australia, united, asia, england, nine\n",
      "musician: actor, actress, singer, writer, author, nine, born, composer, poet, politician\n",
      "dance: music, modern, art, traditional, classical, concept, whole, study, early, addition\n",
      "\n",
      "\n"
     ]
    },
    {
     "name": "stderr",
     "output_type": "stream",
     "text": [
      "5507it [01:15, 59.25it/s]"
     ]
    },
    {
     "name": "stdout",
     "output_type": "stream",
     "text": [
      "| epoch   3 |  5500/32580 batches | loss    1.328 \n",
      "money: so, them, if, rather, fact, taken, others, well, seen, need\n",
      "lion: race, real, programming, participated, favor, accordance, magnetic, ocean, prince, wales\n",
      "africa: europe, india, america, south, kingdom, australia, united, asia, england, nine\n",
      "musician: actor, actress, singer, writer, author, nine, born, composer, poet, politician\n",
      "dance: music, modern, art, traditional, classical, concept, whole, study, early, addition\n",
      "\n",
      "\n"
     ]
    },
    {
     "name": "stderr",
     "output_type": "stream",
     "text": [
      "6009it [01:22, 63.64it/s]"
     ]
    },
    {
     "name": "stdout",
     "output_type": "stream",
     "text": [
      "| epoch   3 |  6000/32580 batches | loss    1.333 \n",
      "money: so, them, if, rather, fact, taken, others, well, seen, need\n",
      "lion: race, real, programming, participated, favor, accordance, magnetic, ocean, prince, wales\n",
      "africa: europe, india, america, south, kingdom, australia, united, asia, england, nine\n",
      "musician: actor, actress, singer, writer, author, nine, born, composer, poet, politician\n",
      "dance: music, modern, art, traditional, classical, concept, whole, study, early, addition\n",
      "\n",
      "\n"
     ]
    },
    {
     "name": "stderr",
     "output_type": "stream",
     "text": [
      "6505it [01:28, 59.65it/s]"
     ]
    },
    {
     "name": "stdout",
     "output_type": "stream",
     "text": [
      "| epoch   3 |  6500/32580 batches | loss    1.335 \n",
      "money: so, them, if, rather, fact, taken, others, well, seen, need\n",
      "lion: race, real, programming, participated, favor, accordance, magnetic, ocean, prince, wales\n",
      "africa: europe, india, america, south, kingdom, australia, united, asia, england, nine\n",
      "musician: actor, actress, singer, writer, author, nine, born, composer, poet, politician\n",
      "dance: music, modern, art, traditional, classical, concept, whole, study, early, addition\n",
      "\n",
      "\n"
     ]
    },
    {
     "name": "stderr",
     "output_type": "stream",
     "text": [
      "7008it [01:35, 59.49it/s]"
     ]
    },
    {
     "name": "stdout",
     "output_type": "stream",
     "text": [
      "| epoch   3 |  7000/32580 batches | loss    1.334 \n",
      "money: so, them, if, rather, fact, taken, others, well, seen, need\n",
      "lion: race, real, programming, participated, favor, accordance, magnetic, ocean, prince, wales\n",
      "africa: europe, india, america, south, kingdom, australia, united, asia, england, nine\n",
      "musician: actor, actress, singer, writer, author, nine, born, composer, poet, politician\n",
      "dance: music, modern, art, traditional, classical, concept, whole, study, early, addition\n",
      "\n",
      "\n"
     ]
    },
    {
     "name": "stderr",
     "output_type": "stream",
     "text": [
      "7504it [01:42, 59.49it/s]"
     ]
    },
    {
     "name": "stdout",
     "output_type": "stream",
     "text": [
      "| epoch   3 |  7500/32580 batches | loss    1.332 \n",
      "money: so, them, if, rather, fact, taken, others, well, seen, need\n",
      "lion: race, real, programming, participated, favor, accordance, magnetic, ocean, prince, wales\n",
      "africa: europe, india, america, south, kingdom, australia, united, asia, england, nine\n",
      "musician: actor, actress, singer, writer, author, nine, born, composer, poet, politician\n",
      "dance: music, modern, art, traditional, classical, concept, whole, study, early, addition\n",
      "\n",
      "\n"
     ]
    },
    {
     "name": "stderr",
     "output_type": "stream",
     "text": [
      "8008it [01:49, 60.84it/s]"
     ]
    },
    {
     "name": "stdout",
     "output_type": "stream",
     "text": [
      "| epoch   3 |  8000/32580 batches | loss    1.332 \n",
      "money: so, them, if, rather, fact, taken, others, well, seen, need\n",
      "lion: race, real, programming, favor, participated, accordance, magnetic, ocean, prince, wales\n",
      "africa: europe, india, america, south, kingdom, australia, united, asia, england, nine\n",
      "musician: actor, actress, singer, writer, author, nine, born, composer, poet, politician\n",
      "dance: music, modern, art, traditional, classical, concept, whole, study, early, addition\n",
      "\n",
      "\n"
     ]
    },
    {
     "name": "stderr",
     "output_type": "stream",
     "text": [
      "8504it [01:55, 58.15it/s]"
     ]
    },
    {
     "name": "stdout",
     "output_type": "stream",
     "text": [
      "| epoch   3 |  8500/32580 batches | loss    1.333 \n",
      "money: so, them, if, rather, fact, taken, others, well, seen, need\n",
      "lion: race, real, programming, favor, participated, accordance, magnetic, ocean, prince, wales\n",
      "africa: europe, india, america, south, kingdom, australia, united, asia, england, nine\n",
      "musician: actor, actress, singer, writer, author, nine, born, composer, poet, politician\n",
      "dance: music, modern, art, traditional, classical, concept, whole, study, early, addition\n",
      "\n",
      "\n"
     ]
    },
    {
     "name": "stderr",
     "output_type": "stream",
     "text": [
      "9008it [02:02, 60.85it/s]"
     ]
    },
    {
     "name": "stdout",
     "output_type": "stream",
     "text": [
      "| epoch   3 |  9000/32580 batches | loss    1.331 \n",
      "money: so, them, if, rather, fact, taken, others, well, seen, need\n",
      "lion: race, real, programming, favor, participated, accordance, magnetic, ocean, prince, wales\n",
      "africa: europe, india, america, south, kingdom, australia, united, asia, england, nine\n",
      "musician: actor, actress, singer, writer, author, nine, born, composer, poet, politician\n",
      "dance: music, modern, art, traditional, classical, concept, whole, study, early, addition\n",
      "\n",
      "\n"
     ]
    },
    {
     "name": "stderr",
     "output_type": "stream",
     "text": [
      "9504it [02:09, 61.04it/s]"
     ]
    },
    {
     "name": "stdout",
     "output_type": "stream",
     "text": [
      "| epoch   3 |  9500/32580 batches | loss    1.333 \n",
      "money: so, them, if, rather, fact, taken, others, well, seen, need\n",
      "lion: race, real, programming, favor, participated, accordance, magnetic, ocean, prince, wales\n",
      "africa: europe, india, america, south, kingdom, australia, united, asia, england, nine\n",
      "musician: actor, actress, singer, writer, author, nine, born, composer, poet, politician\n",
      "dance: music, modern, art, traditional, classical, concept, whole, study, early, addition\n",
      "\n",
      "\n"
     ]
    },
    {
     "name": "stderr",
     "output_type": "stream",
     "text": [
      "10008it [02:15, 58.59it/s]"
     ]
    },
    {
     "name": "stdout",
     "output_type": "stream",
     "text": [
      "| epoch   3 | 10000/32580 batches | loss    1.333 \n",
      "money: so, them, if, rather, fact, taken, others, well, seen, need\n",
      "lion: race, real, programming, favor, participated, accordance, magnetic, ocean, prince, wales\n",
      "africa: europe, india, america, south, kingdom, australia, united, asia, england, nine\n",
      "musician: actor, actress, singer, writer, author, nine, born, composer, poet, politician\n",
      "dance: music, modern, art, traditional, classical, concept, whole, study, early, addition\n",
      "\n",
      "\n"
     ]
    },
    {
     "name": "stderr",
     "output_type": "stream",
     "text": [
      "10503it [02:22, 60.91it/s]"
     ]
    },
    {
     "name": "stdout",
     "output_type": "stream",
     "text": [
      "| epoch   3 | 10500/32580 batches | loss    1.334 \n",
      "money: so, them, if, rather, fact, taken, others, well, seen, need\n",
      "lion: race, real, programming, favor, participated, accordance, magnetic, ocean, prince, wales\n",
      "africa: europe, india, america, south, kingdom, australia, united, asia, england, nine\n",
      "musician: actor, actress, singer, writer, author, nine, born, composer, poet, politician\n",
      "dance: music, modern, art, traditional, classical, concept, whole, study, early, addition\n",
      "\n",
      "\n"
     ]
    },
    {
     "name": "stderr",
     "output_type": "stream",
     "text": [
      "10999it [02:29, 71.01it/s]"
     ]
    },
    {
     "name": "stdout",
     "output_type": "stream",
     "text": [
      "| epoch   3 | 11000/32580 batches | loss    1.333 \n",
      "money: so, them, if, rather, fact, taken, others, well, seen, need\n",
      "lion: race, real, programming, favor, participated, accordance, magnetic, ocean, prince, wales\n",
      "africa: europe, india, america, south, kingdom, australia, united, asia, england, nine\n",
      "musician: actor, actress, singer, writer, author, nine, born, composer, poet, politician\n",
      "dance: music, modern, art, traditional, classical, concept, whole, study, early, addition\n",
      "\n",
      "\n"
     ]
    },
    {
     "name": "stderr",
     "output_type": "stream",
     "text": [
      "11500it [02:36, 74.15it/s]"
     ]
    },
    {
     "name": "stdout",
     "output_type": "stream",
     "text": [
      "| epoch   3 | 11500/32580 batches | loss    1.330 \n",
      "money: so, them, if, rather, fact, taken, others, well, seen, need\n",
      "lion: race, real, programming, favor, participated, accordance, magnetic, ocean, prince, wales\n",
      "africa: europe, india, america, south, kingdom, australia, united, asia, england, nine\n",
      "musician: actor, actress, singer, writer, author, nine, born, composer, poet, politician\n",
      "dance: music, modern, art, traditional, classical, concept, whole, study, early, addition\n",
      "\n",
      "\n"
     ]
    },
    {
     "name": "stderr",
     "output_type": "stream",
     "text": [
      "12003it [02:43, 59.47it/s]"
     ]
    },
    {
     "name": "stdout",
     "output_type": "stream",
     "text": [
      "| epoch   3 | 12000/32580 batches | loss    1.335 \n",
      "money: so, them, if, rather, fact, taken, others, well, seen, need\n",
      "lion: race, real, programming, favor, participated, accordance, magnetic, ocean, prince, wales\n",
      "africa: europe, india, america, south, kingdom, australia, united, asia, england, nine\n",
      "musician: actor, actress, singer, writer, author, nine, born, composer, poet, politician\n",
      "dance: music, modern, art, traditional, classical, concept, whole, study, early, addition\n",
      "\n",
      "\n"
     ]
    },
    {
     "name": "stderr",
     "output_type": "stream",
     "text": [
      "12506it [02:50, 61.04it/s]"
     ]
    },
    {
     "name": "stdout",
     "output_type": "stream",
     "text": [
      "| epoch   3 | 12500/32580 batches | loss    1.336 \n",
      "money: so, them, if, rather, fact, taken, others, well, seen, need\n",
      "lion: race, real, programming, favor, participated, accordance, magnetic, ocean, prince, wales\n",
      "africa: europe, india, america, south, kingdom, australia, united, asia, england, nine\n",
      "musician: actor, actress, singer, writer, author, nine, born, composer, poet, politician\n",
      "dance: music, modern, art, traditional, classical, concept, whole, study, early, addition\n",
      "\n",
      "\n"
     ]
    },
    {
     "name": "stderr",
     "output_type": "stream",
     "text": [
      "13009it [02:56, 62.99it/s]"
     ]
    },
    {
     "name": "stdout",
     "output_type": "stream",
     "text": [
      "| epoch   3 | 13000/32580 batches | loss    1.332 \n",
      "money: so, them, if, rather, fact, taken, others, well, seen, need\n",
      "lion: race, real, programming, favor, participated, accordance, magnetic, ocean, prince, wales\n",
      "africa: europe, india, america, south, kingdom, australia, united, asia, england, nine\n",
      "musician: actor, actress, singer, writer, author, nine, born, composer, poet, politician\n",
      "dance: music, modern, art, traditional, classical, concept, whole, study, early, addition\n",
      "\n",
      "\n"
     ]
    },
    {
     "name": "stderr",
     "output_type": "stream",
     "text": [
      "13508it [03:05, 62.15it/s]"
     ]
    },
    {
     "name": "stdout",
     "output_type": "stream",
     "text": [
      "| epoch   3 | 13500/32580 batches | loss    1.327 \n",
      "money: so, them, if, rather, fact, taken, others, well, seen, need\n",
      "lion: race, real, programming, favor, participated, accordance, magnetic, ocean, prince, wales\n",
      "africa: europe, india, america, south, kingdom, australia, united, asia, england, nine\n",
      "musician: actor, actress, singer, writer, author, nine, born, composer, poet, politician\n",
      "dance: music, modern, art, traditional, classical, concept, whole, study, early, addition\n",
      "\n",
      "\n"
     ]
    },
    {
     "name": "stderr",
     "output_type": "stream",
     "text": [
      "14003it [03:12, 56.61it/s]"
     ]
    },
    {
     "name": "stdout",
     "output_type": "stream",
     "text": [
      "| epoch   3 | 14000/32580 batches | loss    1.333 \n",
      "money: so, them, if, rather, fact, taken, others, well, seen, need\n",
      "lion: race, real, programming, favor, participated, accordance, magnetic, ocean, prince, wales\n",
      "africa: europe, india, america, south, kingdom, australia, united, asia, england, nine\n",
      "musician: actor, actress, singer, writer, author, nine, born, composer, poet, politician\n",
      "dance: music, modern, art, traditional, classical, concept, whole, study, early, addition\n",
      "\n",
      "\n"
     ]
    },
    {
     "name": "stderr",
     "output_type": "stream",
     "text": [
      "14505it [03:18, 61.46it/s]"
     ]
    },
    {
     "name": "stdout",
     "output_type": "stream",
     "text": [
      "| epoch   3 | 14500/32580 batches | loss    1.334 \n",
      "money: so, them, if, rather, fact, taken, others, well, seen, need\n",
      "lion: race, real, programming, favor, participated, accordance, magnetic, ocean, prince, wales\n",
      "africa: europe, india, america, south, kingdom, australia, united, asia, england, nine\n",
      "musician: actor, actress, singer, writer, author, nine, born, composer, poet, politician\n",
      "dance: music, modern, art, traditional, classical, concept, whole, study, early, addition\n",
      "\n",
      "\n"
     ]
    },
    {
     "name": "stderr",
     "output_type": "stream",
     "text": [
      "15008it [03:25, 63.82it/s]"
     ]
    },
    {
     "name": "stdout",
     "output_type": "stream",
     "text": [
      "| epoch   3 | 15000/32580 batches | loss    1.335 \n",
      "money: so, them, if, rather, fact, taken, others, well, seen, need\n",
      "lion: race, real, programming, favor, participated, accordance, magnetic, ocean, prince, wales\n",
      "africa: europe, india, america, south, kingdom, australia, united, asia, england, nine\n",
      "musician: actor, actress, singer, writer, author, nine, born, composer, poet, politician\n",
      "dance: music, modern, art, traditional, classical, concept, whole, study, early, addition\n",
      "\n",
      "\n"
     ]
    },
    {
     "name": "stderr",
     "output_type": "stream",
     "text": [
      "15504it [03:32, 60.97it/s]"
     ]
    },
    {
     "name": "stdout",
     "output_type": "stream",
     "text": [
      "| epoch   3 | 15500/32580 batches | loss    1.333 \n",
      "money: so, them, if, rather, fact, taken, others, well, seen, need\n",
      "lion: race, real, programming, favor, participated, accordance, magnetic, ocean, prince, wales\n",
      "africa: europe, india, america, south, kingdom, australia, united, asia, england, nine\n",
      "musician: actor, actress, singer, writer, author, nine, born, composer, poet, politician\n",
      "dance: music, modern, art, traditional, classical, concept, whole, study, early, addition\n",
      "\n",
      "\n"
     ]
    },
    {
     "name": "stderr",
     "output_type": "stream",
     "text": [
      "16000it [03:38, 74.06it/s]"
     ]
    },
    {
     "name": "stdout",
     "output_type": "stream",
     "text": [
      "| epoch   3 | 16000/32580 batches | loss    1.333 \n",
      "money: so, them, if, rather, fact, taken, others, well, seen, need\n",
      "lion: race, real, programming, favor, participated, accordance, magnetic, ocean, prince, wales\n",
      "africa: europe, india, america, south, kingdom, australia, united, asia, england, nine\n",
      "musician: actor, actress, singer, writer, author, nine, born, composer, poet, politician\n",
      "dance: music, modern, art, traditional, classical, concept, whole, study, early, addition\n",
      "\n",
      "\n"
     ]
    },
    {
     "name": "stderr",
     "output_type": "stream",
     "text": [
      "16504it [03:45, 60.64it/s]"
     ]
    },
    {
     "name": "stdout",
     "output_type": "stream",
     "text": [
      "| epoch   3 | 16500/32580 batches | loss    1.333 \n",
      "money: so, them, if, rather, fact, taken, others, well, seen, need\n",
      "lion: race, real, programming, favor, participated, accordance, magnetic, ocean, prince, wales\n",
      "africa: europe, india, america, south, kingdom, australia, united, asia, england, nine\n",
      "musician: actor, actress, singer, writer, author, nine, born, composer, poet, politician\n",
      "dance: music, modern, art, traditional, classical, concept, whole, study, early, addition\n",
      "\n",
      "\n"
     ]
    },
    {
     "name": "stderr",
     "output_type": "stream",
     "text": [
      "17007it [03:52, 60.27it/s]"
     ]
    },
    {
     "name": "stdout",
     "output_type": "stream",
     "text": [
      "| epoch   3 | 17000/32580 batches | loss    1.333 \n",
      "money: so, them, if, rather, fact, taken, others, well, seen, need\n",
      "lion: race, real, programming, favor, participated, accordance, magnetic, ocean, prince, wales\n",
      "africa: europe, india, america, south, kingdom, australia, united, asia, england, nine\n",
      "musician: actor, actress, singer, writer, author, nine, born, composer, poet, politician\n",
      "dance: music, modern, art, traditional, classical, concept, whole, study, early, addition\n",
      "\n",
      "\n"
     ]
    },
    {
     "name": "stderr",
     "output_type": "stream",
     "text": [
      "17510it [03:58, 62.36it/s]"
     ]
    },
    {
     "name": "stdout",
     "output_type": "stream",
     "text": [
      "| epoch   3 | 17500/32580 batches | loss    1.333 \n",
      "money: so, them, if, rather, fact, taken, others, well, seen, need\n",
      "lion: race, real, programming, favor, participated, accordance, magnetic, ocean, prince, wales\n",
      "africa: europe, india, america, south, kingdom, australia, united, asia, england, nine\n",
      "musician: actor, actress, singer, writer, author, nine, born, composer, poet, politician\n",
      "dance: music, modern, art, traditional, classical, concept, whole, study, early, addition\n",
      "\n",
      "\n"
     ]
    },
    {
     "name": "stderr",
     "output_type": "stream",
     "text": [
      "18005it [04:05, 61.25it/s]"
     ]
    },
    {
     "name": "stdout",
     "output_type": "stream",
     "text": [
      "| epoch   3 | 18000/32580 batches | loss    1.333 \n",
      "money: so, them, if, rather, fact, taken, others, well, seen, need\n",
      "lion: race, real, programming, favor, participated, accordance, magnetic, ocean, prince, wales\n",
      "africa: europe, india, america, south, kingdom, australia, united, asia, england, nine\n",
      "musician: actor, actress, singer, writer, author, nine, born, composer, poet, politician\n",
      "dance: music, modern, art, traditional, classical, concept, whole, study, early, addition\n",
      "\n",
      "\n"
     ]
    },
    {
     "name": "stderr",
     "output_type": "stream",
     "text": [
      "18500it [04:12, 76.31it/s]"
     ]
    },
    {
     "name": "stdout",
     "output_type": "stream",
     "text": [
      "| epoch   3 | 18500/32580 batches | loss    1.336 \n",
      "money: so, them, if, rather, fact, taken, others, well, seen, need\n",
      "lion: race, real, programming, favor, participated, accordance, magnetic, ocean, prince, wales\n",
      "africa: europe, india, america, south, kingdom, australia, united, asia, england, nine\n",
      "musician: actor, actress, singer, writer, author, nine, born, composer, poet, politician\n",
      "dance: music, modern, art, traditional, classical, concept, whole, study, early, addition\n",
      "\n",
      "\n"
     ]
    },
    {
     "name": "stderr",
     "output_type": "stream",
     "text": [
      "19003it [04:19, 61.95it/s]"
     ]
    },
    {
     "name": "stdout",
     "output_type": "stream",
     "text": [
      "| epoch   3 | 19000/32580 batches | loss    1.332 \n",
      "money: so, them, if, rather, fact, taken, others, well, seen, need\n",
      "lion: race, real, programming, favor, participated, accordance, magnetic, ocean, prince, wales\n",
      "africa: europe, india, america, south, kingdom, australia, united, asia, england, nine\n",
      "musician: actor, actress, singer, writer, author, nine, born, composer, poet, politician\n",
      "dance: music, modern, art, traditional, classical, concept, whole, study, early, addition\n",
      "\n",
      "\n"
     ]
    },
    {
     "name": "stderr",
     "output_type": "stream",
     "text": [
      "19507it [04:25, 59.99it/s]"
     ]
    },
    {
     "name": "stdout",
     "output_type": "stream",
     "text": [
      "| epoch   3 | 19500/32580 batches | loss    1.331 \n",
      "money: so, them, if, rather, fact, taken, others, well, seen, need\n",
      "lion: race, real, programming, favor, participated, accordance, magnetic, ocean, prince, wales\n",
      "africa: europe, india, america, south, kingdom, australia, united, asia, england, nine\n",
      "musician: actor, actress, singer, writer, author, nine, born, composer, poet, politician\n",
      "dance: music, modern, art, traditional, classical, concept, whole, study, early, addition\n",
      "\n",
      "\n"
     ]
    },
    {
     "name": "stderr",
     "output_type": "stream",
     "text": [
      "20009it [04:32, 63.11it/s]"
     ]
    },
    {
     "name": "stdout",
     "output_type": "stream",
     "text": [
      "| epoch   3 | 20000/32580 batches | loss    1.335 \n",
      "money: so, them, if, rather, fact, taken, others, well, seen, need\n",
      "lion: race, real, programming, favor, participated, accordance, magnetic, ocean, prince, wales\n",
      "africa: europe, india, america, south, kingdom, australia, united, asia, england, nine\n",
      "musician: actor, actress, singer, writer, author, nine, born, composer, poet, politician\n",
      "dance: music, modern, art, traditional, classical, concept, whole, study, early, addition\n",
      "\n",
      "\n"
     ]
    },
    {
     "name": "stderr",
     "output_type": "stream",
     "text": [
      "20505it [04:39, 61.49it/s]"
     ]
    },
    {
     "name": "stdout",
     "output_type": "stream",
     "text": [
      "| epoch   3 | 20500/32580 batches | loss    1.334 \n",
      "money: so, them, if, rather, fact, taken, others, well, seen, need\n",
      "lion: race, real, programming, favor, participated, accordance, magnetic, ocean, prince, wales\n",
      "africa: europe, india, america, south, kingdom, australia, united, asia, england, nine\n",
      "musician: actor, actress, singer, writer, author, nine, born, composer, poet, politician\n",
      "dance: music, modern, art, traditional, classical, concept, whole, study, early, addition\n",
      "\n",
      "\n"
     ]
    },
    {
     "name": "stderr",
     "output_type": "stream",
     "text": [
      "21008it [04:45, 63.75it/s]"
     ]
    },
    {
     "name": "stdout",
     "output_type": "stream",
     "text": [
      "| epoch   3 | 21000/32580 batches | loss    1.333 \n",
      "money: so, them, if, rather, fact, taken, others, well, seen, need\n",
      "lion: race, real, programming, favor, participated, accordance, magnetic, ocean, prince, wales\n",
      "africa: europe, india, america, south, kingdom, australia, united, asia, england, nine\n",
      "musician: actor, actress, singer, writer, author, nine, born, composer, poet, politician\n",
      "dance: music, modern, art, traditional, classical, concept, whole, study, early, addition\n",
      "\n",
      "\n"
     ]
    },
    {
     "name": "stderr",
     "output_type": "stream",
     "text": [
      "21504it [04:52, 60.67it/s]"
     ]
    },
    {
     "name": "stdout",
     "output_type": "stream",
     "text": [
      "| epoch   3 | 21500/32580 batches | loss    1.333 \n",
      "money: so, them, if, rather, fact, taken, others, well, seen, need\n",
      "lion: race, real, programming, favor, participated, accordance, magnetic, ocean, prince, wales\n",
      "africa: europe, india, america, south, kingdom, australia, united, asia, england, nine\n",
      "musician: actor, actress, singer, writer, author, nine, born, composer, poet, politician\n",
      "dance: music, modern, art, traditional, classical, concept, whole, study, early, addition\n",
      "\n",
      "\n"
     ]
    },
    {
     "name": "stderr",
     "output_type": "stream",
     "text": [
      "22007it [04:59, 58.56it/s]"
     ]
    },
    {
     "name": "stdout",
     "output_type": "stream",
     "text": [
      "| epoch   3 | 22000/32580 batches | loss    1.333 \n",
      "money: so, them, if, rather, fact, taken, others, well, seen, need\n",
      "lion: race, real, programming, favor, participated, accordance, magnetic, ocean, prince, wales\n",
      "africa: europe, india, america, south, kingdom, australia, united, asia, england, nine\n",
      "musician: actor, actress, singer, writer, author, nine, born, composer, poet, politician\n",
      "dance: music, modern, art, traditional, classical, concept, whole, study, early, addition\n",
      "\n",
      "\n"
     ]
    },
    {
     "name": "stderr",
     "output_type": "stream",
     "text": [
      "22501it [05:06, 61.81it/s]"
     ]
    },
    {
     "name": "stdout",
     "output_type": "stream",
     "text": [
      "| epoch   3 | 22500/32580 batches | loss    1.333 \n",
      "money: so, them, if, rather, fact, taken, others, well, seen, need\n",
      "lion: race, real, programming, favor, participated, accordance, magnetic, ocean, prince, wales\n",
      "africa: europe, india, america, south, kingdom, australia, united, asia, england, nine\n",
      "musician: actor, actress, singer, writer, author, nine, born, composer, poet, politician\n",
      "dance: music, modern, art, traditional, classical, concept, whole, study, early, addition\n",
      "\n",
      "\n"
     ]
    },
    {
     "name": "stderr",
     "output_type": "stream",
     "text": [
      "23005it [05:12, 60.85it/s]"
     ]
    },
    {
     "name": "stdout",
     "output_type": "stream",
     "text": [
      "| epoch   3 | 23000/32580 batches | loss    1.334 \n",
      "money: so, them, if, rather, fact, taken, others, well, seen, need\n",
      "lion: race, real, programming, favor, participated, accordance, magnetic, ocean, prince, wales\n",
      "africa: europe, india, america, south, kingdom, australia, united, asia, england, nine\n",
      "musician: actor, actress, singer, writer, author, nine, born, composer, poet, politician\n",
      "dance: music, modern, art, traditional, classical, concept, whole, study, early, addition\n",
      "\n",
      "\n"
     ]
    },
    {
     "name": "stderr",
     "output_type": "stream",
     "text": [
      "23509it [05:19, 63.98it/s]"
     ]
    },
    {
     "name": "stdout",
     "output_type": "stream",
     "text": [
      "| epoch   3 | 23500/32580 batches | loss    1.328 \n",
      "money: so, them, if, rather, fact, taken, others, well, seen, need\n",
      "lion: race, real, programming, favor, participated, accordance, magnetic, ocean, prince, wales\n",
      "africa: europe, india, america, south, kingdom, australia, united, asia, england, nine\n",
      "musician: actor, actress, singer, writer, author, nine, born, composer, poet, politician\n",
      "dance: music, modern, art, traditional, classical, concept, whole, study, early, addition\n",
      "\n",
      "\n"
     ]
    },
    {
     "name": "stderr",
     "output_type": "stream",
     "text": [
      "24005it [05:26, 60.31it/s]"
     ]
    },
    {
     "name": "stdout",
     "output_type": "stream",
     "text": [
      "| epoch   3 | 24000/32580 batches | loss    1.335 \n",
      "money: so, them, if, rather, fact, taken, others, well, seen, need\n",
      "lion: race, real, programming, favor, participated, accordance, magnetic, ocean, prince, wales\n",
      "africa: europe, india, america, south, kingdom, australia, united, asia, england, nine\n",
      "musician: actor, actress, singer, writer, author, nine, born, composer, poet, politician\n",
      "dance: music, modern, art, traditional, classical, concept, whole, study, early, addition\n",
      "\n",
      "\n"
     ]
    },
    {
     "name": "stderr",
     "output_type": "stream",
     "text": [
      "24508it [05:32, 63.58it/s]"
     ]
    },
    {
     "name": "stdout",
     "output_type": "stream",
     "text": [
      "| epoch   3 | 24500/32580 batches | loss    1.333 \n",
      "money: so, them, if, rather, fact, taken, others, well, seen, need\n",
      "lion: race, real, programming, favor, participated, accordance, magnetic, ocean, prince, wales\n",
      "africa: europe, india, america, south, kingdom, australia, united, asia, england, nine\n",
      "musician: actor, actress, singer, writer, author, nine, born, composer, poet, politician\n",
      "dance: music, modern, art, traditional, classical, concept, whole, study, early, addition\n",
      "\n",
      "\n"
     ]
    },
    {
     "name": "stderr",
     "output_type": "stream",
     "text": [
      "25004it [05:39, 61.11it/s]"
     ]
    },
    {
     "name": "stdout",
     "output_type": "stream",
     "text": [
      "| epoch   3 | 25000/32580 batches | loss    1.334 \n",
      "money: so, them, if, rather, fact, taken, others, well, seen, need\n",
      "lion: race, real, programming, favor, participated, accordance, magnetic, ocean, prince, wales\n",
      "africa: europe, india, america, south, kingdom, australia, united, asia, england, nine\n",
      "musician: actor, actress, singer, writer, author, nine, born, composer, poet, politician\n",
      "dance: music, modern, art, traditional, classical, concept, whole, study, early, addition\n",
      "\n",
      "\n"
     ]
    },
    {
     "name": "stderr",
     "output_type": "stream",
     "text": [
      "25507it [05:46, 58.60it/s]"
     ]
    },
    {
     "name": "stdout",
     "output_type": "stream",
     "text": [
      "| epoch   3 | 25500/32580 batches | loss    1.332 \n",
      "money: so, them, if, rather, fact, taken, others, well, seen, need\n",
      "lion: race, real, programming, favor, participated, accordance, magnetic, ocean, prince, wales\n",
      "africa: europe, india, america, south, kingdom, australia, united, asia, england, nine\n",
      "musician: actor, actress, singer, writer, author, nine, born, composer, poet, politician\n",
      "dance: music, modern, art, traditional, classical, concept, whole, study, early, addition\n",
      "\n",
      "\n"
     ]
    },
    {
     "name": "stderr",
     "output_type": "stream",
     "text": [
      "26003it [05:53, 60.00it/s]"
     ]
    },
    {
     "name": "stdout",
     "output_type": "stream",
     "text": [
      "| epoch   3 | 26000/32580 batches | loss    1.331 \n",
      "money: so, them, if, rather, fact, taken, others, well, seen, need\n",
      "lion: race, real, programming, favor, participated, accordance, magnetic, ocean, prince, wales\n",
      "africa: europe, india, america, south, kingdom, australia, united, asia, england, nine\n",
      "musician: actor, actress, singer, writer, author, nine, born, composer, poet, politician\n",
      "dance: music, modern, art, traditional, classical, concept, whole, study, early, addition\n",
      "\n",
      "\n"
     ]
    },
    {
     "name": "stderr",
     "output_type": "stream",
     "text": [
      "26506it [06:00, 59.84it/s]"
     ]
    },
    {
     "name": "stdout",
     "output_type": "stream",
     "text": [
      "| epoch   3 | 26500/32580 batches | loss    1.332 \n",
      "money: so, them, if, rather, fact, taken, others, well, seen, need\n",
      "lion: race, real, programming, favor, participated, accordance, magnetic, ocean, prince, wales\n",
      "africa: europe, india, america, south, kingdom, australia, united, asia, england, nine\n",
      "musician: actor, actress, singer, writer, author, nine, born, composer, poet, politician\n",
      "dance: music, modern, art, traditional, classical, concept, whole, study, early, addition\n",
      "\n",
      "\n"
     ]
    },
    {
     "name": "stderr",
     "output_type": "stream",
     "text": [
      "27009it [06:06, 63.32it/s]"
     ]
    },
    {
     "name": "stdout",
     "output_type": "stream",
     "text": [
      "| epoch   3 | 27000/32580 batches | loss    1.335 \n",
      "money: so, them, if, rather, fact, taken, others, well, seen, need\n",
      "lion: race, real, programming, favor, participated, accordance, magnetic, ocean, prince, wales\n",
      "africa: europe, india, america, south, kingdom, australia, united, asia, england, nine\n",
      "musician: actor, actress, singer, writer, author, nine, born, composer, poet, politician\n",
      "dance: music, modern, art, traditional, classical, concept, whole, study, early, addition\n",
      "\n",
      "\n"
     ]
    },
    {
     "name": "stderr",
     "output_type": "stream",
     "text": [
      "27505it [06:13, 60.94it/s]"
     ]
    },
    {
     "name": "stdout",
     "output_type": "stream",
     "text": [
      "| epoch   3 | 27500/32580 batches | loss    1.328 \n",
      "money: so, them, if, rather, fact, taken, others, well, seen, need\n",
      "lion: race, real, programming, favor, participated, accordance, magnetic, ocean, prince, wales\n",
      "africa: europe, india, america, south, kingdom, australia, united, asia, england, nine\n",
      "musician: actor, actress, singer, writer, author, nine, born, composer, poet, politician\n",
      "dance: music, modern, art, traditional, classical, concept, whole, study, early, addition\n",
      "\n",
      "\n"
     ]
    },
    {
     "name": "stderr",
     "output_type": "stream",
     "text": [
      "28009it [06:20, 64.73it/s]"
     ]
    },
    {
     "name": "stdout",
     "output_type": "stream",
     "text": [
      "| epoch   3 | 28000/32580 batches | loss    1.333 \n",
      "money: so, them, if, rather, fact, taken, others, well, seen, need\n",
      "lion: race, real, programming, favor, participated, accordance, magnetic, ocean, prince, wales\n",
      "africa: europe, india, america, south, kingdom, australia, united, asia, england, nine\n",
      "musician: actor, actress, singer, writer, author, nine, born, composer, poet, politician\n",
      "dance: music, modern, art, traditional, classical, concept, whole, study, early, addition\n",
      "\n",
      "\n"
     ]
    },
    {
     "name": "stderr",
     "output_type": "stream",
     "text": [
      "28506it [06:27, 54.37it/s]"
     ]
    },
    {
     "name": "stdout",
     "output_type": "stream",
     "text": [
      "| epoch   3 | 28500/32580 batches | loss    1.332 \n",
      "money: so, them, if, rather, fact, taken, others, well, seen, need\n",
      "lion: race, real, programming, favor, participated, accordance, magnetic, ocean, prince, wales\n",
      "africa: europe, india, america, south, kingdom, australia, united, asia, england, nine\n",
      "musician: actor, actress, singer, writer, author, nine, born, composer, poet, politician\n",
      "dance: music, modern, art, traditional, classical, concept, whole, study, early, addition\n",
      "\n",
      "\n"
     ]
    },
    {
     "name": "stderr",
     "output_type": "stream",
     "text": [
      "29006it [06:33, 60.76it/s]"
     ]
    },
    {
     "name": "stdout",
     "output_type": "stream",
     "text": [
      "| epoch   3 | 29000/32580 batches | loss    1.334 \n",
      "money: so, them, if, rather, fact, taken, others, well, seen, need\n",
      "lion: race, real, programming, favor, participated, accordance, magnetic, ocean, prince, wales\n",
      "africa: europe, india, america, south, kingdom, australia, united, asia, england, nine\n",
      "musician: actor, actress, singer, writer, author, nine, born, composer, poet, politician\n",
      "dance: music, modern, art, traditional, classical, concept, whole, study, early, addition\n",
      "\n",
      "\n"
     ]
    },
    {
     "name": "stderr",
     "output_type": "stream",
     "text": [
      "29506it [06:40, 58.84it/s]"
     ]
    },
    {
     "name": "stdout",
     "output_type": "stream",
     "text": [
      "| epoch   3 | 29500/32580 batches | loss    1.334 \n",
      "money: so, them, if, rather, fact, taken, others, well, seen, need\n",
      "lion: race, real, programming, favor, participated, accordance, magnetic, ocean, prince, wales\n",
      "africa: europe, india, america, south, kingdom, australia, united, asia, england, nine\n",
      "musician: actor, actress, singer, writer, author, nine, born, composer, poet, politician\n",
      "dance: music, modern, art, traditional, classical, concept, whole, study, early, addition\n",
      "\n",
      "\n"
     ]
    },
    {
     "name": "stderr",
     "output_type": "stream",
     "text": [
      "30002it [06:47, 60.28it/s]"
     ]
    },
    {
     "name": "stdout",
     "output_type": "stream",
     "text": [
      "| epoch   3 | 30000/32580 batches | loss    1.335 \n",
      "money: so, them, if, rather, fact, taken, others, well, seen, need\n",
      "lion: race, real, programming, favor, participated, accordance, magnetic, ocean, prince, wales\n",
      "africa: europe, india, america, south, kingdom, australia, united, asia, england, nine\n",
      "musician: actor, actress, singer, writer, author, nine, born, composer, poet, politician\n",
      "dance: music, modern, art, traditional, classical, concept, whole, study, early, addition\n",
      "\n",
      "\n"
     ]
    },
    {
     "name": "stderr",
     "output_type": "stream",
     "text": [
      "30504it [06:54, 60.05it/s]"
     ]
    },
    {
     "name": "stdout",
     "output_type": "stream",
     "text": [
      "| epoch   3 | 30500/32580 batches | loss    1.333 \n",
      "money: so, them, if, rather, fact, taken, others, well, seen, need\n",
      "lion: race, real, programming, favor, participated, accordance, magnetic, ocean, prince, wales\n",
      "africa: europe, india, america, south, kingdom, australia, united, asia, england, nine\n",
      "musician: actor, actress, singer, writer, author, nine, born, composer, poet, politician\n",
      "dance: music, modern, art, traditional, classical, concept, whole, study, early, addition\n",
      "\n",
      "\n"
     ]
    },
    {
     "name": "stderr",
     "output_type": "stream",
     "text": [
      "31000it [07:01, 75.01it/s]"
     ]
    },
    {
     "name": "stdout",
     "output_type": "stream",
     "text": [
      "| epoch   3 | 31000/32580 batches | loss    1.334 \n",
      "money: so, them, if, rather, fact, taken, others, well, seen, need\n",
      "lion: race, real, programming, favor, participated, accordance, magnetic, ocean, prince, wales\n",
      "africa: europe, india, america, south, kingdom, australia, united, asia, england, nine\n",
      "musician: actor, actress, singer, writer, author, nine, born, composer, poet, politician\n",
      "dance: music, modern, art, traditional, classical, concept, whole, study, early, addition\n",
      "\n",
      "\n"
     ]
    },
    {
     "name": "stderr",
     "output_type": "stream",
     "text": [
      "31505it [07:08, 59.22it/s]"
     ]
    },
    {
     "name": "stdout",
     "output_type": "stream",
     "text": [
      "| epoch   3 | 31500/32580 batches | loss    1.329 \n",
      "money: so, them, if, rather, fact, taken, others, well, seen, need\n",
      "lion: race, real, programming, favor, participated, accordance, magnetic, ocean, prince, wales\n",
      "africa: europe, india, america, south, kingdom, australia, united, asia, england, nine\n",
      "musician: actor, actress, singer, writer, author, nine, born, composer, poet, politician\n",
      "dance: music, modern, art, traditional, classical, concept, whole, study, early, addition\n",
      "\n",
      "\n"
     ]
    },
    {
     "name": "stderr",
     "output_type": "stream",
     "text": [
      "32007it [07:15, 60.80it/s]"
     ]
    },
    {
     "name": "stdout",
     "output_type": "stream",
     "text": [
      "| epoch   3 | 32000/32580 batches | loss    1.331 \n",
      "money: so, them, if, rather, fact, taken, others, well, seen, need\n",
      "lion: race, real, programming, favor, participated, accordance, magnetic, ocean, prince, wales\n",
      "africa: europe, india, america, south, kingdom, australia, united, asia, england, nine\n",
      "musician: actor, actress, singer, writer, author, nine, born, composer, poet, politician\n",
      "dance: music, modern, art, traditional, classical, concept, whole, study, early, addition\n",
      "\n",
      "\n"
     ]
    },
    {
     "name": "stderr",
     "output_type": "stream",
     "text": [
      "32502it [07:22, 61.37it/s]"
     ]
    },
    {
     "name": "stdout",
     "output_type": "stream",
     "text": [
      "| epoch   3 | 32500/32580 batches | loss    1.333 \n",
      "money: so, them, if, rather, fact, taken, others, well, seen, need\n",
      "lion: race, real, programming, favor, participated, accordance, magnetic, ocean, prince, wales\n",
      "africa: europe, india, america, south, kingdom, australia, united, asia, england, nine\n",
      "musician: actor, actress, singer, writer, author, nine, born, composer, poet, politician\n",
      "dance: music, modern, art, traditional, classical, concept, whole, study, early, addition\n",
      "\n",
      "\n"
     ]
    },
    {
     "name": "stderr",
     "output_type": "stream",
     "text": [
      "32580it [07:24, 73.34it/s]\n",
      "4it [00:00,  5.83it/s]"
     ]
    },
    {
     "name": "stdout",
     "output_type": "stream",
     "text": [
      "| epoch   4 |     0/32580 batches | loss    1.348 \n",
      "money: so, them, if, rather, fact, taken, others, well, seen, need\n",
      "lion: race, real, programming, favor, participated, accordance, magnetic, ocean, prince, wales\n",
      "africa: europe, india, america, south, kingdom, australia, united, asia, england, nine\n",
      "musician: actor, actress, singer, writer, author, nine, born, composer, poet, politician\n",
      "dance: music, modern, art, traditional, classical, concept, whole, study, early, addition\n",
      "\n",
      "\n"
     ]
    },
    {
     "name": "stderr",
     "output_type": "stream",
     "text": [
      "506it [00:07, 61.16it/s]"
     ]
    },
    {
     "name": "stdout",
     "output_type": "stream",
     "text": [
      "| epoch   4 |   500/32580 batches | loss    1.332 \n",
      "money: so, them, if, rather, fact, taken, others, well, seen, need\n",
      "lion: race, real, programming, favor, participated, accordance, magnetic, ocean, prince, wales\n",
      "africa: europe, india, america, south, kingdom, australia, united, asia, england, nine\n",
      "musician: actor, actress, singer, writer, author, nine, born, composer, poet, politician\n",
      "dance: music, modern, art, traditional, classical, concept, whole, study, early, addition\n",
      "\n",
      "\n"
     ]
    },
    {
     "name": "stderr",
     "output_type": "stream",
     "text": [
      "1010it [00:14, 64.18it/s]"
     ]
    },
    {
     "name": "stdout",
     "output_type": "stream",
     "text": [
      "| epoch   4 |  1000/32580 batches | loss    1.332 \n",
      "money: so, them, if, rather, fact, taken, others, well, seen, need\n",
      "lion: race, real, programming, favor, participated, accordance, magnetic, ocean, prince, wales\n",
      "africa: europe, india, america, south, kingdom, australia, united, asia, england, nine\n",
      "musician: actor, actress, singer, writer, author, nine, born, composer, poet, politician\n",
      "dance: music, modern, art, traditional, classical, concept, whole, study, early, addition\n",
      "\n",
      "\n"
     ]
    },
    {
     "name": "stderr",
     "output_type": "stream",
     "text": [
      "1506it [00:20, 60.58it/s]"
     ]
    },
    {
     "name": "stdout",
     "output_type": "stream",
     "text": [
      "| epoch   4 |  1500/32580 batches | loss    1.327 \n",
      "money: so, them, if, rather, fact, taken, others, well, seen, need\n",
      "lion: race, real, programming, favor, participated, accordance, magnetic, ocean, prince, wales\n",
      "africa: europe, india, america, south, kingdom, australia, united, asia, england, nine\n",
      "musician: actor, actress, singer, writer, author, nine, born, composer, poet, politician\n",
      "dance: music, modern, art, traditional, classical, concept, whole, study, early, addition\n",
      "\n",
      "\n"
     ]
    },
    {
     "name": "stderr",
     "output_type": "stream",
     "text": [
      "2010it [00:27, 64.70it/s]"
     ]
    },
    {
     "name": "stdout",
     "output_type": "stream",
     "text": [
      "| epoch   4 |  2000/32580 batches | loss    1.333 \n",
      "money: so, them, if, rather, fact, taken, others, well, seen, need\n",
      "lion: race, real, programming, favor, participated, accordance, magnetic, ocean, prince, wales\n",
      "africa: europe, india, america, south, kingdom, australia, united, asia, england, nine\n",
      "musician: actor, actress, singer, writer, author, nine, born, composer, poet, politician\n",
      "dance: music, modern, art, traditional, classical, concept, whole, study, early, addition\n",
      "\n",
      "\n"
     ]
    },
    {
     "name": "stderr",
     "output_type": "stream",
     "text": [
      "2506it [00:34, 60.97it/s]"
     ]
    },
    {
     "name": "stdout",
     "output_type": "stream",
     "text": [
      "| epoch   4 |  2500/32580 batches | loss    1.327 \n",
      "money: so, them, if, rather, fact, taken, others, well, seen, need\n",
      "lion: race, real, programming, favor, participated, accordance, magnetic, ocean, prince, wales\n",
      "africa: europe, india, america, south, kingdom, australia, united, asia, england, nine\n",
      "musician: actor, actress, singer, writer, author, nine, born, composer, poet, politician\n",
      "dance: music, modern, art, traditional, classical, concept, whole, study, early, addition\n",
      "\n",
      "\n"
     ]
    },
    {
     "name": "stderr",
     "output_type": "stream",
     "text": [
      "3002it [00:40, 61.46it/s]"
     ]
    },
    {
     "name": "stdout",
     "output_type": "stream",
     "text": [
      "| epoch   4 |  3000/32580 batches | loss    1.334 \n",
      "money: so, them, if, rather, fact, taken, others, well, seen, need\n",
      "lion: race, real, programming, favor, participated, accordance, magnetic, ocean, prince, wales\n",
      "africa: europe, india, america, south, kingdom, australia, united, asia, england, nine\n",
      "musician: actor, actress, singer, writer, author, nine, born, composer, poet, politician\n",
      "dance: music, modern, art, traditional, classical, concept, whole, study, early, addition\n",
      "\n",
      "\n"
     ]
    },
    {
     "name": "stderr",
     "output_type": "stream",
     "text": [
      "3506it [00:47, 61.29it/s]"
     ]
    },
    {
     "name": "stdout",
     "output_type": "stream",
     "text": [
      "| epoch   4 |  3500/32580 batches | loss    1.329 \n",
      "money: so, them, if, rather, fact, taken, others, well, seen, need\n",
      "lion: race, real, programming, favor, participated, accordance, magnetic, ocean, prince, wales\n",
      "africa: europe, india, america, south, kingdom, australia, united, asia, england, nine\n",
      "musician: actor, actress, singer, writer, author, nine, born, composer, poet, politician\n",
      "dance: music, modern, art, traditional, classical, concept, whole, study, early, addition\n",
      "\n",
      "\n"
     ]
    },
    {
     "name": "stderr",
     "output_type": "stream",
     "text": [
      "4010it [00:54, 64.93it/s]"
     ]
    },
    {
     "name": "stdout",
     "output_type": "stream",
     "text": [
      "| epoch   4 |  4000/32580 batches | loss    1.331 \n",
      "money: so, them, if, rather, fact, taken, others, well, seen, need\n",
      "lion: race, real, programming, favor, participated, accordance, magnetic, ocean, prince, wales\n",
      "africa: europe, india, america, south, kingdom, australia, united, asia, england, nine\n",
      "musician: actor, actress, singer, writer, author, nine, born, composer, poet, politician\n",
      "dance: music, modern, art, traditional, classical, concept, whole, study, early, addition\n",
      "\n",
      "\n"
     ]
    },
    {
     "name": "stderr",
     "output_type": "stream",
     "text": [
      "4504it [01:03, 61.12it/s]"
     ]
    },
    {
     "name": "stdout",
     "output_type": "stream",
     "text": [
      "| epoch   4 |  4500/32580 batches | loss    1.329 \n",
      "money: so, them, if, rather, fact, taken, others, well, seen, need\n",
      "lion: race, real, programming, favor, participated, accordance, magnetic, ocean, prince, wales\n",
      "africa: europe, india, america, south, kingdom, australia, united, asia, england, nine\n",
      "musician: actor, actress, singer, writer, author, nine, born, composer, poet, politician\n",
      "dance: music, modern, art, traditional, classical, concept, whole, study, early, addition\n",
      "\n",
      "\n"
     ]
    },
    {
     "name": "stderr",
     "output_type": "stream",
     "text": [
      "5008it [01:09, 61.51it/s]"
     ]
    },
    {
     "name": "stdout",
     "output_type": "stream",
     "text": [
      "| epoch   4 |  5000/32580 batches | loss    1.332 \n",
      "money: so, them, if, rather, fact, taken, others, well, seen, need\n",
      "lion: race, real, programming, favor, participated, accordance, magnetic, ocean, prince, wales\n",
      "africa: europe, india, america, south, kingdom, australia, united, asia, england, nine\n",
      "musician: actor, actress, singer, writer, author, nine, born, composer, poet, politician\n",
      "dance: music, modern, art, traditional, classical, concept, whole, study, early, addition\n",
      "\n",
      "\n"
     ]
    },
    {
     "name": "stderr",
     "output_type": "stream",
     "text": [
      "5504it [01:16, 61.52it/s]"
     ]
    },
    {
     "name": "stdout",
     "output_type": "stream",
     "text": [
      "| epoch   4 |  5500/32580 batches | loss    1.333 \n",
      "money: so, them, if, rather, fact, taken, others, well, seen, need\n",
      "lion: race, real, programming, favor, participated, accordance, magnetic, ocean, prince, wales\n",
      "africa: europe, india, america, south, kingdom, australia, united, asia, england, nine\n",
      "musician: actor, actress, singer, writer, author, nine, born, composer, poet, politician\n",
      "dance: music, modern, art, traditional, classical, concept, whole, study, early, addition\n",
      "\n",
      "\n"
     ]
    },
    {
     "name": "stderr",
     "output_type": "stream",
     "text": [
      "6000it [01:23, 75.63it/s]"
     ]
    },
    {
     "name": "stdout",
     "output_type": "stream",
     "text": [
      "| epoch   4 |  6000/32580 batches | loss    1.331 \n",
      "money: so, them, if, rather, fact, taken, others, well, seen, need\n",
      "lion: race, real, programming, favor, participated, accordance, magnetic, ocean, prince, wales\n",
      "africa: europe, india, america, south, kingdom, australia, united, asia, england, nine\n",
      "musician: actor, actress, singer, writer, author, nine, born, composer, poet, politician\n",
      "dance: music, modern, art, traditional, classical, concept, whole, study, early, addition\n",
      "\n",
      "\n"
     ]
    },
    {
     "name": "stderr",
     "output_type": "stream",
     "text": [
      "6504it [01:29, 60.09it/s]"
     ]
    },
    {
     "name": "stdout",
     "output_type": "stream",
     "text": [
      "| epoch   4 |  6500/32580 batches | loss    1.333 \n",
      "money: so, them, if, rather, fact, taken, others, well, seen, need\n",
      "lion: race, real, programming, favor, participated, accordance, magnetic, ocean, prince, wales\n",
      "africa: europe, india, america, south, kingdom, australia, united, asia, england, nine\n",
      "musician: actor, actress, singer, writer, author, nine, born, composer, poet, politician\n",
      "dance: music, modern, art, traditional, classical, concept, whole, study, early, addition\n",
      "\n",
      "\n"
     ]
    },
    {
     "name": "stderr",
     "output_type": "stream",
     "text": [
      "7000it [01:36, 75.67it/s]"
     ]
    },
    {
     "name": "stdout",
     "output_type": "stream",
     "text": [
      "| epoch   4 |  7000/32580 batches | loss    1.332 \n",
      "money: so, them, if, rather, fact, taken, others, well, seen, need\n",
      "lion: race, real, programming, favor, participated, accordance, magnetic, ocean, prince, wales\n",
      "africa: europe, india, america, south, kingdom, australia, united, asia, england, nine\n",
      "musician: actor, actress, singer, writer, author, nine, born, composer, poet, politician\n",
      "dance: music, modern, art, traditional, classical, concept, whole, study, early, addition\n",
      "\n",
      "\n"
     ]
    },
    {
     "name": "stderr",
     "output_type": "stream",
     "text": [
      "7503it [01:43, 60.84it/s]"
     ]
    },
    {
     "name": "stdout",
     "output_type": "stream",
     "text": [
      "| epoch   4 |  7500/32580 batches | loss    1.333 \n",
      "money: so, them, if, rather, fact, taken, others, well, seen, need\n",
      "lion: race, real, programming, favor, participated, accordance, magnetic, ocean, prince, wales\n",
      "africa: europe, india, america, south, kingdom, australia, united, asia, england, nine\n",
      "musician: actor, actress, singer, writer, author, nine, born, composer, poet, politician\n",
      "dance: music, modern, art, traditional, classical, concept, whole, study, early, addition\n",
      "\n",
      "\n"
     ]
    },
    {
     "name": "stderr",
     "output_type": "stream",
     "text": [
      "8007it [01:50, 61.28it/s]"
     ]
    },
    {
     "name": "stdout",
     "output_type": "stream",
     "text": [
      "| epoch   4 |  8000/32580 batches | loss    1.333 \n",
      "money: so, them, if, rather, fact, taken, others, well, seen, need\n",
      "lion: race, real, programming, favor, participated, accordance, magnetic, ocean, prince, wales\n",
      "africa: europe, india, america, south, kingdom, australia, united, asia, england, nine\n",
      "musician: actor, actress, singer, writer, author, nine, born, composer, poet, politician\n",
      "dance: music, modern, art, traditional, classical, concept, whole, study, early, addition\n",
      "\n",
      "\n"
     ]
    },
    {
     "name": "stderr",
     "output_type": "stream",
     "text": [
      "8510it [01:56, 61.72it/s]"
     ]
    },
    {
     "name": "stdout",
     "output_type": "stream",
     "text": [
      "| epoch   4 |  8500/32580 batches | loss    1.331 \n",
      "money: so, them, if, rather, fact, taken, others, well, seen, need\n",
      "lion: race, real, programming, favor, participated, accordance, magnetic, ocean, prince, wales\n",
      "africa: europe, india, america, south, kingdom, australia, united, asia, england, nine\n",
      "musician: actor, actress, singer, writer, author, nine, born, composer, poet, politician\n",
      "dance: music, modern, art, traditional, classical, concept, whole, study, early, addition\n",
      "\n",
      "\n"
     ]
    },
    {
     "name": "stderr",
     "output_type": "stream",
     "text": [
      "9006it [02:03, 60.60it/s]"
     ]
    },
    {
     "name": "stdout",
     "output_type": "stream",
     "text": [
      "| epoch   4 |  9000/32580 batches | loss    1.330 \n",
      "money: so, them, if, rather, fact, taken, others, well, seen, need\n",
      "lion: race, real, programming, favor, participated, accordance, magnetic, ocean, prince, wales\n",
      "africa: europe, india, america, south, kingdom, australia, united, asia, england, nine\n",
      "musician: actor, actress, singer, writer, author, nine, born, composer, poet, politician\n",
      "dance: music, modern, art, traditional, classical, concept, whole, study, early, addition\n",
      "\n",
      "\n"
     ]
    },
    {
     "name": "stderr",
     "output_type": "stream",
     "text": [
      "9510it [02:10, 65.09it/s]"
     ]
    },
    {
     "name": "stdout",
     "output_type": "stream",
     "text": [
      "| epoch   4 |  9500/32580 batches | loss    1.331 \n",
      "money: so, them, if, rather, fact, taken, others, well, seen, need\n",
      "lion: race, real, programming, favor, participated, accordance, magnetic, ocean, prince, wales\n",
      "africa: europe, india, america, south, kingdom, australia, united, asia, england, nine\n",
      "musician: actor, actress, singer, writer, author, nine, born, composer, poet, politician\n",
      "dance: music, modern, art, traditional, classical, concept, whole, study, early, addition\n",
      "\n",
      "\n"
     ]
    },
    {
     "name": "stderr",
     "output_type": "stream",
     "text": [
      "10006it [02:16, 61.27it/s]"
     ]
    },
    {
     "name": "stdout",
     "output_type": "stream",
     "text": [
      "| epoch   4 | 10000/32580 batches | loss    1.331 \n",
      "money: so, them, if, rather, fact, taken, others, well, seen, need\n",
      "lion: race, real, programming, favor, participated, accordance, magnetic, ocean, prince, wales\n",
      "africa: europe, india, america, south, kingdom, australia, united, asia, england, nine\n",
      "musician: actor, actress, singer, writer, author, nine, born, composer, poet, politician\n",
      "dance: music, modern, art, traditional, classical, concept, whole, study, early, addition\n",
      "\n",
      "\n"
     ]
    },
    {
     "name": "stderr",
     "output_type": "stream",
     "text": [
      "10510it [02:23, 64.76it/s]"
     ]
    },
    {
     "name": "stdout",
     "output_type": "stream",
     "text": [
      "| epoch   4 | 10500/32580 batches | loss    1.332 \n",
      "money: so, them, if, rather, fact, taken, others, well, seen, need\n",
      "lion: race, real, programming, favor, participated, accordance, magnetic, ocean, prince, wales\n",
      "africa: europe, india, america, south, kingdom, australia, united, asia, england, nine\n",
      "musician: actor, actress, singer, writer, author, nine, born, composer, poet, politician\n",
      "dance: music, modern, art, traditional, classical, concept, whole, study, early, addition\n",
      "\n",
      "\n"
     ]
    },
    {
     "name": "stderr",
     "output_type": "stream",
     "text": [
      "11006it [02:30, 60.63it/s]"
     ]
    },
    {
     "name": "stdout",
     "output_type": "stream",
     "text": [
      "| epoch   4 | 11000/32580 batches | loss    1.331 \n",
      "money: so, them, if, rather, fact, taken, others, well, seen, need\n",
      "lion: race, real, programming, favor, participated, accordance, magnetic, ocean, prince, wales\n",
      "africa: europe, india, america, south, kingdom, australia, united, asia, england, nine\n",
      "musician: actor, actress, singer, writer, author, nine, born, composer, poet, politician\n",
      "dance: music, modern, art, traditional, classical, concept, whole, study, early, addition\n",
      "\n",
      "\n"
     ]
    },
    {
     "name": "stderr",
     "output_type": "stream",
     "text": [
      "11509it [02:36, 63.46it/s]"
     ]
    },
    {
     "name": "stdout",
     "output_type": "stream",
     "text": [
      "| epoch   4 | 11500/32580 batches | loss    1.330 \n",
      "money: so, them, if, rather, fact, taken, others, well, seen, need\n",
      "lion: race, real, programming, favor, participated, accordance, magnetic, ocean, prince, wales\n",
      "africa: europe, india, america, south, kingdom, australia, united, asia, england, nine\n",
      "musician: actor, actress, singer, writer, author, nine, born, composer, poet, politician\n",
      "dance: music, modern, art, traditional, classical, concept, whole, study, early, addition\n",
      "\n",
      "\n"
     ]
    },
    {
     "name": "stderr",
     "output_type": "stream",
     "text": [
      "12005it [02:43, 61.29it/s]"
     ]
    },
    {
     "name": "stdout",
     "output_type": "stream",
     "text": [
      "| epoch   4 | 12000/32580 batches | loss    1.326 \n",
      "money: so, them, if, rather, fact, taken, others, well, seen, need\n",
      "lion: race, real, programming, favor, participated, accordance, magnetic, ocean, prince, wales\n",
      "africa: europe, india, america, south, kingdom, australia, united, asia, england, nine\n",
      "musician: actor, actress, singer, writer, author, nine, born, composer, poet, politician\n",
      "dance: music, modern, art, traditional, classical, concept, whole, study, early, addition\n",
      "\n",
      "\n"
     ]
    },
    {
     "name": "stderr",
     "output_type": "stream",
     "text": [
      "12509it [02:49, 64.87it/s]"
     ]
    },
    {
     "name": "stdout",
     "output_type": "stream",
     "text": [
      "| epoch   4 | 12500/32580 batches | loss    1.329 \n",
      "money: so, them, if, rather, fact, taken, others, well, seen, need\n",
      "lion: race, real, programming, favor, participated, accordance, magnetic, ocean, prince, wales\n",
      "africa: europe, india, america, south, kingdom, australia, united, asia, england, nine\n",
      "musician: actor, actress, singer, writer, author, nine, born, composer, poet, politician\n",
      "dance: music, modern, art, traditional, classical, concept, whole, study, early, addition\n",
      "\n",
      "\n"
     ]
    },
    {
     "name": "stderr",
     "output_type": "stream",
     "text": [
      "13005it [02:56, 61.35it/s]"
     ]
    },
    {
     "name": "stdout",
     "output_type": "stream",
     "text": [
      "| epoch   4 | 13000/32580 batches | loss    1.331 \n",
      "money: so, them, if, rather, fact, taken, others, well, seen, need\n",
      "lion: race, real, programming, favor, participated, accordance, magnetic, ocean, prince, wales\n",
      "africa: europe, india, america, south, kingdom, australia, united, asia, england, nine\n",
      "musician: actor, actress, singer, writer, author, nine, born, composer, poet, politician\n",
      "dance: music, modern, art, traditional, classical, concept, whole, study, early, addition\n",
      "\n",
      "\n"
     ]
    },
    {
     "name": "stderr",
     "output_type": "stream",
     "text": [
      "13508it [03:03, 63.63it/s]"
     ]
    },
    {
     "name": "stdout",
     "output_type": "stream",
     "text": [
      "| epoch   4 | 13500/32580 batches | loss    1.335 \n",
      "money: so, them, if, rather, fact, taken, others, well, seen, need\n",
      "lion: race, real, programming, favor, participated, accordance, magnetic, ocean, prince, wales\n",
      "africa: europe, india, america, south, kingdom, australia, united, asia, england, nine\n",
      "musician: actor, actress, singer, writer, author, nine, born, composer, poet, politician\n",
      "dance: music, modern, art, traditional, classical, concept, whole, study, early, addition\n",
      "\n",
      "\n"
     ]
    },
    {
     "name": "stderr",
     "output_type": "stream",
     "text": [
      "14003it [03:09, 61.84it/s]"
     ]
    },
    {
     "name": "stdout",
     "output_type": "stream",
     "text": [
      "| epoch   4 | 14000/32580 batches | loss    1.331 \n",
      "money: so, them, if, rather, fact, taken, others, well, seen, need\n",
      "lion: race, real, programming, favor, participated, accordance, magnetic, ocean, prince, wales\n",
      "africa: europe, india, america, south, kingdom, australia, united, asia, england, nine\n",
      "musician: actor, actress, singer, writer, author, nine, born, composer, poet, politician\n",
      "dance: music, modern, art, traditional, classical, concept, whole, study, early, addition\n",
      "\n",
      "\n"
     ]
    },
    {
     "name": "stderr",
     "output_type": "stream",
     "text": [
      "14507it [03:16, 60.67it/s]"
     ]
    },
    {
     "name": "stdout",
     "output_type": "stream",
     "text": [
      "| epoch   4 | 14500/32580 batches | loss    1.333 \n",
      "money: so, them, if, rather, fact, taken, others, well, seen, need\n",
      "lion: race, real, programming, favor, participated, accordance, magnetic, ocean, prince, wales\n",
      "africa: europe, india, america, south, kingdom, australia, united, asia, england, nine\n",
      "musician: actor, actress, singer, writer, author, nine, born, composer, poet, politician\n",
      "dance: music, modern, art, traditional, classical, concept, whole, study, early, addition\n",
      "\n",
      "\n"
     ]
    },
    {
     "name": "stderr",
     "output_type": "stream",
     "text": [
      "15003it [03:23, 61.98it/s]"
     ]
    },
    {
     "name": "stdout",
     "output_type": "stream",
     "text": [
      "| epoch   4 | 15000/32580 batches | loss    1.329 \n",
      "money: so, them, if, rather, fact, taken, others, well, seen, need\n",
      "lion: race, real, programming, favor, participated, accordance, magnetic, ocean, prince, wales\n",
      "africa: europe, india, america, south, kingdom, australia, united, asia, england, nine\n",
      "musician: actor, actress, singer, writer, author, nine, born, composer, poet, politician\n",
      "dance: music, modern, art, traditional, classical, concept, whole, study, early, addition\n",
      "\n",
      "\n"
     ]
    },
    {
     "name": "stderr",
     "output_type": "stream",
     "text": [
      "15507it [03:29, 60.69it/s]"
     ]
    },
    {
     "name": "stdout",
     "output_type": "stream",
     "text": [
      "| epoch   4 | 15500/32580 batches | loss    1.332 \n",
      "money: so, them, if, rather, fact, taken, others, well, seen, need\n",
      "lion: race, real, programming, favor, participated, accordance, magnetic, ocean, prince, wales\n",
      "africa: europe, india, america, south, kingdom, australia, united, asia, england, nine\n",
      "musician: actor, actress, singer, writer, author, nine, born, composer, poet, politician\n",
      "dance: music, modern, art, traditional, classical, concept, whole, study, early, addition\n",
      "\n",
      "\n"
     ]
    },
    {
     "name": "stderr",
     "output_type": "stream",
     "text": [
      "16003it [03:36, 61.63it/s]"
     ]
    },
    {
     "name": "stdout",
     "output_type": "stream",
     "text": [
      "| epoch   4 | 16000/32580 batches | loss    1.330 \n",
      "money: so, them, if, rather, fact, taken, others, well, seen, need\n",
      "lion: race, real, programming, favor, participated, accordance, magnetic, ocean, prince, wales\n",
      "africa: europe, india, america, south, kingdom, australia, united, asia, england, nine\n",
      "musician: actor, actress, singer, writer, author, nine, born, composer, poet, politician\n",
      "dance: music, modern, art, traditional, classical, concept, whole, study, early, addition\n",
      "\n",
      "\n"
     ]
    },
    {
     "name": "stderr",
     "output_type": "stream",
     "text": [
      "16507it [03:42, 61.16it/s]"
     ]
    },
    {
     "name": "stdout",
     "output_type": "stream",
     "text": [
      "| epoch   4 | 16500/32580 batches | loss    1.333 \n",
      "money: so, them, if, rather, fact, taken, others, well, seen, need\n",
      "lion: race, real, programming, favor, participated, accordance, magnetic, ocean, prince, wales\n",
      "africa: europe, india, america, south, kingdom, australia, united, asia, england, nine\n",
      "musician: actor, actress, singer, writer, author, nine, born, composer, poet, politician\n",
      "dance: music, modern, art, traditional, classical, concept, whole, study, early, addition\n",
      "\n",
      "\n"
     ]
    },
    {
     "name": "stderr",
     "output_type": "stream",
     "text": [
      "17011it [03:49, 64.30it/s]"
     ]
    },
    {
     "name": "stdout",
     "output_type": "stream",
     "text": [
      "| epoch   4 | 17000/32580 batches | loss    1.332 \n",
      "money: so, them, if, rather, fact, taken, others, well, seen, need\n",
      "lion: race, real, programming, favor, participated, accordance, magnetic, ocean, prince, wales\n",
      "africa: europe, india, america, south, kingdom, australia, united, asia, england, nine\n",
      "musician: actor, actress, singer, writer, author, nine, born, composer, poet, politician\n",
      "dance: music, modern, art, traditional, classical, concept, whole, study, early, addition\n",
      "\n",
      "\n"
     ]
    },
    {
     "name": "stderr",
     "output_type": "stream",
     "text": [
      "17507it [03:56, 60.51it/s]"
     ]
    },
    {
     "name": "stdout",
     "output_type": "stream",
     "text": [
      "| epoch   4 | 17500/32580 batches | loss    1.330 \n",
      "money: so, them, if, rather, fact, taken, others, well, seen, need\n",
      "lion: race, real, programming, favor, participated, accordance, magnetic, ocean, prince, wales\n",
      "africa: europe, india, america, south, kingdom, australia, united, asia, england, nine\n",
      "musician: actor, actress, singer, writer, author, nine, born, composer, poet, politician\n",
      "dance: music, modern, art, traditional, classical, concept, whole, study, early, addition\n",
      "\n",
      "\n"
     ]
    },
    {
     "name": "stderr",
     "output_type": "stream",
     "text": [
      "18003it [04:02, 61.53it/s]"
     ]
    },
    {
     "name": "stdout",
     "output_type": "stream",
     "text": [
      "| epoch   4 | 18000/32580 batches | loss    1.333 \n",
      "money: so, them, if, rather, fact, taken, others, well, seen, need\n",
      "lion: race, real, programming, favor, participated, accordance, magnetic, ocean, prince, wales\n",
      "africa: europe, india, america, south, kingdom, australia, united, asia, england, nine\n",
      "musician: actor, actress, singer, writer, author, nine, born, composer, poet, politician\n",
      "dance: music, modern, art, traditional, classical, concept, whole, study, early, addition\n",
      "\n",
      "\n"
     ]
    },
    {
     "name": "stderr",
     "output_type": "stream",
     "text": [
      "18507it [04:09, 60.98it/s]"
     ]
    },
    {
     "name": "stdout",
     "output_type": "stream",
     "text": [
      "| epoch   4 | 18500/32580 batches | loss    1.328 \n",
      "money: so, them, if, rather, fact, taken, others, well, seen, need\n",
      "lion: race, real, programming, favor, participated, accordance, magnetic, ocean, prince, wales\n",
      "africa: europe, india, america, south, kingdom, australia, united, asia, england, nine\n",
      "musician: actor, actress, singer, writer, author, nine, born, composer, poet, politician\n",
      "dance: music, modern, art, traditional, classical, concept, whole, study, early, addition\n",
      "\n",
      "\n"
     ]
    },
    {
     "name": "stderr",
     "output_type": "stream",
     "text": [
      "19010it [04:16, 63.40it/s]"
     ]
    },
    {
     "name": "stdout",
     "output_type": "stream",
     "text": [
      "| epoch   4 | 19000/32580 batches | loss    1.331 \n",
      "money: so, them, if, rather, fact, taken, others, well, seen, need\n",
      "lion: race, real, programming, favor, participated, accordance, magnetic, ocean, prince, wales\n",
      "africa: europe, india, america, south, kingdom, australia, united, asia, england, nine\n",
      "musician: actor, actress, singer, writer, author, nine, born, composer, poet, politician\n",
      "dance: music, modern, art, traditional, classical, concept, whole, study, early, addition\n",
      "\n",
      "\n"
     ]
    },
    {
     "name": "stderr",
     "output_type": "stream",
     "text": [
      "19506it [04:22, 61.42it/s]"
     ]
    },
    {
     "name": "stdout",
     "output_type": "stream",
     "text": [
      "| epoch   4 | 19500/32580 batches | loss    1.335 \n",
      "money: so, them, if, rather, fact, taken, others, well, seen, need\n",
      "lion: race, real, programming, favor, participated, accordance, magnetic, ocean, prince, wales\n",
      "africa: europe, india, america, south, kingdom, australia, united, asia, england, nine\n",
      "musician: actor, actress, singer, writer, author, nine, born, composer, poet, politician\n",
      "dance: music, modern, art, traditional, classical, concept, whole, study, early, addition\n",
      "\n",
      "\n"
     ]
    },
    {
     "name": "stderr",
     "output_type": "stream",
     "text": [
      "20010it [04:29, 64.64it/s]"
     ]
    },
    {
     "name": "stdout",
     "output_type": "stream",
     "text": [
      "| epoch   4 | 20000/32580 batches | loss    1.330 \n",
      "money: so, them, if, rather, fact, taken, others, well, seen, need\n",
      "lion: race, real, programming, favor, participated, accordance, magnetic, ocean, prince, wales\n",
      "africa: europe, india, america, south, kingdom, australia, united, asia, england, nine\n",
      "musician: actor, actress, singer, writer, author, nine, born, composer, poet, politician\n",
      "dance: music, modern, art, traditional, classical, concept, whole, study, early, addition\n",
      "\n",
      "\n"
     ]
    },
    {
     "name": "stderr",
     "output_type": "stream",
     "text": [
      "20506it [04:36, 61.24it/s]"
     ]
    },
    {
     "name": "stdout",
     "output_type": "stream",
     "text": [
      "| epoch   4 | 20500/32580 batches | loss    1.331 \n",
      "money: so, them, if, rather, fact, taken, others, well, seen, need\n",
      "lion: race, real, programming, favor, participated, accordance, magnetic, ocean, prince, wales\n",
      "africa: europe, india, america, south, kingdom, australia, united, asia, england, nine\n",
      "musician: actor, actress, singer, writer, author, nine, born, composer, poet, politician\n",
      "dance: music, modern, art, traditional, classical, concept, whole, study, early, addition\n",
      "\n",
      "\n"
     ]
    },
    {
     "name": "stderr",
     "output_type": "stream",
     "text": [
      "21002it [04:42, 61.56it/s]"
     ]
    },
    {
     "name": "stdout",
     "output_type": "stream",
     "text": [
      "| epoch   4 | 21000/32580 batches | loss    1.327 \n",
      "money: so, them, if, rather, fact, taken, others, well, seen, need\n",
      "lion: race, real, programming, favor, participated, accordance, magnetic, ocean, prince, wales\n",
      "africa: europe, india, america, south, kingdom, australia, united, asia, england, nine\n",
      "musician: actor, actress, singer, writer, author, nine, born, composer, poet, politician\n",
      "dance: music, modern, art, traditional, classical, concept, whole, study, early, addition\n",
      "\n",
      "\n"
     ]
    },
    {
     "name": "stderr",
     "output_type": "stream",
     "text": [
      "21506it [04:49, 61.30it/s]"
     ]
    },
    {
     "name": "stdout",
     "output_type": "stream",
     "text": [
      "| epoch   4 | 21500/32580 batches | loss    1.329 \n",
      "money: so, them, if, rather, fact, taken, others, well, seen, need\n",
      "lion: race, real, programming, favor, participated, accordance, magnetic, ocean, prince, wales\n",
      "africa: europe, india, america, south, kingdom, australia, united, asia, england, nine\n",
      "musician: actor, actress, singer, writer, author, nine, born, composer, poet, politician\n",
      "dance: music, modern, art, traditional, classical, concept, whole, study, early, addition\n",
      "\n",
      "\n"
     ]
    },
    {
     "name": "stderr",
     "output_type": "stream",
     "text": [
      "22009it [04:55, 63.50it/s]"
     ]
    },
    {
     "name": "stdout",
     "output_type": "stream",
     "text": [
      "| epoch   4 | 22000/32580 batches | loss    1.329 \n",
      "money: so, them, if, rather, fact, taken, others, well, seen, need\n",
      "lion: race, real, programming, favor, participated, accordance, magnetic, ocean, prince, wales\n",
      "africa: europe, india, america, south, kingdom, australia, united, asia, england, nine\n",
      "musician: actor, actress, singer, writer, author, nine, born, composer, poet, politician\n",
      "dance: music, modern, art, traditional, classical, concept, whole, study, early, addition\n",
      "\n",
      "\n"
     ]
    },
    {
     "name": "stderr",
     "output_type": "stream",
     "text": [
      "22505it [05:02, 61.13it/s]"
     ]
    },
    {
     "name": "stdout",
     "output_type": "stream",
     "text": [
      "| epoch   4 | 22500/32580 batches | loss    1.332 \n",
      "money: so, them, if, rather, fact, taken, others, well, seen, need\n",
      "lion: race, real, programming, favor, participated, accordance, magnetic, ocean, prince, wales\n",
      "africa: europe, india, america, south, kingdom, australia, united, asia, england, nine\n",
      "musician: actor, actress, singer, writer, author, nine, born, composer, poet, politician\n",
      "dance: music, modern, art, traditional, classical, concept, whole, study, early, addition\n",
      "\n",
      "\n"
     ]
    },
    {
     "name": "stderr",
     "output_type": "stream",
     "text": [
      "23009it [05:09, 64.59it/s]"
     ]
    },
    {
     "name": "stdout",
     "output_type": "stream",
     "text": [
      "| epoch   4 | 23000/32580 batches | loss    1.329 \n",
      "money: so, them, if, rather, fact, taken, others, well, seen, need\n",
      "lion: race, real, programming, favor, participated, accordance, magnetic, ocean, prince, wales\n",
      "africa: europe, india, america, south, kingdom, australia, united, asia, england, nine\n",
      "musician: actor, actress, singer, writer, author, nine, born, composer, poet, politician\n",
      "dance: music, modern, art, traditional, classical, concept, whole, study, early, addition\n",
      "\n",
      "\n"
     ]
    },
    {
     "name": "stderr",
     "output_type": "stream",
     "text": [
      "23505it [05:15, 61.05it/s]"
     ]
    },
    {
     "name": "stdout",
     "output_type": "stream",
     "text": [
      "| epoch   4 | 23500/32580 batches | loss    1.327 \n",
      "money: so, them, if, rather, fact, taken, others, well, seen, need\n",
      "lion: race, real, programming, favor, participated, accordance, magnetic, ocean, prince, wales\n",
      "africa: europe, india, america, south, kingdom, australia, united, asia, england, nine\n",
      "musician: actor, actress, singer, writer, author, nine, born, composer, poet, politician\n",
      "dance: music, modern, art, traditional, classical, concept, whole, study, early, addition\n",
      "\n",
      "\n"
     ]
    },
    {
     "name": "stderr",
     "output_type": "stream",
     "text": [
      "24009it [05:22, 64.83it/s]"
     ]
    },
    {
     "name": "stdout",
     "output_type": "stream",
     "text": [
      "| epoch   4 | 24000/32580 batches | loss    1.330 \n",
      "money: so, them, if, rather, fact, taken, others, well, seen, need\n",
      "lion: race, real, programming, favor, participated, accordance, magnetic, ocean, prince, wales\n",
      "africa: europe, india, america, south, kingdom, australia, united, asia, england, nine\n",
      "musician: actor, actress, singer, writer, author, nine, born, composer, poet, politician\n",
      "dance: music, modern, art, traditional, classical, concept, whole, study, early, addition\n",
      "\n",
      "\n"
     ]
    },
    {
     "name": "stderr",
     "output_type": "stream",
     "text": [
      "24505it [05:28, 61.27it/s]"
     ]
    },
    {
     "name": "stdout",
     "output_type": "stream",
     "text": [
      "| epoch   4 | 24500/32580 batches | loss    1.330 \n",
      "money: so, them, if, rather, fact, taken, others, well, seen, need\n",
      "lion: race, real, programming, favor, participated, accordance, magnetic, ocean, prince, wales\n",
      "africa: europe, india, america, south, kingdom, australia, united, asia, england, nine\n",
      "musician: actor, actress, singer, writer, author, nine, born, composer, poet, politician\n",
      "dance: music, modern, art, traditional, classical, concept, whole, study, early, addition\n",
      "\n",
      "\n"
     ]
    },
    {
     "name": "stderr",
     "output_type": "stream",
     "text": [
      "25001it [05:35, 61.62it/s]"
     ]
    },
    {
     "name": "stdout",
     "output_type": "stream",
     "text": [
      "| epoch   4 | 25000/32580 batches | loss    1.334 \n",
      "money: so, them, if, rather, fact, taken, others, well, seen, need\n",
      "lion: race, real, programming, favor, participated, accordance, magnetic, ocean, prince, wales\n",
      "africa: europe, india, america, south, kingdom, australia, united, asia, england, nine\n",
      "musician: actor, actress, singer, writer, author, nine, born, composer, poet, politician\n",
      "dance: music, modern, art, traditional, classical, concept, whole, study, early, addition\n",
      "\n",
      "\n"
     ]
    },
    {
     "name": "stderr",
     "output_type": "stream",
     "text": [
      "25505it [05:42, 61.41it/s]"
     ]
    },
    {
     "name": "stdout",
     "output_type": "stream",
     "text": [
      "| epoch   4 | 25500/32580 batches | loss    1.328 \n",
      "money: so, them, if, rather, fact, taken, others, well, seen, need\n",
      "lion: race, real, programming, favor, participated, accordance, magnetic, ocean, prince, wales\n",
      "africa: europe, india, america, south, kingdom, australia, united, asia, england, nine\n",
      "musician: actor, actress, singer, writer, author, nine, born, composer, poet, politician\n",
      "dance: music, modern, art, traditional, classical, concept, whole, study, early, addition\n",
      "\n",
      "\n"
     ]
    },
    {
     "name": "stderr",
     "output_type": "stream",
     "text": [
      "26009it [05:48, 64.81it/s]"
     ]
    },
    {
     "name": "stdout",
     "output_type": "stream",
     "text": [
      "| epoch   4 | 26000/32580 batches | loss    1.333 \n",
      "money: so, them, if, rather, fact, taken, others, well, seen, need\n",
      "lion: race, real, programming, favor, participated, accordance, magnetic, ocean, prince, wales\n",
      "africa: europe, india, america, south, kingdom, australia, united, asia, england, nine\n",
      "musician: actor, actress, singer, writer, author, nine, born, composer, poet, politician\n",
      "dance: music, modern, art, traditional, classical, concept, whole, study, early, addition\n",
      "\n",
      "\n"
     ]
    },
    {
     "name": "stderr",
     "output_type": "stream",
     "text": [
      "26505it [05:55, 59.99it/s]"
     ]
    },
    {
     "name": "stdout",
     "output_type": "stream",
     "text": [
      "| epoch   4 | 26500/32580 batches | loss    1.332 \n",
      "money: so, them, if, rather, fact, taken, others, well, seen, need\n",
      "lion: race, real, programming, favor, participated, accordance, magnetic, ocean, prince, wales\n",
      "africa: europe, india, america, south, kingdom, australia, united, asia, england, nine\n",
      "musician: actor, actress, singer, writer, author, nine, born, composer, poet, politician\n",
      "dance: music, modern, art, traditional, classical, concept, whole, study, early, addition\n",
      "\n",
      "\n"
     ]
    },
    {
     "name": "stderr",
     "output_type": "stream",
     "text": [
      "27009it [06:02, 64.46it/s]"
     ]
    },
    {
     "name": "stdout",
     "output_type": "stream",
     "text": [
      "| epoch   4 | 27000/32580 batches | loss    1.331 \n",
      "money: so, them, if, rather, fact, taken, others, well, seen, need\n",
      "lion: race, real, programming, favor, participated, accordance, magnetic, ocean, prince, wales\n",
      "africa: europe, india, america, south, kingdom, australia, united, asia, england, nine\n",
      "musician: actor, actress, singer, writer, author, nine, born, composer, poet, politician\n",
      "dance: music, modern, art, traditional, classical, concept, whole, study, early, addition\n",
      "\n",
      "\n"
     ]
    },
    {
     "name": "stderr",
     "output_type": "stream",
     "text": [
      "27504it [06:08, 60.70it/s]"
     ]
    },
    {
     "name": "stdout",
     "output_type": "stream",
     "text": [
      "| epoch   4 | 27500/32580 batches | loss    1.329 \n",
      "money: so, them, if, rather, fact, taken, others, well, seen, need\n",
      "lion: race, real, programming, favor, participated, accordance, magnetic, ocean, prince, wales\n",
      "africa: europe, india, america, south, kingdom, australia, united, asia, england, nine\n",
      "musician: actor, actress, singer, writer, author, nine, born, composer, poet, politician\n",
      "dance: music, modern, art, traditional, classical, concept, whole, study, early, addition\n",
      "\n",
      "\n"
     ]
    },
    {
     "name": "stderr",
     "output_type": "stream",
     "text": [
      "28008it [06:17, 60.66it/s]"
     ]
    },
    {
     "name": "stdout",
     "output_type": "stream",
     "text": [
      "| epoch   4 | 28000/32580 batches | loss    1.327 \n",
      "money: so, them, if, rather, fact, taken, others, well, seen, need\n",
      "lion: race, real, programming, favor, participated, accordance, magnetic, ocean, prince, wales\n",
      "africa: europe, india, america, south, kingdom, australia, united, asia, england, nine\n",
      "musician: actor, actress, singer, writer, author, nine, born, composer, poet, politician\n",
      "dance: music, modern, art, traditional, classical, concept, whole, study, early, addition\n",
      "\n",
      "\n"
     ]
    },
    {
     "name": "stderr",
     "output_type": "stream",
     "text": [
      "28503it [06:23, 61.20it/s]"
     ]
    },
    {
     "name": "stdout",
     "output_type": "stream",
     "text": [
      "| epoch   4 | 28500/32580 batches | loss    1.328 \n",
      "money: so, them, if, rather, fact, taken, others, well, seen, need\n",
      "lion: race, real, programming, favor, participated, accordance, magnetic, ocean, prince, wales\n",
      "africa: europe, india, america, south, kingdom, australia, united, asia, england, nine\n",
      "musician: actor, actress, singer, writer, author, nine, born, composer, poet, politician\n",
      "dance: music, modern, art, traditional, classical, concept, whole, study, early, addition\n",
      "\n",
      "\n"
     ]
    },
    {
     "name": "stderr",
     "output_type": "stream",
     "text": [
      "29007it [06:30, 61.46it/s]"
     ]
    },
    {
     "name": "stdout",
     "output_type": "stream",
     "text": [
      "| epoch   4 | 29000/32580 batches | loss    1.325 \n",
      "money: so, them, if, rather, fact, taken, others, well, seen, need\n",
      "lion: race, real, programming, favor, participated, accordance, magnetic, ocean, prince, wales\n",
      "africa: europe, india, america, south, kingdom, australia, united, asia, england, nine\n",
      "musician: actor, actress, singer, writer, author, nine, born, composer, poet, politician\n",
      "dance: music, modern, art, traditional, classical, concept, whole, study, early, addition\n",
      "\n",
      "\n"
     ]
    },
    {
     "name": "stderr",
     "output_type": "stream",
     "text": [
      "29510it [06:37, 64.36it/s]"
     ]
    },
    {
     "name": "stdout",
     "output_type": "stream",
     "text": [
      "| epoch   4 | 29500/32580 batches | loss    1.333 \n",
      "money: so, them, if, rather, fact, taken, others, well, seen, need\n",
      "lion: race, real, programming, favor, participated, accordance, magnetic, ocean, prince, wales\n",
      "africa: europe, india, america, south, kingdom, australia, united, asia, england, nine\n",
      "musician: actor, actress, singer, writer, author, nine, born, composer, poet, politician\n",
      "dance: music, modern, art, traditional, classical, concept, whole, study, early, addition\n",
      "\n",
      "\n"
     ]
    },
    {
     "name": "stderr",
     "output_type": "stream",
     "text": [
      "30006it [06:43, 61.07it/s]"
     ]
    },
    {
     "name": "stdout",
     "output_type": "stream",
     "text": [
      "| epoch   4 | 30000/32580 batches | loss    1.328 \n",
      "money: so, them, if, rather, fact, taken, others, well, seen, need\n",
      "lion: race, real, programming, favor, participated, accordance, magnetic, ocean, prince, wales\n",
      "africa: europe, india, america, south, kingdom, australia, united, asia, england, nine\n",
      "musician: actor, actress, singer, writer, author, nine, born, composer, poet, politician\n",
      "dance: music, modern, art, traditional, classical, concept, whole, study, early, addition\n",
      "\n",
      "\n"
     ]
    },
    {
     "name": "stderr",
     "output_type": "stream",
     "text": [
      "30509it [06:50, 62.83it/s]"
     ]
    },
    {
     "name": "stdout",
     "output_type": "stream",
     "text": [
      "| epoch   4 | 30500/32580 batches | loss    1.331 \n",
      "money: so, them, if, rather, fact, taken, others, well, seen, need\n",
      "lion: race, real, programming, favor, participated, accordance, magnetic, ocean, prince, wales\n",
      "africa: europe, india, america, south, kingdom, australia, united, asia, england, nine\n",
      "musician: actor, actress, singer, writer, author, nine, born, composer, poet, politician\n",
      "dance: music, modern, art, traditional, classical, concept, whole, study, early, addition\n",
      "\n",
      "\n"
     ]
    },
    {
     "name": "stderr",
     "output_type": "stream",
     "text": [
      "31005it [06:56, 61.26it/s]"
     ]
    },
    {
     "name": "stdout",
     "output_type": "stream",
     "text": [
      "| epoch   4 | 31000/32580 batches | loss    1.332 \n",
      "money: so, them, if, rather, fact, taken, others, well, seen, need\n",
      "lion: race, real, programming, favor, participated, accordance, magnetic, ocean, prince, wales\n",
      "africa: europe, india, america, south, kingdom, australia, united, asia, england, nine\n",
      "musician: actor, actress, singer, writer, author, nine, born, composer, poet, politician\n",
      "dance: music, modern, art, traditional, classical, concept, whole, study, early, addition\n",
      "\n",
      "\n"
     ]
    },
    {
     "name": "stderr",
     "output_type": "stream",
     "text": [
      "31508it [07:03, 63.36it/s]"
     ]
    },
    {
     "name": "stdout",
     "output_type": "stream",
     "text": [
      "| epoch   4 | 31500/32580 batches | loss    1.332 \n",
      "money: so, them, if, rather, fact, taken, others, well, seen, need\n",
      "lion: race, real, programming, favor, participated, accordance, magnetic, ocean, prince, wales\n",
      "africa: europe, india, america, south, kingdom, australia, united, asia, england, nine\n",
      "musician: actor, actress, singer, writer, author, nine, born, composer, poet, politician\n",
      "dance: music, modern, art, traditional, classical, concept, whole, study, early, addition\n",
      "\n",
      "\n"
     ]
    },
    {
     "name": "stderr",
     "output_type": "stream",
     "text": [
      "32004it [07:10, 61.30it/s]"
     ]
    },
    {
     "name": "stdout",
     "output_type": "stream",
     "text": [
      "| epoch   4 | 32000/32580 batches | loss    1.331 \n",
      "money: so, them, if, rather, fact, taken, others, well, seen, need\n",
      "lion: race, real, programming, favor, participated, accordance, magnetic, ocean, prince, wales\n",
      "africa: europe, india, america, south, kingdom, australia, united, asia, england, nine\n",
      "musician: actor, actress, singer, writer, author, nine, born, composer, poet, politician\n",
      "dance: music, modern, art, traditional, classical, concept, whole, study, early, addition\n",
      "\n",
      "\n"
     ]
    },
    {
     "name": "stderr",
     "output_type": "stream",
     "text": [
      "32508it [07:16, 60.60it/s]"
     ]
    },
    {
     "name": "stdout",
     "output_type": "stream",
     "text": [
      "| epoch   4 | 32500/32580 batches | loss    1.330 \n",
      "money: so, them, if, rather, fact, taken, others, well, seen, need\n",
      "lion: race, real, programming, favor, participated, accordance, magnetic, ocean, prince, wales\n",
      "africa: europe, india, america, south, kingdom, australia, united, asia, england, nine\n",
      "musician: actor, actress, singer, writer, author, nine, born, composer, poet, politician\n",
      "dance: music, modern, art, traditional, classical, concept, whole, study, early, addition\n",
      "\n",
      "\n"
     ]
    },
    {
     "name": "stderr",
     "output_type": "stream",
     "text": [
      "32580it [07:18, 74.27it/s]\n",
      "4it [00:00,  5.73it/s]"
     ]
    },
    {
     "name": "stdout",
     "output_type": "stream",
     "text": [
      "| epoch   5 |     0/32580 batches | loss    1.277 \n",
      "money: so, them, if, rather, fact, taken, others, well, seen, need\n",
      "lion: race, real, programming, favor, participated, accordance, magnetic, ocean, prince, wales\n",
      "africa: europe, india, america, south, kingdom, australia, united, asia, england, nine\n",
      "musician: actor, actress, singer, writer, author, nine, born, composer, poet, politician\n",
      "dance: music, modern, art, traditional, classical, concept, whole, study, early, addition\n",
      "\n",
      "\n"
     ]
    },
    {
     "name": "stderr",
     "output_type": "stream",
     "text": [
      "506it [00:07, 61.84it/s]"
     ]
    },
    {
     "name": "stdout",
     "output_type": "stream",
     "text": [
      "| epoch   5 |   500/32580 batches | loss    1.333 \n",
      "money: so, them, if, rather, fact, taken, others, well, seen, need\n",
      "lion: race, real, programming, favor, participated, accordance, magnetic, ocean, prince, wales\n",
      "africa: europe, india, america, south, kingdom, australia, united, asia, england, nine\n",
      "musician: actor, actress, singer, writer, author, nine, born, composer, poet, politician\n",
      "dance: music, modern, art, traditional, classical, concept, whole, study, early, addition\n",
      "\n",
      "\n"
     ]
    },
    {
     "name": "stderr",
     "output_type": "stream",
     "text": [
      "1002it [00:14, 61.43it/s]"
     ]
    },
    {
     "name": "stdout",
     "output_type": "stream",
     "text": [
      "| epoch   5 |  1000/32580 batches | loss    1.333 \n",
      "money: so, them, if, rather, fact, taken, others, well, seen, need\n",
      "lion: race, real, programming, favor, participated, accordance, magnetic, ocean, prince, wales\n",
      "africa: europe, india, america, south, kingdom, australia, united, asia, england, nine\n",
      "musician: actor, actress, singer, writer, author, nine, born, composer, poet, politician\n",
      "dance: music, modern, art, traditional, classical, concept, whole, study, early, addition\n",
      "\n",
      "\n"
     ]
    },
    {
     "name": "stderr",
     "output_type": "stream",
     "text": [
      "1506it [00:20, 60.39it/s]"
     ]
    },
    {
     "name": "stdout",
     "output_type": "stream",
     "text": [
      "| epoch   5 |  1500/32580 batches | loss    1.331 \n",
      "money: so, them, if, rather, fact, taken, others, well, seen, need\n",
      "lion: race, real, programming, favor, participated, accordance, magnetic, ocean, prince, wales\n",
      "africa: europe, india, america, south, kingdom, australia, united, asia, england, nine\n",
      "musician: actor, actress, singer, writer, author, nine, born, composer, poet, politician\n",
      "dance: music, modern, art, traditional, classical, concept, whole, study, early, addition\n",
      "\n",
      "\n"
     ]
    },
    {
     "name": "stderr",
     "output_type": "stream",
     "text": [
      "2009it [00:27, 65.56it/s]"
     ]
    },
    {
     "name": "stdout",
     "output_type": "stream",
     "text": [
      "| epoch   5 |  2000/32580 batches | loss    1.330 \n",
      "money: so, them, if, rather, fact, taken, others, well, seen, need\n",
      "lion: race, real, programming, favor, participated, accordance, magnetic, ocean, prince, wales\n",
      "africa: europe, india, america, south, kingdom, australia, united, asia, england, nine\n",
      "musician: actor, actress, singer, writer, author, nine, born, composer, poet, politician\n",
      "dance: music, modern, art, traditional, classical, concept, whole, study, early, addition\n",
      "\n",
      "\n"
     ]
    },
    {
     "name": "stderr",
     "output_type": "stream",
     "text": [
      "2505it [00:34, 60.47it/s]"
     ]
    },
    {
     "name": "stdout",
     "output_type": "stream",
     "text": [
      "| epoch   5 |  2500/32580 batches | loss    1.330 \n",
      "money: so, them, if, rather, fact, taken, others, well, seen, need\n",
      "lion: race, real, programming, favor, participated, accordance, magnetic, ocean, prince, wales\n",
      "africa: europe, india, america, south, kingdom, australia, united, asia, england, nine\n",
      "musician: actor, actress, singer, writer, author, nine, born, composer, poet, politician\n",
      "dance: music, modern, art, traditional, classical, concept, whole, study, early, addition\n",
      "\n",
      "\n"
     ]
    },
    {
     "name": "stderr",
     "output_type": "stream",
     "text": [
      "3008it [00:40, 63.79it/s]"
     ]
    },
    {
     "name": "stdout",
     "output_type": "stream",
     "text": [
      "| epoch   5 |  3000/32580 batches | loss    1.327 \n",
      "money: so, them, if, rather, fact, taken, others, well, seen, need\n",
      "lion: race, real, programming, favor, participated, accordance, magnetic, ocean, prince, wales\n",
      "africa: europe, india, america, south, kingdom, australia, united, asia, england, nine\n",
      "musician: actor, actress, singer, writer, author, nine, born, composer, poet, politician\n",
      "dance: music, modern, art, traditional, classical, concept, whole, study, early, addition\n",
      "\n",
      "\n"
     ]
    },
    {
     "name": "stderr",
     "output_type": "stream",
     "text": [
      "3504it [00:47, 61.51it/s]"
     ]
    },
    {
     "name": "stdout",
     "output_type": "stream",
     "text": [
      "| epoch   5 |  3500/32580 batches | loss    1.331 \n",
      "money: so, them, if, rather, fact, taken, others, well, seen, need\n",
      "lion: race, real, programming, favor, participated, accordance, magnetic, ocean, prince, wales\n",
      "africa: europe, india, america, south, kingdom, australia, united, asia, england, nine\n",
      "musician: actor, actress, singer, writer, author, nine, born, composer, poet, politician\n",
      "dance: music, modern, art, traditional, classical, concept, whole, study, early, addition\n",
      "\n",
      "\n"
     ]
    },
    {
     "name": "stderr",
     "output_type": "stream",
     "text": [
      "4007it [00:53, 61.49it/s]"
     ]
    },
    {
     "name": "stdout",
     "output_type": "stream",
     "text": [
      "| epoch   5 |  4000/32580 batches | loss    1.335 \n",
      "money: so, them, if, rather, fact, taken, others, well, seen, need\n",
      "lion: race, real, programming, favor, participated, accordance, magnetic, ocean, prince, wales\n",
      "africa: europe, india, america, south, kingdom, australia, united, asia, england, nine\n",
      "musician: actor, actress, singer, writer, author, nine, born, composer, poet, politician\n",
      "dance: music, modern, art, traditional, classical, concept, whole, study, early, addition\n",
      "\n",
      "\n"
     ]
    },
    {
     "name": "stderr",
     "output_type": "stream",
     "text": [
      "4503it [01:00, 61.31it/s]"
     ]
    },
    {
     "name": "stdout",
     "output_type": "stream",
     "text": [
      "| epoch   5 |  4500/32580 batches | loss    1.331 \n",
      "money: so, them, if, rather, fact, taken, others, well, seen, need\n",
      "lion: race, real, programming, favor, participated, accordance, magnetic, ocean, prince, wales\n",
      "africa: europe, india, america, south, kingdom, australia, united, asia, england, nine\n",
      "musician: actor, actress, singer, writer, author, nine, born, composer, poet, politician\n",
      "dance: music, modern, art, traditional, classical, concept, whole, study, early, addition\n",
      "\n",
      "\n"
     ]
    },
    {
     "name": "stderr",
     "output_type": "stream",
     "text": [
      "5007it [01:07, 61.11it/s]"
     ]
    },
    {
     "name": "stdout",
     "output_type": "stream",
     "text": [
      "| epoch   5 |  5000/32580 batches | loss    1.333 \n",
      "money: so, them, if, rather, fact, taken, others, well, seen, need\n",
      "lion: race, real, programming, favor, participated, accordance, magnetic, ocean, prince, wales\n",
      "africa: europe, india, america, south, kingdom, australia, united, asia, england, nine\n",
      "musician: actor, actress, singer, writer, author, nine, born, composer, poet, politician\n",
      "dance: music, modern, art, traditional, classical, concept, whole, study, early, addition\n",
      "\n",
      "\n"
     ]
    },
    {
     "name": "stderr",
     "output_type": "stream",
     "text": [
      "5503it [01:13, 61.61it/s]"
     ]
    },
    {
     "name": "stdout",
     "output_type": "stream",
     "text": [
      "| epoch   5 |  5500/32580 batches | loss    1.332 \n",
      "money: so, them, if, rather, fact, taken, others, well, seen, need\n",
      "lion: race, real, programming, favor, participated, accordance, magnetic, ocean, prince, wales\n",
      "africa: europe, india, america, south, kingdom, australia, united, asia, england, nine\n",
      "musician: actor, actress, singer, writer, author, nine, born, composer, poet, politician\n",
      "dance: music, modern, art, traditional, classical, concept, whole, study, early, addition\n",
      "\n",
      "\n"
     ]
    },
    {
     "name": "stderr",
     "output_type": "stream",
     "text": [
      "6007it [01:20, 61.19it/s]"
     ]
    },
    {
     "name": "stdout",
     "output_type": "stream",
     "text": [
      "| epoch   5 |  6000/32580 batches | loss    1.327 \n",
      "money: so, them, if, rather, fact, taken, others, well, seen, need\n",
      "lion: race, real, programming, favor, participated, accordance, magnetic, ocean, prince, wales\n",
      "africa: europe, india, america, south, kingdom, australia, united, asia, england, nine\n",
      "musician: actor, actress, singer, writer, author, nine, born, composer, poet, politician\n",
      "dance: music, modern, art, traditional, classical, concept, whole, study, early, addition\n",
      "\n",
      "\n"
     ]
    },
    {
     "name": "stderr",
     "output_type": "stream",
     "text": [
      "6503it [01:27, 60.17it/s]"
     ]
    },
    {
     "name": "stdout",
     "output_type": "stream",
     "text": [
      "| epoch   5 |  6500/32580 batches | loss    1.333 \n",
      "money: so, them, if, rather, fact, taken, others, well, seen, need\n",
      "lion: race, real, programming, favor, participated, accordance, magnetic, ocean, prince, wales\n",
      "africa: europe, india, america, south, kingdom, australia, united, asia, england, nine\n",
      "musician: actor, actress, singer, writer, author, nine, born, composer, poet, politician\n",
      "dance: music, modern, art, traditional, classical, concept, whole, study, early, addition\n",
      "\n",
      "\n"
     ]
    },
    {
     "name": "stderr",
     "output_type": "stream",
     "text": [
      "7003it [01:34, 58.32it/s]"
     ]
    },
    {
     "name": "stdout",
     "output_type": "stream",
     "text": [
      "| epoch   5 |  7000/32580 batches | loss    1.327 \n",
      "money: so, them, if, rather, fact, taken, others, well, seen, need\n",
      "lion: race, real, programming, favor, participated, accordance, magnetic, ocean, prince, wales\n",
      "africa: europe, india, america, south, kingdom, australia, united, asia, england, nine\n",
      "musician: actor, actress, singer, writer, author, nine, born, composer, poet, politician\n",
      "dance: music, modern, art, traditional, classical, concept, whole, study, early, addition\n",
      "\n",
      "\n"
     ]
    },
    {
     "name": "stderr",
     "output_type": "stream",
     "text": [
      "7504it [01:42, 57.56it/s]"
     ]
    },
    {
     "name": "stdout",
     "output_type": "stream",
     "text": [
      "| epoch   5 |  7500/32580 batches | loss    1.328 \n",
      "money: so, them, if, rather, fact, taken, others, well, seen, need\n",
      "lion: race, real, programming, favor, participated, accordance, magnetic, ocean, prince, wales\n",
      "africa: europe, india, america, south, kingdom, australia, united, asia, england, nine\n",
      "musician: actor, actress, singer, writer, author, nine, born, composer, poet, politician\n",
      "dance: music, modern, art, traditional, classical, concept, whole, study, early, addition\n",
      "\n",
      "\n"
     ]
    },
    {
     "name": "stderr",
     "output_type": "stream",
     "text": [
      "8000it [01:49, 71.10it/s]"
     ]
    },
    {
     "name": "stdout",
     "output_type": "stream",
     "text": [
      "| epoch   5 |  8000/32580 batches | loss    1.333 \n",
      "money: so, them, if, rather, fact, taken, others, well, seen, need\n",
      "lion: race, real, programming, favor, participated, accordance, magnetic, ocean, prince, wales\n",
      "africa: europe, india, america, south, kingdom, australia, united, asia, england, nine\n",
      "musician: actor, actress, singer, writer, author, nine, born, composer, poet, politician\n",
      "dance: music, modern, art, traditional, classical, concept, whole, study, early, addition\n",
      "\n",
      "\n"
     ]
    },
    {
     "name": "stderr",
     "output_type": "stream",
     "text": [
      "8506it [01:56, 58.71it/s]"
     ]
    },
    {
     "name": "stdout",
     "output_type": "stream",
     "text": [
      "| epoch   5 |  8500/32580 batches | loss    1.331 \n",
      "money: so, them, if, rather, fact, taken, others, well, seen, need\n",
      "lion: race, real, programming, favor, participated, accordance, magnetic, ocean, prince, wales\n",
      "africa: europe, india, america, south, kingdom, australia, united, asia, england, nine\n",
      "musician: actor, actress, singer, writer, author, nine, born, composer, poet, politician\n",
      "dance: music, modern, art, traditional, classical, concept, whole, study, early, addition\n",
      "\n",
      "\n"
     ]
    },
    {
     "name": "stderr",
     "output_type": "stream",
     "text": [
      "9009it [02:03, 62.71it/s]"
     ]
    },
    {
     "name": "stdout",
     "output_type": "stream",
     "text": [
      "| epoch   5 |  9000/32580 batches | loss    1.331 \n",
      "money: so, them, if, rather, fact, taken, others, well, seen, need\n",
      "lion: race, real, programming, favor, participated, accordance, magnetic, ocean, prince, wales\n",
      "africa: europe, india, america, south, kingdom, australia, united, asia, england, nine\n",
      "musician: actor, actress, singer, writer, author, nine, born, composer, poet, politician\n",
      "dance: music, modern, art, traditional, classical, concept, whole, study, early, addition\n",
      "\n",
      "\n"
     ]
    },
    {
     "name": "stderr",
     "output_type": "stream",
     "text": [
      "9505it [02:10, 58.59it/s]"
     ]
    },
    {
     "name": "stdout",
     "output_type": "stream",
     "text": [
      "| epoch   5 |  9500/32580 batches | loss    1.332 \n",
      "money: so, them, if, rather, fact, taken, others, well, seen, need\n",
      "lion: race, real, programming, favor, participated, accordance, magnetic, ocean, prince, wales\n",
      "africa: europe, india, america, south, kingdom, australia, united, asia, england, nine\n",
      "musician: actor, actress, singer, writer, author, nine, born, composer, poet, politician\n",
      "dance: music, modern, art, traditional, classical, concept, whole, study, early, addition\n",
      "\n",
      "\n"
     ]
    },
    {
     "name": "stderr",
     "output_type": "stream",
     "text": [
      "10008it [02:17, 60.84it/s]"
     ]
    },
    {
     "name": "stdout",
     "output_type": "stream",
     "text": [
      "| epoch   5 | 10000/32580 batches | loss    1.332 \n",
      "money: so, them, if, rather, fact, taken, others, well, seen, need\n",
      "lion: race, real, programming, favor, participated, accordance, magnetic, ocean, prince, wales\n",
      "africa: europe, india, america, south, kingdom, australia, united, asia, england, nine\n",
      "musician: actor, actress, singer, writer, author, nine, born, composer, poet, politician\n",
      "dance: music, modern, art, traditional, classical, concept, whole, study, early, addition\n",
      "\n",
      "\n"
     ]
    },
    {
     "name": "stderr",
     "output_type": "stream",
     "text": [
      "10503it [02:24, 59.64it/s]"
     ]
    },
    {
     "name": "stdout",
     "output_type": "stream",
     "text": [
      "| epoch   5 | 10500/32580 batches | loss    1.326 \n",
      "money: so, them, if, rather, fact, taken, others, well, seen, need\n",
      "lion: race, real, programming, favor, participated, accordance, magnetic, ocean, prince, wales\n",
      "africa: europe, india, america, south, kingdom, australia, united, asia, england, nine\n",
      "musician: actor, actress, singer, writer, author, nine, born, composer, poet, politician\n",
      "dance: music, modern, art, traditional, classical, concept, whole, study, early, addition\n",
      "\n",
      "\n"
     ]
    },
    {
     "name": "stderr",
     "output_type": "stream",
     "text": [
      "11005it [02:31, 58.02it/s]"
     ]
    },
    {
     "name": "stdout",
     "output_type": "stream",
     "text": [
      "| epoch   5 | 11000/32580 batches | loss    1.327 \n",
      "money: so, them, if, rather, fact, taken, others, well, seen, need\n",
      "lion: race, real, programming, favor, participated, accordance, magnetic, ocean, prince, wales\n",
      "africa: europe, india, america, south, kingdom, australia, united, asia, england, nine\n",
      "musician: actor, actress, singer, writer, author, nine, born, composer, poet, politician\n",
      "dance: music, modern, art, traditional, classical, concept, whole, study, early, addition\n",
      "\n",
      "\n"
     ]
    },
    {
     "name": "stderr",
     "output_type": "stream",
     "text": [
      "11508it [02:38, 57.38it/s]"
     ]
    },
    {
     "name": "stdout",
     "output_type": "stream",
     "text": [
      "| epoch   5 | 11500/32580 batches | loss    1.327 \n",
      "money: so, them, if, rather, fact, taken, others, well, seen, need\n",
      "lion: race, real, programming, favor, participated, accordance, magnetic, ocean, prince, wales\n",
      "africa: europe, india, america, south, kingdom, australia, united, asia, england, nine\n",
      "musician: actor, actress, singer, writer, author, nine, born, composer, poet, politician\n",
      "dance: music, modern, art, traditional, classical, concept, whole, study, early, addition\n",
      "\n",
      "\n"
     ]
    },
    {
     "name": "stderr",
     "output_type": "stream",
     "text": [
      "12004it [02:45, 59.19it/s]"
     ]
    },
    {
     "name": "stdout",
     "output_type": "stream",
     "text": [
      "| epoch   5 | 12000/32580 batches | loss    1.333 \n",
      "money: so, them, if, rather, fact, taken, others, well, seen, need\n",
      "lion: race, real, programming, favor, participated, accordance, magnetic, ocean, prince, wales\n",
      "africa: europe, india, america, south, kingdom, australia, united, asia, england, nine\n",
      "musician: actor, actress, singer, writer, author, nine, born, composer, poet, politician\n",
      "dance: music, modern, art, traditional, classical, concept, whole, study, early, addition\n",
      "\n",
      "\n"
     ]
    },
    {
     "name": "stderr",
     "output_type": "stream",
     "text": [
      "12508it [02:52, 58.52it/s]"
     ]
    },
    {
     "name": "stdout",
     "output_type": "stream",
     "text": [
      "| epoch   5 | 12500/32580 batches | loss    1.331 \n",
      "money: so, them, if, rather, fact, taken, others, well, seen, need\n",
      "lion: race, real, programming, favor, participated, accordance, magnetic, ocean, prince, wales\n",
      "africa: europe, india, america, south, kingdom, australia, united, asia, england, nine\n",
      "musician: actor, actress, singer, writer, author, nine, born, composer, poet, politician\n",
      "dance: music, modern, art, traditional, classical, concept, whole, study, early, addition\n",
      "\n",
      "\n"
     ]
    },
    {
     "name": "stderr",
     "output_type": "stream",
     "text": [
      "13003it [02:59, 57.71it/s]"
     ]
    },
    {
     "name": "stdout",
     "output_type": "stream",
     "text": [
      "| epoch   5 | 13000/32580 batches | loss    1.334 \n",
      "money: so, them, if, rather, fact, taken, others, well, seen, need\n",
      "lion: race, real, programming, favor, participated, accordance, magnetic, ocean, prince, wales\n",
      "africa: europe, india, america, south, kingdom, australia, united, asia, england, nine\n",
      "musician: actor, actress, singer, writer, author, nine, born, composer, poet, politician\n",
      "dance: music, modern, art, traditional, classical, concept, whole, study, early, addition\n",
      "\n",
      "\n"
     ]
    },
    {
     "name": "stderr",
     "output_type": "stream",
     "text": [
      "13505it [03:06, 58.78it/s]"
     ]
    },
    {
     "name": "stdout",
     "output_type": "stream",
     "text": [
      "| epoch   5 | 13500/32580 batches | loss    1.334 \n",
      "money: so, them, if, rather, fact, taken, others, well, seen, need\n",
      "lion: race, real, programming, favor, participated, accordance, magnetic, ocean, prince, wales\n",
      "africa: europe, india, america, south, kingdom, australia, united, asia, england, nine\n",
      "musician: actor, actress, singer, writer, author, nine, born, composer, poet, politician\n",
      "dance: music, modern, art, traditional, classical, concept, whole, study, early, addition\n",
      "\n",
      "\n"
     ]
    },
    {
     "name": "stderr",
     "output_type": "stream",
     "text": [
      "14008it [03:13, 58.58it/s]"
     ]
    },
    {
     "name": "stdout",
     "output_type": "stream",
     "text": [
      "| epoch   5 | 14000/32580 batches | loss    1.332 \n",
      "money: so, them, if, rather, fact, taken, others, well, seen, need\n",
      "lion: race, real, programming, favor, participated, accordance, magnetic, ocean, prince, wales\n",
      "africa: europe, india, america, south, kingdom, australia, united, asia, england, nine\n",
      "musician: actor, actress, singer, writer, author, nine, born, composer, poet, politician\n",
      "dance: music, modern, art, traditional, classical, concept, whole, study, early, addition\n",
      "\n",
      "\n"
     ]
    },
    {
     "name": "stderr",
     "output_type": "stream",
     "text": [
      "14507it [03:20, 56.12it/s]"
     ]
    },
    {
     "name": "stdout",
     "output_type": "stream",
     "text": [
      "| epoch   5 | 14500/32580 batches | loss    1.328 \n",
      "money: so, them, if, rather, fact, taken, others, well, seen, need\n",
      "lion: race, real, programming, favor, participated, accordance, magnetic, ocean, prince, wales\n",
      "africa: europe, india, america, south, kingdom, australia, united, asia, england, nine\n",
      "musician: actor, actress, singer, writer, author, nine, born, composer, poet, politician\n",
      "dance: music, modern, art, traditional, classical, concept, whole, study, early, addition\n",
      "\n",
      "\n"
     ]
    },
    {
     "name": "stderr",
     "output_type": "stream",
     "text": [
      "15003it [03:27, 58.14it/s]"
     ]
    },
    {
     "name": "stdout",
     "output_type": "stream",
     "text": [
      "| epoch   5 | 15000/32580 batches | loss    1.325 \n",
      "money: so, them, if, rather, fact, taken, others, well, seen, need\n",
      "lion: race, real, programming, favor, participated, accordance, magnetic, ocean, prince, wales\n",
      "africa: europe, india, america, south, kingdom, australia, united, asia, england, nine\n",
      "musician: actor, actress, singer, writer, author, nine, born, composer, poet, politician\n",
      "dance: music, modern, art, traditional, classical, concept, whole, study, early, addition\n",
      "\n",
      "\n"
     ]
    },
    {
     "name": "stderr",
     "output_type": "stream",
     "text": [
      "15506it [03:34, 59.69it/s]"
     ]
    },
    {
     "name": "stdout",
     "output_type": "stream",
     "text": [
      "| epoch   5 | 15500/32580 batches | loss    1.331 \n",
      "money: so, them, if, rather, fact, taken, others, well, seen, need\n",
      "lion: race, real, programming, favor, participated, accordance, magnetic, ocean, prince, wales\n",
      "africa: europe, india, america, south, kingdom, australia, united, asia, england, nine\n",
      "musician: actor, actress, singer, writer, author, nine, born, composer, poet, politician\n",
      "dance: music, modern, art, traditional, classical, concept, whole, study, early, addition\n",
      "\n",
      "\n"
     ]
    },
    {
     "name": "stderr",
     "output_type": "stream",
     "text": [
      "16002it [03:41, 57.75it/s]"
     ]
    },
    {
     "name": "stdout",
     "output_type": "stream",
     "text": [
      "| epoch   5 | 16000/32580 batches | loss    1.331 \n",
      "money: so, them, if, rather, fact, taken, others, well, seen, need\n",
      "lion: race, real, programming, favor, participated, accordance, magnetic, ocean, prince, wales\n",
      "africa: europe, india, america, south, kingdom, australia, united, asia, england, nine\n",
      "musician: actor, actress, singer, writer, author, nine, born, composer, poet, politician\n",
      "dance: music, modern, art, traditional, classical, concept, whole, study, early, addition\n",
      "\n",
      "\n"
     ]
    },
    {
     "name": "stderr",
     "output_type": "stream",
     "text": [
      "16505it [03:48, 58.81it/s]"
     ]
    },
    {
     "name": "stdout",
     "output_type": "stream",
     "text": [
      "| epoch   5 | 16500/32580 batches | loss    1.330 \n",
      "money: so, them, if, rather, fact, taken, others, well, seen, need\n",
      "lion: race, real, programming, favor, participated, accordance, magnetic, ocean, prince, wales\n",
      "africa: europe, india, america, south, kingdom, australia, united, asia, england, nine\n",
      "musician: actor, actress, singer, writer, author, nine, born, composer, poet, politician\n",
      "dance: music, modern, art, traditional, classical, concept, whole, study, early, addition\n",
      "\n",
      "\n"
     ]
    },
    {
     "name": "stderr",
     "output_type": "stream",
     "text": [
      "17009it [03:55, 61.73it/s]"
     ]
    },
    {
     "name": "stdout",
     "output_type": "stream",
     "text": [
      "| epoch   5 | 17000/32580 batches | loss    1.330 \n",
      "money: so, them, if, rather, fact, taken, others, well, seen, need\n",
      "lion: race, real, programming, favor, participated, accordance, magnetic, ocean, prince, wales\n",
      "africa: europe, india, america, south, kingdom, australia, united, asia, england, nine\n",
      "musician: actor, actress, singer, writer, author, nine, born, composer, poet, politician\n",
      "dance: music, modern, art, traditional, classical, concept, whole, study, early, addition\n",
      "\n",
      "\n"
     ]
    },
    {
     "name": "stderr",
     "output_type": "stream",
     "text": [
      "17504it [04:02, 58.49it/s]"
     ]
    },
    {
     "name": "stdout",
     "output_type": "stream",
     "text": [
      "| epoch   5 | 17500/32580 batches | loss    1.332 \n",
      "money: so, them, if, rather, fact, taken, others, well, seen, need\n",
      "lion: race, real, programming, favor, participated, accordance, magnetic, ocean, prince, wales\n",
      "africa: europe, india, america, south, kingdom, australia, united, asia, england, nine\n",
      "musician: actor, actress, singer, writer, author, nine, born, composer, poet, politician\n",
      "dance: music, modern, art, traditional, classical, concept, whole, study, early, addition\n",
      "\n",
      "\n"
     ]
    },
    {
     "name": "stderr",
     "output_type": "stream",
     "text": [
      "18006it [04:09, 59.59it/s]"
     ]
    },
    {
     "name": "stdout",
     "output_type": "stream",
     "text": [
      "| epoch   5 | 18000/32580 batches | loss    1.331 \n",
      "money: so, them, if, rather, fact, taken, others, well, seen, need\n",
      "lion: race, real, programming, favor, participated, accordance, magnetic, ocean, prince, wales\n",
      "africa: europe, india, america, south, kingdom, australia, united, asia, england, nine\n",
      "musician: actor, actress, singer, writer, author, nine, born, composer, poet, politician\n",
      "dance: music, modern, art, traditional, classical, concept, whole, study, early, addition\n",
      "\n",
      "\n"
     ]
    },
    {
     "name": "stderr",
     "output_type": "stream",
     "text": [
      "18508it [04:16, 61.45it/s]"
     ]
    },
    {
     "name": "stdout",
     "output_type": "stream",
     "text": [
      "| epoch   5 | 18500/32580 batches | loss    1.328 \n",
      "money: so, them, if, rather, fact, taken, others, well, seen, need\n",
      "lion: race, real, programming, favor, participated, accordance, magnetic, ocean, prince, wales\n",
      "africa: europe, india, america, south, kingdom, australia, united, asia, england, nine\n",
      "musician: actor, actress, singer, writer, author, nine, born, composer, poet, politician\n",
      "dance: music, modern, art, traditional, classical, concept, whole, study, early, addition\n",
      "\n",
      "\n"
     ]
    },
    {
     "name": "stderr",
     "output_type": "stream",
     "text": [
      "19003it [04:23, 57.75it/s]"
     ]
    },
    {
     "name": "stdout",
     "output_type": "stream",
     "text": [
      "| epoch   5 | 19000/32580 batches | loss    1.326 \n",
      "money: so, them, if, rather, fact, taken, others, well, seen, need\n",
      "lion: race, real, programming, favor, participated, accordance, magnetic, ocean, prince, wales\n",
      "africa: europe, india, america, south, kingdom, australia, united, asia, england, nine\n",
      "musician: actor, actress, singer, writer, author, nine, born, composer, poet, politician\n",
      "dance: music, modern, art, traditional, classical, concept, whole, study, early, addition\n",
      "\n",
      "\n"
     ]
    },
    {
     "name": "stderr",
     "output_type": "stream",
     "text": [
      "19506it [04:30, 59.07it/s]"
     ]
    },
    {
     "name": "stdout",
     "output_type": "stream",
     "text": [
      "| epoch   5 | 19500/32580 batches | loss    1.329 \n",
      "money: so, them, if, rather, fact, taken, others, well, seen, need\n",
      "lion: race, real, programming, favor, participated, accordance, magnetic, ocean, prince, wales\n",
      "africa: europe, india, america, south, kingdom, australia, united, asia, england, nine\n",
      "musician: actor, actress, singer, writer, author, nine, born, composer, poet, politician\n",
      "dance: music, modern, art, traditional, classical, concept, whole, study, early, addition\n",
      "\n",
      "\n"
     ]
    },
    {
     "name": "stderr",
     "output_type": "stream",
     "text": [
      "20009it [04:37, 62.85it/s]"
     ]
    },
    {
     "name": "stdout",
     "output_type": "stream",
     "text": [
      "| epoch   5 | 20000/32580 batches | loss    1.330 \n",
      "money: so, them, if, rather, fact, taken, others, well, seen, need\n",
      "lion: race, real, programming, favor, participated, accordance, magnetic, ocean, prince, wales\n",
      "africa: europe, india, america, south, kingdom, australia, united, asia, england, nine\n",
      "musician: actor, actress, singer, writer, author, nine, born, composer, poet, politician\n",
      "dance: music, modern, art, traditional, classical, concept, whole, study, early, addition\n",
      "\n",
      "\n"
     ]
    },
    {
     "name": "stderr",
     "output_type": "stream",
     "text": [
      "20505it [04:44, 59.21it/s]"
     ]
    },
    {
     "name": "stdout",
     "output_type": "stream",
     "text": [
      "| epoch   5 | 20500/32580 batches | loss    1.334 \n",
      "money: so, them, if, rather, fact, taken, others, well, seen, need\n",
      "lion: race, real, programming, favor, participated, accordance, magnetic, ocean, prince, wales\n",
      "africa: europe, india, america, south, kingdom, australia, united, asia, england, nine\n",
      "musician: actor, actress, singer, writer, author, nine, born, composer, poet, politician\n",
      "dance: music, modern, art, traditional, classical, concept, whole, study, early, addition\n",
      "\n",
      "\n"
     ]
    },
    {
     "name": "stderr",
     "output_type": "stream",
     "text": [
      "21007it [04:51, 59.43it/s]"
     ]
    },
    {
     "name": "stdout",
     "output_type": "stream",
     "text": [
      "| epoch   5 | 21000/32580 batches | loss    1.333 \n",
      "money: so, them, if, rather, fact, taken, others, well, seen, need\n",
      "lion: race, real, programming, favor, participated, accordance, magnetic, ocean, prince, wales\n",
      "africa: europe, india, america, south, kingdom, australia, united, asia, england, nine\n",
      "musician: actor, actress, singer, writer, author, nine, born, composer, poet, politician\n",
      "dance: music, modern, art, traditional, classical, concept, whole, study, early, addition\n",
      "\n",
      "\n"
     ]
    },
    {
     "name": "stderr",
     "output_type": "stream",
     "text": [
      "21503it [04:58, 60.16it/s]"
     ]
    },
    {
     "name": "stdout",
     "output_type": "stream",
     "text": [
      "| epoch   5 | 21500/32580 batches | loss    1.333 \n",
      "money: so, them, if, rather, fact, taken, others, well, seen, need\n",
      "lion: race, real, programming, favor, participated, accordance, magnetic, ocean, prince, wales\n",
      "africa: europe, india, america, south, kingdom, australia, united, asia, england, nine\n",
      "musician: actor, actress, singer, writer, author, nine, born, composer, poet, politician\n",
      "dance: music, modern, art, traditional, classical, concept, whole, study, early, addition\n",
      "\n",
      "\n"
     ]
    },
    {
     "name": "stderr",
     "output_type": "stream",
     "text": [
      "22006it [05:05, 59.23it/s]"
     ]
    },
    {
     "name": "stdout",
     "output_type": "stream",
     "text": [
      "| epoch   5 | 22000/32580 batches | loss    1.334 \n",
      "money: so, them, if, rather, fact, taken, others, well, seen, need\n",
      "lion: race, real, programming, favor, participated, accordance, magnetic, ocean, prince, wales\n",
      "africa: europe, india, america, south, kingdom, australia, united, asia, england, nine\n",
      "musician: actor, actress, singer, writer, author, nine, born, composer, poet, politician\n",
      "dance: music, modern, art, traditional, classical, concept, whole, study, early, addition\n",
      "\n",
      "\n"
     ]
    },
    {
     "name": "stderr",
     "output_type": "stream",
     "text": [
      "22509it [05:12, 62.12it/s]"
     ]
    },
    {
     "name": "stdout",
     "output_type": "stream",
     "text": [
      "| epoch   5 | 22500/32580 batches | loss    1.331 \n",
      "money: so, them, if, rather, fact, taken, others, well, seen, need\n",
      "lion: race, real, programming, favor, participated, accordance, magnetic, ocean, prince, wales\n",
      "africa: europe, india, america, south, kingdom, australia, united, asia, england, nine\n",
      "musician: actor, actress, singer, writer, author, nine, born, composer, poet, politician\n",
      "dance: music, modern, art, traditional, classical, concept, whole, study, early, addition\n",
      "\n",
      "\n"
     ]
    },
    {
     "name": "stderr",
     "output_type": "stream",
     "text": [
      "23004it [05:18, 59.03it/s]"
     ]
    },
    {
     "name": "stdout",
     "output_type": "stream",
     "text": [
      "| epoch   5 | 23000/32580 batches | loss    1.328 \n",
      "money: so, them, if, rather, fact, taken, others, well, seen, need\n",
      "lion: race, real, programming, favor, participated, accordance, magnetic, ocean, prince, wales\n",
      "africa: europe, india, america, south, kingdom, australia, united, asia, england, nine\n",
      "musician: actor, actress, singer, writer, author, nine, born, composer, poet, politician\n",
      "dance: music, modern, art, traditional, classical, concept, whole, study, early, addition\n",
      "\n",
      "\n"
     ]
    },
    {
     "name": "stderr",
     "output_type": "stream",
     "text": [
      "23507it [05:25, 57.13it/s]"
     ]
    },
    {
     "name": "stdout",
     "output_type": "stream",
     "text": [
      "| epoch   5 | 23500/32580 batches | loss    1.334 \n",
      "money: so, them, if, rather, fact, taken, others, well, seen, need\n",
      "lion: race, real, programming, favor, participated, accordance, magnetic, ocean, prince, wales\n",
      "africa: europe, india, america, south, kingdom, australia, united, asia, england, nine\n",
      "musician: actor, actress, singer, writer, author, nine, born, composer, poet, politician\n",
      "dance: music, modern, art, traditional, classical, concept, whole, study, early, addition\n",
      "\n",
      "\n"
     ]
    },
    {
     "name": "stderr",
     "output_type": "stream",
     "text": [
      "24003it [05:32, 59.25it/s]"
     ]
    },
    {
     "name": "stdout",
     "output_type": "stream",
     "text": [
      "| epoch   5 | 24000/32580 batches | loss    1.324 \n",
      "money: so, them, if, rather, fact, taken, others, well, seen, need\n",
      "lion: race, real, programming, favor, participated, accordance, magnetic, ocean, prince, wales\n",
      "africa: europe, india, america, south, kingdom, australia, united, asia, england, nine\n",
      "musician: actor, actress, singer, writer, author, nine, born, composer, poet, politician\n",
      "dance: music, modern, art, traditional, classical, concept, whole, study, early, addition\n",
      "\n",
      "\n"
     ]
    },
    {
     "name": "stderr",
     "output_type": "stream",
     "text": [
      "24507it [05:39, 58.98it/s]"
     ]
    },
    {
     "name": "stdout",
     "output_type": "stream",
     "text": [
      "| epoch   5 | 24500/32580 batches | loss    1.333 \n",
      "money: so, them, if, rather, fact, taken, others, well, seen, need\n",
      "lion: race, real, programming, favor, participated, accordance, magnetic, ocean, prince, wales\n",
      "africa: europe, india, america, south, kingdom, australia, united, asia, england, nine\n",
      "musician: actor, actress, singer, writer, author, nine, born, composer, poet, politician\n",
      "dance: music, modern, art, traditional, classical, concept, whole, study, early, addition\n",
      "\n",
      "\n"
     ]
    },
    {
     "name": "stderr",
     "output_type": "stream",
     "text": [
      "25009it [05:46, 60.67it/s]"
     ]
    },
    {
     "name": "stdout",
     "output_type": "stream",
     "text": [
      "| epoch   5 | 25000/32580 batches | loss    1.335 \n",
      "money: so, them, if, rather, fact, taken, others, well, seen, need\n",
      "lion: race, real, programming, favor, participated, accordance, magnetic, ocean, prince, wales\n",
      "africa: europe, india, america, south, kingdom, australia, united, asia, england, nine\n",
      "musician: actor, actress, singer, writer, author, nine, born, composer, poet, politician\n",
      "dance: music, modern, art, traditional, classical, concept, whole, study, early, addition\n",
      "\n",
      "\n"
     ]
    },
    {
     "name": "stderr",
     "output_type": "stream",
     "text": [
      "25505it [05:53, 57.98it/s]"
     ]
    },
    {
     "name": "stdout",
     "output_type": "stream",
     "text": [
      "| epoch   5 | 25500/32580 batches | loss    1.327 \n",
      "money: so, them, if, rather, fact, taken, others, well, seen, need\n",
      "lion: race, real, programming, favor, participated, accordance, magnetic, ocean, prince, wales\n",
      "africa: europe, india, america, south, kingdom, australia, united, asia, england, nine\n",
      "musician: actor, actress, singer, writer, author, nine, born, composer, poet, politician\n",
      "dance: music, modern, art, traditional, classical, concept, whole, study, early, addition\n",
      "\n",
      "\n"
     ]
    },
    {
     "name": "stderr",
     "output_type": "stream",
     "text": [
      "26000it [06:00, 73.26it/s]"
     ]
    },
    {
     "name": "stdout",
     "output_type": "stream",
     "text": [
      "| epoch   5 | 26000/32580 batches | loss    1.333 \n",
      "money: so, them, if, rather, fact, taken, others, well, seen, need\n",
      "lion: race, real, programming, favor, participated, accordance, magnetic, ocean, prince, wales\n",
      "africa: europe, india, america, south, kingdom, australia, united, asia, england, nine\n",
      "musician: actor, actress, singer, writer, author, nine, born, composer, poet, politician\n",
      "dance: music, modern, art, traditional, classical, concept, whole, study, early, addition\n",
      "\n",
      "\n"
     ]
    },
    {
     "name": "stderr",
     "output_type": "stream",
     "text": [
      "26504it [06:07, 58.42it/s]"
     ]
    },
    {
     "name": "stdout",
     "output_type": "stream",
     "text": [
      "| epoch   5 | 26500/32580 batches | loss    1.331 \n",
      "money: so, them, if, rather, fact, taken, others, well, seen, need\n",
      "lion: race, real, programming, favor, participated, accordance, magnetic, ocean, prince, wales\n",
      "africa: europe, india, america, south, kingdom, australia, united, asia, england, nine\n",
      "musician: actor, actress, singer, writer, author, nine, born, composer, poet, politician\n",
      "dance: music, modern, art, traditional, classical, concept, whole, study, early, addition\n",
      "\n",
      "\n"
     ]
    },
    {
     "name": "stderr",
     "output_type": "stream",
     "text": [
      "27005it [06:14, 58.88it/s]"
     ]
    },
    {
     "name": "stdout",
     "output_type": "stream",
     "text": [
      "| epoch   5 | 27000/32580 batches | loss    1.330 \n",
      "money: so, them, if, rather, fact, taken, others, well, seen, need\n",
      "lion: race, real, programming, favor, participated, accordance, magnetic, ocean, prince, wales\n",
      "africa: europe, india, america, south, kingdom, australia, united, asia, england, nine\n",
      "musician: actor, actress, singer, writer, author, nine, born, composer, poet, politician\n",
      "dance: music, modern, art, traditional, classical, concept, whole, study, early, addition\n",
      "\n",
      "\n"
     ]
    },
    {
     "name": "stderr",
     "output_type": "stream",
     "text": [
      "27508it [06:21, 59.35it/s]"
     ]
    },
    {
     "name": "stdout",
     "output_type": "stream",
     "text": [
      "| epoch   5 | 27500/32580 batches | loss    1.329 \n",
      "money: so, them, if, rather, fact, taken, others, well, seen, need\n",
      "lion: race, real, programming, favor, participated, accordance, magnetic, ocean, prince, wales\n",
      "africa: europe, india, america, south, kingdom, australia, united, asia, england, nine\n",
      "musician: actor, actress, singer, writer, author, nine, born, composer, poet, politician\n",
      "dance: music, modern, art, traditional, classical, concept, whole, study, early, addition\n",
      "\n",
      "\n"
     ]
    },
    {
     "name": "stderr",
     "output_type": "stream",
     "text": [
      "28004it [06:28, 56.44it/s]"
     ]
    },
    {
     "name": "stdout",
     "output_type": "stream",
     "text": [
      "| epoch   5 | 28000/32580 batches | loss    1.330 \n",
      "money: so, them, if, rather, fact, taken, others, well, seen, need\n",
      "lion: race, real, programming, favor, participated, accordance, magnetic, ocean, prince, wales\n",
      "africa: europe, india, america, south, kingdom, australia, united, asia, england, nine\n",
      "musician: actor, actress, singer, writer, author, nine, born, composer, poet, politician\n",
      "dance: music, modern, art, traditional, classical, concept, whole, study, early, addition\n",
      "\n",
      "\n"
     ]
    },
    {
     "name": "stderr",
     "output_type": "stream",
     "text": [
      "28508it [06:35, 56.78it/s]"
     ]
    },
    {
     "name": "stdout",
     "output_type": "stream",
     "text": [
      "| epoch   5 | 28500/32580 batches | loss    1.327 \n",
      "money: so, them, if, rather, fact, taken, others, well, seen, need\n",
      "lion: race, real, programming, favor, participated, accordance, magnetic, ocean, prince, wales\n",
      "africa: europe, india, america, south, kingdom, australia, united, asia, england, nine\n",
      "musician: actor, actress, singer, writer, author, nine, born, composer, poet, politician\n",
      "dance: music, modern, art, traditional, classical, concept, whole, study, early, addition\n",
      "\n",
      "\n"
     ]
    },
    {
     "name": "stderr",
     "output_type": "stream",
     "text": [
      "29004it [06:42, 57.70it/s]"
     ]
    },
    {
     "name": "stdout",
     "output_type": "stream",
     "text": [
      "| epoch   5 | 29000/32580 batches | loss    1.329 \n",
      "money: so, them, if, rather, fact, taken, others, well, seen, need\n",
      "lion: race, real, programming, favor, participated, accordance, magnetic, ocean, prince, wales\n",
      "africa: europe, india, america, south, kingdom, australia, united, asia, england, nine\n",
      "musician: actor, actress, singer, writer, author, nine, born, composer, poet, politician\n",
      "dance: music, modern, art, traditional, classical, concept, whole, study, early, addition\n",
      "\n",
      "\n"
     ]
    },
    {
     "name": "stderr",
     "output_type": "stream",
     "text": [
      "29506it [06:49, 56.88it/s]"
     ]
    },
    {
     "name": "stdout",
     "output_type": "stream",
     "text": [
      "| epoch   5 | 29500/32580 batches | loss    1.329 \n",
      "money: so, them, if, rather, fact, taken, others, well, seen, need\n",
      "lion: race, real, programming, favor, participated, accordance, magnetic, ocean, prince, wales\n",
      "africa: europe, india, america, south, kingdom, australia, united, asia, england, nine\n",
      "musician: actor, actress, singer, writer, author, nine, born, composer, poet, politician\n",
      "dance: music, modern, art, traditional, classical, concept, whole, study, early, addition\n",
      "\n",
      "\n"
     ]
    },
    {
     "name": "stderr",
     "output_type": "stream",
     "text": [
      "30008it [06:57, 57.38it/s]"
     ]
    },
    {
     "name": "stdout",
     "output_type": "stream",
     "text": [
      "| epoch   5 | 30000/32580 batches | loss    1.329 \n",
      "money: so, them, if, rather, fact, taken, others, well, seen, need\n",
      "lion: race, real, programming, favor, participated, accordance, magnetic, ocean, prince, wales\n",
      "africa: europe, india, america, south, kingdom, australia, united, asia, england, nine\n",
      "musician: actor, actress, singer, writer, author, nine, born, composer, poet, politician\n",
      "dance: music, modern, art, traditional, classical, concept, whole, study, early, addition\n",
      "\n",
      "\n"
     ]
    },
    {
     "name": "stderr",
     "output_type": "stream",
     "text": [
      "30509it [07:04, 60.39it/s]"
     ]
    },
    {
     "name": "stdout",
     "output_type": "stream",
     "text": [
      "| epoch   5 | 30500/32580 batches | loss    1.330 \n",
      "money: so, them, if, rather, fact, taken, others, well, seen, need\n",
      "lion: race, real, programming, favor, participated, accordance, magnetic, ocean, prince, wales\n",
      "africa: europe, india, america, south, kingdom, australia, united, asia, england, nine\n",
      "musician: actor, actress, singer, writer, author, nine, born, composer, poet, politician\n",
      "dance: music, modern, art, traditional, classical, concept, whole, study, early, addition\n",
      "\n",
      "\n"
     ]
    },
    {
     "name": "stderr",
     "output_type": "stream",
     "text": [
      "31004it [07:13, 56.65it/s]"
     ]
    },
    {
     "name": "stdout",
     "output_type": "stream",
     "text": [
      "| epoch   5 | 31000/32580 batches | loss    1.325 \n",
      "money: so, them, if, rather, fact, taken, others, well, seen, need\n",
      "lion: race, real, programming, favor, participated, accordance, magnetic, ocean, prince, wales\n",
      "africa: europe, india, america, south, kingdom, australia, united, asia, england, nine\n",
      "musician: actor, actress, singer, writer, author, nine, born, composer, poet, politician\n",
      "dance: music, modern, art, traditional, classical, concept, whole, study, early, addition\n",
      "\n",
      "\n"
     ]
    },
    {
     "name": "stderr",
     "output_type": "stream",
     "text": [
      "31509it [07:21, 60.10it/s]"
     ]
    },
    {
     "name": "stdout",
     "output_type": "stream",
     "text": [
      "| epoch   5 | 31500/32580 batches | loss    1.330 \n",
      "money: so, them, if, rather, fact, taken, others, well, seen, need\n",
      "lion: race, real, programming, favor, participated, accordance, magnetic, ocean, prince, wales\n",
      "africa: europe, india, america, south, kingdom, australia, united, asia, england, nine\n",
      "musician: actor, actress, singer, writer, author, nine, born, composer, poet, politician\n",
      "dance: music, modern, art, traditional, classical, concept, whole, study, early, addition\n",
      "\n",
      "\n"
     ]
    },
    {
     "name": "stderr",
     "output_type": "stream",
     "text": [
      "32005it [07:28, 58.47it/s]"
     ]
    },
    {
     "name": "stdout",
     "output_type": "stream",
     "text": [
      "| epoch   5 | 32000/32580 batches | loss    1.332 \n",
      "money: so, them, if, rather, fact, taken, others, well, seen, need\n",
      "lion: race, real, programming, favor, participated, accordance, magnetic, ocean, prince, wales\n",
      "africa: europe, india, america, south, kingdom, australia, united, asia, england, nine\n",
      "musician: actor, actress, singer, writer, author, nine, born, composer, poet, politician\n",
      "dance: music, modern, art, traditional, classical, concept, whole, study, early, addition\n",
      "\n",
      "\n"
     ]
    },
    {
     "name": "stderr",
     "output_type": "stream",
     "text": [
      "32508it [07:35, 57.45it/s]"
     ]
    },
    {
     "name": "stdout",
     "output_type": "stream",
     "text": [
      "| epoch   5 | 32500/32580 batches | loss    1.334 \n",
      "money: so, them, if, rather, fact, taken, others, well, seen, need\n",
      "lion: race, real, programming, favor, participated, accordance, magnetic, ocean, prince, wales\n",
      "africa: europe, india, america, south, kingdom, australia, united, asia, england, nine\n",
      "musician: actor, actress, singer, writer, author, nine, born, composer, poet, politician\n",
      "dance: music, modern, art, traditional, classical, concept, whole, study, early, addition\n",
      "\n",
      "\n"
     ]
    },
    {
     "name": "stderr",
     "output_type": "stream",
     "text": [
      "32580it [07:37, 71.29it/s]\n",
      "4it [00:00,  5.46it/s]"
     ]
    },
    {
     "name": "stdout",
     "output_type": "stream",
     "text": [
      "| epoch   6 |     0/32580 batches | loss    1.377 \n",
      "money: so, them, if, rather, fact, taken, others, well, seen, need\n",
      "lion: race, real, programming, favor, participated, accordance, magnetic, ocean, prince, wales\n",
      "africa: europe, india, america, south, kingdom, australia, united, asia, england, nine\n",
      "musician: actor, actress, singer, writer, author, nine, born, composer, poet, politician\n",
      "dance: music, modern, art, traditional, classical, concept, whole, study, early, addition\n",
      "\n",
      "\n"
     ]
    },
    {
     "name": "stderr",
     "output_type": "stream",
     "text": [
      "505it [00:08, 58.10it/s]"
     ]
    },
    {
     "name": "stdout",
     "output_type": "stream",
     "text": [
      "| epoch   6 |   500/32580 batches | loss    1.331 \n",
      "money: so, them, if, rather, fact, taken, others, well, seen, need\n",
      "lion: race, real, programming, favor, participated, accordance, magnetic, ocean, prince, wales\n",
      "africa: europe, india, america, south, kingdom, australia, united, asia, england, nine\n",
      "musician: actor, actress, singer, writer, author, nine, born, composer, poet, politician\n",
      "dance: music, modern, art, traditional, classical, concept, whole, study, early, addition\n",
      "\n",
      "\n"
     ]
    },
    {
     "name": "stderr",
     "output_type": "stream",
     "text": [
      "1007it [00:15, 56.57it/s]"
     ]
    },
    {
     "name": "stdout",
     "output_type": "stream",
     "text": [
      "| epoch   6 |  1000/32580 batches | loss    1.330 \n",
      "money: so, them, if, rather, fact, taken, others, well, seen, need\n",
      "lion: race, real, programming, favor, participated, accordance, magnetic, ocean, prince, wales\n",
      "africa: europe, india, america, south, kingdom, australia, united, asia, england, nine\n",
      "musician: actor, actress, singer, writer, author, nine, born, composer, poet, politician\n",
      "dance: music, modern, art, traditional, classical, concept, whole, study, early, addition\n",
      "\n",
      "\n"
     ]
    },
    {
     "name": "stderr",
     "output_type": "stream",
     "text": [
      "1502it [00:22, 57.72it/s]"
     ]
    },
    {
     "name": "stdout",
     "output_type": "stream",
     "text": [
      "| epoch   6 |  1500/32580 batches | loss    1.330 \n",
      "money: so, them, if, rather, fact, taken, others, well, seen, need\n",
      "lion: race, real, programming, favor, participated, accordance, magnetic, ocean, prince, wales\n",
      "africa: europe, india, america, south, kingdom, australia, united, asia, england, nine\n",
      "musician: actor, actress, singer, writer, author, nine, born, composer, poet, politician\n",
      "dance: music, modern, art, traditional, classical, concept, whole, study, early, addition\n",
      "\n",
      "\n"
     ]
    },
    {
     "name": "stderr",
     "output_type": "stream",
     "text": [
      "2003it [00:29, 58.52it/s]"
     ]
    },
    {
     "name": "stdout",
     "output_type": "stream",
     "text": [
      "| epoch   6 |  2000/32580 batches | loss    1.332 \n",
      "money: so, them, if, rather, fact, taken, others, well, seen, need\n",
      "lion: race, real, programming, favor, participated, accordance, magnetic, ocean, prince, wales\n",
      "africa: europe, india, america, south, kingdom, australia, united, asia, england, nine\n",
      "musician: actor, actress, singer, writer, author, nine, born, composer, poet, politician\n",
      "dance: music, modern, art, traditional, classical, concept, whole, study, early, addition\n",
      "\n",
      "\n"
     ]
    },
    {
     "name": "stderr",
     "output_type": "stream",
     "text": [
      "2506it [00:36, 57.29it/s]"
     ]
    },
    {
     "name": "stdout",
     "output_type": "stream",
     "text": [
      "| epoch   6 |  2500/32580 batches | loss    1.326 \n",
      "money: so, them, if, rather, fact, taken, others, well, seen, need\n",
      "lion: race, real, programming, favor, participated, accordance, magnetic, ocean, prince, wales\n",
      "africa: europe, india, america, south, kingdom, australia, united, asia, england, nine\n",
      "musician: actor, actress, singer, writer, author, nine, born, composer, poet, politician\n",
      "dance: music, modern, art, traditional, classical, concept, whole, study, early, addition\n",
      "\n",
      "\n"
     ]
    },
    {
     "name": "stderr",
     "output_type": "stream",
     "text": [
      "3008it [00:43, 60.82it/s]"
     ]
    },
    {
     "name": "stdout",
     "output_type": "stream",
     "text": [
      "| epoch   6 |  3000/32580 batches | loss    1.329 \n",
      "money: so, them, if, rather, fact, taken, others, well, seen, need\n",
      "lion: race, real, programming, favor, participated, accordance, magnetic, ocean, prince, wales\n",
      "africa: europe, india, america, south, kingdom, australia, united, asia, england, nine\n",
      "musician: actor, actress, singer, writer, author, nine, born, composer, poet, politician\n",
      "dance: music, modern, art, traditional, classical, concept, whole, study, early, addition\n",
      "\n",
      "\n"
     ]
    },
    {
     "name": "stderr",
     "output_type": "stream",
     "text": [
      "3504it [00:50, 60.40it/s]"
     ]
    },
    {
     "name": "stdout",
     "output_type": "stream",
     "text": [
      "| epoch   6 |  3500/32580 batches | loss    1.332 \n",
      "money: so, them, if, rather, fact, taken, others, well, seen, need\n",
      "lion: race, real, programming, favor, participated, accordance, magnetic, ocean, prince, wales\n",
      "africa: europe, india, america, south, kingdom, australia, united, asia, england, nine\n",
      "musician: actor, actress, singer, writer, author, nine, born, composer, poet, politician\n",
      "dance: music, modern, art, traditional, classical, concept, whole, study, early, addition\n",
      "\n",
      "\n"
     ]
    },
    {
     "name": "stderr",
     "output_type": "stream",
     "text": [
      "4006it [00:57, 59.74it/s]"
     ]
    },
    {
     "name": "stdout",
     "output_type": "stream",
     "text": [
      "| epoch   6 |  4000/32580 batches | loss    1.332 \n",
      "money: so, them, if, rather, fact, taken, others, well, seen, need\n",
      "lion: race, real, programming, favor, participated, accordance, magnetic, ocean, prince, wales\n",
      "africa: europe, india, america, south, kingdom, australia, united, asia, england, nine\n",
      "musician: actor, actress, singer, writer, author, nine, born, composer, poet, politician\n",
      "dance: music, modern, art, traditional, classical, concept, whole, study, early, addition\n",
      "\n",
      "\n"
     ]
    },
    {
     "name": "stderr",
     "output_type": "stream",
     "text": [
      "4510it [01:04, 60.81it/s]"
     ]
    },
    {
     "name": "stdout",
     "output_type": "stream",
     "text": [
      "| epoch   6 |  4500/32580 batches | loss    1.332 \n",
      "money: so, them, if, rather, fact, taken, others, well, seen, need\n",
      "lion: race, real, programming, favor, participated, accordance, magnetic, ocean, prince, wales\n",
      "africa: europe, india, america, south, kingdom, australia, united, asia, england, nine\n",
      "musician: actor, actress, singer, writer, author, nine, born, composer, poet, politician\n",
      "dance: music, modern, art, traditional, classical, concept, whole, study, early, addition\n",
      "\n",
      "\n"
     ]
    },
    {
     "name": "stderr",
     "output_type": "stream",
     "text": [
      "5006it [01:11, 58.12it/s]"
     ]
    },
    {
     "name": "stdout",
     "output_type": "stream",
     "text": [
      "| epoch   6 |  5000/32580 batches | loss    1.331 \n",
      "money: so, them, if, rather, fact, taken, others, well, seen, need\n",
      "lion: race, real, programming, favor, participated, accordance, magnetic, ocean, prince, wales\n",
      "africa: europe, india, america, south, kingdom, australia, united, asia, england, nine\n",
      "musician: actor, actress, singer, writer, author, nine, born, composer, poet, politician\n",
      "dance: music, modern, art, traditional, classical, concept, whole, study, early, addition\n",
      "\n",
      "\n"
     ]
    },
    {
     "name": "stderr",
     "output_type": "stream",
     "text": [
      "5507it [01:18, 57.39it/s]"
     ]
    },
    {
     "name": "stdout",
     "output_type": "stream",
     "text": [
      "| epoch   6 |  5500/32580 batches | loss    1.333 \n",
      "money: so, them, if, rather, fact, taken, others, well, seen, need\n",
      "lion: race, real, programming, favor, participated, accordance, magnetic, ocean, prince, wales\n",
      "africa: europe, india, america, south, kingdom, australia, united, asia, england, nine\n",
      "musician: actor, actress, singer, writer, author, nine, born, composer, poet, politician\n",
      "dance: music, modern, art, traditional, classical, concept, whole, study, early, addition\n",
      "\n",
      "\n"
     ]
    },
    {
     "name": "stderr",
     "output_type": "stream",
     "text": [
      "6008it [01:25, 58.94it/s]"
     ]
    },
    {
     "name": "stdout",
     "output_type": "stream",
     "text": [
      "| epoch   6 |  6000/32580 batches | loss    1.333 \n",
      "money: so, them, if, rather, fact, taken, others, well, seen, need\n",
      "lion: race, real, programming, favor, participated, accordance, magnetic, ocean, prince, wales\n",
      "africa: europe, india, america, south, kingdom, australia, united, asia, england, nine\n",
      "musician: actor, actress, singer, writer, author, nine, born, composer, poet, politician\n",
      "dance: music, modern, art, traditional, classical, concept, whole, study, early, addition\n",
      "\n",
      "\n"
     ]
    },
    {
     "name": "stderr",
     "output_type": "stream",
     "text": [
      "6502it [01:32, 59.73it/s]"
     ]
    },
    {
     "name": "stdout",
     "output_type": "stream",
     "text": [
      "| epoch   6 |  6500/32580 batches | loss    1.329 \n",
      "money: so, them, if, rather, fact, taken, others, well, seen, need\n",
      "lion: race, real, programming, favor, participated, accordance, magnetic, ocean, prince, wales\n",
      "africa: europe, india, america, south, kingdom, australia, united, asia, england, nine\n",
      "musician: actor, actress, singer, writer, author, nine, born, composer, poet, politician\n",
      "dance: music, modern, art, traditional, classical, concept, whole, study, early, addition\n",
      "\n",
      "\n"
     ]
    },
    {
     "name": "stderr",
     "output_type": "stream",
     "text": [
      "7006it [01:39, 56.76it/s]"
     ]
    },
    {
     "name": "stdout",
     "output_type": "stream",
     "text": [
      "| epoch   6 |  7000/32580 batches | loss    1.332 \n",
      "money: so, them, if, rather, fact, taken, others, well, seen, need\n",
      "lion: race, real, programming, favor, participated, accordance, magnetic, ocean, prince, wales\n",
      "africa: europe, india, america, south, kingdom, australia, united, asia, england, nine\n",
      "musician: actor, actress, singer, writer, author, nine, born, composer, poet, politician\n",
      "dance: music, modern, art, traditional, classical, concept, whole, study, early, addition\n",
      "\n",
      "\n"
     ]
    },
    {
     "name": "stderr",
     "output_type": "stream",
     "text": [
      "7508it [01:46, 59.75it/s]"
     ]
    },
    {
     "name": "stdout",
     "output_type": "stream",
     "text": [
      "| epoch   6 |  7500/32580 batches | loss    1.325 \n",
      "money: so, them, if, rather, fact, taken, others, well, seen, need\n",
      "lion: race, real, programming, favor, participated, accordance, magnetic, ocean, prince, wales\n",
      "africa: europe, india, america, south, kingdom, australia, united, asia, england, nine\n",
      "musician: actor, actress, singer, writer, author, nine, born, composer, poet, politician\n",
      "dance: music, modern, art, traditional, classical, concept, whole, study, early, addition\n",
      "\n",
      "\n"
     ]
    },
    {
     "name": "stderr",
     "output_type": "stream",
     "text": [
      "8003it [01:53, 59.15it/s]"
     ]
    },
    {
     "name": "stdout",
     "output_type": "stream",
     "text": [
      "| epoch   6 |  8000/32580 batches | loss    1.329 \n",
      "money: so, them, if, rather, fact, taken, others, well, seen, need\n",
      "lion: race, real, programming, favor, participated, accordance, magnetic, ocean, prince, wales\n",
      "africa: europe, india, america, south, kingdom, australia, united, asia, england, nine\n",
      "musician: actor, actress, singer, writer, author, nine, born, composer, poet, politician\n",
      "dance: music, modern, art, traditional, classical, concept, whole, study, early, addition\n",
      "\n",
      "\n"
     ]
    },
    {
     "name": "stderr",
     "output_type": "stream",
     "text": [
      "8506it [02:00, 59.05it/s]"
     ]
    },
    {
     "name": "stdout",
     "output_type": "stream",
     "text": [
      "| epoch   6 |  8500/32580 batches | loss    1.335 \n",
      "money: so, them, if, rather, fact, taken, others, well, seen, need\n",
      "lion: race, real, programming, favor, participated, accordance, magnetic, ocean, prince, wales\n",
      "africa: europe, india, america, south, kingdom, australia, united, asia, england, nine\n",
      "musician: actor, actress, singer, writer, author, nine, born, composer, poet, politician\n",
      "dance: music, modern, art, traditional, classical, concept, whole, study, early, addition\n",
      "\n",
      "\n"
     ]
    },
    {
     "name": "stderr",
     "output_type": "stream",
     "text": [
      "9009it [02:06, 63.69it/s]"
     ]
    },
    {
     "name": "stdout",
     "output_type": "stream",
     "text": [
      "| epoch   6 |  9000/32580 batches | loss    1.334 \n",
      "money: so, them, if, rather, fact, taken, others, well, seen, need\n",
      "lion: race, real, programming, favor, participated, accordance, magnetic, ocean, prince, wales\n",
      "africa: europe, india, america, south, kingdom, australia, united, asia, england, nine\n",
      "musician: actor, actress, singer, writer, author, nine, born, composer, poet, politician\n",
      "dance: music, modern, art, traditional, classical, concept, whole, study, early, addition\n",
      "\n",
      "\n"
     ]
    },
    {
     "name": "stderr",
     "output_type": "stream",
     "text": [
      "9504it [02:13, 60.18it/s]"
     ]
    },
    {
     "name": "stdout",
     "output_type": "stream",
     "text": [
      "| epoch   6 |  9500/32580 batches | loss    1.332 \n",
      "money: so, them, if, rather, fact, taken, others, well, seen, need\n",
      "lion: race, real, programming, favor, participated, accordance, magnetic, ocean, prince, wales\n",
      "africa: europe, india, america, south, kingdom, australia, united, asia, england, nine\n",
      "musician: actor, actress, singer, writer, author, nine, born, composer, poet, politician\n",
      "dance: music, modern, art, traditional, classical, concept, whole, study, early, addition\n",
      "\n",
      "\n"
     ]
    },
    {
     "name": "stderr",
     "output_type": "stream",
     "text": [
      "10008it [02:20, 60.11it/s]"
     ]
    },
    {
     "name": "stdout",
     "output_type": "stream",
     "text": [
      "| epoch   6 | 10000/32580 batches | loss    1.327 \n",
      "money: so, them, if, rather, fact, taken, others, well, seen, need\n",
      "lion: race, real, programming, favor, participated, accordance, magnetic, ocean, prince, wales\n",
      "africa: europe, india, america, south, kingdom, australia, united, asia, england, nine\n",
      "musician: actor, actress, singer, writer, author, nine, born, composer, poet, politician\n",
      "dance: music, modern, art, traditional, classical, concept, whole, study, early, addition\n",
      "\n",
      "\n"
     ]
    },
    {
     "name": "stderr",
     "output_type": "stream",
     "text": [
      "10504it [02:27, 59.67it/s]"
     ]
    },
    {
     "name": "stdout",
     "output_type": "stream",
     "text": [
      "| epoch   6 | 10500/32580 batches | loss    1.330 \n",
      "money: so, them, if, rather, fact, taken, others, well, seen, need\n",
      "lion: race, real, programming, favor, participated, accordance, magnetic, ocean, prince, wales\n",
      "africa: europe, india, america, south, kingdom, australia, united, asia, england, nine\n",
      "musician: actor, actress, singer, writer, author, nine, born, composer, poet, politician\n",
      "dance: music, modern, art, traditional, classical, concept, whole, study, early, addition\n",
      "\n",
      "\n"
     ]
    },
    {
     "name": "stderr",
     "output_type": "stream",
     "text": [
      "11008it [02:33, 60.14it/s]"
     ]
    },
    {
     "name": "stdout",
     "output_type": "stream",
     "text": [
      "| epoch   6 | 11000/32580 batches | loss    1.326 \n",
      "money: so, them, if, rather, fact, taken, others, well, seen, need\n",
      "lion: race, real, programming, favor, participated, accordance, magnetic, ocean, prince, wales\n",
      "africa: europe, india, america, south, kingdom, australia, united, asia, england, nine\n",
      "musician: actor, actress, singer, writer, author, nine, born, composer, poet, politician\n",
      "dance: music, modern, art, traditional, classical, concept, whole, study, early, addition\n",
      "\n",
      "\n"
     ]
    },
    {
     "name": "stderr",
     "output_type": "stream",
     "text": [
      "11504it [02:40, 60.81it/s]"
     ]
    },
    {
     "name": "stdout",
     "output_type": "stream",
     "text": [
      "| epoch   6 | 11500/32580 batches | loss    1.326 \n",
      "money: so, them, if, rather, fact, taken, others, well, seen, need\n",
      "lion: race, real, programming, favor, participated, accordance, magnetic, ocean, prince, wales\n",
      "africa: europe, india, america, south, kingdom, australia, united, asia, england, nine\n",
      "musician: actor, actress, singer, writer, author, nine, born, composer, poet, politician\n",
      "dance: music, modern, art, traditional, classical, concept, whole, study, early, addition\n",
      "\n",
      "\n"
     ]
    },
    {
     "name": "stderr",
     "output_type": "stream",
     "text": [
      "12008it [02:47, 60.20it/s]"
     ]
    },
    {
     "name": "stdout",
     "output_type": "stream",
     "text": [
      "| epoch   6 | 12000/32580 batches | loss    1.334 \n",
      "money: so, them, if, rather, fact, taken, others, well, seen, need\n",
      "lion: race, real, programming, favor, participated, accordance, magnetic, ocean, prince, wales\n",
      "africa: europe, india, america, south, kingdom, australia, united, asia, england, nine\n",
      "musician: actor, actress, singer, writer, author, nine, born, composer, poet, politician\n",
      "dance: music, modern, art, traditional, classical, concept, whole, study, early, addition\n",
      "\n",
      "\n"
     ]
    },
    {
     "name": "stderr",
     "output_type": "stream",
     "text": [
      "12503it [02:53, 60.57it/s]"
     ]
    },
    {
     "name": "stdout",
     "output_type": "stream",
     "text": [
      "| epoch   6 | 12500/32580 batches | loss    1.334 \n",
      "money: so, them, if, rather, fact, taken, others, well, seen, need\n",
      "lion: race, real, programming, favor, participated, accordance, magnetic, ocean, prince, wales\n",
      "africa: europe, india, america, south, kingdom, australia, united, asia, england, nine\n",
      "musician: actor, actress, singer, writer, author, nine, born, composer, poet, politician\n",
      "dance: music, modern, art, traditional, classical, concept, whole, study, early, addition\n",
      "\n",
      "\n"
     ]
    },
    {
     "name": "stderr",
     "output_type": "stream",
     "text": [
      "13007it [03:00, 59.81it/s]"
     ]
    },
    {
     "name": "stdout",
     "output_type": "stream",
     "text": [
      "| epoch   6 | 13000/32580 batches | loss    1.330 \n",
      "money: so, them, if, rather, fact, taken, others, well, seen, need\n",
      "lion: race, real, programming, favor, participated, accordance, magnetic, ocean, prince, wales\n",
      "africa: europe, india, america, south, kingdom, australia, united, asia, england, nine\n",
      "musician: actor, actress, singer, writer, author, nine, born, composer, poet, politician\n",
      "dance: music, modern, art, traditional, classical, concept, whole, study, early, addition\n",
      "\n",
      "\n"
     ]
    },
    {
     "name": "stderr",
     "output_type": "stream",
     "text": [
      "13503it [03:07, 60.51it/s]"
     ]
    },
    {
     "name": "stdout",
     "output_type": "stream",
     "text": [
      "| epoch   6 | 13500/32580 batches | loss    1.329 \n",
      "money: so, them, if, rather, fact, taken, others, well, seen, need\n",
      "lion: race, real, programming, favor, participated, accordance, magnetic, ocean, prince, wales\n",
      "africa: europe, india, america, south, kingdom, australia, united, asia, england, nine\n",
      "musician: actor, actress, singer, writer, author, nine, born, composer, poet, politician\n",
      "dance: music, modern, art, traditional, classical, concept, whole, study, early, addition\n",
      "\n",
      "\n"
     ]
    },
    {
     "name": "stderr",
     "output_type": "stream",
     "text": [
      "14007it [03:14, 60.71it/s]"
     ]
    },
    {
     "name": "stdout",
     "output_type": "stream",
     "text": [
      "| epoch   6 | 14000/32580 batches | loss    1.331 \n",
      "money: so, them, if, rather, fact, taken, others, well, seen, need\n",
      "lion: race, real, programming, favor, participated, accordance, magnetic, ocean, prince, wales\n",
      "africa: europe, india, america, south, kingdom, australia, united, asia, england, nine\n",
      "musician: actor, actress, singer, writer, author, nine, born, composer, poet, politician\n",
      "dance: music, modern, art, traditional, classical, concept, whole, study, early, addition\n",
      "\n",
      "\n"
     ]
    },
    {
     "name": "stderr",
     "output_type": "stream",
     "text": [
      "14503it [03:20, 60.81it/s]"
     ]
    },
    {
     "name": "stdout",
     "output_type": "stream",
     "text": [
      "| epoch   6 | 14500/32580 batches | loss    1.330 \n",
      "money: so, them, if, rather, fact, taken, others, well, seen, need\n",
      "lion: race, real, programming, favor, participated, accordance, magnetic, ocean, prince, wales\n",
      "africa: europe, india, america, south, kingdom, australia, united, asia, england, nine\n",
      "musician: actor, actress, singer, writer, author, nine, born, composer, poet, politician\n",
      "dance: music, modern, art, traditional, classical, concept, whole, study, early, addition\n",
      "\n",
      "\n"
     ]
    },
    {
     "name": "stderr",
     "output_type": "stream",
     "text": [
      "15007it [03:27, 60.25it/s]"
     ]
    },
    {
     "name": "stdout",
     "output_type": "stream",
     "text": [
      "| epoch   6 | 15000/32580 batches | loss    1.328 \n",
      "money: so, them, if, rather, fact, taken, others, well, seen, need\n",
      "lion: race, real, programming, favor, participated, accordance, magnetic, ocean, prince, wales\n",
      "africa: europe, india, america, south, kingdom, australia, united, asia, england, nine\n",
      "musician: actor, actress, singer, writer, author, nine, born, composer, poet, politician\n",
      "dance: music, modern, art, traditional, classical, concept, whole, study, early, addition\n",
      "\n",
      "\n"
     ]
    },
    {
     "name": "stderr",
     "output_type": "stream",
     "text": [
      "15503it [03:34, 60.58it/s]"
     ]
    },
    {
     "name": "stdout",
     "output_type": "stream",
     "text": [
      "| epoch   6 | 15500/32580 batches | loss    1.335 \n",
      "money: so, them, if, rather, fact, taken, others, well, seen, need\n",
      "lion: race, real, programming, favor, participated, accordance, magnetic, ocean, prince, wales\n",
      "africa: europe, india, america, south, kingdom, australia, united, asia, england, nine\n",
      "musician: actor, actress, singer, writer, author, nine, born, composer, poet, politician\n",
      "dance: music, modern, art, traditional, classical, concept, whole, study, early, addition\n",
      "\n",
      "\n"
     ]
    },
    {
     "name": "stderr",
     "output_type": "stream",
     "text": [
      "16007it [03:41, 60.25it/s]"
     ]
    },
    {
     "name": "stdout",
     "output_type": "stream",
     "text": [
      "| epoch   6 | 16000/32580 batches | loss    1.332 \n",
      "money: so, them, if, rather, fact, taken, others, well, seen, need\n",
      "lion: race, real, programming, favor, participated, accordance, magnetic, ocean, prince, wales\n",
      "africa: europe, india, america, south, kingdom, australia, united, asia, england, nine\n",
      "musician: actor, actress, singer, writer, author, nine, born, composer, poet, politician\n",
      "dance: music, modern, art, traditional, classical, concept, whole, study, early, addition\n",
      "\n",
      "\n"
     ]
    },
    {
     "name": "stderr",
     "output_type": "stream",
     "text": [
      "16503it [03:47, 60.51it/s]"
     ]
    },
    {
     "name": "stdout",
     "output_type": "stream",
     "text": [
      "| epoch   6 | 16500/32580 batches | loss    1.332 \n",
      "money: so, them, if, rather, fact, taken, others, well, seen, need\n",
      "lion: race, real, programming, favor, participated, accordance, magnetic, ocean, prince, wales\n",
      "africa: europe, india, america, south, kingdom, australia, united, asia, england, nine\n",
      "musician: actor, actress, singer, writer, author, nine, born, composer, poet, politician\n",
      "dance: music, modern, art, traditional, classical, concept, whole, study, early, addition\n",
      "\n",
      "\n"
     ]
    },
    {
     "name": "stderr",
     "output_type": "stream",
     "text": [
      "17007it [03:54, 60.42it/s]"
     ]
    },
    {
     "name": "stdout",
     "output_type": "stream",
     "text": [
      "| epoch   6 | 17000/32580 batches | loss    1.329 \n",
      "money: so, them, if, rather, fact, taken, others, well, seen, need\n",
      "lion: race, real, programming, favor, participated, accordance, magnetic, ocean, prince, wales\n",
      "africa: europe, india, america, south, kingdom, australia, united, asia, england, nine\n",
      "musician: actor, actress, singer, writer, author, nine, born, composer, poet, politician\n",
      "dance: music, modern, art, traditional, classical, concept, whole, study, early, addition\n",
      "\n",
      "\n"
     ]
    },
    {
     "name": "stderr",
     "output_type": "stream",
     "text": [
      "17503it [04:01, 60.77it/s]"
     ]
    },
    {
     "name": "stdout",
     "output_type": "stream",
     "text": [
      "| epoch   6 | 17500/32580 batches | loss    1.328 \n",
      "money: so, them, if, rather, fact, taken, others, well, seen, need\n",
      "lion: race, real, programming, favor, participated, accordance, magnetic, ocean, prince, wales\n",
      "africa: europe, india, america, south, kingdom, australia, united, asia, england, nine\n",
      "musician: actor, actress, singer, writer, author, nine, born, composer, poet, politician\n",
      "dance: music, modern, art, traditional, classical, concept, whole, study, early, addition\n",
      "\n",
      "\n"
     ]
    },
    {
     "name": "stderr",
     "output_type": "stream",
     "text": [
      "18007it [04:07, 59.83it/s]"
     ]
    },
    {
     "name": "stdout",
     "output_type": "stream",
     "text": [
      "| epoch   6 | 18000/32580 batches | loss    1.330 \n",
      "money: so, them, if, rather, fact, taken, others, well, seen, need\n",
      "lion: race, real, programming, favor, participated, accordance, magnetic, ocean, prince, wales\n",
      "africa: europe, india, america, south, kingdom, australia, united, asia, england, nine\n",
      "musician: actor, actress, singer, writer, author, nine, born, composer, poet, politician\n",
      "dance: music, modern, art, traditional, classical, concept, whole, study, early, addition\n",
      "\n",
      "\n"
     ]
    },
    {
     "name": "stderr",
     "output_type": "stream",
     "text": [
      "18503it [04:14, 60.78it/s]"
     ]
    },
    {
     "name": "stdout",
     "output_type": "stream",
     "text": [
      "| epoch   6 | 18500/32580 batches | loss    1.329 \n",
      "money: so, them, if, rather, fact, taken, others, well, seen, need\n",
      "lion: race, real, programming, favor, participated, accordance, magnetic, ocean, prince, wales\n",
      "africa: europe, india, america, south, kingdom, australia, united, asia, england, nine\n",
      "musician: actor, actress, singer, writer, author, nine, born, composer, poet, politician\n",
      "dance: music, modern, art, traditional, classical, concept, whole, study, early, addition\n",
      "\n",
      "\n"
     ]
    },
    {
     "name": "stderr",
     "output_type": "stream",
     "text": [
      "19006it [04:21, 61.06it/s]"
     ]
    },
    {
     "name": "stdout",
     "output_type": "stream",
     "text": [
      "| epoch   6 | 19000/32580 batches | loss    1.330 \n",
      "money: so, them, if, rather, fact, taken, others, well, seen, need\n",
      "lion: race, real, programming, favor, participated, accordance, magnetic, ocean, prince, wales\n",
      "africa: europe, india, america, south, kingdom, australia, united, asia, england, nine\n",
      "musician: actor, actress, singer, writer, author, nine, born, composer, poet, politician\n",
      "dance: music, modern, art, traditional, classical, concept, whole, study, early, addition\n",
      "\n",
      "\n"
     ]
    },
    {
     "name": "stderr",
     "output_type": "stream",
     "text": [
      "19509it [04:28, 63.68it/s]"
     ]
    },
    {
     "name": "stdout",
     "output_type": "stream",
     "text": [
      "| epoch   6 | 19500/32580 batches | loss    1.332 \n",
      "money: so, them, if, rather, fact, taken, others, well, seen, need\n",
      "lion: race, real, programming, favor, participated, accordance, magnetic, ocean, prince, wales\n",
      "africa: europe, india, america, south, kingdom, australia, united, asia, england, nine\n",
      "musician: actor, actress, singer, writer, author, nine, born, composer, poet, politician\n",
      "dance: music, modern, art, traditional, classical, concept, whole, study, early, addition\n",
      "\n",
      "\n"
     ]
    },
    {
     "name": "stderr",
     "output_type": "stream",
     "text": [
      "20005it [04:34, 60.34it/s]"
     ]
    },
    {
     "name": "stdout",
     "output_type": "stream",
     "text": [
      "| epoch   6 | 20000/32580 batches | loss    1.331 \n",
      "money: so, them, if, rather, fact, taken, others, well, seen, need\n",
      "lion: race, real, programming, favor, participated, accordance, magnetic, ocean, prince, wales\n",
      "africa: europe, india, america, south, kingdom, australia, united, asia, england, nine\n",
      "musician: actor, actress, singer, writer, author, nine, born, composer, poet, politician\n",
      "dance: music, modern, art, traditional, classical, concept, whole, study, early, addition\n",
      "\n",
      "\n"
     ]
    },
    {
     "name": "stderr",
     "output_type": "stream",
     "text": [
      "20509it [04:41, 63.92it/s]"
     ]
    },
    {
     "name": "stdout",
     "output_type": "stream",
     "text": [
      "| epoch   6 | 20500/32580 batches | loss    1.329 \n",
      "money: so, them, if, rather, fact, taken, others, well, seen, need\n",
      "lion: race, real, programming, favor, participated, accordance, magnetic, ocean, prince, wales\n",
      "africa: europe, india, america, south, kingdom, australia, united, asia, england, nine\n",
      "musician: actor, actress, singer, writer, author, nine, born, composer, poet, politician\n",
      "dance: music, modern, art, traditional, classical, concept, whole, study, early, addition\n",
      "\n",
      "\n"
     ]
    },
    {
     "name": "stderr",
     "output_type": "stream",
     "text": [
      "21005it [04:48, 60.55it/s]"
     ]
    },
    {
     "name": "stdout",
     "output_type": "stream",
     "text": [
      "| epoch   6 | 21000/32580 batches | loss    1.330 \n",
      "money: so, them, if, rather, fact, taken, others, well, seen, need\n",
      "lion: race, real, programming, favor, participated, accordance, magnetic, ocean, prince, wales\n",
      "africa: europe, india, america, south, kingdom, australia, united, asia, england, nine\n",
      "musician: actor, actress, singer, writer, author, nine, born, composer, poet, politician\n",
      "dance: music, modern, art, traditional, classical, concept, whole, study, early, addition\n",
      "\n",
      "\n"
     ]
    },
    {
     "name": "stderr",
     "output_type": "stream",
     "text": [
      "21508it [04:54, 62.47it/s]"
     ]
    },
    {
     "name": "stdout",
     "output_type": "stream",
     "text": [
      "| epoch   6 | 21500/32580 batches | loss    1.332 \n",
      "money: so, them, if, rather, fact, taken, others, well, seen, need\n",
      "lion: race, real, programming, favor, participated, accordance, magnetic, ocean, prince, wales\n",
      "africa: europe, india, america, south, kingdom, australia, united, asia, england, nine\n",
      "musician: actor, actress, singer, writer, author, nine, born, composer, poet, politician\n",
      "dance: music, modern, art, traditional, classical, concept, whole, study, early, addition\n",
      "\n",
      "\n"
     ]
    },
    {
     "name": "stderr",
     "output_type": "stream",
     "text": [
      "22004it [05:03, 60.70it/s]"
     ]
    },
    {
     "name": "stdout",
     "output_type": "stream",
     "text": [
      "| epoch   6 | 22000/32580 batches | loss    1.333 \n",
      "money: so, them, if, rather, fact, taken, others, well, seen, need\n",
      "lion: race, real, programming, favor, participated, accordance, magnetic, ocean, prince, wales\n",
      "africa: europe, india, america, south, kingdom, australia, united, asia, england, nine\n",
      "musician: actor, actress, singer, writer, author, nine, born, composer, poet, politician\n",
      "dance: music, modern, art, traditional, classical, concept, whole, study, early, addition\n",
      "\n",
      "\n"
     ]
    },
    {
     "name": "stderr",
     "output_type": "stream",
     "text": [
      "22508it [05:10, 59.84it/s]"
     ]
    },
    {
     "name": "stdout",
     "output_type": "stream",
     "text": [
      "| epoch   6 | 22500/32580 batches | loss    1.331 \n",
      "money: so, them, if, rather, fact, taken, others, well, seen, need\n",
      "lion: race, real, programming, favor, participated, accordance, magnetic, ocean, prince, wales\n",
      "africa: europe, india, america, south, kingdom, australia, united, asia, england, nine\n",
      "musician: actor, actress, singer, writer, author, nine, born, composer, poet, politician\n",
      "dance: music, modern, art, traditional, classical, concept, whole, study, early, addition\n",
      "\n",
      "\n"
     ]
    },
    {
     "name": "stderr",
     "output_type": "stream",
     "text": [
      "23003it [05:16, 61.02it/s]"
     ]
    },
    {
     "name": "stdout",
     "output_type": "stream",
     "text": [
      "| epoch   6 | 23000/32580 batches | loss    1.328 \n",
      "money: so, them, if, rather, fact, taken, others, well, seen, need\n",
      "lion: race, real, programming, favor, participated, accordance, magnetic, ocean, prince, wales\n",
      "africa: europe, india, america, south, kingdom, australia, united, asia, england, nine\n",
      "musician: actor, actress, singer, writer, author, nine, born, composer, poet, politician\n",
      "dance: music, modern, art, traditional, classical, concept, whole, study, early, addition\n",
      "\n",
      "\n"
     ]
    },
    {
     "name": "stderr",
     "output_type": "stream",
     "text": [
      "23507it [05:23, 60.57it/s]"
     ]
    },
    {
     "name": "stdout",
     "output_type": "stream",
     "text": [
      "| epoch   6 | 23500/32580 batches | loss    1.327 \n",
      "money: so, them, if, rather, fact, taken, others, well, seen, need\n",
      "lion: race, real, programming, favor, participated, accordance, magnetic, ocean, prince, wales\n",
      "africa: europe, india, america, south, kingdom, australia, united, asia, england, nine\n",
      "musician: actor, actress, singer, writer, author, nine, born, composer, poet, politician\n",
      "dance: music, modern, art, traditional, classical, concept, whole, study, early, addition\n",
      "\n",
      "\n"
     ]
    },
    {
     "name": "stderr",
     "output_type": "stream",
     "text": [
      "24003it [05:30, 60.75it/s]"
     ]
    },
    {
     "name": "stdout",
     "output_type": "stream",
     "text": [
      "| epoch   6 | 24000/32580 batches | loss    1.329 \n",
      "money: so, them, if, rather, fact, taken, others, well, seen, need\n",
      "lion: race, real, programming, favor, participated, accordance, magnetic, ocean, prince, wales\n",
      "africa: europe, india, america, south, kingdom, australia, united, asia, england, nine\n",
      "musician: actor, actress, singer, writer, author, nine, born, composer, poet, politician\n",
      "dance: music, modern, art, traditional, classical, concept, whole, study, early, addition\n",
      "\n",
      "\n"
     ]
    },
    {
     "name": "stderr",
     "output_type": "stream",
     "text": [
      "24507it [05:36, 59.79it/s]"
     ]
    },
    {
     "name": "stdout",
     "output_type": "stream",
     "text": [
      "| epoch   6 | 24500/32580 batches | loss    1.329 \n",
      "money: so, them, if, rather, fact, taken, others, well, seen, need\n",
      "lion: race, real, programming, favor, participated, accordance, magnetic, ocean, prince, wales\n",
      "africa: europe, india, america, south, kingdom, australia, united, asia, england, nine\n",
      "musician: actor, actress, singer, writer, author, nine, born, composer, poet, politician\n",
      "dance: music, modern, art, traditional, classical, concept, whole, study, early, addition\n",
      "\n",
      "\n"
     ]
    },
    {
     "name": "stderr",
     "output_type": "stream",
     "text": [
      "25002it [05:43, 60.54it/s]"
     ]
    },
    {
     "name": "stdout",
     "output_type": "stream",
     "text": [
      "| epoch   6 | 25000/32580 batches | loss    1.335 \n",
      "money: so, them, if, rather, fact, taken, others, well, seen, need\n",
      "lion: race, real, programming, favor, participated, accordance, magnetic, ocean, prince, wales\n",
      "africa: europe, india, america, south, kingdom, australia, united, asia, england, nine\n",
      "musician: actor, actress, singer, writer, author, nine, born, composer, poet, politician\n",
      "dance: music, modern, art, traditional, classical, concept, whole, study, early, addition\n",
      "\n",
      "\n"
     ]
    },
    {
     "name": "stderr",
     "output_type": "stream",
     "text": [
      "25506it [05:50, 60.05it/s]"
     ]
    },
    {
     "name": "stdout",
     "output_type": "stream",
     "text": [
      "| epoch   6 | 25500/32580 batches | loss    1.332 \n",
      "money: so, them, if, rather, fact, taken, others, well, seen, need\n",
      "lion: race, real, programming, favor, participated, accordance, magnetic, ocean, prince, wales\n",
      "africa: europe, india, america, south, kingdom, australia, united, asia, england, nine\n",
      "musician: actor, actress, singer, writer, author, nine, born, composer, poet, politician\n",
      "dance: music, modern, art, traditional, classical, concept, whole, study, early, addition\n",
      "\n",
      "\n"
     ]
    },
    {
     "name": "stderr",
     "output_type": "stream",
     "text": [
      "26009it [05:57, 63.72it/s]"
     ]
    },
    {
     "name": "stdout",
     "output_type": "stream",
     "text": [
      "| epoch   6 | 26000/32580 batches | loss    1.329 \n",
      "money: so, them, if, rather, fact, taken, others, well, seen, need\n",
      "lion: race, real, programming, favor, participated, accordance, magnetic, ocean, prince, wales\n",
      "africa: europe, india, america, south, kingdom, australia, united, asia, england, nine\n",
      "musician: actor, actress, singer, writer, author, nine, born, composer, poet, politician\n",
      "dance: music, modern, art, traditional, classical, concept, whole, study, early, addition\n",
      "\n",
      "\n"
     ]
    },
    {
     "name": "stderr",
     "output_type": "stream",
     "text": [
      "26504it [06:03, 60.43it/s]"
     ]
    },
    {
     "name": "stdout",
     "output_type": "stream",
     "text": [
      "| epoch   6 | 26500/32580 batches | loss    1.332 \n",
      "money: so, them, if, rather, fact, taken, others, well, seen, need\n",
      "lion: race, real, programming, favor, participated, accordance, magnetic, ocean, prince, wales\n",
      "africa: europe, india, america, south, kingdom, australia, united, asia, england, nine\n",
      "musician: actor, actress, singer, writer, author, nine, born, composer, poet, politician\n",
      "dance: music, modern, art, traditional, classical, concept, whole, study, early, addition\n",
      "\n",
      "\n"
     ]
    },
    {
     "name": "stderr",
     "output_type": "stream",
     "text": [
      "27008it [06:10, 60.08it/s]"
     ]
    },
    {
     "name": "stdout",
     "output_type": "stream",
     "text": [
      "| epoch   6 | 27000/32580 batches | loss    1.330 \n",
      "money: so, them, if, rather, fact, taken, others, well, seen, need\n",
      "lion: race, real, programming, favor, participated, accordance, magnetic, ocean, prince, wales\n",
      "africa: europe, india, america, south, kingdom, australia, united, asia, england, nine\n",
      "musician: actor, actress, singer, writer, author, nine, born, composer, poet, politician\n",
      "dance: music, modern, art, traditional, classical, concept, whole, study, early, addition\n",
      "\n",
      "\n"
     ]
    },
    {
     "name": "stderr",
     "output_type": "stream",
     "text": [
      "27503it [06:17, 61.08it/s]"
     ]
    },
    {
     "name": "stdout",
     "output_type": "stream",
     "text": [
      "| epoch   6 | 27500/32580 batches | loss    1.332 \n",
      "money: so, them, if, rather, fact, taken, others, well, seen, need\n",
      "lion: race, real, programming, favor, participated, accordance, magnetic, ocean, prince, wales\n",
      "africa: europe, india, america, south, kingdom, australia, united, asia, england, nine\n",
      "musician: actor, actress, singer, writer, author, nine, born, composer, poet, politician\n",
      "dance: music, modern, art, traditional, classical, concept, whole, study, early, addition\n",
      "\n",
      "\n"
     ]
    },
    {
     "name": "stderr",
     "output_type": "stream",
     "text": [
      "28006it [06:23, 60.25it/s]"
     ]
    },
    {
     "name": "stdout",
     "output_type": "stream",
     "text": [
      "| epoch   6 | 28000/32580 batches | loss    1.332 \n",
      "money: so, them, if, rather, fact, taken, others, well, seen, need\n",
      "lion: race, real, programming, favor, participated, accordance, magnetic, ocean, prince, wales\n",
      "africa: europe, india, america, south, kingdom, australia, united, asia, england, nine\n",
      "musician: actor, actress, singer, writer, author, nine, born, composer, poet, politician\n",
      "dance: music, modern, art, traditional, classical, concept, whole, study, early, addition\n",
      "\n",
      "\n"
     ]
    },
    {
     "name": "stderr",
     "output_type": "stream",
     "text": [
      "28502it [06:30, 60.68it/s]"
     ]
    },
    {
     "name": "stdout",
     "output_type": "stream",
     "text": [
      "| epoch   6 | 28500/32580 batches | loss    1.333 \n",
      "money: so, them, if, rather, fact, taken, others, well, seen, need\n",
      "lion: race, real, programming, favor, participated, accordance, magnetic, ocean, prince, wales\n",
      "africa: europe, india, america, south, kingdom, australia, united, asia, england, nine\n",
      "musician: actor, actress, singer, writer, author, nine, born, composer, poet, politician\n",
      "dance: music, modern, art, traditional, classical, concept, whole, study, early, addition\n",
      "\n",
      "\n"
     ]
    },
    {
     "name": "stderr",
     "output_type": "stream",
     "text": [
      "29006it [06:37, 60.22it/s]"
     ]
    },
    {
     "name": "stdout",
     "output_type": "stream",
     "text": [
      "| epoch   6 | 29000/32580 batches | loss    1.328 \n",
      "money: so, them, if, rather, fact, taken, others, well, seen, need\n",
      "lion: race, real, programming, favor, participated, accordance, magnetic, ocean, prince, wales\n",
      "africa: europe, india, america, south, kingdom, australia, united, asia, england, nine\n",
      "musician: actor, actress, singer, writer, author, nine, born, composer, poet, politician\n",
      "dance: music, modern, art, traditional, classical, concept, whole, study, early, addition\n",
      "\n",
      "\n"
     ]
    },
    {
     "name": "stderr",
     "output_type": "stream",
     "text": [
      "29501it [06:44, 61.02it/s]"
     ]
    },
    {
     "name": "stdout",
     "output_type": "stream",
     "text": [
      "| epoch   6 | 29500/32580 batches | loss    1.334 \n",
      "money: so, them, if, rather, fact, taken, others, well, seen, need\n",
      "lion: race, real, programming, favor, participated, accordance, magnetic, ocean, prince, wales\n",
      "africa: europe, india, america, south, kingdom, australia, united, asia, england, nine\n",
      "musician: actor, actress, singer, writer, author, nine, born, composer, poet, politician\n",
      "dance: music, modern, art, traditional, classical, concept, whole, study, early, addition\n",
      "\n",
      "\n"
     ]
    },
    {
     "name": "stderr",
     "output_type": "stream",
     "text": [
      "30005it [06:50, 60.27it/s]"
     ]
    },
    {
     "name": "stdout",
     "output_type": "stream",
     "text": [
      "| epoch   6 | 30000/32580 batches | loss    1.330 \n",
      "money: so, them, if, rather, fact, taken, others, well, seen, need\n",
      "lion: race, real, programming, favor, participated, accordance, magnetic, ocean, prince, wales\n",
      "africa: europe, india, america, south, kingdom, australia, united, asia, england, nine\n",
      "musician: actor, actress, singer, writer, author, nine, born, composer, poet, politician\n",
      "dance: music, modern, art, traditional, classical, concept, whole, study, early, addition\n",
      "\n",
      "\n"
     ]
    },
    {
     "name": "stderr",
     "output_type": "stream",
     "text": [
      "30508it [06:57, 60.13it/s]"
     ]
    },
    {
     "name": "stdout",
     "output_type": "stream",
     "text": [
      "| epoch   6 | 30500/32580 batches | loss    1.332 \n",
      "money: so, them, if, rather, fact, taken, others, well, seen, need\n",
      "lion: race, real, programming, favor, participated, accordance, magnetic, ocean, prince, wales\n",
      "africa: europe, india, america, south, kingdom, australia, united, asia, england, nine\n",
      "musician: actor, actress, singer, writer, author, nine, born, composer, poet, politician\n",
      "dance: music, modern, art, traditional, classical, concept, whole, study, early, addition\n",
      "\n",
      "\n"
     ]
    },
    {
     "name": "stderr",
     "output_type": "stream",
     "text": [
      "31003it [07:04, 59.88it/s]"
     ]
    },
    {
     "name": "stdout",
     "output_type": "stream",
     "text": [
      "| epoch   6 | 31000/32580 batches | loss    1.330 \n",
      "money: so, them, if, rather, fact, taken, others, well, seen, need\n",
      "lion: race, real, programming, favor, participated, accordance, magnetic, ocean, prince, wales\n",
      "africa: europe, india, america, south, kingdom, australia, united, asia, england, nine\n",
      "musician: actor, actress, singer, writer, author, nine, born, composer, poet, politician\n",
      "dance: music, modern, art, traditional, classical, concept, whole, study, early, addition\n",
      "\n",
      "\n"
     ]
    },
    {
     "name": "stderr",
     "output_type": "stream",
     "text": [
      "31504it [07:11, 60.53it/s]"
     ]
    },
    {
     "name": "stdout",
     "output_type": "stream",
     "text": [
      "| epoch   6 | 31500/32580 batches | loss    1.331 \n",
      "money: so, them, if, rather, fact, taken, others, well, seen, need\n",
      "lion: race, real, programming, favor, participated, accordance, magnetic, ocean, prince, wales\n",
      "africa: europe, india, america, south, kingdom, australia, united, asia, england, nine\n",
      "musician: actor, actress, singer, writer, author, nine, born, composer, poet, politician\n",
      "dance: music, modern, art, traditional, classical, concept, whole, study, early, addition\n",
      "\n",
      "\n"
     ]
    },
    {
     "name": "stderr",
     "output_type": "stream",
     "text": [
      "32008it [07:18, 59.93it/s]"
     ]
    },
    {
     "name": "stdout",
     "output_type": "stream",
     "text": [
      "| epoch   6 | 32000/32580 batches | loss    1.330 \n",
      "money: so, them, if, rather, fact, taken, others, well, seen, need\n",
      "lion: race, real, programming, favor, participated, accordance, magnetic, ocean, prince, wales\n",
      "africa: europe, india, america, south, kingdom, australia, united, asia, england, nine\n",
      "musician: actor, actress, singer, writer, author, nine, born, composer, poet, politician\n",
      "dance: music, modern, art, traditional, classical, concept, whole, study, early, addition\n",
      "\n",
      "\n"
     ]
    },
    {
     "name": "stderr",
     "output_type": "stream",
     "text": [
      "32504it [07:24, 60.77it/s]"
     ]
    },
    {
     "name": "stdout",
     "output_type": "stream",
     "text": [
      "| epoch   6 | 32500/32580 batches | loss    1.334 \n",
      "money: so, them, if, rather, fact, taken, others, well, seen, need\n",
      "lion: race, real, programming, favor, participated, accordance, magnetic, ocean, prince, wales\n",
      "africa: europe, india, america, south, kingdom, australia, united, asia, england, nine\n",
      "musician: actor, actress, singer, writer, author, nine, born, composer, poet, politician\n",
      "dance: music, modern, art, traditional, classical, concept, whole, study, early, addition\n",
      "\n",
      "\n"
     ]
    },
    {
     "name": "stderr",
     "output_type": "stream",
     "text": [
      "32580it [07:26, 72.96it/s]\n",
      "9it [00:00, 12.74it/s]"
     ]
    },
    {
     "name": "stdout",
     "output_type": "stream",
     "text": [
      "| epoch   7 |     0/32580 batches | loss    1.262 \n",
      "money: so, them, if, rather, fact, taken, others, well, seen, need\n",
      "lion: race, real, programming, favor, participated, accordance, magnetic, ocean, prince, wales\n",
      "africa: europe, india, america, south, kingdom, australia, united, asia, england, nine\n",
      "musician: actor, actress, singer, writer, author, nine, born, composer, poet, politician\n",
      "dance: music, modern, art, traditional, classical, concept, whole, study, early, addition\n",
      "\n",
      "\n"
     ]
    },
    {
     "name": "stderr",
     "output_type": "stream",
     "text": [
      "504it [00:07, 60.49it/s]"
     ]
    },
    {
     "name": "stdout",
     "output_type": "stream",
     "text": [
      "| epoch   7 |   500/32580 batches | loss    1.327 \n",
      "money: so, them, if, rather, fact, taken, others, well, seen, need\n",
      "lion: race, real, programming, favor, participated, accordance, magnetic, ocean, prince, wales\n",
      "africa: europe, india, america, south, kingdom, australia, united, asia, england, nine\n",
      "musician: actor, actress, singer, writer, author, nine, born, composer, poet, politician\n",
      "dance: music, modern, art, traditional, classical, concept, whole, study, early, addition\n",
      "\n",
      "\n"
     ]
    },
    {
     "name": "stderr",
     "output_type": "stream",
     "text": [
      "1007it [00:14, 60.24it/s]"
     ]
    },
    {
     "name": "stdout",
     "output_type": "stream",
     "text": [
      "| epoch   7 |  1000/32580 batches | loss    1.330 \n",
      "money: so, them, if, rather, fact, taken, others, well, seen, need\n",
      "lion: race, real, programming, favor, participated, accordance, magnetic, ocean, prince, wales\n",
      "africa: europe, india, america, south, kingdom, australia, united, asia, england, nine\n",
      "musician: actor, actress, singer, writer, author, nine, born, composer, poet, politician\n",
      "dance: music, modern, art, traditional, classical, concept, whole, study, early, addition\n",
      "\n",
      "\n"
     ]
    },
    {
     "name": "stderr",
     "output_type": "stream",
     "text": [
      "1503it [00:22, 60.11it/s]"
     ]
    },
    {
     "name": "stdout",
     "output_type": "stream",
     "text": [
      "| epoch   7 |  1500/32580 batches | loss    1.333 \n",
      "money: so, them, if, rather, fact, taken, others, well, seen, need\n",
      "lion: race, real, programming, favor, participated, accordance, magnetic, ocean, prince, wales\n",
      "africa: europe, india, america, south, kingdom, australia, united, asia, england, nine\n",
      "musician: actor, actress, singer, writer, author, nine, born, composer, poet, politician\n",
      "dance: music, modern, art, traditional, classical, concept, whole, study, early, addition\n",
      "\n",
      "\n"
     ]
    },
    {
     "name": "stderr",
     "output_type": "stream",
     "text": [
      "2007it [00:29, 59.89it/s]"
     ]
    },
    {
     "name": "stdout",
     "output_type": "stream",
     "text": [
      "| epoch   7 |  2000/32580 batches | loss    1.331 \n",
      "money: so, them, if, rather, fact, taken, others, well, seen, need\n",
      "lion: race, real, programming, favor, participated, accordance, magnetic, ocean, prince, wales\n",
      "africa: europe, india, america, south, kingdom, australia, united, asia, england, nine\n",
      "musician: actor, actress, singer, writer, author, nine, born, composer, poet, politician\n",
      "dance: music, modern, art, traditional, classical, concept, whole, study, early, addition\n",
      "\n",
      "\n"
     ]
    },
    {
     "name": "stderr",
     "output_type": "stream",
     "text": [
      "2509it [00:36, 62.92it/s]"
     ]
    },
    {
     "name": "stdout",
     "output_type": "stream",
     "text": [
      "| epoch   7 |  2500/32580 batches | loss    1.333 \n",
      "money: so, them, if, rather, fact, taken, others, well, seen, need\n",
      "lion: race, real, programming, favor, participated, accordance, magnetic, ocean, prince, wales\n",
      "africa: europe, india, america, south, kingdom, australia, united, asia, england, nine\n",
      "musician: actor, actress, singer, writer, author, nine, born, composer, poet, politician\n",
      "dance: music, modern, art, traditional, classical, concept, whole, study, early, addition\n",
      "\n",
      "\n"
     ]
    },
    {
     "name": "stderr",
     "output_type": "stream",
     "text": [
      "3005it [00:42, 60.85it/s]"
     ]
    },
    {
     "name": "stdout",
     "output_type": "stream",
     "text": [
      "| epoch   7 |  3000/32580 batches | loss    1.332 \n",
      "money: so, them, if, rather, fact, taken, others, well, seen, need\n",
      "lion: race, real, programming, favor, participated, accordance, magnetic, ocean, prince, wales\n",
      "africa: europe, india, america, south, kingdom, australia, united, asia, england, nine\n",
      "musician: actor, actress, singer, writer, author, nine, born, composer, poet, politician\n",
      "dance: music, modern, art, traditional, classical, concept, whole, study, early, addition\n",
      "\n",
      "\n"
     ]
    },
    {
     "name": "stderr",
     "output_type": "stream",
     "text": [
      "3509it [00:49, 63.59it/s]"
     ]
    },
    {
     "name": "stdout",
     "output_type": "stream",
     "text": [
      "| epoch   7 |  3500/32580 batches | loss    1.328 \n",
      "money: so, them, if, rather, fact, taken, others, well, seen, need\n",
      "lion: race, real, programming, favor, participated, accordance, magnetic, ocean, prince, wales\n",
      "africa: europe, india, america, south, kingdom, australia, united, asia, england, nine\n",
      "musician: actor, actress, singer, writer, author, nine, born, composer, poet, politician\n",
      "dance: music, modern, art, traditional, classical, concept, whole, study, early, addition\n",
      "\n",
      "\n"
     ]
    },
    {
     "name": "stderr",
     "output_type": "stream",
     "text": [
      "4004it [00:56, 60.27it/s]"
     ]
    },
    {
     "name": "stdout",
     "output_type": "stream",
     "text": [
      "| epoch   7 |  4000/32580 batches | loss    1.332 \n",
      "money: so, them, if, rather, fact, taken, others, well, seen, need\n",
      "lion: race, real, programming, favor, participated, accordance, magnetic, ocean, prince, wales\n",
      "africa: europe, india, america, south, kingdom, australia, united, asia, england, nine\n",
      "musician: actor, actress, singer, writer, author, nine, born, composer, poet, politician\n",
      "dance: music, modern, art, traditional, classical, concept, whole, study, early, addition\n",
      "\n",
      "\n"
     ]
    },
    {
     "name": "stderr",
     "output_type": "stream",
     "text": [
      "4508it [01:02, 60.37it/s]"
     ]
    },
    {
     "name": "stdout",
     "output_type": "stream",
     "text": [
      "| epoch   7 |  4500/32580 batches | loss    1.330 \n",
      "money: so, them, if, rather, fact, taken, others, well, seen, need\n",
      "lion: race, real, programming, favor, participated, accordance, magnetic, ocean, prince, wales\n",
      "africa: europe, india, america, south, kingdom, australia, united, asia, england, nine\n",
      "musician: actor, actress, singer, writer, author, nine, born, composer, poet, politician\n",
      "dance: music, modern, art, traditional, classical, concept, whole, study, early, addition\n",
      "\n",
      "\n"
     ]
    },
    {
     "name": "stderr",
     "output_type": "stream",
     "text": [
      "5003it [01:09, 61.25it/s]"
     ]
    },
    {
     "name": "stdout",
     "output_type": "stream",
     "text": [
      "| epoch   7 |  5000/32580 batches | loss    1.327 \n",
      "money: so, them, if, rather, fact, taken, others, well, seen, need\n",
      "lion: race, real, programming, favor, participated, accordance, magnetic, ocean, prince, wales\n",
      "africa: europe, india, america, south, kingdom, australia, united, asia, england, nine\n",
      "musician: actor, actress, singer, writer, author, nine, born, composer, poet, politician\n",
      "dance: music, modern, art, traditional, classical, concept, whole, study, early, addition\n",
      "\n",
      "\n"
     ]
    },
    {
     "name": "stderr",
     "output_type": "stream",
     "text": [
      "5506it [01:16, 60.59it/s]"
     ]
    },
    {
     "name": "stdout",
     "output_type": "stream",
     "text": [
      "| epoch   7 |  5500/32580 batches | loss    1.334 \n",
      "money: so, them, if, rather, fact, taken, others, well, seen, need\n",
      "lion: race, real, programming, favor, participated, accordance, magnetic, ocean, prince, wales\n",
      "africa: europe, india, america, south, kingdom, australia, united, asia, england, nine\n",
      "musician: actor, actress, singer, writer, author, nine, born, composer, poet, politician\n",
      "dance: music, modern, art, traditional, classical, concept, whole, study, early, addition\n",
      "\n",
      "\n"
     ]
    },
    {
     "name": "stderr",
     "output_type": "stream",
     "text": [
      "6010it [01:23, 63.80it/s]"
     ]
    },
    {
     "name": "stdout",
     "output_type": "stream",
     "text": [
      "| epoch   7 |  6000/32580 batches | loss    1.326 \n",
      "money: so, them, if, rather, fact, taken, others, well, seen, need\n",
      "lion: race, real, programming, favor, participated, accordance, magnetic, ocean, prince, wales\n",
      "africa: europe, india, america, south, kingdom, australia, united, asia, england, nine\n",
      "musician: actor, actress, singer, writer, author, nine, born, composer, poet, politician\n",
      "dance: music, modern, art, traditional, classical, concept, whole, study, early, addition\n",
      "\n",
      "\n"
     ]
    },
    {
     "name": "stderr",
     "output_type": "stream",
     "text": [
      "6506it [01:29, 60.32it/s]"
     ]
    },
    {
     "name": "stdout",
     "output_type": "stream",
     "text": [
      "| epoch   7 |  6500/32580 batches | loss    1.327 \n",
      "money: so, them, if, rather, fact, taken, others, well, seen, need\n",
      "lion: race, real, programming, favor, participated, accordance, magnetic, ocean, prince, wales\n",
      "africa: europe, india, america, south, kingdom, australia, united, asia, england, nine\n",
      "musician: actor, actress, singer, writer, author, nine, born, composer, poet, politician\n",
      "dance: music, modern, art, traditional, classical, concept, whole, study, early, addition\n",
      "\n",
      "\n"
     ]
    },
    {
     "name": "stderr",
     "output_type": "stream",
     "text": [
      "7010it [01:36, 63.93it/s]"
     ]
    },
    {
     "name": "stdout",
     "output_type": "stream",
     "text": [
      "| epoch   7 |  7000/32580 batches | loss    1.334 \n",
      "money: so, them, if, rather, fact, taken, others, well, seen, need\n",
      "lion: race, real, programming, favor, participated, accordance, magnetic, ocean, prince, wales\n",
      "africa: europe, india, america, south, kingdom, australia, united, asia, england, nine\n",
      "musician: actor, actress, singer, writer, author, nine, born, composer, poet, politician\n",
      "dance: music, modern, art, traditional, classical, concept, whole, study, early, addition\n",
      "\n",
      "\n"
     ]
    },
    {
     "name": "stderr",
     "output_type": "stream",
     "text": [
      "7506it [01:43, 59.93it/s]"
     ]
    },
    {
     "name": "stdout",
     "output_type": "stream",
     "text": [
      "| epoch   7 |  7500/32580 batches | loss    1.330 \n",
      "money: so, them, if, rather, fact, taken, others, well, seen, need\n",
      "lion: race, real, programming, favor, participated, accordance, magnetic, ocean, prince, wales\n",
      "africa: europe, india, america, south, kingdom, australia, united, asia, england, nine\n",
      "musician: actor, actress, singer, writer, author, nine, born, composer, poet, politician\n",
      "dance: music, modern, art, traditional, classical, concept, whole, study, early, addition\n",
      "\n",
      "\n"
     ]
    },
    {
     "name": "stderr",
     "output_type": "stream",
     "text": [
      "8010it [01:50, 63.29it/s]"
     ]
    },
    {
     "name": "stdout",
     "output_type": "stream",
     "text": [
      "| epoch   7 |  8000/32580 batches | loss    1.331 \n",
      "money: so, them, if, rather, fact, taken, others, well, seen, need\n",
      "lion: race, real, programming, favor, participated, accordance, magnetic, ocean, prince, wales\n",
      "africa: europe, india, america, south, kingdom, australia, united, asia, england, nine\n",
      "musician: actor, actress, singer, writer, author, nine, born, composer, poet, politician\n",
      "dance: music, modern, art, traditional, classical, concept, whole, study, early, addition\n",
      "\n",
      "\n"
     ]
    },
    {
     "name": "stderr",
     "output_type": "stream",
     "text": [
      "8505it [01:56, 60.91it/s]"
     ]
    },
    {
     "name": "stdout",
     "output_type": "stream",
     "text": [
      "| epoch   7 |  8500/32580 batches | loss    1.333 \n",
      "money: so, them, if, rather, fact, taken, others, well, seen, need\n",
      "lion: race, real, programming, favor, participated, accordance, magnetic, ocean, prince, wales\n",
      "africa: europe, india, america, south, kingdom, australia, united, asia, england, nine\n",
      "musician: actor, actress, singer, writer, author, nine, born, composer, poet, politician\n",
      "dance: music, modern, art, traditional, classical, concept, whole, study, early, addition\n",
      "\n",
      "\n"
     ]
    },
    {
     "name": "stderr",
     "output_type": "stream",
     "text": [
      "9008it [02:03, 62.50it/s]"
     ]
    },
    {
     "name": "stdout",
     "output_type": "stream",
     "text": [
      "| epoch   7 |  9000/32580 batches | loss    1.329 \n",
      "money: so, them, if, rather, fact, taken, others, well, seen, need\n",
      "lion: race, real, programming, favor, participated, accordance, magnetic, ocean, prince, wales\n",
      "africa: europe, india, america, south, kingdom, australia, united, asia, england, nine\n",
      "musician: actor, actress, singer, writer, author, nine, born, composer, poet, politician\n",
      "dance: music, modern, art, traditional, classical, concept, whole, study, early, addition\n",
      "\n",
      "\n"
     ]
    },
    {
     "name": "stderr",
     "output_type": "stream",
     "text": [
      "9504it [02:10, 60.19it/s]"
     ]
    },
    {
     "name": "stdout",
     "output_type": "stream",
     "text": [
      "| epoch   7 |  9500/32580 batches | loss    1.328 \n",
      "money: so, them, if, rather, fact, taken, others, well, seen, need\n",
      "lion: race, real, programming, favor, participated, accordance, magnetic, ocean, prince, wales\n",
      "africa: europe, india, america, south, kingdom, australia, united, asia, england, nine\n",
      "musician: actor, actress, singer, writer, author, nine, born, composer, poet, politician\n",
      "dance: music, modern, art, traditional, classical, concept, whole, study, early, addition\n",
      "\n",
      "\n"
     ]
    },
    {
     "name": "stderr",
     "output_type": "stream",
     "text": [
      "10006it [02:16, 60.06it/s]"
     ]
    },
    {
     "name": "stdout",
     "output_type": "stream",
     "text": [
      "| epoch   7 | 10000/32580 batches | loss    1.333 \n",
      "money: so, them, if, rather, fact, taken, others, well, seen, need\n",
      "lion: race, real, programming, favor, participated, accordance, magnetic, ocean, prince, wales\n",
      "africa: europe, india, america, south, kingdom, australia, united, asia, england, nine\n",
      "musician: actor, actress, singer, writer, author, nine, born, composer, poet, politician\n",
      "dance: music, modern, art, traditional, classical, concept, whole, study, early, addition\n",
      "\n",
      "\n"
     ]
    },
    {
     "name": "stderr",
     "output_type": "stream",
     "text": [
      "10502it [02:23, 60.67it/s]"
     ]
    },
    {
     "name": "stdout",
     "output_type": "stream",
     "text": [
      "| epoch   7 | 10500/32580 batches | loss    1.327 \n",
      "money: so, them, if, rather, fact, taken, others, well, seen, need\n",
      "lion: race, real, programming, favor, participated, accordance, magnetic, ocean, prince, wales\n",
      "africa: europe, india, america, south, kingdom, australia, united, asia, england, nine\n",
      "musician: actor, actress, singer, writer, author, nine, born, composer, poet, politician\n",
      "dance: music, modern, art, traditional, classical, concept, whole, study, early, addition\n",
      "\n",
      "\n"
     ]
    },
    {
     "name": "stderr",
     "output_type": "stream",
     "text": [
      "11006it [02:30, 59.79it/s]"
     ]
    },
    {
     "name": "stdout",
     "output_type": "stream",
     "text": [
      "| epoch   7 | 11000/32580 batches | loss    1.329 \n",
      "money: so, them, if, rather, fact, taken, others, well, seen, need\n",
      "lion: race, real, programming, favor, participated, accordance, magnetic, ocean, prince, wales\n",
      "africa: europe, india, america, south, kingdom, australia, united, asia, england, nine\n",
      "musician: actor, actress, singer, writer, author, nine, born, composer, poet, politician\n",
      "dance: music, modern, art, traditional, classical, concept, whole, study, early, addition\n",
      "\n",
      "\n"
     ]
    },
    {
     "name": "stderr",
     "output_type": "stream",
     "text": [
      "11509it [02:37, 64.30it/s]"
     ]
    },
    {
     "name": "stdout",
     "output_type": "stream",
     "text": [
      "| epoch   7 | 11500/32580 batches | loss    1.330 \n",
      "money: so, them, if, rather, fact, taken, others, well, seen, need\n",
      "lion: race, real, programming, favor, participated, accordance, magnetic, ocean, prince, wales\n",
      "africa: europe, india, america, south, kingdom, australia, united, asia, england, nine\n",
      "musician: actor, actress, singer, writer, author, nine, born, composer, poet, politician\n",
      "dance: music, modern, art, traditional, classical, concept, whole, study, early, addition\n",
      "\n",
      "\n"
     ]
    },
    {
     "name": "stderr",
     "output_type": "stream",
     "text": [
      "12005it [02:43, 60.41it/s]"
     ]
    },
    {
     "name": "stdout",
     "output_type": "stream",
     "text": [
      "| epoch   7 | 12000/32580 batches | loss    1.331 \n",
      "money: so, them, if, rather, fact, taken, others, well, seen, need\n",
      "lion: race, real, programming, favor, participated, accordance, magnetic, ocean, prince, wales\n",
      "africa: europe, india, america, south, kingdom, australia, united, asia, england, nine\n",
      "musician: actor, actress, singer, writer, author, nine, born, composer, poet, politician\n",
      "dance: music, modern, art, traditional, classical, concept, whole, study, early, addition\n",
      "\n",
      "\n"
     ]
    },
    {
     "name": "stderr",
     "output_type": "stream",
     "text": [
      "12508it [02:50, 63.05it/s]"
     ]
    },
    {
     "name": "stdout",
     "output_type": "stream",
     "text": [
      "| epoch   7 | 12500/32580 batches | loss    1.326 \n",
      "money: so, them, if, rather, fact, taken, others, well, seen, need\n",
      "lion: race, real, programming, favor, participated, accordance, magnetic, ocean, prince, wales\n",
      "africa: europe, india, america, south, kingdom, australia, united, asia, england, nine\n",
      "musician: actor, actress, singer, writer, author, nine, born, composer, poet, politician\n",
      "dance: music, modern, art, traditional, classical, concept, whole, study, early, addition\n",
      "\n",
      "\n"
     ]
    },
    {
     "name": "stderr",
     "output_type": "stream",
     "text": [
      "13004it [02:57, 61.02it/s]"
     ]
    },
    {
     "name": "stdout",
     "output_type": "stream",
     "text": [
      "| epoch   7 | 13000/32580 batches | loss    1.330 \n",
      "money: so, them, if, rather, fact, taken, others, well, seen, need\n",
      "lion: race, real, programming, favor, participated, accordance, magnetic, ocean, prince, wales\n",
      "africa: europe, india, america, south, kingdom, australia, united, asia, england, nine\n",
      "musician: actor, actress, singer, writer, author, nine, born, composer, poet, politician\n",
      "dance: music, modern, art, traditional, classical, concept, whole, study, early, addition\n",
      "\n",
      "\n"
     ]
    },
    {
     "name": "stderr",
     "output_type": "stream",
     "text": [
      "13508it [03:04, 61.15it/s]"
     ]
    },
    {
     "name": "stdout",
     "output_type": "stream",
     "text": [
      "| epoch   7 | 13500/32580 batches | loss    1.330 \n",
      "money: so, them, if, rather, fact, taken, others, well, seen, need\n",
      "lion: race, real, programming, favor, participated, accordance, magnetic, ocean, prince, wales\n",
      "africa: europe, india, america, south, kingdom, australia, united, asia, england, nine\n",
      "musician: actor, actress, singer, writer, author, nine, born, composer, poet, politician\n",
      "dance: music, modern, art, traditional, classical, concept, whole, study, early, addition\n",
      "\n",
      "\n"
     ]
    },
    {
     "name": "stderr",
     "output_type": "stream",
     "text": [
      "14004it [03:10, 60.34it/s]"
     ]
    },
    {
     "name": "stdout",
     "output_type": "stream",
     "text": [
      "| epoch   7 | 14000/32580 batches | loss    1.331 \n",
      "money: so, them, if, rather, fact, taken, others, well, seen, need\n",
      "lion: race, real, programming, favor, participated, accordance, magnetic, ocean, prince, wales\n",
      "africa: europe, india, america, south, kingdom, australia, united, asia, england, nine\n",
      "musician: actor, actress, singer, writer, author, nine, born, composer, poet, politician\n",
      "dance: music, modern, art, traditional, classical, concept, whole, study, early, addition\n",
      "\n",
      "\n"
     ]
    },
    {
     "name": "stderr",
     "output_type": "stream",
     "text": [
      "14507it [03:17, 60.68it/s]"
     ]
    },
    {
     "name": "stdout",
     "output_type": "stream",
     "text": [
      "| epoch   7 | 14500/32580 batches | loss    1.333 \n",
      "money: so, them, if, rather, fact, taken, others, well, seen, need\n",
      "lion: race, real, programming, favor, participated, accordance, magnetic, ocean, prince, wales\n",
      "africa: europe, india, america, south, kingdom, australia, united, asia, england, nine\n",
      "musician: actor, actress, singer, writer, author, nine, born, composer, poet, politician\n",
      "dance: music, modern, art, traditional, classical, concept, whole, study, early, addition\n",
      "\n",
      "\n"
     ]
    },
    {
     "name": "stderr",
     "output_type": "stream",
     "text": [
      "15003it [03:24, 60.93it/s]"
     ]
    },
    {
     "name": "stdout",
     "output_type": "stream",
     "text": [
      "| epoch   7 | 15000/32580 batches | loss    1.331 \n",
      "money: so, them, if, rather, fact, taken, others, well, seen, need\n",
      "lion: race, real, programming, favor, participated, accordance, magnetic, ocean, prince, wales\n",
      "africa: europe, india, america, south, kingdom, australia, united, asia, england, nine\n",
      "musician: actor, actress, singer, writer, author, nine, born, composer, poet, politician\n",
      "dance: music, modern, art, traditional, classical, concept, whole, study, early, addition\n",
      "\n",
      "\n"
     ]
    },
    {
     "name": "stderr",
     "output_type": "stream",
     "text": [
      "15507it [03:30, 60.11it/s]"
     ]
    },
    {
     "name": "stdout",
     "output_type": "stream",
     "text": [
      "| epoch   7 | 15500/32580 batches | loss    1.329 \n",
      "money: so, them, if, rather, fact, taken, others, well, seen, need\n",
      "lion: race, real, programming, favor, participated, accordance, magnetic, ocean, prince, wales\n",
      "africa: europe, india, america, south, kingdom, australia, united, asia, england, nine\n",
      "musician: actor, actress, singer, writer, author, nine, born, composer, poet, politician\n",
      "dance: music, modern, art, traditional, classical, concept, whole, study, early, addition\n",
      "\n",
      "\n"
     ]
    },
    {
     "name": "stderr",
     "output_type": "stream",
     "text": [
      "16003it [03:37, 60.62it/s]"
     ]
    },
    {
     "name": "stdout",
     "output_type": "stream",
     "text": [
      "| epoch   7 | 16000/32580 batches | loss    1.329 \n",
      "money: so, them, if, rather, fact, taken, others, well, seen, need\n",
      "lion: race, real, programming, favor, participated, accordance, magnetic, ocean, prince, wales\n",
      "africa: europe, india, america, south, kingdom, australia, united, asia, england, nine\n",
      "musician: actor, actress, singer, writer, author, nine, born, composer, poet, politician\n",
      "dance: music, modern, art, traditional, classical, concept, whole, study, early, addition\n",
      "\n",
      "\n"
     ]
    },
    {
     "name": "stderr",
     "output_type": "stream",
     "text": [
      "16507it [03:44, 60.23it/s]"
     ]
    },
    {
     "name": "stdout",
     "output_type": "stream",
     "text": [
      "| epoch   7 | 16500/32580 batches | loss    1.330 \n",
      "money: so, them, if, rather, fact, taken, others, well, seen, need\n",
      "lion: race, real, programming, favor, participated, accordance, magnetic, ocean, prince, wales\n",
      "africa: europe, india, america, south, kingdom, australia, united, asia, england, nine\n",
      "musician: actor, actress, singer, writer, author, nine, born, composer, poet, politician\n",
      "dance: music, modern, art, traditional, classical, concept, whole, study, early, addition\n",
      "\n",
      "\n"
     ]
    },
    {
     "name": "stderr",
     "output_type": "stream",
     "text": [
      "17003it [03:50, 60.65it/s]"
     ]
    },
    {
     "name": "stdout",
     "output_type": "stream",
     "text": [
      "| epoch   7 | 17000/32580 batches | loss    1.331 \n",
      "money: so, them, if, rather, fact, taken, others, well, seen, need\n",
      "lion: race, real, programming, favor, participated, accordance, magnetic, ocean, prince, wales\n",
      "africa: europe, india, america, south, kingdom, australia, united, asia, england, nine\n",
      "musician: actor, actress, singer, writer, author, nine, born, composer, poet, politician\n",
      "dance: music, modern, art, traditional, classical, concept, whole, study, early, addition\n",
      "\n",
      "\n"
     ]
    },
    {
     "name": "stderr",
     "output_type": "stream",
     "text": [
      "17507it [03:57, 60.84it/s]"
     ]
    },
    {
     "name": "stdout",
     "output_type": "stream",
     "text": [
      "| epoch   7 | 17500/32580 batches | loss    1.333 \n",
      "money: so, them, if, rather, fact, taken, others, well, seen, need\n",
      "lion: race, real, programming, favor, participated, accordance, magnetic, ocean, prince, wales\n",
      "africa: europe, india, america, south, kingdom, australia, united, asia, england, nine\n",
      "musician: actor, actress, singer, writer, author, nine, born, composer, poet, politician\n",
      "dance: music, modern, art, traditional, classical, concept, whole, study, early, addition\n",
      "\n",
      "\n"
     ]
    },
    {
     "name": "stderr",
     "output_type": "stream",
     "text": [
      "18003it [04:04, 60.46it/s]"
     ]
    },
    {
     "name": "stdout",
     "output_type": "stream",
     "text": [
      "| epoch   7 | 18000/32580 batches | loss    1.336 \n",
      "money: so, them, if, rather, fact, taken, others, well, seen, need\n",
      "lion: race, real, programming, favor, participated, accordance, magnetic, ocean, prince, wales\n",
      "africa: europe, india, america, south, kingdom, australia, united, asia, england, nine\n",
      "musician: actor, actress, singer, writer, author, nine, born, composer, poet, politician\n",
      "dance: music, modern, art, traditional, classical, concept, whole, study, early, addition\n",
      "\n",
      "\n"
     ]
    },
    {
     "name": "stderr",
     "output_type": "stream",
     "text": [
      "18506it [04:11, 60.54it/s]"
     ]
    },
    {
     "name": "stdout",
     "output_type": "stream",
     "text": [
      "| epoch   7 | 18500/32580 batches | loss    1.330 \n",
      "money: so, them, if, rather, fact, taken, others, well, seen, need\n",
      "lion: race, real, programming, favor, participated, accordance, magnetic, ocean, prince, wales\n",
      "africa: europe, india, america, south, kingdom, australia, united, asia, england, nine\n",
      "musician: actor, actress, singer, writer, author, nine, born, composer, poet, politician\n",
      "dance: music, modern, art, traditional, classical, concept, whole, study, early, addition\n",
      "\n",
      "\n"
     ]
    },
    {
     "name": "stderr",
     "output_type": "stream",
     "text": [
      "19002it [04:17, 60.90it/s]"
     ]
    },
    {
     "name": "stdout",
     "output_type": "stream",
     "text": [
      "| epoch   7 | 19000/32580 batches | loss    1.334 \n",
      "money: so, them, if, rather, fact, taken, others, well, seen, need\n",
      "lion: race, real, programming, favor, participated, accordance, magnetic, ocean, prince, wales\n",
      "africa: europe, india, america, south, kingdom, australia, united, asia, england, nine\n",
      "musician: actor, actress, singer, writer, author, nine, born, composer, poet, politician\n",
      "dance: music, modern, art, traditional, classical, concept, whole, study, early, addition\n",
      "\n",
      "\n"
     ]
    },
    {
     "name": "stderr",
     "output_type": "stream",
     "text": [
      "19506it [04:24, 59.92it/s]"
     ]
    },
    {
     "name": "stdout",
     "output_type": "stream",
     "text": [
      "| epoch   7 | 19500/32580 batches | loss    1.329 \n",
      "money: so, them, if, rather, fact, taken, others, well, seen, need\n",
      "lion: race, real, programming, favor, participated, accordance, magnetic, ocean, prince, wales\n",
      "africa: europe, india, america, south, kingdom, australia, united, asia, england, nine\n",
      "musician: actor, actress, singer, writer, author, nine, born, composer, poet, politician\n",
      "dance: music, modern, art, traditional, classical, concept, whole, study, early, addition\n",
      "\n",
      "\n"
     ]
    },
    {
     "name": "stderr",
     "output_type": "stream",
     "text": [
      "20002it [04:31, 60.57it/s]"
     ]
    },
    {
     "name": "stdout",
     "output_type": "stream",
     "text": [
      "| epoch   7 | 20000/32580 batches | loss    1.331 \n",
      "money: so, them, if, rather, fact, taken, others, well, seen, need\n",
      "lion: race, real, programming, favor, participated, accordance, magnetic, ocean, prince, wales\n",
      "africa: europe, india, america, south, kingdom, australia, united, asia, england, nine\n",
      "musician: actor, actress, singer, writer, author, nine, born, composer, poet, politician\n",
      "dance: music, modern, art, traditional, classical, concept, whole, study, early, addition\n",
      "\n",
      "\n"
     ]
    },
    {
     "name": "stderr",
     "output_type": "stream",
     "text": [
      "20505it [04:38, 60.41it/s]"
     ]
    },
    {
     "name": "stdout",
     "output_type": "stream",
     "text": [
      "| epoch   7 | 20500/32580 batches | loss    1.334 \n",
      "money: so, them, if, rather, fact, taken, others, well, seen, need\n",
      "lion: race, real, programming, favor, participated, accordance, magnetic, ocean, prince, wales\n",
      "africa: europe, india, america, south, kingdom, australia, united, asia, england, nine\n",
      "musician: actor, actress, singer, writer, author, nine, born, composer, poet, politician\n",
      "dance: music, modern, art, traditional, classical, concept, whole, study, early, addition\n",
      "\n",
      "\n"
     ]
    },
    {
     "name": "stderr",
     "output_type": "stream",
     "text": [
      "21008it [04:44, 60.71it/s]"
     ]
    },
    {
     "name": "stdout",
     "output_type": "stream",
     "text": [
      "| epoch   7 | 21000/32580 batches | loss    1.330 \n",
      "money: so, them, if, rather, fact, taken, others, well, seen, need\n",
      "lion: race, real, programming, favor, participated, accordance, magnetic, ocean, prince, wales\n",
      "africa: europe, india, america, south, kingdom, australia, united, asia, england, nine\n",
      "musician: actor, actress, singer, writer, author, nine, born, composer, poet, politician\n",
      "dance: music, modern, art, traditional, classical, concept, whole, study, early, addition\n",
      "\n",
      "\n"
     ]
    },
    {
     "name": "stderr",
     "output_type": "stream",
     "text": [
      "21504it [04:51, 60.83it/s]"
     ]
    },
    {
     "name": "stdout",
     "output_type": "stream",
     "text": [
      "| epoch   7 | 21500/32580 batches | loss    1.332 \n",
      "money: so, them, if, rather, fact, taken, others, well, seen, need\n",
      "lion: race, real, programming, favor, participated, accordance, magnetic, ocean, prince, wales\n",
      "africa: europe, india, america, south, kingdom, australia, united, asia, england, nine\n",
      "musician: actor, actress, singer, writer, author, nine, born, composer, poet, politician\n",
      "dance: music, modern, art, traditional, classical, concept, whole, study, early, addition\n",
      "\n",
      "\n"
     ]
    },
    {
     "name": "stderr",
     "output_type": "stream",
     "text": [
      "22008it [04:58, 60.23it/s]"
     ]
    },
    {
     "name": "stdout",
     "output_type": "stream",
     "text": [
      "| epoch   7 | 22000/32580 batches | loss    1.327 \n",
      "money: so, them, if, rather, fact, taken, others, well, seen, need\n",
      "lion: race, real, programming, favor, participated, accordance, magnetic, ocean, prince, wales\n",
      "africa: europe, india, america, south, kingdom, australia, united, asia, england, nine\n",
      "musician: actor, actress, singer, writer, author, nine, born, composer, poet, politician\n",
      "dance: music, modern, art, traditional, classical, concept, whole, study, early, addition\n",
      "\n",
      "\n"
     ]
    },
    {
     "name": "stderr",
     "output_type": "stream",
     "text": [
      "22504it [05:04, 61.05it/s]"
     ]
    },
    {
     "name": "stdout",
     "output_type": "stream",
     "text": [
      "| epoch   7 | 22500/32580 batches | loss    1.331 \n",
      "money: so, them, if, rather, fact, taken, others, well, seen, need\n",
      "lion: race, real, programming, favor, participated, accordance, magnetic, ocean, prince, wales\n",
      "africa: europe, india, america, south, kingdom, australia, united, asia, england, nine\n",
      "musician: actor, actress, singer, writer, author, nine, born, composer, poet, politician\n",
      "dance: music, modern, art, traditional, classical, concept, whole, study, early, addition\n",
      "\n",
      "\n"
     ]
    },
    {
     "name": "stderr",
     "output_type": "stream",
     "text": [
      "23000it [05:11, 76.35it/s]"
     ]
    },
    {
     "name": "stdout",
     "output_type": "stream",
     "text": [
      "| epoch   7 | 23000/32580 batches | loss    1.330 \n",
      "money: so, them, if, rather, fact, taken, others, well, seen, need\n",
      "lion: race, real, programming, favor, participated, accordance, magnetic, ocean, prince, wales\n",
      "africa: europe, india, america, south, kingdom, australia, united, asia, england, nine\n",
      "musician: actor, actress, singer, writer, author, nine, born, composer, poet, politician\n",
      "dance: music, modern, art, traditional, classical, concept, whole, study, early, addition\n",
      "\n",
      "\n"
     ]
    },
    {
     "name": "stderr",
     "output_type": "stream",
     "text": [
      "23504it [05:18, 60.52it/s]"
     ]
    },
    {
     "name": "stdout",
     "output_type": "stream",
     "text": [
      "| epoch   7 | 23500/32580 batches | loss    1.330 \n",
      "money: so, them, if, rather, fact, taken, others, well, seen, need\n",
      "lion: race, real, programming, favor, participated, accordance, magnetic, ocean, prince, wales\n",
      "africa: europe, india, america, south, kingdom, australia, united, asia, england, nine\n",
      "musician: actor, actress, singer, writer, author, nine, born, composer, poet, politician\n",
      "dance: music, modern, art, traditional, classical, concept, whole, study, early, addition\n",
      "\n",
      "\n"
     ]
    },
    {
     "name": "stderr",
     "output_type": "stream",
     "text": [
      "24008it [05:24, 61.15it/s]"
     ]
    },
    {
     "name": "stdout",
     "output_type": "stream",
     "text": [
      "| epoch   7 | 24000/32580 batches | loss    1.334 \n",
      "money: so, them, if, rather, fact, taken, others, well, seen, need\n",
      "lion: race, real, programming, favor, participated, accordance, magnetic, ocean, prince, wales\n",
      "africa: europe, india, america, south, kingdom, australia, united, asia, england, nine\n",
      "musician: actor, actress, singer, writer, author, nine, born, composer, poet, politician\n",
      "dance: music, modern, art, traditional, classical, concept, whole, study, early, addition\n",
      "\n",
      "\n"
     ]
    },
    {
     "name": "stderr",
     "output_type": "stream",
     "text": [
      "24503it [05:31, 61.19it/s]"
     ]
    },
    {
     "name": "stdout",
     "output_type": "stream",
     "text": [
      "| epoch   7 | 24500/32580 batches | loss    1.331 \n",
      "money: so, them, if, rather, fact, taken, others, well, seen, need\n",
      "lion: race, real, programming, favor, participated, accordance, magnetic, ocean, prince, wales\n",
      "africa: europe, india, america, south, kingdom, australia, united, asia, england, nine\n",
      "musician: actor, actress, singer, writer, author, nine, born, composer, poet, politician\n",
      "dance: music, modern, art, traditional, classical, concept, whole, study, early, addition\n",
      "\n",
      "\n"
     ]
    },
    {
     "name": "stderr",
     "output_type": "stream",
     "text": [
      "25007it [05:40, 60.38it/s]"
     ]
    },
    {
     "name": "stdout",
     "output_type": "stream",
     "text": [
      "| epoch   7 | 25000/32580 batches | loss    1.331 \n",
      "money: so, them, if, rather, fact, taken, others, well, seen, need\n",
      "lion: race, real, programming, favor, participated, accordance, magnetic, ocean, prince, wales\n",
      "africa: europe, india, america, south, kingdom, australia, united, asia, england, nine\n",
      "musician: actor, actress, singer, writer, author, nine, born, composer, poet, politician\n",
      "dance: music, modern, art, traditional, classical, concept, whole, study, early, addition\n",
      "\n",
      "\n"
     ]
    },
    {
     "name": "stderr",
     "output_type": "stream",
     "text": [
      "25502it [05:47, 61.03it/s]"
     ]
    },
    {
     "name": "stdout",
     "output_type": "stream",
     "text": [
      "| epoch   7 | 25500/32580 batches | loss    1.329 \n",
      "money: so, them, if, rather, fact, taken, others, well, seen, need\n",
      "lion: race, real, programming, favor, participated, accordance, magnetic, ocean, prince, wales\n",
      "africa: europe, india, america, south, kingdom, australia, united, asia, england, nine\n",
      "musician: actor, actress, singer, writer, author, nine, born, composer, poet, politician\n",
      "dance: music, modern, art, traditional, classical, concept, whole, study, early, addition\n",
      "\n",
      "\n"
     ]
    },
    {
     "name": "stderr",
     "output_type": "stream",
     "text": [
      "26006it [05:53, 60.85it/s]"
     ]
    },
    {
     "name": "stdout",
     "output_type": "stream",
     "text": [
      "| epoch   7 | 26000/32580 batches | loss    1.326 \n",
      "money: so, them, if, rather, fact, taken, others, well, seen, need\n",
      "lion: race, real, programming, favor, participated, accordance, magnetic, ocean, prince, wales\n",
      "africa: europe, india, america, south, kingdom, australia, united, asia, england, nine\n",
      "musician: actor, actress, singer, writer, author, nine, born, composer, poet, politician\n",
      "dance: music, modern, art, traditional, classical, concept, whole, study, early, addition\n",
      "\n",
      "\n"
     ]
    },
    {
     "name": "stderr",
     "output_type": "stream",
     "text": [
      "26502it [06:00, 60.86it/s]"
     ]
    },
    {
     "name": "stdout",
     "output_type": "stream",
     "text": [
      "| epoch   7 | 26500/32580 batches | loss    1.330 \n",
      "money: so, them, if, rather, fact, taken, others, well, seen, need\n",
      "lion: race, real, programming, favor, participated, accordance, magnetic, ocean, prince, wales\n",
      "africa: europe, india, america, south, kingdom, australia, united, asia, england, nine\n",
      "musician: actor, actress, singer, writer, author, nine, born, composer, poet, politician\n",
      "dance: music, modern, art, traditional, classical, concept, whole, study, early, addition\n",
      "\n",
      "\n"
     ]
    },
    {
     "name": "stderr",
     "output_type": "stream",
     "text": [
      "27006it [06:07, 60.58it/s]"
     ]
    },
    {
     "name": "stdout",
     "output_type": "stream",
     "text": [
      "| epoch   7 | 27000/32580 batches | loss    1.330 \n",
      "money: so, them, if, rather, fact, taken, others, well, seen, need\n",
      "lion: race, real, programming, favor, participated, accordance, magnetic, ocean, prince, wales\n",
      "africa: europe, india, america, south, kingdom, australia, united, asia, england, nine\n",
      "musician: actor, actress, singer, writer, author, nine, born, composer, poet, politician\n",
      "dance: music, modern, art, traditional, classical, concept, whole, study, early, addition\n",
      "\n",
      "\n"
     ]
    },
    {
     "name": "stderr",
     "output_type": "stream",
     "text": [
      "27509it [06:13, 63.12it/s]"
     ]
    },
    {
     "name": "stdout",
     "output_type": "stream",
     "text": [
      "| epoch   7 | 27500/32580 batches | loss    1.331 \n",
      "money: so, them, if, rather, fact, taken, others, well, seen, need\n",
      "lion: race, real, programming, favor, participated, accordance, magnetic, ocean, prince, wales\n",
      "africa: europe, india, america, south, kingdom, australia, united, asia, england, nine\n",
      "musician: actor, actress, singer, writer, author, nine, born, composer, poet, politician\n",
      "dance: music, modern, art, traditional, classical, concept, whole, study, early, addition\n",
      "\n",
      "\n"
     ]
    },
    {
     "name": "stderr",
     "output_type": "stream",
     "text": [
      "28005it [06:20, 61.10it/s]"
     ]
    },
    {
     "name": "stdout",
     "output_type": "stream",
     "text": [
      "| epoch   7 | 28000/32580 batches | loss    1.328 \n",
      "money: so, them, if, rather, fact, taken, others, well, seen, need\n",
      "lion: race, real, programming, favor, participated, accordance, magnetic, ocean, prince, wales\n",
      "africa: europe, india, america, south, kingdom, australia, united, asia, england, nine\n",
      "musician: actor, actress, singer, writer, author, nine, born, composer, poet, politician\n",
      "dance: music, modern, art, traditional, classical, concept, whole, study, early, addition\n",
      "\n",
      "\n"
     ]
    },
    {
     "name": "stderr",
     "output_type": "stream",
     "text": [
      "28509it [06:27, 63.74it/s]"
     ]
    },
    {
     "name": "stdout",
     "output_type": "stream",
     "text": [
      "| epoch   7 | 28500/32580 batches | loss    1.328 \n",
      "money: so, them, if, rather, fact, taken, others, well, seen, need\n",
      "lion: race, real, programming, favor, participated, accordance, magnetic, ocean, prince, wales\n",
      "africa: europe, india, america, south, kingdom, australia, united, asia, england, nine\n",
      "musician: actor, actress, singer, writer, author, nine, born, composer, poet, politician\n",
      "dance: music, modern, art, traditional, classical, concept, whole, study, early, addition\n",
      "\n",
      "\n"
     ]
    },
    {
     "name": "stderr",
     "output_type": "stream",
     "text": [
      "29005it [06:33, 60.82it/s]"
     ]
    },
    {
     "name": "stdout",
     "output_type": "stream",
     "text": [
      "| epoch   7 | 29000/32580 batches | loss    1.330 \n",
      "money: so, them, if, rather, fact, taken, others, well, seen, need\n",
      "lion: race, real, programming, favor, participated, accordance, magnetic, ocean, prince, wales\n",
      "africa: europe, india, america, south, kingdom, australia, united, asia, england, nine\n",
      "musician: actor, actress, singer, writer, author, nine, born, composer, poet, politician\n",
      "dance: music, modern, art, traditional, classical, concept, whole, study, early, addition\n",
      "\n",
      "\n"
     ]
    },
    {
     "name": "stderr",
     "output_type": "stream",
     "text": [
      "29509it [06:40, 64.37it/s]"
     ]
    },
    {
     "name": "stdout",
     "output_type": "stream",
     "text": [
      "| epoch   7 | 29500/32580 batches | loss    1.334 \n",
      "money: so, them, if, rather, fact, taken, others, well, seen, need\n",
      "lion: race, real, programming, favor, participated, accordance, magnetic, ocean, prince, wales\n",
      "africa: europe, india, america, south, kingdom, australia, united, asia, england, nine\n",
      "musician: actor, actress, singer, writer, author, nine, born, composer, poet, politician\n",
      "dance: music, modern, art, traditional, classical, concept, whole, study, early, addition\n",
      "\n",
      "\n"
     ]
    },
    {
     "name": "stderr",
     "output_type": "stream",
     "text": [
      "30005it [06:47, 60.84it/s]"
     ]
    },
    {
     "name": "stdout",
     "output_type": "stream",
     "text": [
      "| epoch   7 | 30000/32580 batches | loss    1.329 \n",
      "money: so, them, if, rather, fact, taken, others, well, seen, need\n",
      "lion: race, real, programming, favor, participated, accordance, magnetic, ocean, prince, wales\n",
      "africa: europe, india, america, south, kingdom, australia, united, asia, england, nine\n",
      "musician: actor, actress, singer, writer, author, nine, born, composer, poet, politician\n",
      "dance: music, modern, art, traditional, classical, concept, whole, study, early, addition\n",
      "\n",
      "\n"
     ]
    },
    {
     "name": "stderr",
     "output_type": "stream",
     "text": [
      "30509it [06:53, 64.38it/s]"
     ]
    },
    {
     "name": "stdout",
     "output_type": "stream",
     "text": [
      "| epoch   7 | 30500/32580 batches | loss    1.330 \n",
      "money: so, them, if, rather, fact, taken, others, well, seen, need\n",
      "lion: race, real, programming, favor, participated, accordance, magnetic, ocean, prince, wales\n",
      "africa: europe, india, america, south, kingdom, australia, united, asia, england, nine\n",
      "musician: actor, actress, singer, writer, author, nine, born, composer, poet, politician\n",
      "dance: music, modern, art, traditional, classical, concept, whole, study, early, addition\n",
      "\n",
      "\n"
     ]
    },
    {
     "name": "stderr",
     "output_type": "stream",
     "text": [
      "31005it [07:00, 60.74it/s]"
     ]
    },
    {
     "name": "stdout",
     "output_type": "stream",
     "text": [
      "| epoch   7 | 31000/32580 batches | loss    1.329 \n",
      "money: so, them, if, rather, fact, taken, others, well, seen, need\n",
      "lion: race, real, programming, favor, participated, accordance, magnetic, ocean, prince, wales\n",
      "africa: europe, india, america, south, kingdom, australia, united, asia, england, nine\n",
      "musician: actor, actress, singer, writer, author, nine, born, composer, poet, politician\n",
      "dance: music, modern, art, traditional, classical, concept, whole, study, early, addition\n",
      "\n",
      "\n"
     ]
    },
    {
     "name": "stderr",
     "output_type": "stream",
     "text": [
      "31509it [07:07, 64.26it/s]"
     ]
    },
    {
     "name": "stdout",
     "output_type": "stream",
     "text": [
      "| epoch   7 | 31500/32580 batches | loss    1.329 \n",
      "money: so, them, if, rather, fact, taken, others, well, seen, need\n",
      "lion: race, real, programming, favor, participated, accordance, magnetic, ocean, prince, wales\n",
      "africa: europe, india, america, south, kingdom, australia, united, asia, england, nine\n",
      "musician: actor, actress, singer, writer, author, nine, born, composer, poet, politician\n",
      "dance: music, modern, art, traditional, classical, concept, whole, study, early, addition\n",
      "\n",
      "\n"
     ]
    },
    {
     "name": "stderr",
     "output_type": "stream",
     "text": [
      "32005it [07:13, 60.73it/s]"
     ]
    },
    {
     "name": "stdout",
     "output_type": "stream",
     "text": [
      "| epoch   7 | 32000/32580 batches | loss    1.331 \n",
      "money: so, them, if, rather, fact, taken, others, well, seen, need\n",
      "lion: race, real, programming, favor, participated, accordance, magnetic, ocean, prince, wales\n",
      "africa: europe, india, america, south, kingdom, australia, united, asia, england, nine\n",
      "musician: actor, actress, singer, writer, author, nine, born, composer, poet, politician\n",
      "dance: music, modern, art, traditional, classical, concept, whole, study, early, addition\n",
      "\n",
      "\n"
     ]
    },
    {
     "name": "stderr",
     "output_type": "stream",
     "text": [
      "32509it [07:20, 64.10it/s]"
     ]
    },
    {
     "name": "stdout",
     "output_type": "stream",
     "text": [
      "| epoch   7 | 32500/32580 batches | loss    1.330 \n",
      "money: so, them, if, rather, fact, taken, others, well, seen, need\n",
      "lion: race, real, programming, favor, participated, accordance, magnetic, ocean, prince, wales\n",
      "africa: europe, india, america, south, kingdom, australia, united, asia, england, nine\n",
      "musician: actor, actress, singer, writer, author, nine, born, composer, poet, politician\n",
      "dance: music, modern, art, traditional, classical, concept, whole, study, early, addition\n",
      "\n",
      "\n"
     ]
    },
    {
     "name": "stderr",
     "output_type": "stream",
     "text": [
      "32580it [07:22, 73.69it/s]\n",
      "4it [00:00,  5.82it/s]"
     ]
    },
    {
     "name": "stdout",
     "output_type": "stream",
     "text": [
      "| epoch   8 |     0/32580 batches | loss    1.288 \n",
      "money: so, them, if, rather, fact, taken, others, well, seen, need\n",
      "lion: race, real, programming, favor, participated, accordance, magnetic, ocean, prince, wales\n",
      "africa: europe, india, america, south, kingdom, australia, united, asia, england, nine\n",
      "musician: actor, actress, singer, writer, author, nine, born, composer, poet, politician\n",
      "dance: music, modern, art, traditional, classical, concept, whole, study, early, addition\n",
      "\n",
      "\n"
     ]
    },
    {
     "name": "stderr",
     "output_type": "stream",
     "text": [
      "500it [00:07, 75.93it/s]"
     ]
    },
    {
     "name": "stdout",
     "output_type": "stream",
     "text": [
      "| epoch   8 |   500/32580 batches | loss    1.332 \n",
      "money: so, them, if, rather, fact, taken, others, well, seen, need\n",
      "lion: race, real, programming, favor, participated, accordance, magnetic, ocean, prince, wales\n",
      "africa: europe, india, america, south, kingdom, australia, united, asia, england, nine\n",
      "musician: actor, actress, singer, writer, author, nine, born, composer, poet, politician\n",
      "dance: music, modern, art, traditional, classical, concept, whole, study, early, addition\n",
      "\n",
      "\n"
     ]
    },
    {
     "name": "stderr",
     "output_type": "stream",
     "text": [
      "1003it [00:14, 61.50it/s]"
     ]
    },
    {
     "name": "stdout",
     "output_type": "stream",
     "text": [
      "| epoch   8 |  1000/32580 batches | loss    1.328 \n",
      "money: so, them, if, rather, fact, taken, others, well, seen, need\n",
      "lion: race, real, programming, favor, participated, accordance, magnetic, ocean, prince, wales\n",
      "africa: europe, india, america, south, kingdom, australia, united, asia, england, nine\n",
      "musician: actor, actress, singer, writer, author, nine, born, composer, poet, politician\n",
      "dance: music, modern, art, traditional, classical, concept, whole, study, early, addition\n",
      "\n",
      "\n"
     ]
    },
    {
     "name": "stderr",
     "output_type": "stream",
     "text": [
      "1507it [00:20, 61.24it/s]"
     ]
    },
    {
     "name": "stdout",
     "output_type": "stream",
     "text": [
      "| epoch   8 |  1500/32580 batches | loss    1.327 \n",
      "money: so, them, if, rather, fact, taken, others, well, seen, need\n",
      "lion: race, real, programming, favor, participated, accordance, magnetic, ocean, prince, wales\n",
      "africa: europe, india, america, south, kingdom, australia, united, asia, england, nine\n",
      "musician: actor, actress, singer, writer, author, nine, born, composer, poet, politician\n",
      "dance: music, modern, art, traditional, classical, concept, whole, study, early, addition\n",
      "\n",
      "\n"
     ]
    },
    {
     "name": "stderr",
     "output_type": "stream",
     "text": [
      "2003it [00:27, 61.74it/s]"
     ]
    },
    {
     "name": "stdout",
     "output_type": "stream",
     "text": [
      "| epoch   8 |  2000/32580 batches | loss    1.333 \n",
      "money: so, them, if, rather, fact, taken, others, well, seen, need\n",
      "lion: race, real, programming, favor, participated, accordance, magnetic, ocean, prince, wales\n",
      "africa: europe, india, america, south, kingdom, australia, united, asia, england, nine\n",
      "musician: actor, actress, singer, writer, author, nine, born, composer, poet, politician\n",
      "dance: music, modern, art, traditional, classical, concept, whole, study, early, addition\n",
      "\n",
      "\n"
     ]
    },
    {
     "name": "stderr",
     "output_type": "stream",
     "text": [
      "2507it [00:34, 60.81it/s]"
     ]
    },
    {
     "name": "stdout",
     "output_type": "stream",
     "text": [
      "| epoch   8 |  2500/32580 batches | loss    1.331 \n",
      "money: so, them, if, rather, fact, taken, others, well, seen, need\n",
      "lion: race, real, programming, favor, participated, accordance, magnetic, ocean, prince, wales\n",
      "africa: europe, india, america, south, kingdom, australia, united, asia, england, nine\n",
      "musician: actor, actress, singer, writer, author, nine, born, composer, poet, politician\n",
      "dance: music, modern, art, traditional, classical, concept, whole, study, early, addition\n",
      "\n",
      "\n"
     ]
    },
    {
     "name": "stderr",
     "output_type": "stream",
     "text": [
      "3003it [00:40, 61.47it/s]"
     ]
    },
    {
     "name": "stdout",
     "output_type": "stream",
     "text": [
      "| epoch   8 |  3000/32580 batches | loss    1.327 \n",
      "money: so, them, if, rather, fact, taken, others, well, seen, need\n",
      "lion: race, real, programming, favor, participated, accordance, magnetic, ocean, prince, wales\n",
      "africa: europe, india, america, south, kingdom, australia, united, asia, england, nine\n",
      "musician: actor, actress, singer, writer, author, nine, born, composer, poet, politician\n",
      "dance: music, modern, art, traditional, classical, concept, whole, study, early, addition\n",
      "\n",
      "\n"
     ]
    },
    {
     "name": "stderr",
     "output_type": "stream",
     "text": [
      "3506it [00:47, 61.30it/s]"
     ]
    },
    {
     "name": "stdout",
     "output_type": "stream",
     "text": [
      "| epoch   8 |  3500/32580 batches | loss    1.329 \n",
      "money: so, them, if, rather, fact, taken, others, well, seen, need\n",
      "lion: race, real, programming, favor, participated, accordance, magnetic, ocean, prince, wales\n",
      "africa: europe, india, america, south, kingdom, australia, united, asia, england, nine\n",
      "musician: actor, actress, singer, writer, author, nine, born, composer, poet, politician\n",
      "dance: music, modern, art, traditional, classical, concept, whole, study, early, addition\n",
      "\n",
      "\n"
     ]
    },
    {
     "name": "stderr",
     "output_type": "stream",
     "text": [
      "4010it [00:54, 64.65it/s]"
     ]
    },
    {
     "name": "stdout",
     "output_type": "stream",
     "text": [
      "| epoch   8 |  4000/32580 batches | loss    1.330 \n",
      "money: so, them, if, rather, fact, taken, others, well, seen, need\n",
      "lion: race, real, programming, favor, participated, accordance, magnetic, ocean, prince, wales\n",
      "africa: europe, india, america, south, kingdom, australia, united, asia, england, nine\n",
      "musician: actor, actress, singer, writer, author, nine, born, composer, poet, politician\n",
      "dance: music, modern, art, traditional, classical, concept, whole, study, early, addition\n",
      "\n",
      "\n"
     ]
    },
    {
     "name": "stderr",
     "output_type": "stream",
     "text": [
      "4506it [01:00, 61.53it/s]"
     ]
    },
    {
     "name": "stdout",
     "output_type": "stream",
     "text": [
      "| epoch   8 |  4500/32580 batches | loss    1.330 \n",
      "money: so, them, if, rather, fact, taken, others, well, seen, need\n",
      "lion: race, real, programming, favor, participated, accordance, magnetic, ocean, prince, wales\n",
      "africa: europe, india, america, south, kingdom, australia, united, asia, england, nine\n",
      "musician: actor, actress, singer, writer, author, nine, born, composer, poet, politician\n",
      "dance: music, modern, art, traditional, classical, concept, whole, study, early, addition\n",
      "\n",
      "\n"
     ]
    },
    {
     "name": "stderr",
     "output_type": "stream",
     "text": [
      "5009it [01:07, 63.25it/s]"
     ]
    },
    {
     "name": "stdout",
     "output_type": "stream",
     "text": [
      "| epoch   8 |  5000/32580 batches | loss    1.332 \n",
      "money: so, them, if, rather, fact, taken, others, well, seen, need\n",
      "lion: race, real, programming, favor, participated, accordance, magnetic, ocean, prince, wales\n",
      "africa: europe, india, america, south, kingdom, australia, united, asia, england, nine\n",
      "musician: actor, actress, singer, writer, author, nine, born, composer, poet, politician\n",
      "dance: music, modern, art, traditional, classical, concept, whole, study, early, addition\n",
      "\n",
      "\n"
     ]
    },
    {
     "name": "stderr",
     "output_type": "stream",
     "text": [
      "5505it [01:14, 61.18it/s]"
     ]
    },
    {
     "name": "stdout",
     "output_type": "stream",
     "text": [
      "| epoch   8 |  5500/32580 batches | loss    1.326 \n",
      "money: so, them, if, rather, fact, taken, others, well, seen, need\n",
      "lion: race, real, programming, favor, participated, accordance, magnetic, ocean, prince, wales\n",
      "africa: europe, india, america, south, kingdom, australia, united, asia, england, nine\n",
      "musician: actor, actress, singer, writer, author, nine, born, composer, poet, politician\n",
      "dance: music, modern, art, traditional, classical, concept, whole, study, early, addition\n",
      "\n",
      "\n"
     ]
    },
    {
     "name": "stderr",
     "output_type": "stream",
     "text": [
      "6009it [01:20, 64.46it/s]"
     ]
    },
    {
     "name": "stdout",
     "output_type": "stream",
     "text": [
      "| epoch   8 |  6000/32580 batches | loss    1.327 \n",
      "money: so, them, if, rather, fact, taken, others, well, seen, need\n",
      "lion: race, real, programming, favor, participated, accordance, magnetic, ocean, prince, wales\n",
      "africa: europe, india, america, south, kingdom, australia, united, asia, england, nine\n",
      "musician: actor, actress, singer, writer, author, nine, born, composer, poet, politician\n",
      "dance: music, modern, art, traditional, classical, concept, whole, study, early, addition\n",
      "\n",
      "\n"
     ]
    },
    {
     "name": "stderr",
     "output_type": "stream",
     "text": [
      "6504it [01:27, 61.40it/s]"
     ]
    },
    {
     "name": "stdout",
     "output_type": "stream",
     "text": [
      "| epoch   8 |  6500/32580 batches | loss    1.330 \n",
      "money: so, them, if, rather, fact, taken, others, well, seen, need\n",
      "lion: race, real, programming, favor, participated, accordance, magnetic, ocean, prince, wales\n",
      "africa: europe, india, america, south, kingdom, australia, united, asia, england, nine\n",
      "musician: actor, actress, singer, writer, author, nine, born, composer, poet, politician\n",
      "dance: music, modern, art, traditional, classical, concept, whole, study, early, addition\n",
      "\n",
      "\n"
     ]
    },
    {
     "name": "stderr",
     "output_type": "stream",
     "text": [
      "7008it [01:33, 61.39it/s]"
     ]
    },
    {
     "name": "stdout",
     "output_type": "stream",
     "text": [
      "| epoch   8 |  7000/32580 batches | loss    1.330 \n",
      "money: so, them, if, rather, fact, taken, others, well, seen, need\n",
      "lion: race, real, programming, favor, participated, accordance, magnetic, ocean, prince, wales\n",
      "africa: europe, india, america, south, kingdom, australia, united, asia, england, nine\n",
      "musician: actor, actress, singer, writer, author, nine, born, composer, poet, politician\n",
      "dance: music, modern, art, traditional, classical, concept, whole, study, early, addition\n",
      "\n",
      "\n"
     ]
    },
    {
     "name": "stderr",
     "output_type": "stream",
     "text": [
      "7504it [01:40, 61.22it/s]"
     ]
    },
    {
     "name": "stdout",
     "output_type": "stream",
     "text": [
      "| epoch   8 |  7500/32580 batches | loss    1.332 \n",
      "money: so, them, if, rather, fact, taken, others, well, seen, need\n",
      "lion: race, real, programming, favor, participated, accordance, magnetic, ocean, prince, wales\n",
      "africa: europe, india, america, south, kingdom, australia, united, asia, england, nine\n",
      "musician: actor, actress, singer, writer, author, nine, born, composer, poet, politician\n",
      "dance: music, modern, art, traditional, classical, concept, whole, study, early, addition\n",
      "\n",
      "\n"
     ]
    },
    {
     "name": "stderr",
     "output_type": "stream",
     "text": [
      "8008it [01:47, 60.86it/s]"
     ]
    },
    {
     "name": "stdout",
     "output_type": "stream",
     "text": [
      "| epoch   8 |  8000/32580 batches | loss    1.326 \n",
      "money: so, them, if, rather, fact, taken, others, well, seen, need\n",
      "lion: race, real, programming, favor, participated, accordance, magnetic, ocean, prince, wales\n",
      "africa: europe, india, america, south, kingdom, australia, united, asia, england, nine\n",
      "musician: actor, actress, singer, writer, author, nine, born, composer, poet, politician\n",
      "dance: music, modern, art, traditional, classical, concept, whole, study, early, addition\n",
      "\n",
      "\n"
     ]
    },
    {
     "name": "stderr",
     "output_type": "stream",
     "text": [
      "8504it [01:53, 61.69it/s]"
     ]
    },
    {
     "name": "stdout",
     "output_type": "stream",
     "text": [
      "| epoch   8 |  8500/32580 batches | loss    1.332 \n",
      "money: so, them, if, rather, fact, taken, others, well, seen, need\n",
      "lion: race, real, programming, favor, participated, accordance, magnetic, ocean, prince, wales\n",
      "africa: europe, india, america, south, kingdom, australia, united, asia, england, nine\n",
      "musician: actor, actress, singer, writer, author, nine, born, composer, poet, politician\n",
      "dance: music, modern, art, traditional, classical, concept, whole, study, early, addition\n",
      "\n",
      "\n"
     ]
    },
    {
     "name": "stderr",
     "output_type": "stream",
     "text": [
      "9000it [02:00, 75.99it/s]"
     ]
    },
    {
     "name": "stdout",
     "output_type": "stream",
     "text": [
      "| epoch   8 |  9000/32580 batches | loss    1.326 \n",
      "money: so, them, if, rather, fact, taken, others, well, seen, need\n",
      "lion: race, real, programming, favor, participated, accordance, magnetic, ocean, prince, wales\n",
      "africa: europe, india, america, south, kingdom, australia, united, asia, england, nine\n",
      "musician: actor, actress, singer, writer, author, nine, born, composer, poet, politician\n",
      "dance: music, modern, art, traditional, classical, concept, whole, study, early, addition\n",
      "\n",
      "\n"
     ]
    },
    {
     "name": "stderr",
     "output_type": "stream",
     "text": [
      "9504it [02:07, 60.93it/s]"
     ]
    },
    {
     "name": "stdout",
     "output_type": "stream",
     "text": [
      "| epoch   8 |  9500/32580 batches | loss    1.330 \n",
      "money: so, them, if, rather, fact, taken, others, well, seen, need\n",
      "lion: race, real, programming, favor, participated, accordance, magnetic, ocean, prince, wales\n",
      "africa: europe, india, america, south, kingdom, australia, united, asia, england, nine\n",
      "musician: actor, actress, singer, writer, author, nine, born, composer, poet, politician\n",
      "dance: music, modern, art, traditional, classical, concept, whole, study, early, addition\n",
      "\n",
      "\n"
     ]
    },
    {
     "name": "stderr",
     "output_type": "stream",
     "text": [
      "10007it [02:13, 61.19it/s]"
     ]
    },
    {
     "name": "stdout",
     "output_type": "stream",
     "text": [
      "| epoch   8 | 10000/32580 batches | loss    1.331 \n",
      "money: so, them, if, rather, fact, taken, others, well, seen, need\n",
      "lion: race, real, programming, favor, participated, accordance, magnetic, ocean, prince, wales\n",
      "africa: europe, india, america, south, kingdom, australia, united, asia, england, nine\n",
      "musician: actor, actress, singer, writer, author, nine, born, composer, poet, politician\n",
      "dance: music, modern, art, traditional, classical, concept, whole, study, early, addition\n",
      "\n",
      "\n"
     ]
    },
    {
     "name": "stderr",
     "output_type": "stream",
     "text": [
      "10503it [02:20, 61.01it/s]"
     ]
    },
    {
     "name": "stdout",
     "output_type": "stream",
     "text": [
      "| epoch   8 | 10500/32580 batches | loss    1.333 \n",
      "money: so, them, if, rather, fact, taken, others, well, seen, need\n",
      "lion: race, real, programming, favor, participated, accordance, magnetic, ocean, prince, wales\n",
      "africa: europe, india, america, south, kingdom, australia, united, asia, england, nine\n",
      "musician: actor, actress, singer, writer, author, nine, born, composer, poet, politician\n",
      "dance: music, modern, art, traditional, classical, concept, whole, study, early, addition\n",
      "\n",
      "\n"
     ]
    },
    {
     "name": "stderr",
     "output_type": "stream",
     "text": [
      "11007it [02:27, 60.47it/s]"
     ]
    },
    {
     "name": "stdout",
     "output_type": "stream",
     "text": [
      "| epoch   8 | 11000/32580 batches | loss    1.327 \n",
      "money: so, them, if, rather, fact, taken, others, well, seen, need\n",
      "lion: race, real, programming, favor, participated, accordance, magnetic, ocean, prince, wales\n",
      "africa: europe, india, america, south, kingdom, australia, united, asia, england, nine\n",
      "musician: actor, actress, singer, writer, author, nine, born, composer, poet, politician\n",
      "dance: music, modern, art, traditional, classical, concept, whole, study, early, addition\n",
      "\n",
      "\n"
     ]
    },
    {
     "name": "stderr",
     "output_type": "stream",
     "text": [
      "11503it [02:33, 60.93it/s]"
     ]
    },
    {
     "name": "stdout",
     "output_type": "stream",
     "text": [
      "| epoch   8 | 11500/32580 batches | loss    1.334 \n",
      "money: so, them, if, rather, fact, taken, others, well, seen, need\n",
      "lion: race, real, programming, favor, participated, accordance, magnetic, ocean, prince, wales\n",
      "africa: europe, india, america, south, kingdom, australia, united, asia, england, nine\n",
      "musician: actor, actress, singer, writer, author, nine, born, composer, poet, politician\n",
      "dance: music, modern, art, traditional, classical, concept, whole, study, early, addition\n",
      "\n",
      "\n"
     ]
    },
    {
     "name": "stderr",
     "output_type": "stream",
     "text": [
      "12007it [02:40, 61.35it/s]"
     ]
    },
    {
     "name": "stdout",
     "output_type": "stream",
     "text": [
      "| epoch   8 | 12000/32580 batches | loss    1.329 \n",
      "money: so, them, if, rather, fact, taken, others, well, seen, need\n",
      "lion: race, real, programming, favor, participated, accordance, magnetic, ocean, prince, wales\n",
      "africa: europe, india, america, south, kingdom, australia, united, asia, england, nine\n",
      "musician: actor, actress, singer, writer, author, nine, born, composer, poet, politician\n",
      "dance: music, modern, art, traditional, classical, concept, whole, study, early, addition\n",
      "\n",
      "\n"
     ]
    },
    {
     "name": "stderr",
     "output_type": "stream",
     "text": [
      "12503it [02:47, 61.37it/s]"
     ]
    },
    {
     "name": "stdout",
     "output_type": "stream",
     "text": [
      "| epoch   8 | 12500/32580 batches | loss    1.330 \n",
      "money: so, them, if, rather, fact, taken, others, well, seen, need\n",
      "lion: race, real, programming, favor, participated, accordance, magnetic, ocean, prince, wales\n",
      "africa: europe, india, america, south, kingdom, australia, united, asia, england, nine\n",
      "musician: actor, actress, singer, writer, author, nine, born, composer, poet, politician\n",
      "dance: music, modern, art, traditional, classical, concept, whole, study, early, addition\n",
      "\n",
      "\n"
     ]
    },
    {
     "name": "stderr",
     "output_type": "stream",
     "text": [
      "13007it [02:53, 60.83it/s]"
     ]
    },
    {
     "name": "stdout",
     "output_type": "stream",
     "text": [
      "| epoch   8 | 13000/32580 batches | loss    1.333 \n",
      "money: so, them, if, rather, fact, taken, others, well, seen, need\n",
      "lion: race, real, programming, favor, participated, accordance, magnetic, ocean, prince, wales\n",
      "africa: europe, india, america, south, kingdom, australia, united, asia, england, nine\n",
      "musician: actor, actress, singer, writer, author, nine, born, composer, poet, politician\n",
      "dance: music, modern, art, traditional, classical, concept, whole, study, early, addition\n",
      "\n",
      "\n"
     ]
    },
    {
     "name": "stderr",
     "output_type": "stream",
     "text": [
      "13510it [03:00, 64.96it/s]"
     ]
    },
    {
     "name": "stdout",
     "output_type": "stream",
     "text": [
      "| epoch   8 | 13500/32580 batches | loss    1.334 \n",
      "money: so, them, if, rather, fact, taken, others, well, seen, need\n",
      "lion: race, real, programming, favor, participated, accordance, magnetic, ocean, prince, wales\n",
      "africa: europe, india, america, south, kingdom, australia, united, asia, england, nine\n",
      "musician: actor, actress, singer, writer, author, nine, born, composer, poet, politician\n",
      "dance: music, modern, art, traditional, classical, concept, whole, study, early, addition\n",
      "\n",
      "\n"
     ]
    },
    {
     "name": "stderr",
     "output_type": "stream",
     "text": [
      "14006it [03:07, 60.72it/s]"
     ]
    },
    {
     "name": "stdout",
     "output_type": "stream",
     "text": [
      "| epoch   8 | 14000/32580 batches | loss    1.331 \n",
      "money: so, them, if, rather, fact, taken, others, well, seen, need\n",
      "lion: race, real, programming, favor, participated, accordance, magnetic, ocean, prince, wales\n",
      "africa: europe, india, america, south, kingdom, australia, united, asia, england, nine\n",
      "musician: actor, actress, singer, writer, author, nine, born, composer, poet, politician\n",
      "dance: music, modern, art, traditional, classical, concept, whole, study, early, addition\n",
      "\n",
      "\n"
     ]
    },
    {
     "name": "stderr",
     "output_type": "stream",
     "text": [
      "14509it [03:13, 64.96it/s]"
     ]
    },
    {
     "name": "stdout",
     "output_type": "stream",
     "text": [
      "| epoch   8 | 14500/32580 batches | loss    1.330 \n",
      "money: so, them, if, rather, fact, taken, others, well, seen, need\n",
      "lion: race, real, programming, favor, participated, accordance, magnetic, ocean, prince, wales\n",
      "africa: europe, india, america, south, kingdom, australia, united, asia, england, nine\n",
      "musician: actor, actress, singer, writer, author, nine, born, composer, poet, politician\n",
      "dance: music, modern, art, traditional, classical, concept, whole, study, early, addition\n",
      "\n",
      "\n"
     ]
    },
    {
     "name": "stderr",
     "output_type": "stream",
     "text": [
      "15005it [03:20, 61.66it/s]"
     ]
    },
    {
     "name": "stdout",
     "output_type": "stream",
     "text": [
      "| epoch   8 | 15000/32580 batches | loss    1.335 \n",
      "money: so, them, if, rather, fact, taken, others, well, seen, need\n",
      "lion: race, real, programming, favor, participated, accordance, magnetic, ocean, prince, wales\n",
      "africa: europe, india, america, south, kingdom, australia, united, asia, england, nine\n",
      "musician: actor, actress, singer, writer, author, nine, born, composer, poet, politician\n",
      "dance: music, modern, art, traditional, classical, concept, whole, study, early, addition\n",
      "\n",
      "\n"
     ]
    },
    {
     "name": "stderr",
     "output_type": "stream",
     "text": [
      "15508it [03:27, 61.40it/s]"
     ]
    },
    {
     "name": "stdout",
     "output_type": "stream",
     "text": [
      "| epoch   8 | 15500/32580 batches | loss    1.332 \n",
      "money: so, them, if, rather, fact, taken, others, well, seen, need\n",
      "lion: race, real, programming, favor, participated, accordance, magnetic, ocean, prince, wales\n",
      "africa: europe, india, america, south, kingdom, australia, united, asia, england, nine\n",
      "musician: actor, actress, singer, writer, author, nine, born, composer, poet, politician\n",
      "dance: music, modern, art, traditional, classical, concept, whole, study, early, addition\n",
      "\n",
      "\n"
     ]
    },
    {
     "name": "stderr",
     "output_type": "stream",
     "text": [
      "16004it [03:35, 60.16it/s]"
     ]
    },
    {
     "name": "stdout",
     "output_type": "stream",
     "text": [
      "| epoch   8 | 16000/32580 batches | loss    1.334 \n",
      "money: so, them, if, rather, fact, taken, others, well, seen, need\n",
      "lion: race, real, programming, favor, participated, accordance, magnetic, ocean, prince, wales\n",
      "africa: europe, india, america, south, kingdom, australia, united, asia, england, nine\n",
      "musician: actor, actress, singer, writer, author, nine, born, composer, poet, politician\n",
      "dance: music, modern, art, traditional, classical, concept, whole, study, early, addition\n",
      "\n",
      "\n"
     ]
    },
    {
     "name": "stderr",
     "output_type": "stream",
     "text": [
      "16507it [03:41, 61.02it/s]"
     ]
    },
    {
     "name": "stdout",
     "output_type": "stream",
     "text": [
      "| epoch   8 | 16500/32580 batches | loss    1.331 \n",
      "money: so, them, if, rather, fact, taken, others, well, seen, need\n",
      "lion: race, real, programming, favor, participated, accordance, magnetic, ocean, prince, wales\n",
      "africa: europe, india, america, south, kingdom, australia, united, asia, england, nine\n",
      "musician: actor, actress, singer, writer, author, nine, born, composer, poet, politician\n",
      "dance: music, modern, art, traditional, classical, concept, whole, study, early, addition\n",
      "\n",
      "\n"
     ]
    },
    {
     "name": "stderr",
     "output_type": "stream",
     "text": [
      "17003it [03:48, 61.35it/s]"
     ]
    },
    {
     "name": "stdout",
     "output_type": "stream",
     "text": [
      "| epoch   8 | 17000/32580 batches | loss    1.333 \n",
      "money: so, them, if, rather, fact, taken, others, well, seen, need\n",
      "lion: race, real, programming, favor, participated, accordance, magnetic, ocean, prince, wales\n",
      "africa: europe, india, america, south, kingdom, australia, united, asia, england, nine\n",
      "musician: actor, actress, singer, writer, author, nine, born, composer, poet, politician\n",
      "dance: music, modern, art, traditional, classical, concept, whole, study, early, addition\n",
      "\n",
      "\n"
     ]
    },
    {
     "name": "stderr",
     "output_type": "stream",
     "text": [
      "17507it [03:55, 60.40it/s]"
     ]
    },
    {
     "name": "stdout",
     "output_type": "stream",
     "text": [
      "| epoch   8 | 17500/32580 batches | loss    1.327 \n",
      "money: so, them, if, rather, fact, taken, others, well, seen, need\n",
      "lion: race, real, programming, favor, participated, accordance, magnetic, ocean, prince, wales\n",
      "africa: europe, india, america, south, kingdom, australia, united, asia, england, nine\n",
      "musician: actor, actress, singer, writer, author, nine, born, composer, poet, politician\n",
      "dance: music, modern, art, traditional, classical, concept, whole, study, early, addition\n",
      "\n",
      "\n"
     ]
    },
    {
     "name": "stderr",
     "output_type": "stream",
     "text": [
      "18003it [04:01, 61.55it/s]"
     ]
    },
    {
     "name": "stdout",
     "output_type": "stream",
     "text": [
      "| epoch   8 | 18000/32580 batches | loss    1.332 \n",
      "money: so, them, if, rather, fact, taken, others, well, seen, need\n",
      "lion: race, real, programming, favor, participated, accordance, magnetic, ocean, prince, wales\n",
      "africa: europe, india, america, south, kingdom, australia, united, asia, england, nine\n",
      "musician: actor, actress, singer, writer, author, nine, born, composer, poet, politician\n",
      "dance: music, modern, art, traditional, classical, concept, whole, study, early, addition\n",
      "\n",
      "\n"
     ]
    },
    {
     "name": "stderr",
     "output_type": "stream",
     "text": [
      "18507it [04:08, 60.68it/s]"
     ]
    },
    {
     "name": "stdout",
     "output_type": "stream",
     "text": [
      "| epoch   8 | 18500/32580 batches | loss    1.333 \n",
      "money: so, them, if, rather, fact, taken, others, well, seen, need\n",
      "lion: race, real, programming, favor, participated, accordance, magnetic, ocean, prince, wales\n",
      "africa: europe, india, america, south, kingdom, australia, united, asia, england, nine\n",
      "musician: actor, actress, singer, writer, author, nine, born, composer, poet, politician\n",
      "dance: music, modern, art, traditional, classical, concept, whole, study, early, addition\n",
      "\n",
      "\n"
     ]
    },
    {
     "name": "stderr",
     "output_type": "stream",
     "text": [
      "19003it [04:15, 61.16it/s]"
     ]
    },
    {
     "name": "stdout",
     "output_type": "stream",
     "text": [
      "| epoch   8 | 19000/32580 batches | loss    1.329 \n",
      "money: so, them, if, rather, fact, taken, others, well, seen, need\n",
      "lion: race, real, programming, favor, participated, accordance, magnetic, ocean, prince, wales\n",
      "africa: europe, india, america, south, kingdom, australia, united, asia, england, nine\n",
      "musician: actor, actress, singer, writer, author, nine, born, composer, poet, politician\n",
      "dance: music, modern, art, traditional, classical, concept, whole, study, early, addition\n",
      "\n",
      "\n"
     ]
    },
    {
     "name": "stderr",
     "output_type": "stream",
     "text": [
      "19507it [04:21, 60.55it/s]"
     ]
    },
    {
     "name": "stdout",
     "output_type": "stream",
     "text": [
      "| epoch   8 | 19500/32580 batches | loss    1.332 \n",
      "money: so, them, if, rather, fact, taken, others, well, seen, need\n",
      "lion: race, real, programming, favor, participated, accordance, magnetic, ocean, prince, wales\n",
      "africa: europe, india, america, south, kingdom, australia, united, asia, england, nine\n",
      "musician: actor, actress, singer, writer, author, nine, born, composer, poet, politician\n",
      "dance: music, modern, art, traditional, classical, concept, whole, study, early, addition\n",
      "\n",
      "\n"
     ]
    },
    {
     "name": "stderr",
     "output_type": "stream",
     "text": [
      "20003it [04:28, 61.74it/s]"
     ]
    },
    {
     "name": "stdout",
     "output_type": "stream",
     "text": [
      "| epoch   8 | 20000/32580 batches | loss    1.331 \n",
      "money: so, them, if, rather, fact, taken, others, well, seen, need\n",
      "lion: race, real, programming, favor, participated, accordance, magnetic, ocean, prince, wales\n",
      "africa: europe, india, america, south, kingdom, australia, united, asia, england, nine\n",
      "musician: actor, actress, singer, writer, author, nine, born, composer, poet, politician\n",
      "dance: music, modern, art, traditional, classical, concept, whole, study, early, addition\n",
      "\n",
      "\n"
     ]
    },
    {
     "name": "stderr",
     "output_type": "stream",
     "text": [
      "20507it [04:35, 60.85it/s]"
     ]
    },
    {
     "name": "stdout",
     "output_type": "stream",
     "text": [
      "| epoch   8 | 20500/32580 batches | loss    1.325 \n",
      "money: so, them, if, rather, fact, taken, others, well, seen, need\n",
      "lion: race, real, programming, favor, participated, accordance, magnetic, ocean, prince, wales\n",
      "africa: europe, india, america, south, kingdom, australia, united, asia, england, nine\n",
      "musician: actor, actress, singer, writer, author, nine, born, composer, poet, politician\n",
      "dance: music, modern, art, traditional, classical, concept, whole, study, early, addition\n",
      "\n",
      "\n"
     ]
    },
    {
     "name": "stderr",
     "output_type": "stream",
     "text": [
      "21010it [04:41, 63.53it/s]"
     ]
    },
    {
     "name": "stdout",
     "output_type": "stream",
     "text": [
      "| epoch   8 | 21000/32580 batches | loss    1.336 \n",
      "money: so, them, if, rather, fact, taken, others, well, seen, need\n",
      "lion: race, real, programming, favor, participated, accordance, magnetic, ocean, prince, wales\n",
      "africa: europe, india, america, south, kingdom, australia, united, asia, england, nine\n",
      "musician: actor, actress, singer, writer, author, nine, born, composer, poet, politician\n",
      "dance: music, modern, art, traditional, classical, concept, whole, study, early, addition\n",
      "\n",
      "\n"
     ]
    },
    {
     "name": "stderr",
     "output_type": "stream",
     "text": [
      "21506it [04:48, 60.37it/s]"
     ]
    },
    {
     "name": "stdout",
     "output_type": "stream",
     "text": [
      "| epoch   8 | 21500/32580 batches | loss    1.327 \n",
      "money: so, them, if, rather, fact, taken, others, well, seen, need\n",
      "lion: race, real, programming, favor, participated, accordance, magnetic, ocean, prince, wales\n",
      "africa: europe, india, america, south, kingdom, australia, united, asia, england, nine\n",
      "musician: actor, actress, singer, writer, author, nine, born, composer, poet, politician\n",
      "dance: music, modern, art, traditional, classical, concept, whole, study, early, addition\n",
      "\n",
      "\n"
     ]
    },
    {
     "name": "stderr",
     "output_type": "stream",
     "text": [
      "22002it [04:54, 61.04it/s]"
     ]
    },
    {
     "name": "stdout",
     "output_type": "stream",
     "text": [
      "| epoch   8 | 22000/32580 batches | loss    1.331 \n",
      "money: so, them, if, rather, fact, taken, others, well, seen, need\n",
      "lion: race, real, programming, favor, participated, accordance, magnetic, ocean, prince, wales\n",
      "africa: europe, india, america, south, kingdom, australia, united, asia, england, nine\n",
      "musician: actor, actress, singer, writer, author, nine, born, composer, poet, politician\n",
      "dance: music, modern, art, traditional, classical, concept, whole, study, early, addition\n",
      "\n",
      "\n"
     ]
    },
    {
     "name": "stderr",
     "output_type": "stream",
     "text": [
      "22506it [05:01, 61.59it/s]"
     ]
    },
    {
     "name": "stdout",
     "output_type": "stream",
     "text": [
      "| epoch   8 | 22500/32580 batches | loss    1.331 \n",
      "money: so, them, if, rather, fact, taken, others, well, seen, need\n",
      "lion: race, real, programming, favor, participated, accordance, magnetic, ocean, prince, wales\n",
      "africa: europe, india, america, south, kingdom, australia, united, asia, england, nine\n",
      "musician: actor, actress, singer, writer, author, nine, born, composer, poet, politician\n",
      "dance: music, modern, art, traditional, classical, concept, whole, study, early, addition\n",
      "\n",
      "\n"
     ]
    },
    {
     "name": "stderr",
     "output_type": "stream",
     "text": [
      "23010it [05:08, 64.79it/s]"
     ]
    },
    {
     "name": "stdout",
     "output_type": "stream",
     "text": [
      "| epoch   8 | 23000/32580 batches | loss    1.328 \n",
      "money: so, them, if, rather, fact, taken, others, well, seen, need\n",
      "lion: race, real, programming, favor, participated, accordance, magnetic, ocean, prince, wales\n",
      "africa: europe, india, america, south, kingdom, australia, united, asia, england, nine\n",
      "musician: actor, actress, singer, writer, author, nine, born, composer, poet, politician\n",
      "dance: music, modern, art, traditional, classical, concept, whole, study, early, addition\n",
      "\n",
      "\n"
     ]
    },
    {
     "name": "stderr",
     "output_type": "stream",
     "text": [
      "23506it [05:14, 60.74it/s]"
     ]
    },
    {
     "name": "stdout",
     "output_type": "stream",
     "text": [
      "| epoch   8 | 23500/32580 batches | loss    1.332 \n",
      "money: so, them, if, rather, fact, taken, others, well, seen, need\n",
      "lion: race, real, programming, favor, participated, accordance, magnetic, ocean, prince, wales\n",
      "africa: europe, india, america, south, kingdom, australia, united, asia, england, nine\n",
      "musician: actor, actress, singer, writer, author, nine, born, composer, poet, politician\n",
      "dance: music, modern, art, traditional, classical, concept, whole, study, early, addition\n",
      "\n",
      "\n"
     ]
    },
    {
     "name": "stderr",
     "output_type": "stream",
     "text": [
      "24010it [05:21, 64.94it/s]"
     ]
    },
    {
     "name": "stdout",
     "output_type": "stream",
     "text": [
      "| epoch   8 | 24000/32580 batches | loss    1.328 \n",
      "money: so, them, if, rather, fact, taken, others, well, seen, need\n",
      "lion: race, real, programming, favor, participated, accordance, magnetic, ocean, prince, wales\n",
      "africa: europe, india, america, south, kingdom, australia, united, asia, england, nine\n",
      "musician: actor, actress, singer, writer, author, nine, born, composer, poet, politician\n",
      "dance: music, modern, art, traditional, classical, concept, whole, study, early, addition\n",
      "\n",
      "\n"
     ]
    },
    {
     "name": "stderr",
     "output_type": "stream",
     "text": [
      "24506it [05:28, 60.84it/s]"
     ]
    },
    {
     "name": "stdout",
     "output_type": "stream",
     "text": [
      "| epoch   8 | 24500/32580 batches | loss    1.328 \n",
      "money: so, them, if, rather, fact, taken, others, well, seen, need\n",
      "lion: race, real, programming, favor, participated, accordance, magnetic, ocean, prince, wales\n",
      "africa: europe, india, america, south, kingdom, australia, united, asia, england, nine\n",
      "musician: actor, actress, singer, writer, author, nine, born, composer, poet, politician\n",
      "dance: music, modern, art, traditional, classical, concept, whole, study, early, addition\n",
      "\n",
      "\n"
     ]
    },
    {
     "name": "stderr",
     "output_type": "stream",
     "text": [
      "25009it [05:34, 63.72it/s]"
     ]
    },
    {
     "name": "stdout",
     "output_type": "stream",
     "text": [
      "| epoch   8 | 25000/32580 batches | loss    1.331 \n",
      "money: so, them, if, rather, fact, taken, others, well, seen, need\n",
      "lion: race, real, programming, favor, participated, accordance, magnetic, ocean, prince, wales\n",
      "africa: europe, india, america, south, kingdom, australia, united, asia, england, nine\n",
      "musician: actor, actress, singer, writer, author, nine, born, composer, poet, politician\n",
      "dance: music, modern, art, traditional, classical, concept, whole, study, early, addition\n",
      "\n",
      "\n"
     ]
    },
    {
     "name": "stderr",
     "output_type": "stream",
     "text": [
      "25505it [05:41, 60.25it/s]"
     ]
    },
    {
     "name": "stdout",
     "output_type": "stream",
     "text": [
      "| epoch   8 | 25500/32580 batches | loss    1.330 \n",
      "money: so, them, if, rather, fact, taken, others, well, seen, need\n",
      "lion: race, real, programming, favor, participated, accordance, magnetic, ocean, prince, wales\n",
      "africa: europe, india, america, south, kingdom, australia, united, asia, england, nine\n",
      "musician: actor, actress, singer, writer, author, nine, born, composer, poet, politician\n",
      "dance: music, modern, art, traditional, classical, concept, whole, study, early, addition\n",
      "\n",
      "\n"
     ]
    },
    {
     "name": "stderr",
     "output_type": "stream",
     "text": [
      "26000it [05:48, 76.24it/s]"
     ]
    },
    {
     "name": "stdout",
     "output_type": "stream",
     "text": [
      "| epoch   8 | 26000/32580 batches | loss    1.331 \n",
      "money: so, them, if, rather, fact, taken, others, well, seen, need\n",
      "lion: race, real, programming, favor, participated, accordance, magnetic, ocean, prince, wales\n",
      "africa: europe, india, america, south, kingdom, australia, united, asia, england, nine\n",
      "musician: actor, actress, singer, writer, author, nine, born, composer, poet, politician\n",
      "dance: music, modern, art, traditional, classical, concept, whole, study, early, addition\n",
      "\n",
      "\n"
     ]
    },
    {
     "name": "stderr",
     "output_type": "stream",
     "text": [
      "26503it [05:54, 61.69it/s]"
     ]
    },
    {
     "name": "stdout",
     "output_type": "stream",
     "text": [
      "| epoch   8 | 26500/32580 batches | loss    1.332 \n",
      "money: so, them, if, rather, fact, taken, others, well, seen, need\n",
      "lion: race, real, programming, favor, participated, accordance, magnetic, ocean, prince, wales\n",
      "africa: europe, india, america, south, kingdom, australia, united, asia, england, nine\n",
      "musician: actor, actress, singer, writer, author, nine, born, composer, poet, politician\n",
      "dance: music, modern, art, traditional, classical, concept, whole, study, early, addition\n",
      "\n",
      "\n"
     ]
    },
    {
     "name": "stderr",
     "output_type": "stream",
     "text": [
      "27007it [06:01, 60.83it/s]"
     ]
    },
    {
     "name": "stdout",
     "output_type": "stream",
     "text": [
      "| epoch   8 | 27000/32580 batches | loss    1.332 \n",
      "money: so, them, if, rather, fact, taken, others, well, seen, need\n",
      "lion: race, real, programming, favor, participated, accordance, magnetic, ocean, prince, wales\n",
      "africa: europe, india, america, south, kingdom, australia, united, asia, england, nine\n",
      "musician: actor, actress, singer, writer, author, nine, born, composer, poet, politician\n",
      "dance: music, modern, art, traditional, classical, concept, whole, study, early, addition\n",
      "\n",
      "\n"
     ]
    },
    {
     "name": "stderr",
     "output_type": "stream",
     "text": [
      "27503it [06:08, 61.53it/s]"
     ]
    },
    {
     "name": "stdout",
     "output_type": "stream",
     "text": [
      "| epoch   8 | 27500/32580 batches | loss    1.328 \n",
      "money: so, them, if, rather, fact, taken, others, well, seen, need\n",
      "lion: race, real, programming, favor, participated, accordance, magnetic, ocean, prince, wales\n",
      "africa: europe, india, america, south, kingdom, australia, united, asia, england, nine\n",
      "musician: actor, actress, singer, writer, author, nine, born, composer, poet, politician\n",
      "dance: music, modern, art, traditional, classical, concept, whole, study, early, addition\n",
      "\n",
      "\n"
     ]
    },
    {
     "name": "stderr",
     "output_type": "stream",
     "text": [
      "28007it [06:16, 51.09it/s]"
     ]
    },
    {
     "name": "stdout",
     "output_type": "stream",
     "text": [
      "| epoch   8 | 28000/32580 batches | loss    1.332 \n",
      "money: so, them, if, rather, fact, taken, others, well, seen, need\n",
      "lion: race, real, programming, favor, participated, accordance, magnetic, ocean, prince, wales\n",
      "africa: europe, india, america, south, kingdom, australia, united, asia, england, nine\n",
      "musician: actor, actress, singer, writer, author, nine, born, composer, poet, politician\n",
      "dance: music, modern, art, traditional, classical, concept, whole, study, early, addition\n",
      "\n",
      "\n"
     ]
    },
    {
     "name": "stderr",
     "output_type": "stream",
     "text": [
      "28511it [06:22, 64.67it/s]"
     ]
    },
    {
     "name": "stdout",
     "output_type": "stream",
     "text": [
      "| epoch   8 | 28500/32580 batches | loss    1.330 \n",
      "money: so, them, if, rather, fact, taken, others, well, seen, need\n",
      "lion: race, real, programming, favor, participated, accordance, magnetic, ocean, prince, wales\n",
      "africa: europe, india, america, south, kingdom, australia, united, asia, england, nine\n",
      "musician: actor, actress, singer, writer, author, nine, born, composer, poet, politician\n",
      "dance: music, modern, art, traditional, classical, concept, whole, study, early, addition\n",
      "\n",
      "\n"
     ]
    },
    {
     "name": "stderr",
     "output_type": "stream",
     "text": [
      "29007it [06:29, 61.00it/s]"
     ]
    },
    {
     "name": "stdout",
     "output_type": "stream",
     "text": [
      "| epoch   8 | 29000/32580 batches | loss    1.331 \n",
      "money: so, them, if, rather, fact, taken, others, well, seen, need\n",
      "lion: race, real, programming, favor, participated, accordance, magnetic, ocean, prince, wales\n",
      "africa: europe, india, america, south, kingdom, australia, united, asia, england, nine\n",
      "musician: actor, actress, singer, writer, author, nine, born, composer, poet, politician\n",
      "dance: music, modern, art, traditional, classical, concept, whole, study, early, addition\n",
      "\n",
      "\n"
     ]
    },
    {
     "name": "stderr",
     "output_type": "stream",
     "text": [
      "29503it [06:36, 61.35it/s]"
     ]
    },
    {
     "name": "stdout",
     "output_type": "stream",
     "text": [
      "| epoch   8 | 29500/32580 batches | loss    1.328 \n",
      "money: so, them, if, rather, fact, taken, others, well, seen, need\n",
      "lion: race, real, programming, favor, participated, accordance, magnetic, ocean, prince, wales\n",
      "africa: europe, india, america, south, kingdom, australia, united, asia, england, nine\n",
      "musician: actor, actress, singer, writer, author, nine, born, composer, poet, politician\n",
      "dance: music, modern, art, traditional, classical, concept, whole, study, early, addition\n",
      "\n",
      "\n"
     ]
    },
    {
     "name": "stderr",
     "output_type": "stream",
     "text": [
      "30007it [06:42, 61.29it/s]"
     ]
    },
    {
     "name": "stdout",
     "output_type": "stream",
     "text": [
      "| epoch   8 | 30000/32580 batches | loss    1.331 \n",
      "money: so, them, if, rather, fact, taken, others, well, seen, need\n",
      "lion: race, real, programming, favor, participated, accordance, magnetic, ocean, prince, wales\n",
      "africa: europe, india, america, south, kingdom, australia, united, asia, england, nine\n",
      "musician: actor, actress, singer, writer, author, nine, born, composer, poet, politician\n",
      "dance: music, modern, art, traditional, classical, concept, whole, study, early, addition\n",
      "\n",
      "\n"
     ]
    },
    {
     "name": "stderr",
     "output_type": "stream",
     "text": [
      "30503it [06:49, 60.93it/s]"
     ]
    },
    {
     "name": "stdout",
     "output_type": "stream",
     "text": [
      "| epoch   8 | 30500/32580 batches | loss    1.329 \n",
      "money: so, them, if, rather, fact, taken, others, well, seen, need\n",
      "lion: race, real, programming, favor, participated, accordance, magnetic, ocean, prince, wales\n",
      "africa: europe, india, america, south, kingdom, australia, united, asia, england, nine\n",
      "musician: actor, actress, singer, writer, author, nine, born, composer, poet, politician\n",
      "dance: music, modern, art, traditional, classical, concept, whole, study, early, addition\n",
      "\n",
      "\n"
     ]
    },
    {
     "name": "stderr",
     "output_type": "stream",
     "text": [
      "31007it [06:56, 61.03it/s]"
     ]
    },
    {
     "name": "stdout",
     "output_type": "stream",
     "text": [
      "| epoch   8 | 31000/32580 batches | loss    1.330 \n",
      "money: so, them, if, rather, fact, taken, others, well, seen, need\n",
      "lion: race, real, programming, favor, participated, accordance, magnetic, ocean, prince, wales\n",
      "africa: europe, india, america, south, kingdom, australia, united, asia, england, nine\n",
      "musician: actor, actress, singer, writer, author, nine, born, composer, poet, politician\n",
      "dance: music, modern, art, traditional, classical, concept, whole, study, early, addition\n",
      "\n",
      "\n"
     ]
    },
    {
     "name": "stderr",
     "output_type": "stream",
     "text": [
      "31503it [07:02, 61.24it/s]"
     ]
    },
    {
     "name": "stdout",
     "output_type": "stream",
     "text": [
      "| epoch   8 | 31500/32580 batches | loss    1.332 \n",
      "money: so, them, if, rather, fact, taken, others, well, seen, need\n",
      "lion: race, real, programming, favor, participated, accordance, magnetic, ocean, prince, wales\n",
      "africa: europe, india, america, south, kingdom, australia, united, asia, england, nine\n",
      "musician: actor, actress, singer, writer, author, nine, born, composer, poet, politician\n",
      "dance: music, modern, art, traditional, classical, concept, whole, study, early, addition\n",
      "\n",
      "\n"
     ]
    },
    {
     "name": "stderr",
     "output_type": "stream",
     "text": [
      "32006it [07:09, 60.90it/s]"
     ]
    },
    {
     "name": "stdout",
     "output_type": "stream",
     "text": [
      "| epoch   8 | 32000/32580 batches | loss    1.327 \n",
      "money: so, them, if, rather, fact, taken, others, well, seen, need\n",
      "lion: race, real, programming, favor, participated, accordance, magnetic, ocean, prince, wales\n",
      "africa: europe, india, america, south, kingdom, australia, united, asia, england, nine\n",
      "musician: actor, actress, singer, writer, author, nine, born, composer, poet, politician\n",
      "dance: music, modern, art, traditional, classical, concept, whole, study, early, addition\n",
      "\n",
      "\n"
     ]
    },
    {
     "name": "stderr",
     "output_type": "stream",
     "text": [
      "32502it [07:16, 60.92it/s]"
     ]
    },
    {
     "name": "stdout",
     "output_type": "stream",
     "text": [
      "| epoch   8 | 32500/32580 batches | loss    1.331 \n",
      "money: so, them, if, rather, fact, taken, others, well, seen, need\n",
      "lion: race, real, programming, favor, participated, accordance, magnetic, ocean, prince, wales\n",
      "africa: europe, india, america, south, kingdom, australia, united, asia, england, nine\n",
      "musician: actor, actress, singer, writer, author, nine, born, composer, poet, politician\n",
      "dance: music, modern, art, traditional, classical, concept, whole, study, early, addition\n",
      "\n",
      "\n"
     ]
    },
    {
     "name": "stderr",
     "output_type": "stream",
     "text": [
      "32580it [07:17, 74.41it/s]\n",
      "4it [00:00,  5.70it/s]"
     ]
    },
    {
     "name": "stdout",
     "output_type": "stream",
     "text": [
      "| epoch   9 |     0/32580 batches | loss    1.328 \n",
      "money: so, them, if, rather, fact, taken, others, well, seen, need\n",
      "lion: race, real, programming, favor, participated, accordance, magnetic, ocean, prince, wales\n",
      "africa: europe, india, america, south, kingdom, australia, united, asia, england, nine\n",
      "musician: actor, actress, singer, writer, author, nine, born, composer, poet, politician\n",
      "dance: music, modern, art, traditional, classical, concept, whole, study, early, addition\n",
      "\n",
      "\n"
     ]
    },
    {
     "name": "stderr",
     "output_type": "stream",
     "text": [
      "508it [00:07, 59.92it/s]"
     ]
    },
    {
     "name": "stdout",
     "output_type": "stream",
     "text": [
      "| epoch   9 |   500/32580 batches | loss    1.330 \n",
      "money: so, them, if, rather, fact, taken, others, well, seen, need\n",
      "lion: race, real, programming, favor, participated, accordance, magnetic, ocean, prince, wales\n",
      "africa: europe, india, america, south, kingdom, australia, united, asia, england, nine\n",
      "musician: actor, actress, singer, writer, author, nine, born, composer, poet, politician\n",
      "dance: music, modern, art, traditional, classical, concept, whole, study, early, addition\n",
      "\n",
      "\n"
     ]
    },
    {
     "name": "stderr",
     "output_type": "stream",
     "text": [
      "1004it [00:14, 61.41it/s]"
     ]
    },
    {
     "name": "stdout",
     "output_type": "stream",
     "text": [
      "| epoch   9 |  1000/32580 batches | loss    1.334 \n",
      "money: so, them, if, rather, fact, taken, others, well, seen, need\n",
      "lion: race, real, programming, favor, participated, accordance, magnetic, ocean, prince, wales\n",
      "africa: europe, india, america, south, kingdom, australia, united, asia, england, nine\n",
      "musician: actor, actress, singer, writer, author, nine, born, composer, poet, politician\n",
      "dance: music, modern, art, traditional, classical, concept, whole, study, early, addition\n",
      "\n",
      "\n"
     ]
    },
    {
     "name": "stderr",
     "output_type": "stream",
     "text": [
      "1508it [00:20, 60.66it/s]"
     ]
    },
    {
     "name": "stdout",
     "output_type": "stream",
     "text": [
      "| epoch   9 |  1500/32580 batches | loss    1.324 \n",
      "money: so, them, if, rather, fact, taken, others, well, seen, need\n",
      "lion: race, real, programming, favor, participated, accordance, magnetic, ocean, prince, wales\n",
      "africa: europe, india, america, south, kingdom, australia, united, asia, england, nine\n",
      "musician: actor, actress, singer, writer, author, nine, born, composer, poet, politician\n",
      "dance: music, modern, art, traditional, classical, concept, whole, study, early, addition\n",
      "\n",
      "\n"
     ]
    },
    {
     "name": "stderr",
     "output_type": "stream",
     "text": [
      "2005it [00:27, 59.48it/s]"
     ]
    },
    {
     "name": "stdout",
     "output_type": "stream",
     "text": [
      "| epoch   9 |  2000/32580 batches | loss    1.332 \n",
      "money: so, them, if, rather, fact, taken, others, well, seen, need\n",
      "lion: race, real, programming, favor, participated, accordance, magnetic, ocean, prince, wales\n",
      "africa: europe, india, america, south, kingdom, australia, united, asia, england, nine\n",
      "musician: actor, actress, singer, writer, author, nine, born, composer, poet, politician\n",
      "dance: music, modern, art, traditional, classical, concept, whole, study, early, addition\n",
      "\n",
      "\n"
     ]
    },
    {
     "name": "stderr",
     "output_type": "stream",
     "text": [
      "2501it [03:55,  4.29it/s]"
     ]
    },
    {
     "name": "stdout",
     "output_type": "stream",
     "text": [
      "| epoch   9 |  2500/32580 batches | loss    1.326 \n",
      "money: so, them, if, rather, fact, taken, others, well, seen, need\n",
      "lion: race, real, programming, favor, participated, accordance, magnetic, ocean, prince, wales\n",
      "africa: europe, india, america, south, kingdom, australia, united, asia, england, nine\n",
      "musician: actor, actress, singer, writer, author, nine, born, composer, poet, politician\n",
      "dance: music, modern, art, traditional, classical, concept, whole, study, early, addition\n",
      "\n",
      "\n"
     ]
    },
    {
     "name": "stderr",
     "output_type": "stream",
     "text": [
      "3004it [04:02, 56.20it/s]"
     ]
    },
    {
     "name": "stdout",
     "output_type": "stream",
     "text": [
      "| epoch   9 |  3000/32580 batches | loss    1.339 \n",
      "money: so, them, if, rather, fact, taken, others, well, seen, need\n",
      "lion: race, real, programming, favor, participated, accordance, magnetic, ocean, prince, wales\n",
      "africa: europe, india, america, south, kingdom, australia, united, asia, england, nine\n",
      "musician: actor, actress, singer, writer, author, nine, born, composer, poet, politician\n",
      "dance: music, modern, art, traditional, classical, concept, whole, study, early, addition\n",
      "\n",
      "\n"
     ]
    },
    {
     "name": "stderr",
     "output_type": "stream",
     "text": [
      "3508it [04:09, 57.55it/s]"
     ]
    },
    {
     "name": "stdout",
     "output_type": "stream",
     "text": [
      "| epoch   9 |  3500/32580 batches | loss    1.328 \n",
      "money: so, them, if, rather, fact, taken, others, well, seen, need\n",
      "lion: race, real, programming, favor, participated, accordance, magnetic, ocean, prince, wales\n",
      "africa: europe, india, america, south, kingdom, australia, united, asia, england, nine\n",
      "musician: actor, actress, singer, writer, author, nine, born, composer, poet, politician\n",
      "dance: music, modern, art, traditional, classical, concept, whole, study, early, addition\n",
      "\n",
      "\n"
     ]
    },
    {
     "name": "stderr",
     "output_type": "stream",
     "text": [
      "4008it [04:16, 61.48it/s]"
     ]
    },
    {
     "name": "stdout",
     "output_type": "stream",
     "text": [
      "| epoch   9 |  4000/32580 batches | loss    1.335 \n",
      "money: so, them, if, rather, fact, taken, others, well, seen, need\n",
      "lion: race, real, programming, favor, participated, accordance, magnetic, ocean, prince, wales\n",
      "africa: europe, india, america, south, kingdom, australia, united, asia, england, nine\n",
      "musician: actor, actress, singer, writer, author, nine, born, composer, poet, politician\n",
      "dance: music, modern, art, traditional, classical, concept, whole, study, early, addition\n",
      "\n",
      "\n"
     ]
    },
    {
     "name": "stderr",
     "output_type": "stream",
     "text": [
      "4503it [04:23, 53.56it/s]"
     ]
    },
    {
     "name": "stdout",
     "output_type": "stream",
     "text": [
      "| epoch   9 |  4500/32580 batches | loss    1.331 \n",
      "money: so, them, if, rather, fact, taken, others, well, seen, need\n",
      "lion: race, real, programming, favor, participated, accordance, magnetic, ocean, prince, wales\n",
      "africa: europe, india, america, south, kingdom, australia, united, asia, england, nine\n",
      "musician: actor, actress, singer, writer, author, nine, born, composer, poet, politician\n",
      "dance: music, modern, art, traditional, classical, concept, whole, study, early, addition\n",
      "\n",
      "\n"
     ]
    },
    {
     "name": "stderr",
     "output_type": "stream",
     "text": [
      "5006it [04:30, 55.42it/s]"
     ]
    },
    {
     "name": "stdout",
     "output_type": "stream",
     "text": [
      "| epoch   9 |  5000/32580 batches | loss    1.328 \n",
      "money: so, them, if, rather, fact, taken, others, well, seen, need\n",
      "lion: race, real, programming, favor, participated, accordance, magnetic, ocean, prince, wales\n",
      "africa: europe, india, america, south, kingdom, australia, united, asia, england, nine\n",
      "musician: actor, actress, singer, writer, author, nine, born, composer, poet, politician\n",
      "dance: music, modern, art, traditional, classical, concept, whole, study, early, addition\n",
      "\n",
      "\n"
     ]
    },
    {
     "name": "stderr",
     "output_type": "stream",
     "text": [
      "5508it [04:37, 60.17it/s]"
     ]
    },
    {
     "name": "stdout",
     "output_type": "stream",
     "text": [
      "| epoch   9 |  5500/32580 batches | loss    1.332 \n",
      "money: so, them, if, rather, fact, taken, others, well, seen, need\n",
      "lion: race, real, programming, favor, participated, accordance, magnetic, ocean, prince, wales\n",
      "africa: europe, india, america, south, kingdom, australia, united, asia, england, nine\n",
      "musician: actor, actress, singer, writer, author, nine, born, composer, poet, politician\n",
      "dance: music, modern, art, traditional, classical, concept, whole, study, early, addition\n",
      "\n",
      "\n"
     ]
    },
    {
     "name": "stderr",
     "output_type": "stream",
     "text": [
      "6004it [04:44, 57.75it/s]"
     ]
    },
    {
     "name": "stdout",
     "output_type": "stream",
     "text": [
      "| epoch   9 |  6000/32580 batches | loss    1.330 \n",
      "money: so, them, if, rather, fact, taken, others, well, seen, need\n",
      "lion: race, real, programming, favor, participated, accordance, magnetic, ocean, prince, wales\n",
      "africa: europe, india, america, south, kingdom, australia, united, asia, england, nine\n",
      "musician: actor, actress, singer, writer, author, nine, born, composer, poet, politician\n",
      "dance: music, modern, art, traditional, classical, concept, whole, study, early, addition\n",
      "\n",
      "\n"
     ]
    },
    {
     "name": "stderr",
     "output_type": "stream",
     "text": [
      "6507it [04:51, 57.23it/s]"
     ]
    },
    {
     "name": "stdout",
     "output_type": "stream",
     "text": [
      "| epoch   9 |  6500/32580 batches | loss    1.334 \n",
      "money: so, them, if, rather, fact, taken, others, well, seen, need\n",
      "lion: race, real, programming, favor, participated, accordance, magnetic, ocean, prince, wales\n",
      "africa: europe, india, america, south, kingdom, australia, united, asia, england, nine\n",
      "musician: actor, actress, singer, writer, author, nine, born, composer, poet, politician\n",
      "dance: music, modern, art, traditional, classical, concept, whole, study, early, addition\n",
      "\n",
      "\n"
     ]
    },
    {
     "name": "stderr",
     "output_type": "stream",
     "text": [
      "7000it [04:58, 75.43it/s]"
     ]
    },
    {
     "name": "stdout",
     "output_type": "stream",
     "text": [
      "| epoch   9 |  7000/32580 batches | loss    1.329 \n",
      "money: so, them, if, rather, fact, taken, others, well, seen, need\n",
      "lion: race, real, programming, favor, participated, accordance, magnetic, ocean, prince, wales\n",
      "africa: europe, india, america, south, kingdom, australia, united, asia, england, nine\n",
      "musician: actor, actress, singer, writer, author, nine, born, composer, poet, politician\n",
      "dance: music, modern, art, traditional, classical, concept, whole, study, early, addition\n",
      "\n",
      "\n"
     ]
    },
    {
     "name": "stderr",
     "output_type": "stream",
     "text": [
      "7504it [05:05, 57.99it/s]"
     ]
    },
    {
     "name": "stdout",
     "output_type": "stream",
     "text": [
      "| epoch   9 |  7500/32580 batches | loss    1.332 \n",
      "money: so, them, if, rather, fact, taken, others, well, seen, need\n",
      "lion: race, real, programming, favor, participated, accordance, magnetic, ocean, prince, wales\n",
      "africa: europe, india, america, south, kingdom, australia, united, asia, england, nine\n",
      "musician: actor, actress, singer, writer, author, nine, born, composer, poet, politician\n",
      "dance: music, modern, art, traditional, classical, concept, whole, study, early, addition\n",
      "\n",
      "\n"
     ]
    },
    {
     "name": "stderr",
     "output_type": "stream",
     "text": [
      "8007it [05:12, 56.97it/s]"
     ]
    },
    {
     "name": "stdout",
     "output_type": "stream",
     "text": [
      "| epoch   9 |  8000/32580 batches | loss    1.330 \n",
      "money: so, them, if, rather, fact, taken, others, well, seen, need\n",
      "lion: race, real, programming, favor, participated, accordance, magnetic, ocean, prince, wales\n",
      "africa: europe, india, america, south, kingdom, australia, united, asia, england, nine\n",
      "musician: actor, actress, singer, writer, author, nine, born, composer, poet, politician\n",
      "dance: music, modern, art, traditional, classical, concept, whole, study, early, addition\n",
      "\n",
      "\n"
     ]
    },
    {
     "name": "stderr",
     "output_type": "stream",
     "text": [
      "8508it [05:19, 59.45it/s]"
     ]
    },
    {
     "name": "stdout",
     "output_type": "stream",
     "text": [
      "| epoch   9 |  8500/32580 batches | loss    1.331 \n",
      "money: so, them, if, rather, fact, taken, others, well, seen, need\n",
      "lion: race, real, programming, favor, participated, accordance, magnetic, ocean, prince, wales\n",
      "africa: europe, india, america, south, kingdom, australia, united, asia, england, nine\n",
      "musician: actor, actress, singer, writer, author, nine, born, composer, poet, politician\n",
      "dance: music, modern, art, traditional, classical, concept, whole, study, early, addition\n",
      "\n",
      "\n"
     ]
    },
    {
     "name": "stderr",
     "output_type": "stream",
     "text": [
      "9002it [05:26, 57.05it/s]"
     ]
    },
    {
     "name": "stdout",
     "output_type": "stream",
     "text": [
      "| epoch   9 |  9000/32580 batches | loss    1.331 \n",
      "money: so, them, if, rather, fact, taken, others, well, seen, need\n",
      "lion: race, real, programming, favor, participated, accordance, magnetic, ocean, prince, wales\n",
      "africa: europe, india, america, south, kingdom, australia, united, asia, england, nine\n",
      "musician: actor, actress, singer, writer, author, nine, born, composer, poet, politician\n",
      "dance: music, modern, art, traditional, classical, concept, whole, study, early, addition\n",
      "\n",
      "\n"
     ]
    },
    {
     "name": "stderr",
     "output_type": "stream",
     "text": [
      "9504it [05:33, 57.12it/s]"
     ]
    },
    {
     "name": "stdout",
     "output_type": "stream",
     "text": [
      "| epoch   9 |  9500/32580 batches | loss    1.331 \n",
      "money: so, them, if, rather, fact, taken, others, well, seen, need\n",
      "lion: race, real, programming, favor, participated, accordance, magnetic, ocean, prince, wales\n",
      "africa: europe, india, america, south, kingdom, australia, united, asia, england, nine\n",
      "musician: actor, actress, singer, writer, author, nine, born, composer, poet, politician\n",
      "dance: music, modern, art, traditional, classical, concept, whole, study, early, addition\n",
      "\n",
      "\n"
     ]
    },
    {
     "name": "stderr",
     "output_type": "stream",
     "text": [
      "10007it [05:40, 59.89it/s]"
     ]
    },
    {
     "name": "stdout",
     "output_type": "stream",
     "text": [
      "| epoch   9 | 10000/32580 batches | loss    1.330 \n",
      "money: so, them, if, rather, fact, taken, others, well, seen, need\n",
      "lion: race, real, programming, favor, participated, accordance, magnetic, ocean, prince, wales\n",
      "africa: europe, india, america, south, kingdom, australia, united, asia, england, nine\n",
      "musician: actor, actress, singer, writer, author, nine, born, composer, poet, politician\n",
      "dance: music, modern, art, traditional, classical, concept, whole, study, early, addition\n",
      "\n",
      "\n"
     ]
    },
    {
     "name": "stderr",
     "output_type": "stream",
     "text": [
      "10503it [05:46, 56.65it/s]"
     ]
    },
    {
     "name": "stdout",
     "output_type": "stream",
     "text": [
      "| epoch   9 | 10500/32580 batches | loss    1.323 \n",
      "money: so, them, if, rather, fact, taken, others, well, seen, need\n",
      "lion: race, real, programming, favor, participated, accordance, magnetic, ocean, prince, wales\n",
      "africa: europe, india, america, south, kingdom, australia, united, asia, england, nine\n",
      "musician: actor, actress, singer, writer, author, nine, born, composer, poet, politician\n",
      "dance: music, modern, art, traditional, classical, concept, whole, study, early, addition\n",
      "\n",
      "\n"
     ]
    },
    {
     "name": "stderr",
     "output_type": "stream",
     "text": [
      "11005it [05:53, 59.61it/s]"
     ]
    },
    {
     "name": "stdout",
     "output_type": "stream",
     "text": [
      "| epoch   9 | 11000/32580 batches | loss    1.333 \n",
      "money: so, them, if, rather, fact, taken, others, well, seen, need\n",
      "lion: race, real, programming, favor, participated, accordance, magnetic, ocean, prince, wales\n",
      "africa: europe, india, america, south, kingdom, australia, united, asia, england, nine\n",
      "musician: actor, actress, singer, writer, author, nine, born, composer, poet, politician\n",
      "dance: music, modern, art, traditional, classical, concept, whole, study, early, addition\n",
      "\n",
      "\n"
     ]
    },
    {
     "name": "stderr",
     "output_type": "stream",
     "text": [
      "11508it [06:00, 61.33it/s]"
     ]
    },
    {
     "name": "stdout",
     "output_type": "stream",
     "text": [
      "| epoch   9 | 11500/32580 batches | loss    1.332 \n",
      "money: so, them, if, rather, fact, taken, others, well, seen, need\n",
      "lion: race, real, programming, favor, participated, accordance, magnetic, ocean, prince, wales\n",
      "africa: europe, india, america, south, kingdom, australia, united, asia, england, nine\n",
      "musician: actor, actress, singer, writer, author, nine, born, composer, poet, politician\n",
      "dance: music, modern, art, traditional, classical, concept, whole, study, early, addition\n",
      "\n",
      "\n"
     ]
    },
    {
     "name": "stderr",
     "output_type": "stream",
     "text": [
      "12001it [06:07, 56.68it/s]"
     ]
    },
    {
     "name": "stdout",
     "output_type": "stream",
     "text": [
      "| epoch   9 | 12000/32580 batches | loss    1.332 \n",
      "money: so, them, if, rather, fact, taken, others, well, seen, need\n",
      "lion: race, real, programming, favor, participated, accordance, magnetic, ocean, prince, wales\n",
      "africa: europe, india, america, south, kingdom, australia, united, asia, england, nine\n",
      "musician: actor, actress, singer, writer, author, nine, born, composer, poet, politician\n",
      "dance: music, modern, art, traditional, classical, concept, whole, study, early, addition\n",
      "\n",
      "\n"
     ]
    },
    {
     "name": "stderr",
     "output_type": "stream",
     "text": [
      "12503it [06:14, 57.21it/s]"
     ]
    },
    {
     "name": "stdout",
     "output_type": "stream",
     "text": [
      "| epoch   9 | 12500/32580 batches | loss    1.330 \n",
      "money: so, them, if, rather, fact, taken, others, well, seen, need\n",
      "lion: race, real, programming, favor, participated, accordance, magnetic, ocean, prince, wales\n",
      "africa: europe, india, america, south, kingdom, australia, united, asia, england, nine\n",
      "musician: actor, actress, singer, writer, author, nine, born, composer, poet, politician\n",
      "dance: music, modern, art, traditional, classical, concept, whole, study, early, addition\n",
      "\n",
      "\n"
     ]
    },
    {
     "name": "stderr",
     "output_type": "stream",
     "text": [
      "13004it [06:21, 56.80it/s]"
     ]
    },
    {
     "name": "stdout",
     "output_type": "stream",
     "text": [
      "| epoch   9 | 13000/32580 batches | loss    1.333 \n",
      "money: so, them, if, rather, fact, taken, others, well, seen, need\n",
      "lion: race, real, programming, favor, participated, accordance, magnetic, ocean, prince, wales\n",
      "africa: europe, india, america, south, kingdom, australia, united, asia, england, nine\n",
      "musician: actor, actress, singer, writer, author, nine, born, composer, poet, politician\n",
      "dance: music, modern, art, traditional, classical, concept, whole, study, early, addition\n",
      "\n",
      "\n"
     ]
    },
    {
     "name": "stderr",
     "output_type": "stream",
     "text": [
      "13506it [06:28, 56.83it/s]"
     ]
    },
    {
     "name": "stdout",
     "output_type": "stream",
     "text": [
      "| epoch   9 | 13500/32580 batches | loss    1.330 \n",
      "money: so, them, if, rather, fact, taken, others, well, seen, need\n",
      "lion: race, real, programming, favor, participated, accordance, magnetic, ocean, prince, wales\n",
      "africa: europe, india, america, south, kingdom, australia, united, asia, england, nine\n",
      "musician: actor, actress, singer, writer, author, nine, born, composer, poet, politician\n",
      "dance: music, modern, art, traditional, classical, concept, whole, study, early, addition\n",
      "\n",
      "\n"
     ]
    },
    {
     "name": "stderr",
     "output_type": "stream",
     "text": [
      "14002it [06:35, 57.41it/s]"
     ]
    },
    {
     "name": "stdout",
     "output_type": "stream",
     "text": [
      "| epoch   9 | 14000/32580 batches | loss    1.328 \n",
      "money: so, them, if, rather, fact, taken, others, well, seen, need\n",
      "lion: race, real, programming, favor, participated, accordance, magnetic, ocean, prince, wales\n",
      "africa: europe, india, america, south, kingdom, australia, united, asia, england, nine\n",
      "musician: actor, actress, singer, writer, author, nine, born, composer, poet, politician\n",
      "dance: music, modern, art, traditional, classical, concept, whole, study, early, addition\n",
      "\n",
      "\n"
     ]
    },
    {
     "name": "stderr",
     "output_type": "stream",
     "text": [
      "14505it [06:42, 56.18it/s]"
     ]
    },
    {
     "name": "stdout",
     "output_type": "stream",
     "text": [
      "| epoch   9 | 14500/32580 batches | loss    1.330 \n",
      "money: so, them, if, rather, fact, taken, others, well, seen, need\n",
      "lion: race, real, programming, favor, participated, accordance, magnetic, ocean, prince, wales\n",
      "africa: europe, india, america, south, kingdom, australia, united, asia, england, nine\n",
      "musician: actor, actress, singer, writer, author, nine, born, composer, poet, politician\n",
      "dance: music, modern, art, traditional, classical, concept, whole, study, early, addition\n",
      "\n",
      "\n"
     ]
    },
    {
     "name": "stderr",
     "output_type": "stream",
     "text": [
      "15007it [06:49, 57.32it/s]"
     ]
    },
    {
     "name": "stdout",
     "output_type": "stream",
     "text": [
      "| epoch   9 | 15000/32580 batches | loss    1.329 \n",
      "money: so, them, if, rather, fact, taken, others, well, seen, need\n",
      "lion: race, real, programming, favor, participated, accordance, magnetic, ocean, prince, wales\n",
      "africa: europe, india, america, south, kingdom, australia, united, asia, england, nine\n",
      "musician: actor, actress, singer, writer, author, nine, born, composer, poet, politician\n",
      "dance: music, modern, art, traditional, classical, concept, whole, study, early, addition\n",
      "\n",
      "\n"
     ]
    },
    {
     "name": "stderr",
     "output_type": "stream",
     "text": [
      "15502it [06:56, 58.94it/s]"
     ]
    },
    {
     "name": "stdout",
     "output_type": "stream",
     "text": [
      "| epoch   9 | 15500/32580 batches | loss    1.328 \n",
      "money: so, them, if, rather, fact, taken, others, well, seen, need\n",
      "lion: race, real, programming, favor, participated, accordance, magnetic, ocean, prince, wales\n",
      "africa: europe, india, america, south, kingdom, australia, united, asia, england, nine\n",
      "musician: actor, actress, singer, writer, author, nine, born, composer, poet, politician\n",
      "dance: music, modern, art, traditional, classical, concept, whole, study, early, addition\n",
      "\n",
      "\n"
     ]
    },
    {
     "name": "stderr",
     "output_type": "stream",
     "text": [
      "16003it [07:03, 57.10it/s]"
     ]
    },
    {
     "name": "stdout",
     "output_type": "stream",
     "text": [
      "| epoch   9 | 16000/32580 batches | loss    1.330 \n",
      "money: so, them, if, rather, fact, taken, others, well, seen, need\n",
      "lion: race, real, programming, favor, participated, accordance, magnetic, ocean, prince, wales\n",
      "africa: europe, india, america, south, kingdom, australia, united, asia, england, nine\n",
      "musician: actor, actress, singer, writer, author, nine, born, composer, poet, politician\n",
      "dance: music, modern, art, traditional, classical, concept, whole, study, early, addition\n",
      "\n",
      "\n"
     ]
    },
    {
     "name": "stderr",
     "output_type": "stream",
     "text": [
      "16505it [07:10, 57.79it/s]"
     ]
    },
    {
     "name": "stdout",
     "output_type": "stream",
     "text": [
      "| epoch   9 | 16500/32580 batches | loss    1.328 \n",
      "money: so, them, if, rather, fact, taken, others, well, seen, need\n",
      "lion: race, real, programming, favor, participated, accordance, magnetic, ocean, prince, wales\n",
      "africa: europe, india, america, south, kingdom, australia, united, asia, england, nine\n",
      "musician: actor, actress, singer, writer, author, nine, born, composer, poet, politician\n",
      "dance: music, modern, art, traditional, classical, concept, whole, study, early, addition\n",
      "\n",
      "\n"
     ]
    },
    {
     "name": "stderr",
     "output_type": "stream",
     "text": [
      "17000it [07:17, 73.56it/s]"
     ]
    },
    {
     "name": "stdout",
     "output_type": "stream",
     "text": [
      "| epoch   9 | 17000/32580 batches | loss    1.331 \n",
      "money: so, them, if, rather, fact, taken, others, well, seen, need\n",
      "lion: race, real, programming, favor, participated, accordance, magnetic, ocean, prince, wales\n",
      "africa: europe, india, america, south, kingdom, australia, united, asia, england, nine\n",
      "musician: actor, actress, singer, writer, author, nine, born, composer, poet, politician\n",
      "dance: music, modern, art, traditional, classical, concept, whole, study, early, addition\n",
      "\n",
      "\n"
     ]
    },
    {
     "name": "stderr",
     "output_type": "stream",
     "text": [
      "17503it [07:24, 58.13it/s]"
     ]
    },
    {
     "name": "stdout",
     "output_type": "stream",
     "text": [
      "| epoch   9 | 17500/32580 batches | loss    1.334 \n",
      "money: so, them, if, rather, fact, taken, others, well, seen, need\n",
      "lion: race, real, programming, favor, participated, accordance, magnetic, ocean, prince, wales\n",
      "africa: europe, india, america, south, kingdom, australia, united, asia, england, nine\n",
      "musician: actor, actress, singer, writer, author, nine, born, composer, poet, politician\n",
      "dance: music, modern, art, traditional, classical, concept, whole, study, early, addition\n",
      "\n",
      "\n"
     ]
    },
    {
     "name": "stderr",
     "output_type": "stream",
     "text": [
      "18005it [07:31, 58.81it/s]"
     ]
    },
    {
     "name": "stdout",
     "output_type": "stream",
     "text": [
      "| epoch   9 | 18000/32580 batches | loss    1.330 \n",
      "money: so, them, if, rather, fact, taken, others, well, seen, need\n",
      "lion: race, real, programming, favor, participated, accordance, magnetic, ocean, prince, wales\n",
      "africa: europe, india, america, south, kingdom, australia, united, asia, england, nine\n",
      "musician: actor, actress, singer, writer, author, nine, born, composer, poet, politician\n",
      "dance: music, modern, art, traditional, classical, concept, whole, study, early, addition\n",
      "\n",
      "\n"
     ]
    },
    {
     "name": "stderr",
     "output_type": "stream",
     "text": [
      "18501it [07:38, 60.35it/s]"
     ]
    },
    {
     "name": "stdout",
     "output_type": "stream",
     "text": [
      "| epoch   9 | 18500/32580 batches | loss    1.327 \n",
      "money: so, them, if, rather, fact, taken, others, well, seen, need\n",
      "lion: race, real, programming, favor, participated, accordance, magnetic, ocean, prince, wales\n",
      "africa: europe, india, america, south, kingdom, australia, united, asia, england, nine\n",
      "musician: actor, actress, singer, writer, author, nine, born, composer, poet, politician\n",
      "dance: music, modern, art, traditional, classical, concept, whole, study, early, addition\n",
      "\n",
      "\n"
     ]
    },
    {
     "name": "stderr",
     "output_type": "stream",
     "text": [
      "19000it [07:44, 71.17it/s]"
     ]
    },
    {
     "name": "stdout",
     "output_type": "stream",
     "text": [
      "| epoch   9 | 19000/32580 batches | loss    1.328 \n",
      "money: so, them, if, rather, fact, taken, others, well, seen, need\n",
      "lion: race, real, programming, favor, participated, accordance, magnetic, ocean, prince, wales\n",
      "africa: europe, india, america, south, kingdom, australia, united, asia, england, nine\n",
      "musician: actor, actress, singer, writer, author, nine, born, composer, poet, politician\n",
      "dance: music, modern, art, traditional, classical, concept, whole, study, early, addition\n",
      "\n",
      "\n"
     ]
    },
    {
     "name": "stderr",
     "output_type": "stream",
     "text": [
      "19504it [07:54, 57.90it/s]"
     ]
    },
    {
     "name": "stdout",
     "output_type": "stream",
     "text": [
      "| epoch   9 | 19500/32580 batches | loss    1.330 \n",
      "money: so, them, if, rather, fact, taken, others, well, seen, need\n",
      "lion: race, real, programming, favor, participated, accordance, magnetic, ocean, prince, wales\n",
      "africa: europe, india, america, south, kingdom, australia, united, asia, england, nine\n",
      "musician: actor, actress, singer, writer, author, nine, born, composer, poet, politician\n",
      "dance: music, modern, art, traditional, classical, concept, whole, study, early, addition\n",
      "\n",
      "\n"
     ]
    },
    {
     "name": "stderr",
     "output_type": "stream",
     "text": [
      "20010it [08:01, 63.87it/s]"
     ]
    },
    {
     "name": "stdout",
     "output_type": "stream",
     "text": [
      "| epoch   9 | 20000/32580 batches | loss    1.334 \n",
      "money: so, them, if, rather, fact, taken, others, well, seen, need\n",
      "lion: race, real, programming, favor, participated, accordance, magnetic, ocean, prince, wales\n",
      "africa: europe, india, america, south, kingdom, australia, united, asia, england, nine\n",
      "musician: actor, actress, singer, writer, author, nine, born, composer, poet, politician\n",
      "dance: music, modern, art, traditional, classical, concept, whole, study, early, addition\n",
      "\n",
      "\n"
     ]
    },
    {
     "name": "stderr",
     "output_type": "stream",
     "text": [
      "20506it [08:08, 58.57it/s]"
     ]
    },
    {
     "name": "stdout",
     "output_type": "stream",
     "text": [
      "| epoch   9 | 20500/32580 batches | loss    1.334 \n",
      "money: so, them, if, rather, fact, taken, others, well, seen, need\n",
      "lion: race, real, programming, favor, participated, accordance, magnetic, ocean, prince, wales\n",
      "africa: europe, india, america, south, kingdom, australia, united, asia, england, nine\n",
      "musician: actor, actress, singer, writer, author, nine, born, composer, poet, politician\n",
      "dance: music, modern, art, traditional, classical, concept, whole, study, early, addition\n",
      "\n",
      "\n"
     ]
    },
    {
     "name": "stderr",
     "output_type": "stream",
     "text": [
      "21008it [08:15, 62.19it/s]"
     ]
    },
    {
     "name": "stdout",
     "output_type": "stream",
     "text": [
      "| epoch   9 | 21000/32580 batches | loss    1.327 \n",
      "money: so, them, if, rather, fact, taken, others, well, seen, need\n",
      "lion: race, real, programming, favor, participated, accordance, magnetic, ocean, prince, wales\n",
      "africa: europe, india, america, south, kingdom, australia, united, asia, england, nine\n",
      "musician: actor, actress, singer, writer, author, nine, born, composer, poet, politician\n",
      "dance: music, modern, art, traditional, classical, concept, whole, study, early, addition\n",
      "\n",
      "\n"
     ]
    },
    {
     "name": "stderr",
     "output_type": "stream",
     "text": [
      "21503it [08:21, 58.37it/s]"
     ]
    },
    {
     "name": "stdout",
     "output_type": "stream",
     "text": [
      "| epoch   9 | 21500/32580 batches | loss    1.332 \n",
      "money: so, them, if, rather, fact, taken, others, well, seen, need\n",
      "lion: race, real, programming, favor, participated, accordance, magnetic, ocean, prince, wales\n",
      "africa: europe, india, america, south, kingdom, australia, united, asia, england, nine\n",
      "musician: actor, actress, singer, writer, author, nine, born, composer, poet, politician\n",
      "dance: music, modern, art, traditional, classical, concept, whole, study, early, addition\n",
      "\n",
      "\n"
     ]
    },
    {
     "name": "stderr",
     "output_type": "stream",
     "text": [
      "22006it [08:28, 58.27it/s]"
     ]
    },
    {
     "name": "stdout",
     "output_type": "stream",
     "text": [
      "| epoch   9 | 22000/32580 batches | loss    1.328 \n",
      "money: so, them, if, rather, fact, taken, others, well, seen, need\n",
      "lion: race, real, programming, favor, participated, accordance, magnetic, ocean, prince, wales\n",
      "africa: europe, india, america, south, kingdom, australia, united, asia, england, nine\n",
      "musician: actor, actress, singer, writer, author, nine, born, composer, poet, politician\n",
      "dance: music, modern, art, traditional, classical, concept, whole, study, early, addition\n",
      "\n",
      "\n"
     ]
    },
    {
     "name": "stderr",
     "output_type": "stream",
     "text": [
      "22508it [08:35, 60.46it/s]"
     ]
    },
    {
     "name": "stdout",
     "output_type": "stream",
     "text": [
      "| epoch   9 | 22500/32580 batches | loss    1.326 \n",
      "money: so, them, if, rather, fact, taken, others, well, seen, need\n",
      "lion: race, real, programming, favor, participated, accordance, magnetic, ocean, prince, wales\n",
      "africa: europe, india, america, south, kingdom, australia, united, asia, england, nine\n",
      "musician: actor, actress, singer, writer, author, nine, born, composer, poet, politician\n",
      "dance: music, modern, art, traditional, classical, concept, whole, study, early, addition\n",
      "\n",
      "\n"
     ]
    },
    {
     "name": "stderr",
     "output_type": "stream",
     "text": [
      "23004it [08:42, 58.28it/s]"
     ]
    },
    {
     "name": "stdout",
     "output_type": "stream",
     "text": [
      "| epoch   9 | 23000/32580 batches | loss    1.331 \n",
      "money: so, them, if, rather, fact, taken, others, well, seen, need\n",
      "lion: race, real, programming, favor, participated, accordance, magnetic, ocean, prince, wales\n",
      "africa: europe, india, america, south, kingdom, australia, united, asia, england, nine\n",
      "musician: actor, actress, singer, writer, author, nine, born, composer, poet, politician\n",
      "dance: music, modern, art, traditional, classical, concept, whole, study, early, addition\n",
      "\n",
      "\n"
     ]
    },
    {
     "name": "stderr",
     "output_type": "stream",
     "text": [
      "23507it [08:49, 57.39it/s]"
     ]
    },
    {
     "name": "stdout",
     "output_type": "stream",
     "text": [
      "| epoch   9 | 23500/32580 batches | loss    1.332 \n",
      "money: so, them, if, rather, fact, taken, others, well, seen, need\n",
      "lion: race, real, programming, favor, participated, accordance, magnetic, ocean, prince, wales\n",
      "africa: europe, india, america, south, kingdom, australia, united, asia, england, nine\n",
      "musician: actor, actress, singer, writer, author, nine, born, composer, poet, politician\n",
      "dance: music, modern, art, traditional, classical, concept, whole, study, early, addition\n",
      "\n",
      "\n"
     ]
    },
    {
     "name": "stderr",
     "output_type": "stream",
     "text": [
      "24009it [08:56, 60.47it/s]"
     ]
    },
    {
     "name": "stdout",
     "output_type": "stream",
     "text": [
      "| epoch   9 | 24000/32580 batches | loss    1.329 \n",
      "money: so, them, if, rather, fact, taken, others, well, seen, need\n",
      "lion: race, real, programming, favor, participated, accordance, magnetic, ocean, prince, wales\n",
      "africa: europe, india, america, south, kingdom, australia, united, asia, england, nine\n",
      "musician: actor, actress, singer, writer, author, nine, born, composer, poet, politician\n",
      "dance: music, modern, art, traditional, classical, concept, whole, study, early, addition\n",
      "\n",
      "\n"
     ]
    },
    {
     "name": "stderr",
     "output_type": "stream",
     "text": [
      "24504it [09:03, 58.30it/s]"
     ]
    },
    {
     "name": "stdout",
     "output_type": "stream",
     "text": [
      "| epoch   9 | 24500/32580 batches | loss    1.333 \n",
      "money: so, them, if, rather, fact, taken, others, well, seen, need\n",
      "lion: race, real, programming, favor, participated, accordance, magnetic, ocean, prince, wales\n",
      "africa: europe, india, america, south, kingdom, australia, united, asia, england, nine\n",
      "musician: actor, actress, singer, writer, author, nine, born, composer, poet, politician\n",
      "dance: music, modern, art, traditional, classical, concept, whole, study, early, addition\n",
      "\n",
      "\n"
     ]
    },
    {
     "name": "stderr",
     "output_type": "stream",
     "text": [
      "25007it [09:09, 57.84it/s]"
     ]
    },
    {
     "name": "stdout",
     "output_type": "stream",
     "text": [
      "| epoch   9 | 25000/32580 batches | loss    1.330 \n",
      "money: so, them, if, rather, fact, taken, others, well, seen, need\n",
      "lion: race, real, programming, favor, participated, accordance, magnetic, ocean, prince, wales\n",
      "africa: europe, india, america, south, kingdom, australia, united, asia, england, nine\n",
      "musician: actor, actress, singer, writer, author, nine, born, composer, poet, politician\n",
      "dance: music, modern, art, traditional, classical, concept, whole, study, early, addition\n",
      "\n",
      "\n"
     ]
    },
    {
     "name": "stderr",
     "output_type": "stream",
     "text": [
      "25503it [09:16, 57.52it/s]"
     ]
    },
    {
     "name": "stdout",
     "output_type": "stream",
     "text": [
      "| epoch   9 | 25500/32580 batches | loss    1.332 \n",
      "money: so, them, if, rather, fact, taken, others, well, seen, need\n",
      "lion: race, real, programming, favor, participated, accordance, magnetic, ocean, prince, wales\n",
      "africa: europe, india, america, south, kingdom, australia, united, asia, england, nine\n",
      "musician: actor, actress, singer, writer, author, nine, born, composer, poet, politician\n",
      "dance: music, modern, art, traditional, classical, concept, whole, study, early, addition\n",
      "\n",
      "\n"
     ]
    },
    {
     "name": "stderr",
     "output_type": "stream",
     "text": [
      "26005it [09:23, 59.04it/s]"
     ]
    },
    {
     "name": "stdout",
     "output_type": "stream",
     "text": [
      "| epoch   9 | 26000/32580 batches | loss    1.332 \n",
      "money: so, them, if, rather, fact, taken, others, well, seen, need\n",
      "lion: race, real, programming, favor, participated, accordance, magnetic, ocean, prince, wales\n",
      "africa: europe, india, america, south, kingdom, australia, united, asia, england, nine\n",
      "musician: actor, actress, singer, writer, author, nine, born, composer, poet, politician\n",
      "dance: music, modern, art, traditional, classical, concept, whole, study, early, addition\n",
      "\n",
      "\n"
     ]
    },
    {
     "name": "stderr",
     "output_type": "stream",
     "text": [
      "26509it [09:30, 63.03it/s]"
     ]
    },
    {
     "name": "stdout",
     "output_type": "stream",
     "text": [
      "| epoch   9 | 26500/32580 batches | loss    1.333 \n",
      "money: so, them, if, rather, fact, taken, others, well, seen, need\n",
      "lion: race, real, programming, favor, participated, accordance, magnetic, ocean, prince, wales\n",
      "africa: europe, india, america, south, kingdom, australia, united, asia, england, nine\n",
      "musician: actor, actress, singer, writer, author, nine, born, composer, poet, politician\n",
      "dance: music, modern, art, traditional, classical, concept, whole, study, early, addition\n",
      "\n",
      "\n"
     ]
    },
    {
     "name": "stderr",
     "output_type": "stream",
     "text": [
      "27005it [09:37, 58.71it/s]"
     ]
    },
    {
     "name": "stdout",
     "output_type": "stream",
     "text": [
      "| epoch   9 | 27000/32580 batches | loss    1.326 \n",
      "money: so, them, if, rather, fact, taken, others, well, seen, need\n",
      "lion: race, real, programming, favor, participated, accordance, magnetic, ocean, prince, wales\n",
      "africa: europe, india, america, south, kingdom, australia, united, asia, england, nine\n",
      "musician: actor, actress, singer, writer, author, nine, born, composer, poet, politician\n",
      "dance: music, modern, art, traditional, classical, concept, whole, study, early, addition\n",
      "\n",
      "\n"
     ]
    },
    {
     "name": "stderr",
     "output_type": "stream",
     "text": [
      "27501it [09:43, 59.30it/s]"
     ]
    },
    {
     "name": "stdout",
     "output_type": "stream",
     "text": [
      "| epoch   9 | 27500/32580 batches | loss    1.330 \n",
      "money: so, them, if, rather, fact, taken, others, well, seen, need\n",
      "lion: race, real, programming, favor, participated, accordance, magnetic, ocean, prince, wales\n",
      "africa: europe, india, america, south, kingdom, australia, united, asia, england, nine\n",
      "musician: actor, actress, singer, writer, author, nine, born, composer, poet, politician\n",
      "dance: music, modern, art, traditional, classical, concept, whole, study, early, addition\n",
      "\n",
      "\n"
     ]
    },
    {
     "name": "stderr",
     "output_type": "stream",
     "text": [
      "28005it [09:50, 59.51it/s]"
     ]
    },
    {
     "name": "stdout",
     "output_type": "stream",
     "text": [
      "| epoch   9 | 28000/32580 batches | loss    1.332 \n",
      "money: so, them, if, rather, fact, taken, others, well, seen, need\n",
      "lion: race, real, programming, favor, participated, accordance, magnetic, ocean, prince, wales\n",
      "africa: europe, india, america, south, kingdom, australia, united, asia, england, nine\n",
      "musician: actor, actress, singer, writer, author, nine, born, composer, poet, politician\n",
      "dance: music, modern, art, traditional, classical, concept, whole, study, early, addition\n",
      "\n",
      "\n"
     ]
    },
    {
     "name": "stderr",
     "output_type": "stream",
     "text": [
      "28509it [09:57, 62.78it/s]"
     ]
    },
    {
     "name": "stdout",
     "output_type": "stream",
     "text": [
      "| epoch   9 | 28500/32580 batches | loss    1.331 \n",
      "money: so, them, if, rather, fact, taken, others, well, seen, need\n",
      "lion: race, real, programming, favor, participated, accordance, magnetic, ocean, prince, wales\n",
      "africa: europe, india, america, south, kingdom, australia, united, asia, england, nine\n",
      "musician: actor, actress, singer, writer, author, nine, born, composer, poet, politician\n",
      "dance: music, modern, art, traditional, classical, concept, whole, study, early, addition\n",
      "\n",
      "\n"
     ]
    },
    {
     "name": "stderr",
     "output_type": "stream",
     "text": [
      "29004it [10:04, 59.34it/s]"
     ]
    },
    {
     "name": "stdout",
     "output_type": "stream",
     "text": [
      "| epoch   9 | 29000/32580 batches | loss    1.330 \n",
      "money: so, them, if, rather, fact, taken, others, well, seen, need\n",
      "lion: race, real, programming, favor, participated, accordance, magnetic, ocean, prince, wales\n",
      "africa: europe, india, america, south, kingdom, australia, united, asia, england, nine\n",
      "musician: actor, actress, singer, writer, author, nine, born, composer, poet, politician\n",
      "dance: music, modern, art, traditional, classical, concept, whole, study, early, addition\n",
      "\n",
      "\n"
     ]
    },
    {
     "name": "stderr",
     "output_type": "stream",
     "text": [
      "29507it [10:11, 58.55it/s]"
     ]
    },
    {
     "name": "stdout",
     "output_type": "stream",
     "text": [
      "| epoch   9 | 29500/32580 batches | loss    1.328 \n",
      "money: so, them, if, rather, fact, taken, others, well, seen, need\n",
      "lion: race, real, programming, favor, participated, accordance, magnetic, ocean, prince, wales\n",
      "africa: europe, india, america, south, kingdom, australia, united, asia, england, nine\n",
      "musician: actor, actress, singer, writer, author, nine, born, composer, poet, politician\n",
      "dance: music, modern, art, traditional, classical, concept, whole, study, early, addition\n",
      "\n",
      "\n"
     ]
    },
    {
     "name": "stderr",
     "output_type": "stream",
     "text": [
      "30002it [10:17, 58.36it/s]"
     ]
    },
    {
     "name": "stdout",
     "output_type": "stream",
     "text": [
      "| epoch   9 | 30000/32580 batches | loss    1.330 \n",
      "money: so, them, if, rather, fact, taken, others, well, seen, need\n",
      "lion: race, real, programming, favor, participated, accordance, magnetic, ocean, prince, wales\n",
      "africa: europe, india, america, south, kingdom, australia, united, asia, england, nine\n",
      "musician: actor, actress, singer, writer, author, nine, born, composer, poet, politician\n",
      "dance: music, modern, art, traditional, classical, concept, whole, study, early, addition\n",
      "\n",
      "\n"
     ]
    },
    {
     "name": "stderr",
     "output_type": "stream",
     "text": [
      "30505it [10:24, 58.88it/s]"
     ]
    },
    {
     "name": "stdout",
     "output_type": "stream",
     "text": [
      "| epoch   9 | 30500/32580 batches | loss    1.331 \n",
      "money: so, them, if, rather, fact, taken, others, well, seen, need\n",
      "lion: race, real, programming, favor, participated, accordance, magnetic, ocean, prince, wales\n",
      "africa: europe, india, america, south, kingdom, australia, united, asia, england, nine\n",
      "musician: actor, actress, singer, writer, author, nine, born, composer, poet, politician\n",
      "dance: music, modern, art, traditional, classical, concept, whole, study, early, addition\n",
      "\n",
      "\n"
     ]
    },
    {
     "name": "stderr",
     "output_type": "stream",
     "text": [
      "31000it [10:31, 74.68it/s]"
     ]
    },
    {
     "name": "stdout",
     "output_type": "stream",
     "text": [
      "| epoch   9 | 31000/32580 batches | loss    1.332 \n",
      "money: so, them, if, rather, fact, taken, others, well, seen, need\n",
      "lion: race, real, programming, favor, participated, accordance, magnetic, ocean, prince, wales\n",
      "africa: europe, india, america, south, kingdom, australia, united, asia, england, nine\n",
      "musician: actor, actress, singer, writer, author, nine, born, composer, poet, politician\n",
      "dance: music, modern, art, traditional, classical, concept, whole, study, early, addition\n",
      "\n",
      "\n"
     ]
    },
    {
     "name": "stderr",
     "output_type": "stream",
     "text": [
      "31503it [10:38, 58.84it/s]"
     ]
    },
    {
     "name": "stdout",
     "output_type": "stream",
     "text": [
      "| epoch   9 | 31500/32580 batches | loss    1.329 \n",
      "money: so, them, if, rather, fact, taken, others, well, seen, need\n",
      "lion: race, real, programming, favor, participated, accordance, magnetic, ocean, prince, wales\n",
      "africa: europe, india, america, south, kingdom, australia, united, asia, england, nine\n",
      "musician: actor, actress, singer, writer, author, nine, born, composer, poet, politician\n",
      "dance: music, modern, art, traditional, classical, concept, whole, study, early, addition\n",
      "\n",
      "\n"
     ]
    },
    {
     "name": "stderr",
     "output_type": "stream",
     "text": [
      "32007it [10:45, 58.47it/s]"
     ]
    },
    {
     "name": "stdout",
     "output_type": "stream",
     "text": [
      "| epoch   9 | 32000/32580 batches | loss    1.334 \n",
      "money: so, them, if, rather, fact, taken, others, well, seen, need\n",
      "lion: race, real, programming, favor, participated, accordance, magnetic, ocean, prince, wales\n",
      "africa: europe, india, america, south, kingdom, australia, united, asia, england, nine\n",
      "musician: actor, actress, singer, writer, author, nine, born, composer, poet, politician\n",
      "dance: music, modern, art, traditional, classical, concept, whole, study, early, addition\n",
      "\n",
      "\n"
     ]
    },
    {
     "name": "stderr",
     "output_type": "stream",
     "text": [
      "32502it [10:51, 58.65it/s]"
     ]
    },
    {
     "name": "stdout",
     "output_type": "stream",
     "text": [
      "| epoch   9 | 32500/32580 batches | loss    1.335 \n",
      "money: so, them, if, rather, fact, taken, others, well, seen, need\n",
      "lion: race, real, programming, favor, participated, accordance, magnetic, ocean, prince, wales\n",
      "africa: europe, india, america, south, kingdom, australia, united, asia, england, nine\n",
      "musician: actor, actress, singer, writer, author, nine, born, composer, poet, politician\n",
      "dance: music, modern, art, traditional, classical, concept, whole, study, early, addition\n",
      "\n",
      "\n"
     ]
    },
    {
     "name": "stderr",
     "output_type": "stream",
     "text": [
      "32580it [10:53, 49.83it/s]\n",
      "4it [00:00,  5.62it/s]"
     ]
    },
    {
     "name": "stdout",
     "output_type": "stream",
     "text": [
      "| epoch  10 |     0/32580 batches | loss    1.257 \n",
      "money: so, them, if, rather, fact, taken, others, well, seen, need\n",
      "lion: race, real, programming, favor, participated, accordance, magnetic, ocean, prince, wales\n",
      "africa: europe, india, america, south, kingdom, australia, united, asia, england, nine\n",
      "musician: actor, actress, singer, writer, author, nine, born, composer, poet, politician\n",
      "dance: music, modern, art, traditional, classical, concept, whole, study, early, addition\n",
      "\n",
      "\n"
     ]
    },
    {
     "name": "stderr",
     "output_type": "stream",
     "text": [
      "500it [00:07, 74.79it/s]"
     ]
    },
    {
     "name": "stdout",
     "output_type": "stream",
     "text": [
      "| epoch  10 |   500/32580 batches | loss    1.332 \n",
      "money: so, them, if, rather, fact, taken, others, well, seen, need\n",
      "lion: race, real, programming, favor, participated, accordance, magnetic, ocean, prince, wales\n",
      "africa: europe, india, america, south, kingdom, australia, united, asia, england, nine\n",
      "musician: actor, actress, singer, writer, author, nine, born, composer, poet, politician\n",
      "dance: music, modern, art, traditional, classical, concept, whole, study, early, addition\n",
      "\n",
      "\n"
     ]
    },
    {
     "name": "stderr",
     "output_type": "stream",
     "text": [
      "1003it [00:14, 58.95it/s]"
     ]
    },
    {
     "name": "stdout",
     "output_type": "stream",
     "text": [
      "| epoch  10 |  1000/32580 batches | loss    1.332 \n",
      "money: so, them, if, rather, fact, taken, others, well, seen, need\n",
      "lion: race, real, programming, favor, participated, accordance, magnetic, ocean, prince, wales\n",
      "africa: europe, india, america, south, kingdom, australia, united, asia, england, nine\n",
      "musician: actor, actress, singer, writer, author, nine, born, composer, poet, politician\n",
      "dance: music, modern, art, traditional, classical, concept, whole, study, early, addition\n",
      "\n",
      "\n"
     ]
    },
    {
     "name": "stderr",
     "output_type": "stream",
     "text": [
      "1507it [00:21, 58.98it/s]"
     ]
    },
    {
     "name": "stdout",
     "output_type": "stream",
     "text": [
      "| epoch  10 |  1500/32580 batches | loss    1.331 \n",
      "money: so, them, if, rather, fact, taken, others, well, seen, need\n",
      "lion: race, real, programming, favor, participated, accordance, magnetic, ocean, prince, wales\n",
      "africa: europe, india, america, south, kingdom, australia, united, asia, england, nine\n",
      "musician: actor, actress, singer, writer, author, nine, born, composer, poet, politician\n",
      "dance: music, modern, art, traditional, classical, concept, whole, study, early, addition\n",
      "\n",
      "\n"
     ]
    },
    {
     "name": "stderr",
     "output_type": "stream",
     "text": [
      "2002it [00:28, 59.17it/s]"
     ]
    },
    {
     "name": "stdout",
     "output_type": "stream",
     "text": [
      "| epoch  10 |  2000/32580 batches | loss    1.327 \n",
      "money: so, them, if, rather, fact, taken, others, well, seen, need\n",
      "lion: race, real, programming, favor, participated, accordance, magnetic, ocean, prince, wales\n",
      "africa: europe, india, america, south, kingdom, australia, united, asia, england, nine\n",
      "musician: actor, actress, singer, writer, author, nine, born, composer, poet, politician\n",
      "dance: music, modern, art, traditional, classical, concept, whole, study, early, addition\n",
      "\n",
      "\n"
     ]
    },
    {
     "name": "stderr",
     "output_type": "stream",
     "text": [
      "2505it [00:34, 58.82it/s]"
     ]
    },
    {
     "name": "stdout",
     "output_type": "stream",
     "text": [
      "| epoch  10 |  2500/32580 batches | loss    1.330 \n",
      "money: so, them, if, rather, fact, taken, others, well, seen, need\n",
      "lion: race, real, programming, favor, participated, accordance, magnetic, ocean, prince, wales\n",
      "africa: europe, india, america, south, kingdom, australia, united, asia, england, nine\n",
      "musician: actor, actress, singer, writer, author, nine, born, composer, poet, politician\n",
      "dance: music, modern, art, traditional, classical, concept, whole, study, early, addition\n",
      "\n",
      "\n"
     ]
    },
    {
     "name": "stderr",
     "output_type": "stream",
     "text": [
      "3001it [00:41, 59.30it/s]"
     ]
    },
    {
     "name": "stdout",
     "output_type": "stream",
     "text": [
      "| epoch  10 |  3000/32580 batches | loss    1.329 \n",
      "money: so, them, if, rather, fact, taken, others, well, seen, need\n",
      "lion: race, real, programming, favor, participated, accordance, magnetic, ocean, prince, wales\n",
      "africa: europe, india, america, south, kingdom, australia, united, asia, england, nine\n",
      "musician: actor, actress, singer, writer, author, nine, born, composer, poet, politician\n",
      "dance: music, modern, art, traditional, classical, concept, whole, study, early, addition\n",
      "\n",
      "\n"
     ]
    },
    {
     "name": "stderr",
     "output_type": "stream",
     "text": [
      "3503it [00:48, 58.70it/s]"
     ]
    },
    {
     "name": "stdout",
     "output_type": "stream",
     "text": [
      "| epoch  10 |  3500/32580 batches | loss    1.330 \n",
      "money: so, them, if, rather, fact, taken, others, well, seen, need\n",
      "lion: race, real, programming, favor, participated, accordance, magnetic, ocean, prince, wales\n",
      "africa: europe, india, america, south, kingdom, australia, united, asia, england, nine\n",
      "musician: actor, actress, singer, writer, author, nine, born, composer, poet, politician\n",
      "dance: music, modern, art, traditional, classical, concept, whole, study, early, addition\n",
      "\n",
      "\n"
     ]
    },
    {
     "name": "stderr",
     "output_type": "stream",
     "text": [
      "3999it [00:55, 74.51it/s]"
     ]
    },
    {
     "name": "stdout",
     "output_type": "stream",
     "text": [
      "| epoch  10 |  4000/32580 batches | loss    1.333 \n",
      "money: so, them, if, rather, fact, taken, others, well, seen, need\n",
      "lion: race, real, programming, favor, participated, accordance, magnetic, ocean, prince, wales\n",
      "africa: europe, india, america, south, kingdom, australia, united, asia, england, nine\n",
      "musician: actor, actress, singer, writer, author, nine, born, composer, poet, politician\n",
      "dance: music, modern, art, traditional, classical, concept, whole, study, early, addition\n",
      "\n",
      "\n"
     ]
    },
    {
     "name": "stderr",
     "output_type": "stream",
     "text": [
      "4503it [01:02, 57.20it/s]"
     ]
    },
    {
     "name": "stdout",
     "output_type": "stream",
     "text": [
      "| epoch  10 |  4500/32580 batches | loss    1.332 \n",
      "money: so, them, if, rather, fact, taken, others, well, seen, need\n",
      "lion: race, real, programming, favor, participated, accordance, magnetic, ocean, prince, wales\n",
      "africa: europe, india, america, south, kingdom, australia, united, asia, england, nine\n",
      "musician: actor, actress, singer, writer, author, nine, born, composer, poet, politician\n",
      "dance: music, modern, art, traditional, classical, concept, whole, study, early, addition\n",
      "\n",
      "\n"
     ]
    },
    {
     "name": "stderr",
     "output_type": "stream",
     "text": [
      "5007it [01:09, 57.29it/s]"
     ]
    },
    {
     "name": "stdout",
     "output_type": "stream",
     "text": [
      "| epoch  10 |  5000/32580 batches | loss    1.328 \n",
      "money: so, them, if, rather, fact, taken, others, well, seen, need\n",
      "lion: race, real, programming, favor, participated, accordance, magnetic, ocean, prince, wales\n",
      "africa: europe, india, america, south, kingdom, australia, united, asia, england, nine\n",
      "musician: actor, actress, singer, writer, author, nine, born, composer, poet, politician\n",
      "dance: music, modern, art, traditional, classical, concept, whole, study, early, addition\n",
      "\n",
      "\n"
     ]
    },
    {
     "name": "stderr",
     "output_type": "stream",
     "text": [
      "5503it [01:15, 56.53it/s]"
     ]
    },
    {
     "name": "stdout",
     "output_type": "stream",
     "text": [
      "| epoch  10 |  5500/32580 batches | loss    1.329 \n",
      "money: so, them, if, rather, fact, taken, others, well, seen, need\n",
      "lion: race, real, programming, favor, participated, accordance, magnetic, ocean, prince, wales\n",
      "africa: europe, india, america, south, kingdom, australia, united, asia, england, nine\n",
      "musician: actor, actress, singer, writer, author, nine, born, composer, poet, politician\n",
      "dance: music, modern, art, traditional, classical, concept, whole, study, early, addition\n",
      "\n",
      "\n"
     ]
    },
    {
     "name": "stderr",
     "output_type": "stream",
     "text": [
      "6005it [01:22, 56.98it/s]"
     ]
    },
    {
     "name": "stdout",
     "output_type": "stream",
     "text": [
      "| epoch  10 |  6000/32580 batches | loss    1.332 \n",
      "money: so, them, if, rather, fact, taken, others, well, seen, need\n",
      "lion: race, real, programming, favor, participated, accordance, magnetic, ocean, prince, wales\n",
      "africa: europe, india, america, south, kingdom, australia, united, asia, england, nine\n",
      "musician: actor, actress, singer, writer, author, nine, born, composer, poet, politician\n",
      "dance: music, modern, art, traditional, classical, concept, whole, study, early, addition\n",
      "\n",
      "\n"
     ]
    },
    {
     "name": "stderr",
     "output_type": "stream",
     "text": [
      "6500it [01:29, 74.45it/s]"
     ]
    },
    {
     "name": "stdout",
     "output_type": "stream",
     "text": [
      "| epoch  10 |  6500/32580 batches | loss    1.328 \n",
      "money: so, them, if, rather, fact, taken, others, well, seen, need\n",
      "lion: race, real, programming, favor, participated, accordance, magnetic, ocean, prince, wales\n",
      "africa: europe, india, america, south, kingdom, australia, united, asia, england, nine\n",
      "musician: actor, actress, singer, writer, author, nine, born, composer, poet, politician\n",
      "dance: music, modern, art, traditional, classical, concept, whole, study, early, addition\n",
      "\n",
      "\n"
     ]
    },
    {
     "name": "stderr",
     "output_type": "stream",
     "text": [
      "7004it [01:36, 58.24it/s]"
     ]
    },
    {
     "name": "stdout",
     "output_type": "stream",
     "text": [
      "| epoch  10 |  7000/32580 batches | loss    1.330 \n",
      "money: so, them, if, rather, fact, taken, others, well, seen, need\n",
      "lion: race, real, programming, favor, participated, accordance, magnetic, ocean, prince, wales\n",
      "africa: europe, india, america, south, kingdom, australia, united, asia, england, nine\n",
      "musician: actor, actress, singer, writer, author, nine, born, composer, poet, politician\n",
      "dance: music, modern, art, traditional, classical, concept, whole, study, early, addition\n",
      "\n",
      "\n"
     ]
    },
    {
     "name": "stderr",
     "output_type": "stream",
     "text": [
      "7500it [01:43, 74.80it/s]"
     ]
    },
    {
     "name": "stdout",
     "output_type": "stream",
     "text": [
      "| epoch  10 |  7500/32580 batches | loss    1.332 \n",
      "money: so, them, if, rather, fact, taken, others, well, seen, need\n",
      "lion: race, real, programming, favor, participated, accordance, magnetic, ocean, prince, wales\n",
      "africa: europe, india, america, south, kingdom, australia, united, asia, england, nine\n",
      "musician: actor, actress, singer, writer, author, nine, born, composer, poet, politician\n",
      "dance: music, modern, art, traditional, classical, concept, whole, study, early, addition\n",
      "\n",
      "\n"
     ]
    },
    {
     "name": "stderr",
     "output_type": "stream",
     "text": [
      "8004it [01:49, 59.42it/s]"
     ]
    },
    {
     "name": "stdout",
     "output_type": "stream",
     "text": [
      "| epoch  10 |  8000/32580 batches | loss    1.330 \n",
      "money: so, them, if, rather, fact, taken, others, well, seen, need\n",
      "lion: race, real, programming, favor, participated, accordance, magnetic, ocean, prince, wales\n",
      "africa: europe, india, america, south, kingdom, australia, united, asia, england, nine\n",
      "musician: actor, actress, singer, writer, author, nine, born, composer, poet, politician\n",
      "dance: music, modern, art, traditional, classical, concept, whole, study, early, addition\n",
      "\n",
      "\n"
     ]
    },
    {
     "name": "stderr",
     "output_type": "stream",
     "text": [
      "8500it [01:56, 74.55it/s]"
     ]
    },
    {
     "name": "stdout",
     "output_type": "stream",
     "text": [
      "| epoch  10 |  8500/32580 batches | loss    1.330 \n",
      "money: so, them, if, rather, fact, taken, others, well, seen, need\n",
      "lion: race, real, programming, favor, participated, accordance, magnetic, ocean, prince, wales\n",
      "africa: europe, india, america, south, kingdom, australia, united, asia, england, nine\n",
      "musician: actor, actress, singer, writer, author, nine, born, composer, poet, politician\n",
      "dance: music, modern, art, traditional, classical, concept, whole, study, early, addition\n",
      "\n",
      "\n"
     ]
    },
    {
     "name": "stderr",
     "output_type": "stream",
     "text": [
      "9004it [02:03, 58.76it/s]"
     ]
    },
    {
     "name": "stdout",
     "output_type": "stream",
     "text": [
      "| epoch  10 |  9000/32580 batches | loss    1.330 \n",
      "money: so, them, if, rather, fact, taken, others, well, seen, need\n",
      "lion: race, real, programming, favor, participated, accordance, magnetic, ocean, prince, wales\n",
      "africa: europe, india, america, south, kingdom, australia, united, asia, england, nine\n",
      "musician: actor, actress, singer, writer, author, nine, born, composer, poet, politician\n",
      "dance: music, modern, art, traditional, classical, concept, whole, study, early, addition\n",
      "\n",
      "\n"
     ]
    },
    {
     "name": "stderr",
     "output_type": "stream",
     "text": [
      "9503it [02:10, 57.68it/s]"
     ]
    },
    {
     "name": "stdout",
     "output_type": "stream",
     "text": [
      "| epoch  10 |  9500/32580 batches | loss    1.331 \n",
      "money: so, them, if, rather, fact, taken, others, well, seen, need\n",
      "lion: race, real, programming, favor, participated, accordance, magnetic, ocean, prince, wales\n",
      "africa: europe, india, america, south, kingdom, australia, united, asia, england, nine\n",
      "musician: actor, actress, singer, writer, author, nine, born, composer, poet, politician\n",
      "dance: music, modern, art, traditional, classical, concept, whole, study, early, addition\n",
      "\n",
      "\n"
     ]
    },
    {
     "name": "stderr",
     "output_type": "stream",
     "text": [
      "10006it [02:17, 58.72it/s]"
     ]
    },
    {
     "name": "stdout",
     "output_type": "stream",
     "text": [
      "| epoch  10 | 10000/32580 batches | loss    1.333 \n",
      "money: so, them, if, rather, fact, taken, others, well, seen, need\n",
      "lion: race, real, programming, favor, participated, accordance, magnetic, ocean, prince, wales\n",
      "africa: europe, india, america, south, kingdom, australia, united, asia, england, nine\n",
      "musician: actor, actress, singer, writer, author, nine, born, composer, poet, politician\n",
      "dance: music, modern, art, traditional, classical, concept, whole, study, early, addition\n",
      "\n",
      "\n"
     ]
    },
    {
     "name": "stderr",
     "output_type": "stream",
     "text": [
      "10505it [02:26, 57.31it/s]"
     ]
    },
    {
     "name": "stdout",
     "output_type": "stream",
     "text": [
      "| epoch  10 | 10500/32580 batches | loss    1.330 \n",
      "money: so, them, if, rather, fact, taken, others, well, seen, need\n",
      "lion: race, real, programming, favor, participated, accordance, magnetic, ocean, prince, wales\n",
      "africa: europe, india, america, south, kingdom, australia, united, asia, england, nine\n",
      "musician: actor, actress, singer, writer, author, nine, born, composer, poet, politician\n",
      "dance: music, modern, art, traditional, classical, concept, whole, study, early, addition\n",
      "\n",
      "\n"
     ]
    },
    {
     "name": "stderr",
     "output_type": "stream",
     "text": [
      "11000it [02:32, 74.61it/s]"
     ]
    },
    {
     "name": "stdout",
     "output_type": "stream",
     "text": [
      "| epoch  10 | 11000/32580 batches | loss    1.330 \n",
      "money: so, them, if, rather, fact, taken, others, well, seen, need\n",
      "lion: race, real, programming, favor, participated, accordance, magnetic, ocean, prince, wales\n",
      "africa: europe, india, america, south, kingdom, australia, united, asia, england, nine\n",
      "musician: actor, actress, singer, writer, author, nine, born, composer, poet, politician\n",
      "dance: music, modern, art, traditional, classical, concept, whole, study, early, addition\n",
      "\n",
      "\n"
     ]
    },
    {
     "name": "stderr",
     "output_type": "stream",
     "text": [
      "11503it [02:39, 58.66it/s]"
     ]
    },
    {
     "name": "stdout",
     "output_type": "stream",
     "text": [
      "| epoch  10 | 11500/32580 batches | loss    1.334 \n",
      "money: so, them, if, rather, fact, taken, others, well, seen, need\n",
      "lion: race, real, programming, favor, participated, accordance, magnetic, ocean, prince, wales\n",
      "africa: europe, india, america, south, kingdom, australia, united, asia, england, nine\n",
      "musician: actor, actress, singer, writer, author, nine, born, composer, poet, politician\n",
      "dance: music, modern, art, traditional, classical, concept, whole, study, early, addition\n",
      "\n",
      "\n"
     ]
    },
    {
     "name": "stderr",
     "output_type": "stream",
     "text": [
      "11999it [02:46, 74.51it/s]"
     ]
    },
    {
     "name": "stdout",
     "output_type": "stream",
     "text": [
      "| epoch  10 | 12000/32580 batches | loss    1.331 \n",
      "money: so, them, if, rather, fact, taken, others, well, seen, need\n",
      "lion: race, real, programming, favor, participated, accordance, magnetic, ocean, prince, wales\n",
      "africa: europe, india, america, south, kingdom, australia, united, asia, england, nine\n",
      "musician: actor, actress, singer, writer, author, nine, born, composer, poet, politician\n",
      "dance: music, modern, art, traditional, classical, concept, whole, study, early, addition\n",
      "\n",
      "\n"
     ]
    },
    {
     "name": "stderr",
     "output_type": "stream",
     "text": [
      "12509it [02:53, 60.89it/s]"
     ]
    },
    {
     "name": "stdout",
     "output_type": "stream",
     "text": [
      "| epoch  10 | 12500/32580 batches | loss    1.334 \n",
      "money: so, them, if, rather, fact, taken, others, well, seen, need\n",
      "lion: race, real, programming, favor, participated, accordance, magnetic, ocean, prince, wales\n",
      "africa: europe, india, america, south, kingdom, australia, united, asia, england, nine\n",
      "musician: actor, actress, singer, writer, author, nine, born, composer, poet, politician\n",
      "dance: music, modern, art, traditional, classical, concept, whole, study, early, addition\n",
      "\n",
      "\n"
     ]
    },
    {
     "name": "stderr",
     "output_type": "stream",
     "text": [
      "13004it [03:00, 57.33it/s]"
     ]
    },
    {
     "name": "stdout",
     "output_type": "stream",
     "text": [
      "| epoch  10 | 13000/32580 batches | loss    1.330 \n",
      "money: so, them, if, rather, fact, taken, others, well, seen, need\n",
      "lion: race, real, programming, favor, participated, accordance, magnetic, ocean, prince, wales\n",
      "africa: europe, india, america, south, kingdom, australia, united, asia, england, nine\n",
      "musician: actor, actress, singer, writer, author, nine, born, composer, poet, politician\n",
      "dance: music, modern, art, traditional, classical, concept, whole, study, early, addition\n",
      "\n",
      "\n"
     ]
    },
    {
     "name": "stderr",
     "output_type": "stream",
     "text": [
      "13500it [03:06, 74.74it/s]"
     ]
    },
    {
     "name": "stdout",
     "output_type": "stream",
     "text": [
      "| epoch  10 | 13500/32580 batches | loss    1.331 \n",
      "money: so, them, if, rather, fact, taken, others, well, seen, need\n",
      "lion: race, real, programming, favor, participated, accordance, magnetic, ocean, prince, wales\n",
      "africa: europe, india, america, south, kingdom, australia, united, asia, england, nine\n",
      "musician: actor, actress, singer, writer, author, nine, born, composer, poet, politician\n",
      "dance: music, modern, art, traditional, classical, concept, whole, study, early, addition\n",
      "\n",
      "\n"
     ]
    },
    {
     "name": "stderr",
     "output_type": "stream",
     "text": [
      "14003it [03:13, 58.87it/s]"
     ]
    },
    {
     "name": "stdout",
     "output_type": "stream",
     "text": [
      "| epoch  10 | 14000/32580 batches | loss    1.331 \n",
      "money: so, them, if, rather, fact, taken, others, well, seen, need\n",
      "lion: race, real, programming, favor, participated, accordance, magnetic, ocean, prince, wales\n",
      "africa: europe, india, america, south, kingdom, australia, united, asia, england, nine\n",
      "musician: actor, actress, singer, writer, author, nine, born, composer, poet, politician\n",
      "dance: music, modern, art, traditional, classical, concept, whole, study, early, addition\n",
      "\n",
      "\n"
     ]
    },
    {
     "name": "stderr",
     "output_type": "stream",
     "text": [
      "14505it [03:20, 57.75it/s]"
     ]
    },
    {
     "name": "stdout",
     "output_type": "stream",
     "text": [
      "| epoch  10 | 14500/32580 batches | loss    1.330 \n",
      "money: so, them, if, rather, fact, taken, others, well, seen, need\n",
      "lion: race, real, programming, favor, participated, accordance, magnetic, ocean, prince, wales\n",
      "africa: europe, india, america, south, kingdom, australia, united, asia, england, nine\n",
      "musician: actor, actress, singer, writer, author, nine, born, composer, poet, politician\n",
      "dance: music, modern, art, traditional, classical, concept, whole, study, early, addition\n",
      "\n",
      "\n"
     ]
    },
    {
     "name": "stderr",
     "output_type": "stream",
     "text": [
      "15000it [03:27, 74.61it/s]"
     ]
    },
    {
     "name": "stdout",
     "output_type": "stream",
     "text": [
      "| epoch  10 | 15000/32580 batches | loss    1.332 \n",
      "money: so, them, if, rather, fact, taken, others, well, seen, need\n",
      "lion: race, real, programming, favor, participated, accordance, magnetic, ocean, prince, wales\n",
      "africa: europe, india, america, south, kingdom, australia, united, asia, england, nine\n",
      "musician: actor, actress, singer, writer, author, nine, born, composer, poet, politician\n",
      "dance: music, modern, art, traditional, classical, concept, whole, study, early, addition\n",
      "\n",
      "\n"
     ]
    },
    {
     "name": "stderr",
     "output_type": "stream",
     "text": [
      "15504it [03:34, 55.85it/s]"
     ]
    },
    {
     "name": "stdout",
     "output_type": "stream",
     "text": [
      "| epoch  10 | 15500/32580 batches | loss    1.329 \n",
      "money: so, them, if, rather, fact, taken, others, well, seen, need\n",
      "lion: race, real, programming, favor, participated, accordance, magnetic, ocean, prince, wales\n",
      "africa: europe, india, america, south, kingdom, australia, united, asia, england, nine\n",
      "musician: actor, actress, singer, writer, author, nine, born, composer, poet, politician\n",
      "dance: music, modern, art, traditional, classical, concept, whole, study, early, addition\n",
      "\n",
      "\n"
     ]
    },
    {
     "name": "stderr",
     "output_type": "stream",
     "text": [
      "16000it [03:41, 74.65it/s]"
     ]
    },
    {
     "name": "stdout",
     "output_type": "stream",
     "text": [
      "| epoch  10 | 16000/32580 batches | loss    1.329 \n",
      "money: so, them, if, rather, fact, taken, others, well, seen, need\n",
      "lion: race, real, programming, favor, participated, accordance, magnetic, ocean, prince, wales\n",
      "africa: europe, india, america, south, kingdom, australia, united, asia, england, nine\n",
      "musician: actor, actress, singer, writer, author, nine, born, composer, poet, politician\n",
      "dance: music, modern, art, traditional, classical, concept, whole, study, early, addition\n",
      "\n",
      "\n"
     ]
    },
    {
     "name": "stderr",
     "output_type": "stream",
     "text": [
      "16503it [03:48, 53.36it/s]"
     ]
    },
    {
     "name": "stdout",
     "output_type": "stream",
     "text": [
      "| epoch  10 | 16500/32580 batches | loss    1.328 \n",
      "money: so, them, if, rather, fact, taken, others, well, seen, need\n",
      "lion: race, real, programming, favor, participated, accordance, magnetic, ocean, prince, wales\n",
      "africa: europe, india, america, south, kingdom, australia, united, asia, england, nine\n",
      "musician: actor, actress, singer, writer, author, nine, born, composer, poet, politician\n",
      "dance: music, modern, art, traditional, classical, concept, whole, study, early, addition\n",
      "\n",
      "\n"
     ]
    },
    {
     "name": "stderr",
     "output_type": "stream",
     "text": [
      "16998it [03:54, 74.09it/s]"
     ]
    },
    {
     "name": "stdout",
     "output_type": "stream",
     "text": [
      "| epoch  10 | 17000/32580 batches | loss    1.327 \n",
      "money: so, them, if, rather, fact, taken, others, well, seen, need\n",
      "lion: race, real, programming, favor, participated, accordance, magnetic, ocean, prince, wales\n",
      "africa: europe, india, america, south, kingdom, australia, united, asia, england, nine\n",
      "musician: actor, actress, singer, writer, author, nine, born, composer, poet, politician\n",
      "dance: music, modern, art, traditional, classical, concept, whole, study, early, addition\n",
      "\n",
      "\n"
     ]
    },
    {
     "name": "stderr",
     "output_type": "stream",
     "text": [
      "17502it [04:01, 55.53it/s]"
     ]
    },
    {
     "name": "stdout",
     "output_type": "stream",
     "text": [
      "| epoch  10 | 17500/32580 batches | loss    1.333 \n",
      "money: so, them, if, rather, fact, taken, others, well, seen, need\n",
      "lion: race, real, programming, favor, participated, accordance, magnetic, ocean, prince, wales\n",
      "africa: europe, india, america, south, kingdom, australia, united, asia, england, nine\n",
      "musician: actor, actress, singer, writer, author, nine, born, composer, poet, politician\n",
      "dance: music, modern, art, traditional, classical, concept, whole, study, early, addition\n",
      "\n",
      "\n"
     ]
    },
    {
     "name": "stderr",
     "output_type": "stream",
     "text": [
      "18005it [04:08, 53.67it/s]"
     ]
    },
    {
     "name": "stdout",
     "output_type": "stream",
     "text": [
      "| epoch  10 | 18000/32580 batches | loss    1.333 \n",
      "money: so, them, if, rather, fact, taken, others, well, seen, need\n",
      "lion: race, real, programming, favor, participated, accordance, magnetic, ocean, prince, wales\n",
      "africa: europe, india, america, south, kingdom, australia, united, asia, england, nine\n",
      "musician: actor, actress, singer, writer, author, nine, born, composer, poet, politician\n",
      "dance: music, modern, art, traditional, classical, concept, whole, study, early, addition\n",
      "\n",
      "\n"
     ]
    },
    {
     "name": "stderr",
     "output_type": "stream",
     "text": [
      "18500it [04:15, 74.13it/s]"
     ]
    },
    {
     "name": "stdout",
     "output_type": "stream",
     "text": [
      "| epoch  10 | 18500/32580 batches | loss    1.331 \n",
      "money: so, them, if, rather, fact, taken, others, well, seen, need\n",
      "lion: race, real, programming, favor, participated, accordance, magnetic, ocean, prince, wales\n",
      "africa: europe, india, america, south, kingdom, australia, united, asia, england, nine\n",
      "musician: actor, actress, singer, writer, author, nine, born, composer, poet, politician\n",
      "dance: music, modern, art, traditional, classical, concept, whole, study, early, addition\n",
      "\n",
      "\n"
     ]
    },
    {
     "name": "stderr",
     "output_type": "stream",
     "text": [
      "19003it [04:22, 56.14it/s]"
     ]
    },
    {
     "name": "stdout",
     "output_type": "stream",
     "text": [
      "| epoch  10 | 19000/32580 batches | loss    1.327 \n",
      "money: so, them, if, rather, fact, taken, others, well, seen, need\n",
      "lion: race, real, programming, favor, participated, accordance, magnetic, ocean, prince, wales\n",
      "africa: europe, india, america, south, kingdom, australia, united, asia, england, nine\n",
      "musician: actor, actress, singer, writer, author, nine, born, composer, poet, politician\n",
      "dance: music, modern, art, traditional, classical, concept, whole, study, early, addition\n",
      "\n",
      "\n"
     ]
    },
    {
     "name": "stderr",
     "output_type": "stream",
     "text": [
      "19505it [04:29, 56.81it/s]"
     ]
    },
    {
     "name": "stdout",
     "output_type": "stream",
     "text": [
      "| epoch  10 | 19500/32580 batches | loss    1.327 \n",
      "money: so, them, if, rather, fact, taken, others, well, seen, need\n",
      "lion: race, real, programming, favor, participated, accordance, magnetic, ocean, prince, wales\n",
      "africa: europe, india, america, south, kingdom, australia, united, asia, england, nine\n",
      "musician: actor, actress, singer, writer, author, nine, born, composer, poet, politician\n",
      "dance: music, modern, art, traditional, classical, concept, whole, study, early, addition\n",
      "\n",
      "\n"
     ]
    },
    {
     "name": "stderr",
     "output_type": "stream",
     "text": [
      "20000it [04:36, 74.56it/s]"
     ]
    },
    {
     "name": "stdout",
     "output_type": "stream",
     "text": [
      "| epoch  10 | 20000/32580 batches | loss    1.329 \n",
      "money: so, them, if, rather, fact, taken, others, well, seen, need\n",
      "lion: race, real, programming, favor, participated, accordance, magnetic, ocean, prince, wales\n",
      "africa: europe, india, america, south, kingdom, australia, united, asia, england, nine\n",
      "musician: actor, actress, singer, writer, author, nine, born, composer, poet, politician\n",
      "dance: music, modern, art, traditional, classical, concept, whole, study, early, addition\n",
      "\n",
      "\n"
     ]
    },
    {
     "name": "stderr",
     "output_type": "stream",
     "text": [
      "20504it [04:43, 56.45it/s]"
     ]
    },
    {
     "name": "stdout",
     "output_type": "stream",
     "text": [
      "| epoch  10 | 20500/32580 batches | loss    1.329 \n",
      "money: so, them, if, rather, fact, taken, others, well, seen, need\n",
      "lion: race, real, programming, favor, participated, accordance, magnetic, ocean, prince, wales\n",
      "africa: europe, india, america, south, kingdom, australia, united, asia, england, nine\n",
      "musician: actor, actress, singer, writer, author, nine, born, composer, poet, politician\n",
      "dance: music, modern, art, traditional, classical, concept, whole, study, early, addition\n",
      "\n",
      "\n"
     ]
    },
    {
     "name": "stderr",
     "output_type": "stream",
     "text": [
      "20999it [04:49, 74.71it/s]"
     ]
    },
    {
     "name": "stdout",
     "output_type": "stream",
     "text": [
      "| epoch  10 | 21000/32580 batches | loss    1.330 \n",
      "money: so, them, if, rather, fact, taken, others, well, seen, need\n",
      "lion: race, real, programming, favor, participated, accordance, magnetic, ocean, prince, wales\n",
      "africa: europe, india, america, south, kingdom, australia, united, asia, england, nine\n",
      "musician: actor, actress, singer, writer, author, nine, born, composer, poet, politician\n",
      "dance: music, modern, art, traditional, classical, concept, whole, study, early, addition\n",
      "\n",
      "\n"
     ]
    },
    {
     "name": "stderr",
     "output_type": "stream",
     "text": [
      "21502it [04:56, 57.05it/s]"
     ]
    },
    {
     "name": "stdout",
     "output_type": "stream",
     "text": [
      "| epoch  10 | 21500/32580 batches | loss    1.331 \n",
      "money: so, them, if, rather, fact, taken, others, well, seen, need\n",
      "lion: race, real, programming, favor, participated, accordance, magnetic, ocean, prince, wales\n",
      "africa: europe, india, america, south, kingdom, australia, united, asia, england, nine\n",
      "musician: actor, actress, singer, writer, author, nine, born, composer, poet, politician\n",
      "dance: music, modern, art, traditional, classical, concept, whole, study, early, addition\n",
      "\n",
      "\n"
     ]
    },
    {
     "name": "stderr",
     "output_type": "stream",
     "text": [
      "22005it [05:03, 57.95it/s]"
     ]
    },
    {
     "name": "stdout",
     "output_type": "stream",
     "text": [
      "| epoch  10 | 22000/32580 batches | loss    1.330 \n",
      "money: so, them, if, rather, fact, taken, others, well, seen, need\n",
      "lion: race, real, programming, favor, participated, accordance, magnetic, ocean, prince, wales\n",
      "africa: europe, india, america, south, kingdom, australia, united, asia, england, nine\n",
      "musician: actor, actress, singer, writer, author, nine, born, composer, poet, politician\n",
      "dance: music, modern, art, traditional, classical, concept, whole, study, early, addition\n",
      "\n",
      "\n"
     ]
    },
    {
     "name": "stderr",
     "output_type": "stream",
     "text": [
      "22507it [05:12, 53.62it/s]"
     ]
    },
    {
     "name": "stdout",
     "output_type": "stream",
     "text": [
      "| epoch  10 | 22500/32580 batches | loss    1.335 \n",
      "money: so, them, if, rather, fact, taken, others, well, seen, need\n",
      "lion: race, real, programming, favor, participated, accordance, magnetic, ocean, prince, wales\n",
      "africa: europe, india, america, south, kingdom, australia, united, asia, england, nine\n",
      "musician: actor, actress, singer, writer, author, nine, born, composer, poet, politician\n",
      "dance: music, modern, art, traditional, classical, concept, whole, study, early, addition\n",
      "\n",
      "\n"
     ]
    },
    {
     "name": "stderr",
     "output_type": "stream",
     "text": [
      "23002it [05:18, 57.52it/s]"
     ]
    },
    {
     "name": "stdout",
     "output_type": "stream",
     "text": [
      "| epoch  10 | 23000/32580 batches | loss    1.326 \n",
      "money: so, them, if, rather, fact, taken, others, well, seen, need\n",
      "lion: race, real, programming, favor, participated, accordance, magnetic, ocean, prince, wales\n",
      "africa: europe, india, america, south, kingdom, australia, united, asia, england, nine\n",
      "musician: actor, actress, singer, writer, author, nine, born, composer, poet, politician\n",
      "dance: music, modern, art, traditional, classical, concept, whole, study, early, addition\n",
      "\n",
      "\n"
     ]
    },
    {
     "name": "stderr",
     "output_type": "stream",
     "text": [
      "23506it [05:25, 57.21it/s]"
     ]
    },
    {
     "name": "stdout",
     "output_type": "stream",
     "text": [
      "| epoch  10 | 23500/32580 batches | loss    1.330 \n",
      "money: so, them, if, rather, fact, taken, others, well, seen, need\n",
      "lion: race, real, programming, favor, participated, accordance, magnetic, ocean, prince, wales\n",
      "africa: europe, india, america, south, kingdom, australia, united, asia, england, nine\n",
      "musician: actor, actress, singer, writer, author, nine, born, composer, poet, politician\n",
      "dance: music, modern, art, traditional, classical, concept, whole, study, early, addition\n",
      "\n",
      "\n"
     ]
    },
    {
     "name": "stderr",
     "output_type": "stream",
     "text": [
      "24008it [05:32, 60.17it/s]"
     ]
    },
    {
     "name": "stdout",
     "output_type": "stream",
     "text": [
      "| epoch  10 | 24000/32580 batches | loss    1.328 \n",
      "money: so, them, if, rather, fact, taken, others, well, seen, need\n",
      "lion: race, real, programming, favor, participated, accordance, magnetic, ocean, prince, wales\n",
      "africa: europe, india, america, south, kingdom, australia, united, asia, england, nine\n",
      "musician: actor, actress, singer, writer, author, nine, born, composer, poet, politician\n",
      "dance: music, modern, art, traditional, classical, concept, whole, study, early, addition\n",
      "\n",
      "\n"
     ]
    },
    {
     "name": "stderr",
     "output_type": "stream",
     "text": [
      "24504it [05:39, 58.39it/s]"
     ]
    },
    {
     "name": "stdout",
     "output_type": "stream",
     "text": [
      "| epoch  10 | 24500/32580 batches | loss    1.333 \n",
      "money: so, them, if, rather, fact, taken, others, well, seen, need\n",
      "lion: race, real, programming, favor, participated, accordance, magnetic, ocean, prince, wales\n",
      "africa: europe, india, america, south, kingdom, australia, united, asia, england, nine\n",
      "musician: actor, actress, singer, writer, author, nine, born, composer, poet, politician\n",
      "dance: music, modern, art, traditional, classical, concept, whole, study, early, addition\n",
      "\n",
      "\n"
     ]
    },
    {
     "name": "stderr",
     "output_type": "stream",
     "text": [
      "25008it [05:46, 57.40it/s]"
     ]
    },
    {
     "name": "stdout",
     "output_type": "stream",
     "text": [
      "| epoch  10 | 25000/32580 batches | loss    1.330 \n",
      "money: so, them, if, rather, fact, taken, others, well, seen, need\n",
      "lion: race, real, programming, favor, participated, accordance, magnetic, ocean, prince, wales\n",
      "africa: europe, india, america, south, kingdom, australia, united, asia, england, nine\n",
      "musician: actor, actress, singer, writer, author, nine, born, composer, poet, politician\n",
      "dance: music, modern, art, traditional, classical, concept, whole, study, early, addition\n",
      "\n",
      "\n"
     ]
    },
    {
     "name": "stderr",
     "output_type": "stream",
     "text": [
      "25504it [05:52, 57.42it/s]"
     ]
    },
    {
     "name": "stdout",
     "output_type": "stream",
     "text": [
      "| epoch  10 | 25500/32580 batches | loss    1.332 \n",
      "money: so, them, if, rather, fact, taken, others, well, seen, need\n",
      "lion: race, real, programming, favor, participated, accordance, magnetic, ocean, prince, wales\n",
      "africa: europe, india, america, south, kingdom, australia, united, asia, england, nine\n",
      "musician: actor, actress, singer, writer, author, nine, born, composer, poet, politician\n",
      "dance: music, modern, art, traditional, classical, concept, whole, study, early, addition\n",
      "\n",
      "\n"
     ]
    },
    {
     "name": "stderr",
     "output_type": "stream",
     "text": [
      "26007it [05:59, 57.55it/s]"
     ]
    },
    {
     "name": "stdout",
     "output_type": "stream",
     "text": [
      "| epoch  10 | 26000/32580 batches | loss    1.333 \n",
      "money: so, them, if, rather, fact, taken, others, well, seen, need\n",
      "lion: race, real, programming, favor, participated, accordance, magnetic, ocean, prince, wales\n",
      "africa: europe, india, america, south, kingdom, australia, united, asia, england, nine\n",
      "musician: actor, actress, singer, writer, author, nine, born, composer, poet, politician\n",
      "dance: music, modern, art, traditional, classical, concept, whole, study, early, addition\n",
      "\n",
      "\n"
     ]
    },
    {
     "name": "stderr",
     "output_type": "stream",
     "text": [
      "26502it [06:06, 53.69it/s]"
     ]
    },
    {
     "name": "stdout",
     "output_type": "stream",
     "text": [
      "| epoch  10 | 26500/32580 batches | loss    1.332 \n",
      "money: so, them, if, rather, fact, taken, others, well, seen, need\n",
      "lion: race, real, programming, favor, participated, accordance, magnetic, ocean, prince, wales\n",
      "africa: europe, india, america, south, kingdom, australia, united, asia, england, nine\n",
      "musician: actor, actress, singer, writer, author, nine, born, composer, poet, politician\n",
      "dance: music, modern, art, traditional, classical, concept, whole, study, early, addition\n",
      "\n",
      "\n"
     ]
    },
    {
     "name": "stderr",
     "output_type": "stream",
     "text": [
      "27005it [06:13, 56.60it/s]"
     ]
    },
    {
     "name": "stdout",
     "output_type": "stream",
     "text": [
      "| epoch  10 | 27000/32580 batches | loss    1.330 \n",
      "money: so, them, if, rather, fact, taken, others, well, seen, need\n",
      "lion: race, real, programming, favor, participated, accordance, magnetic, ocean, prince, wales\n",
      "africa: europe, india, america, south, kingdom, australia, united, asia, england, nine\n",
      "musician: actor, actress, singer, writer, author, nine, born, composer, poet, politician\n",
      "dance: music, modern, art, traditional, classical, concept, whole, study, early, addition\n",
      "\n",
      "\n"
     ]
    },
    {
     "name": "stderr",
     "output_type": "stream",
     "text": [
      "27508it [06:20, 60.74it/s]"
     ]
    },
    {
     "name": "stdout",
     "output_type": "stream",
     "text": [
      "| epoch  10 | 27500/32580 batches | loss    1.331 \n",
      "money: so, them, if, rather, fact, taken, others, well, seen, need\n",
      "lion: race, real, programming, favor, participated, accordance, magnetic, ocean, prince, wales\n",
      "africa: europe, india, america, south, kingdom, australia, united, asia, england, nine\n",
      "musician: actor, actress, singer, writer, author, nine, born, composer, poet, politician\n",
      "dance: music, modern, art, traditional, classical, concept, whole, study, early, addition\n",
      "\n",
      "\n"
     ]
    },
    {
     "name": "stderr",
     "output_type": "stream",
     "text": [
      "28003it [06:27, 57.42it/s]"
     ]
    },
    {
     "name": "stdout",
     "output_type": "stream",
     "text": [
      "| epoch  10 | 28000/32580 batches | loss    1.331 \n",
      "money: so, them, if, rather, fact, taken, others, well, seen, need\n",
      "lion: race, real, programming, favor, participated, accordance, magnetic, ocean, prince, wales\n",
      "africa: europe, india, america, south, kingdom, australia, united, asia, england, nine\n",
      "musician: actor, actress, singer, writer, author, nine, born, composer, poet, politician\n",
      "dance: music, modern, art, traditional, classical, concept, whole, study, early, addition\n",
      "\n",
      "\n"
     ]
    },
    {
     "name": "stderr",
     "output_type": "stream",
     "text": [
      "28506it [06:33, 57.23it/s]"
     ]
    },
    {
     "name": "stdout",
     "output_type": "stream",
     "text": [
      "| epoch  10 | 28500/32580 batches | loss    1.333 \n",
      "money: so, them, if, rather, fact, taken, others, well, seen, need\n",
      "lion: race, real, programming, favor, participated, accordance, magnetic, ocean, prince, wales\n",
      "africa: europe, india, america, south, kingdom, australia, united, asia, england, nine\n",
      "musician: actor, actress, singer, writer, author, nine, born, composer, poet, politician\n",
      "dance: music, modern, art, traditional, classical, concept, whole, study, early, addition\n",
      "\n",
      "\n"
     ]
    },
    {
     "name": "stderr",
     "output_type": "stream",
     "text": [
      "29008it [06:40, 61.25it/s]"
     ]
    },
    {
     "name": "stdout",
     "output_type": "stream",
     "text": [
      "| epoch  10 | 29000/32580 batches | loss    1.332 \n",
      "money: so, them, if, rather, fact, taken, others, well, seen, need\n",
      "lion: race, real, programming, favor, participated, accordance, magnetic, ocean, prince, wales\n",
      "africa: europe, india, america, south, kingdom, australia, united, asia, england, nine\n",
      "musician: actor, actress, singer, writer, author, nine, born, composer, poet, politician\n",
      "dance: music, modern, art, traditional, classical, concept, whole, study, early, addition\n",
      "\n",
      "\n"
     ]
    },
    {
     "name": "stderr",
     "output_type": "stream",
     "text": [
      "29503it [06:47, 59.30it/s]"
     ]
    },
    {
     "name": "stdout",
     "output_type": "stream",
     "text": [
      "| epoch  10 | 29500/32580 batches | loss    1.334 \n",
      "money: so, them, if, rather, fact, taken, others, well, seen, need\n",
      "lion: race, real, programming, favor, participated, accordance, magnetic, ocean, prince, wales\n",
      "africa: europe, india, america, south, kingdom, australia, united, asia, england, nine\n",
      "musician: actor, actress, singer, writer, author, nine, born, composer, poet, politician\n",
      "dance: music, modern, art, traditional, classical, concept, whole, study, early, addition\n",
      "\n",
      "\n"
     ]
    },
    {
     "name": "stderr",
     "output_type": "stream",
     "text": [
      "30007it [06:54, 58.73it/s]"
     ]
    },
    {
     "name": "stdout",
     "output_type": "stream",
     "text": [
      "| epoch  10 | 30000/32580 batches | loss    1.329 \n",
      "money: so, them, if, rather, fact, taken, others, well, seen, need\n",
      "lion: race, real, programming, favor, participated, accordance, magnetic, ocean, prince, wales\n",
      "africa: europe, india, america, south, kingdom, australia, united, asia, england, nine\n",
      "musician: actor, actress, singer, writer, author, nine, born, composer, poet, politician\n",
      "dance: music, modern, art, traditional, classical, concept, whole, study, early, addition\n",
      "\n",
      "\n"
     ]
    },
    {
     "name": "stderr",
     "output_type": "stream",
     "text": [
      "30502it [07:01, 58.97it/s]"
     ]
    },
    {
     "name": "stdout",
     "output_type": "stream",
     "text": [
      "| epoch  10 | 30500/32580 batches | loss    1.332 \n",
      "money: so, them, if, rather, fact, taken, others, well, seen, need\n",
      "lion: race, real, programming, favor, participated, accordance, magnetic, ocean, prince, wales\n",
      "africa: europe, india, america, south, kingdom, australia, united, asia, england, nine\n",
      "musician: actor, actress, singer, writer, author, nine, born, composer, poet, politician\n",
      "dance: music, modern, art, traditional, classical, concept, whole, study, early, addition\n",
      "\n",
      "\n"
     ]
    },
    {
     "name": "stderr",
     "output_type": "stream",
     "text": [
      "31008it [07:08, 58.44it/s]"
     ]
    },
    {
     "name": "stdout",
     "output_type": "stream",
     "text": [
      "| epoch  10 | 31000/32580 batches | loss    1.329 \n",
      "money: so, them, if, rather, fact, taken, others, well, seen, need\n",
      "lion: race, real, programming, favor, participated, accordance, magnetic, ocean, prince, wales\n",
      "africa: europe, india, america, south, kingdom, australia, united, asia, england, nine\n",
      "musician: actor, actress, singer, writer, author, nine, born, composer, poet, politician\n",
      "dance: music, modern, art, traditional, classical, concept, whole, study, early, addition\n",
      "\n",
      "\n"
     ]
    },
    {
     "name": "stderr",
     "output_type": "stream",
     "text": [
      "31504it [07:15, 57.23it/s]"
     ]
    },
    {
     "name": "stdout",
     "output_type": "stream",
     "text": [
      "| epoch  10 | 31500/32580 batches | loss    1.330 \n",
      "money: so, them, if, rather, fact, taken, others, well, seen, need\n",
      "lion: race, real, programming, favor, participated, accordance, magnetic, ocean, prince, wales\n",
      "africa: europe, india, america, south, kingdom, australia, united, asia, england, nine\n",
      "musician: actor, actress, singer, writer, author, nine, born, composer, poet, politician\n",
      "dance: music, modern, art, traditional, classical, concept, whole, study, early, addition\n",
      "\n",
      "\n"
     ]
    },
    {
     "name": "stderr",
     "output_type": "stream",
     "text": [
      "31999it [07:21, 74.90it/s]"
     ]
    },
    {
     "name": "stdout",
     "output_type": "stream",
     "text": [
      "| epoch  10 | 32000/32580 batches | loss    1.332 \n",
      "money: so, them, if, rather, fact, taken, others, well, seen, need\n",
      "lion: race, real, programming, favor, participated, accordance, magnetic, ocean, prince, wales\n",
      "africa: europe, india, america, south, kingdom, australia, united, asia, england, nine\n",
      "musician: actor, actress, singer, writer, author, nine, born, composer, poet, politician\n",
      "dance: music, modern, art, traditional, classical, concept, whole, study, early, addition\n",
      "\n",
      "\n"
     ]
    },
    {
     "name": "stderr",
     "output_type": "stream",
     "text": [
      "32509it [07:29, 62.26it/s]"
     ]
    },
    {
     "name": "stdout",
     "output_type": "stream",
     "text": [
      "| epoch  10 | 32500/32580 batches | loss    1.332 \n",
      "money: so, them, if, rather, fact, taken, others, well, seen, need\n",
      "lion: race, real, programming, favor, participated, accordance, magnetic, ocean, prince, wales\n",
      "africa: europe, india, america, south, kingdom, australia, united, asia, england, nine\n",
      "musician: actor, actress, singer, writer, author, nine, born, composer, poet, politician\n",
      "dance: music, modern, art, traditional, classical, concept, whole, study, early, addition\n",
      "\n",
      "\n"
     ]
    },
    {
     "name": "stderr",
     "output_type": "stream",
     "text": [
      "32580it [07:30, 72.27it/s]\n"
     ]
    }
   ],
   "source": [
    "for epoch in range(1, NUM_EPOCHS + 1):\n",
    "    epoch_start_time = time.time()\n",
    "    \n",
    "    train(train_dl, model, optimizer, epoch)\n",
    "    # We have a learning rate scheduler here.\n",
    "    # Basically, given the state of the optimizer, this lowers the learning rate in a smart way.\n",
    "    scheduler.step()"
   ]
  },
  {
   "cell_type": "code",
   "execution_count": null,
   "id": "b0227888",
   "metadata": {},
   "outputs": [],
   "source": []
  },
  {
   "cell_type": "markdown",
   "id": "7187dcf9",
   "metadata": {},
   "source": [
    "### Some diagnostics."
   ]
  },
  {
   "cell_type": "markdown",
   "id": "ae40d972",
   "metadata": {},
   "source": [
    "Sometimes you want to add diagnostics to your NN.\n",
    "- For each iteration, get the $L_2$ norm of the gradients* learning_rate and divide this by the parameters. This should be about -3 on the log scale, i.e. the ratio should be about 0.001. If the ratios are smaller, the learning rate might be too small, otherwise too large. Below we do this for the Skip-Gram model above.\n"
   ]
  },
  {
   "cell_type": "code",
   "execution_count": 43,
   "id": "f5d9d9e3",
   "metadata": {},
   "outputs": [
    {
     "data": {
      "text/plain": [
       "<matplotlib.legend.Legend at 0x2e4183f2c20>"
      ]
     },
     "execution_count": 43,
     "metadata": {},
     "output_type": "execute_result"
    },
    {
     "data": {
      "image/png": "[encoded data removed]",
      "text/plain": [
       "<Figure size 2000x400 with 1 Axes>"
      ]
     },
     "metadata": {},
     "output_type": "display_data"
    }
   ],
   "source": [
    "\n",
    "import matplotlib.pyplot as plt\n",
    "plt.figure(figsize=(20, 4))\n",
    "legends = []\n",
    "for i, (name, p) in enumerate(model.named_parameters()):\n",
    "    plt.plot([ratios[j][i] for j in range(len(ratios))])\n",
    "    legends.append('param {}'.format(name))\n",
    "plt.plot([0, len(ratios)], [-3, -3], 'r')\n",
    "plt.legend(legends)\n"
   ]
  },
  {
   "cell_type": "markdown",
   "id": "c013aadc",
   "metadata": {},
   "source": [
    "How do you make sure the learing rate is good? Look at the above plots and suppose we have $log(LR * ratio) = -5$. Then $LR * ratio = 10^{-5}$. Assuming the ratio does not vary much, this probably means we need to increase the learing rate $LR$. Similarly for a reverse direction."
   ]
  },
  {
   "cell_type": "code",
   "execution_count": null,
   "id": "c08e311d",
   "metadata": {},
   "outputs": [],
   "source": []
  }
 ],
 "metadata": {
  "kernelspec": {
   "display_name": "base",
   "language": "python",
   "name": "python3"
  },
  "language_info": {
   "codemirror_mode": {
    "name": "ipython",
    "version": 3
   },
   "file_extension": ".py",
   "mimetype": "text/x-python",
   "name": "python",
   "nbconvert_exporter": "python",
   "pygments_lexer": "ipython3",
   "version": "3.10.8"
  },
  "vscode": {
   "interpreter": {
    "hash": "e9f4c2e3c7edcc74941d763c22ae9bb8d5716b7961b59c0906229ce5f7f5dcfc"
   }
  }
 },
 "nbformat": 4,
 "nbformat_minor": 5
}
