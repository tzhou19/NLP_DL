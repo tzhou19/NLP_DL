{
 "cells": [
  {
   "cell_type": "code",
   "execution_count": 119,
   "id": "080d50fc",
   "metadata": {},
   "outputs": [],
   "source": [
    "import time\n",
    "import torch\n",
    "from torch.utils.data import DataLoader, TensorDataset\n",
    "from torchtext.data.utils import get_tokenizer\n",
    "from torchtext.datasets import DATASETS\n",
    "from torchtext.vocab import build_vocab_from_iterator\n",
    "import torch.nn as nn\n",
    "from tqdm import tqdm\n",
    "import pickle\n",
    "import random\n",
    "import numpy as np\n",
    "from collections import Counter, defaultdict\n",
    "import numpy as np\n",
    "import matplotlib.pyplot as plt\n",
    "from sklearn.decomposition import PCA\n",
    "from gensim.test.utils import datapath, get_tmpfile\n",
    "from gensim.models import KeyedVectors\n",
    "import gensim.downloader\n",
    "from torch import FloatTensor as FT\n",
    "\n",
    "# Get the interactive Tools for Matplotlib\n",
    "%matplotlib notebook\n",
    "%matplotlib inline\n",
    "\n",
    "plt.style.use('ggplot')"
   ]
  },
  {
   "cell_type": "code",
   "execution_count": 120,
   "id": "f5419c32",
   "metadata": {},
   "outputs": [
    {
     "data": {
      "text/plain": [
       "True"
      ]
     },
     "execution_count": 120,
     "metadata": {},
     "output_type": "execute_result"
    }
   ],
   "source": [
    "import torch\n",
    "torch.cuda.is_available()\n"
   ]
  },
  {
   "cell_type": "markdown",
   "id": "66eb271d",
   "metadata": {},
   "source": [
    "### Instructions\n",
    "For this part, fill in the required code and make the notebook work. This wll be very similar to the Skip-Gram model, but a little more difficult. Look for the \"\"\" FILL IN \"\"\" string to guide you."
   ]
  },
  {
   "cell_type": "code",
   "execution_count": 121,
   "id": "31b412ca",
   "metadata": {},
   "outputs": [],
   "source": [
    "# Where do I want to run my job. You can do \"cuda\" on linux machines.\n",
    "DEVICE = \"mps\" if torch.backends.mps.is_available() else  \"cpu\"\n",
    "# The batch size in Adam or SGD.\n",
    "BATCH_SIZE = 512\n",
    "# Number of epochs.\n",
    "NUM_EPOCHS = 10\n",
    "# Predict from 2 words the inner word for CBOW.\n",
    "# I.e. I'll have a window like [\"a\", \"b\", \"c\"] of continuous text (each is a word).\n",
    "# We'll predict each of wc = [\"a\", \"c\"] from \"b\" = wc for Skip-Gram.\n",
    "# For CBOW, we'll use [\"a\", \"c\"] to predict \"b\" = wo.\n",
    "WINDOW = 1\n",
    "\n",
    "# Negative samples.\n",
    "K = 4"
   ]
  },
  {
   "cell_type": "code",
   "execution_count": null,
   "id": "e3311ae5",
   "metadata": {},
   "outputs": [],
   "source": []
  },
  {
   "cell_type": "markdown",
   "id": "3ec9f90a",
   "metadata": {},
   "source": [
    "The text8 Wikipedia corpus. 100M characters."
   ]
  },
  {
   "cell_type": "code",
   "execution_count": 122,
   "id": "c32bf008",
   "metadata": {},
   "outputs": [
    {
     "name": "stderr",
     "output_type": "stream",
     "text": [
      "'du' is not recognized as an internal or external command,\n",
      "operable program or batch file.\n"
     ]
    }
   ],
   "source": [
    "!du -h text8"
   ]
  },
  {
   "cell_type": "code",
   "execution_count": 123,
   "id": "3217b67b",
   "metadata": {},
   "outputs": [
    {
     "name": "stdout",
     "output_type": "stream",
     "text": [
      "100000000\n"
     ]
    }
   ],
   "source": [
    "f = open('text8', 'r')\n",
    "text = f.read()\n",
    "# One big string of size 100M.\n",
    "print(len(text))"
   ]
  },
  {
   "cell_type": "code",
   "execution_count": 124,
   "id": "6c1bf892",
   "metadata": {},
   "outputs": [],
   "source": [
    "punc = '!\"#$%&()*+,-./:;<=>?@[\\\\]^_\\'{|}~\\t\\n'\n",
    "\n",
    "# Can do regular expressions here too.\n",
    "for c in punc:\n",
    "    if c in text:\n",
    "        text.replace(c, ' ')"
   ]
  },
  {
   "cell_type": "code",
   "execution_count": null,
   "id": "451bf3ab",
   "metadata": {},
   "outputs": [],
   "source": []
  },
  {
   "cell_type": "code",
   "execution_count": 125,
   "id": "0bc19b0c",
   "metadata": {},
   "outputs": [],
   "source": [
    "# A very crude tokenizer you get for free: lower case and also split on spaces.\n",
    "TOKENIZER = get_tokenizer(\"basic_english\")"
   ]
  },
  {
   "cell_type": "code",
   "execution_count": 126,
   "id": "ff8fd598",
   "metadata": {},
   "outputs": [],
   "source": [
    "words = TOKENIZER(text)\n",
    "f = Counter(words)"
   ]
  },
  {
   "cell_type": "code",
   "execution_count": 127,
   "id": "ba7f72f8",
   "metadata": {},
   "outputs": [
    {
     "data": {
      "text/plain": [
       "17005207"
      ]
     },
     "execution_count": 127,
     "metadata": {},
     "output_type": "execute_result"
    }
   ],
   "source": [
    "len(words)"
   ]
  },
  {
   "cell_type": "code",
   "execution_count": 128,
   "id": "16b736a4",
   "metadata": {},
   "outputs": [],
   "source": [
    "# Do a very crude filter on the text which removes all very popular words.\n",
    "text = [word for word in words if f[word] > 5]"
   ]
  },
  {
   "cell_type": "code",
   "execution_count": 129,
   "id": "6916a763",
   "metadata": {},
   "outputs": [
    {
     "data": {
      "text/plain": [
       "['anarchism', 'originated', 'as', 'a', 'term']"
      ]
     },
     "execution_count": 129,
     "metadata": {},
     "output_type": "execute_result"
    }
   ],
   "source": [
    "text[0:5]"
   ]
  },
  {
   "cell_type": "code",
   "execution_count": 130,
   "id": "10ad817a",
   "metadata": {},
   "outputs": [],
   "source": [
    "VOCAB = build_vocab_from_iterator([text])"
   ]
  },
  {
   "cell_type": "code",
   "execution_count": 131,
   "id": "a7f69fc9",
   "metadata": {},
   "outputs": [],
   "source": [
    "# word -> int hash map.\n",
    "stoi = VOCAB.get_stoi()\n",
    "# int -> word hash map.\n",
    "itos = VOCAB.get_itos() "
   ]
  },
  {
   "cell_type": "code",
   "execution_count": 132,
   "id": "9991f9ab",
   "metadata": {},
   "outputs": [
    {
     "data": {
      "text/plain": [
       "11"
      ]
     },
     "execution_count": 132,
     "metadata": {},
     "output_type": "execute_result"
    }
   ],
   "source": [
    "stoi['as']"
   ]
  },
  {
   "cell_type": "code",
   "execution_count": 133,
   "id": "0f49f5fa",
   "metadata": {},
   "outputs": [
    {
     "data": {
      "text/plain": [
       "63641"
      ]
     },
     "execution_count": 133,
     "metadata": {},
     "output_type": "execute_result"
    }
   ],
   "source": [
    "# Total number of words.\n",
    "len(stoi)"
   ]
  },
  {
   "cell_type": "code",
   "execution_count": 134,
   "id": "6c5c415a",
   "metadata": {},
   "outputs": [],
   "source": [
    "f = Counter(text)\n",
    "# This is the probability that we pick a word in the corpus.\n",
    "z = {word: f[word] / len(text) for word in f}"
   ]
  },
  {
   "cell_type": "code",
   "execution_count": 135,
   "id": "1e543e1e",
   "metadata": {},
   "outputs": [],
   "source": [
    "threshold = 1e-5\n",
    "# Probability that word is kept while subsampling.\n",
    "# This is explained here and sightly differet from the paper: http://mccormickml.com/2017/01/11/word2vec-tutorial-part-2-negative-sampling/\n",
    "p_keep = {word: (np.sqrt(z[word] / 0.001) + 1)*(0.0001 / z[word]) for word in f}"
   ]
  },
  {
   "cell_type": "code",
   "execution_count": 136,
   "id": "dd22119d",
   "metadata": {},
   "outputs": [],
   "source": [
    "# This is in the integer space.\n",
    "train_dataset = [word for word in text if random.random() < p_keep[word]]\n",
    "\n",
    "# Rebuild the vocabulary.\n",
    "VOCAB = build_vocab_from_iterator([train_dataset])"
   ]
  },
  {
   "cell_type": "code",
   "execution_count": 137,
   "id": "a2d695da",
   "metadata": {},
   "outputs": [
    {
     "data": {
      "text/plain": [
       "7845468"
      ]
     },
     "execution_count": 137,
     "metadata": {},
     "output_type": "execute_result"
    }
   ],
   "source": [
    "len(train_dataset)"
   ]
  },
  {
   "cell_type": "code",
   "execution_count": 138,
   "id": "30d67549",
   "metadata": {},
   "outputs": [],
   "source": [
    "# word -> int mapping.\n",
    "stoi = VOCAB.get_stoi()\n",
    "# int -> word mapping.\n",
    "itos = VOCAB.get_itos() "
   ]
  },
  {
   "cell_type": "code",
   "execution_count": 139,
   "id": "b46337b8",
   "metadata": {},
   "outputs": [
    {
     "data": {
      "text/plain": [
       "63641"
      ]
     },
     "execution_count": 139,
     "metadata": {},
     "output_type": "execute_result"
    }
   ],
   "source": [
    "# The vocabulary size after we do all the filters.\n",
    "len(VOCAB)"
   ]
  },
  {
   "cell_type": "code",
   "execution_count": 140,
   "id": "c9346f36",
   "metadata": {},
   "outputs": [],
   "source": [
    "# The probability we draw something for negative sampling.\n",
    "f = Counter(train_dataset)\n",
    "p = torch.zeros(len(VOCAB))\n",
    "\n",
    "# Downsample frequent words and upsample less frequent.\n",
    "s = sum([np.power(freq, 0.75) for word, freq in f.items()])        \n",
    "\n",
    "for word in f:\n",
    "    p[stoi[word]] = np.power(f[word], 0.75) / s"
   ]
  },
  {
   "cell_type": "code",
   "execution_count": 141,
   "id": "dd713c15",
   "metadata": {},
   "outputs": [],
   "source": [
    "# Map everything to integers.\n",
    "train_dataset = [stoi[word] for word in text]"
   ]
  },
  {
   "cell_type": "code",
   "execution_count": 142,
   "id": "8e96c0c4",
   "metadata": {},
   "outputs": [],
   "source": [
    "# This just gets the (wc, wo) pairs that are positive - they are seen together!\n",
    "def get_tokenized_dataset(dataset, verbose=False):\n",
    "    x_list = []\n",
    "        \n",
    "    for i, token in enumerate(dataset):\n",
    "        m = 1\n",
    "        \n",
    "        # Get the left and right tokens.\n",
    "        start = max(0,i-m)\n",
    "        left_tokens = dataset[start:i]\n",
    "        \n",
    "        end = min(i+m,len(dataset)-1)\n",
    "        right_tokens = dataset[i+1:end+1]\n",
    "        \n",
    "        # Check these are the same length, and if so use them to add a row of data. This should be a list like.\n",
    "        # [a, c, b] where b is the center word.\n",
    "        if len(left_tokens) == len(right_tokens):\n",
    "            w_context = left_tokens + right_tokens\n",
    "            \n",
    "            wc = token\n",
    "                        \n",
    "            x_list.extend(\n",
    "                [w_context + [wc]]\n",
    "            )\n",
    "            \n",
    "    return x_list"
   ]
  },
  {
   "cell_type": "code",
   "execution_count": 143,
   "id": "3eb82aad",
   "metadata": {},
   "outputs": [],
   "source": [
    "train_x_list = get_tokenized_dataset(train_dataset, verbose=False)"
   ]
  },
  {
   "cell_type": "code",
   "execution_count": 144,
   "id": "8412ee4d",
   "metadata": {},
   "outputs": [],
   "source": [
    "pickle.dump(train_x_list, open('train_x_list.pkl', 'wb'))"
   ]
  },
  {
   "cell_type": "code",
   "execution_count": 145,
   "id": "3fd54caf",
   "metadata": {},
   "outputs": [],
   "source": [
    "train_x_list = pickle.load(open('train_x_list.pkl', 'rb'))"
   ]
  },
  {
   "cell_type": "code",
   "execution_count": 146,
   "id": "576765f3",
   "metadata": {},
   "outputs": [
    {
     "data": {
      "text/plain": [
       "[[5233, 11, 3083],\n",
       " [3083, 5, 11],\n",
       " [11, 163, 5],\n",
       " [5, 1, 163],\n",
       " [163, 3133, 1],\n",
       " [1, 49, 3133],\n",
       " [3133, 60, 49],\n",
       " [49, 137, 60],\n",
       " [60, 128, 137],\n",
       " [137, 741, 128]]"
      ]
     },
     "execution_count": 146,
     "metadata": {},
     "output_type": "execute_result"
    }
   ],
   "source": [
    "# These are (wc, wo) pairs. All are y = +1 by design.\n",
    "train_x_list[:10]"
   ]
  },
  {
   "cell_type": "code",
   "execution_count": 147,
   "id": "f3644378",
   "metadata": {},
   "outputs": [
    {
     "data": {
      "text/plain": [
       "32579"
      ]
     },
     "execution_count": 147,
     "metadata": {},
     "output_type": "execute_result"
    }
   ],
   "source": [
    "len(train_x_list)// BATCH_SIZE"
   ]
  },
  {
   "cell_type": "code",
   "execution_count": 148,
   "id": "316df1dc",
   "metadata": {},
   "outputs": [],
   "source": [
    "# The number of things of BATCH_SIZE = 512.\n",
    "assert(len(train_x_list) // BATCH_SIZE == 32579)"
   ]
  },
  {
   "cell_type": "code",
   "execution_count": null,
   "id": "8012d03d",
   "metadata": {},
   "outputs": [],
   "source": []
  },
  {
   "cell_type": "markdown",
   "id": "488c3519",
   "metadata": {},
   "source": [
    "### Set up the dataloader."
   ]
  },
  {
   "cell_type": "code",
   "execution_count": 149,
   "id": "2e31ae4b",
   "metadata": {},
   "outputs": [],
   "source": [
    "train_dl = DataLoader(\n",
    "    TensorDataset(\n",
    "        torch.tensor(train_x_list).to(DEVICE),\n",
    "    ),\n",
    "    batch_size=BATCH_SIZE,\n",
    "    shuffle=True\n",
    ")"
   ]
  },
  {
   "cell_type": "code",
   "execution_count": 150,
   "id": "e9c42f50",
   "metadata": {},
   "outputs": [],
   "source": [
    "for xb in train_dl:\n",
    "    assert(xb[0].shape == (BATCH_SIZE, 3))\n",
    "    break"
   ]
  },
  {
   "cell_type": "code",
   "execution_count": null,
   "id": "8c949153",
   "metadata": {},
   "outputs": [],
   "source": []
  },
  {
   "cell_type": "markdown",
   "id": "12d93d22",
   "metadata": {},
   "source": [
    "### Words we'll use to asses the quality of the model ..."
   ]
  },
  {
   "cell_type": "code",
   "execution_count": 151,
   "id": "ffada8d0",
   "metadata": {},
   "outputs": [],
   "source": [
    "valid_ids = torch.tensor([\n",
    "    stoi['money'],\n",
    "    stoi['lion'],\n",
    "    stoi['africa'],\n",
    "    stoi['musician'],\n",
    "    stoi['dance'],\n",
    "])"
   ]
  },
  {
   "cell_type": "code",
   "execution_count": null,
   "id": "59d1c98c",
   "metadata": {},
   "outputs": [],
   "source": []
  },
  {
   "cell_type": "markdown",
   "id": "64096cd8",
   "metadata": {},
   "source": [
    "### Get the model."
   ]
  },
  {
   "cell_type": "code",
   "execution_count": 152,
   "id": "dc51c359",
   "metadata": {},
   "outputs": [],
   "source": [
    "class CBOWNegativeSampling(nn.Module):\n",
    "    def __init__(self, vocab_size, embed_dim):\n",
    "        super(CBOWNegativeSampling, self).__init__()\n",
    "        self.A = nn.Embedding(vocab_size, embed_dim) # Context vectors - center word.\n",
    "        self.B = nn.Embedding(vocab_size, embed_dim) # Output vectors - words around the center word.\n",
    "        self.init_weights()\n",
    "\n",
    "    def init_weights(self):\n",
    "        # Is this the best way? Not sure.\n",
    "        initrange = 0.5\n",
    "        self.A.weight.data.uniform_(-initrange, initrange)\n",
    "        self.B.weight.data.uniform_(-initrange, initrange)\n",
    "\n",
    "    def forward(self, x):\n",
    "        # N is the batch size.\n",
    "        # x is (N, 3)\n",
    "        \n",
    "        # Context words are 2m things, m = 1 so w_context is (N, 2) while wc is (N, 1)\n",
    "        w_context, wc = x[:,0:2], x[:,2]\n",
    "                \n",
    "        # Each of these is (N, 2, D) since each context has 2 word.\n",
    "        # We want this to be (N, D) and this is what we get.\n",
    "        \n",
    "        # (N, 2, D)\n",
    "        a = self.A(w_context)\n",
    "        \n",
    "        # (N, D)\n",
    "        a_avg = torch.mean(a, dim=1)\n",
    "        \n",
    "        # Each of these is (N, D) since each target has 1 word.\n",
    "        b = self.B(wc)\n",
    "      \n",
    "        # The product between each context and target vector. Look at the Skip-Gram code.\n",
    "        # The logits is now (N, 1) since we sum across the final dimension.\n",
    "        logits = torch.sum(a_avg*b, dim=1).to(DEVICE)\n",
    "                \n",
    "        return logits"
   ]
  },
  {
   "cell_type": "code",
   "execution_count": null,
   "id": "7ae817c1",
   "metadata": {},
   "outputs": [],
   "source": []
  },
  {
   "cell_type": "code",
   "execution_count": 153,
   "id": "ed9c509d",
   "metadata": {},
   "outputs": [],
   "source": [
    "@torch.no_grad()\n",
    "def validate_embeddings(\n",
    "    model,\n",
    "    valid_ids,\n",
    "    itos\n",
    "):\n",
    "    \"\"\" Validation logic \"\"\"\n",
    "\n",
    "    # We will use context embeddings to get the most similar words\n",
    "    # Other strategies include: using target embeddings, mean embeddings after avaraging context/target\n",
    "    embedding_weights = model.A.weight\n",
    "        \n",
    "    normalized_embeddings = embedding_weights.cpu() / np.sqrt(\n",
    "        np.sum(embedding_weights.cpu().numpy()**2, axis=1, keepdims=True)\n",
    "    )\n",
    "\n",
    "    # Get the embeddings corresponding to valid_term_ids\n",
    "    valid_embeddings = normalized_embeddings[valid_ids, :]\n",
    "\n",
    "    # Compute the similarity between valid_term_ids (S) and all the embeddings (V).\n",
    "    # We do S x d (d x V) => S x D and sort by negative similarity.\n",
    "    top_k = 10 # Top k items will be displayed.\n",
    "    similarity = np.dot(valid_embeddings.cpu().numpy(), normalized_embeddings.cpu().numpy().T)\n",
    "\n",
    "    # Invert similarity matrix to negative\n",
    "    # Ignore the first one because that would be the same word as the probe word\n",
    "    similarity_top_k = np.argsort(-similarity, axis=1)[:, 1: top_k+1]\n",
    "\n",
    "    # Print the output.\n",
    "    for i, word_id in enumerate(valid_ids):\n",
    "        # j >= 1 here since we don't want to include the word itself.\n",
    "        similar_word_str = ', '.join([itos[j] for j in similarity_top_k[i, :] if j >= 1])\n",
    "        print(f\"{itos[word_id]}: {similar_word_str}\")\n",
    "\n",
    "    print('\\n')"
   ]
  },
  {
   "cell_type": "code",
   "execution_count": null,
   "id": "b0c194b8",
   "metadata": {},
   "outputs": [],
   "source": []
  },
  {
   "cell_type": "markdown",
   "id": "3b3c6ed5",
   "metadata": {},
   "source": [
    "### Set up the model"
   ]
  },
  {
   "cell_type": "code",
   "execution_count": 154,
   "id": "16da95d1",
   "metadata": {},
   "outputs": [],
   "source": [
    "LR = 10.0\n",
    "NUM_EPOCHS = 10\n",
    "EMBED_DIM = 300"
   ]
  },
  {
   "cell_type": "code",
   "execution_count": 155,
   "id": "cef585f4",
   "metadata": {},
   "outputs": [],
   "source": [
    "model = CBOWNegativeSampling(len(VOCAB), EMBED_DIM).to(DEVICE)\n",
    "optimizer = torch.optim.SGD(model.parameters(), lr=LR)\n",
    "# The learning rate is lowered every epoch by 1/10.\n",
    "# Is this a good idea?\n",
    "scheduler = torch.optim.lr_scheduler.StepLR(optimizer, 1, gamma=0.1)"
   ]
  },
  {
   "cell_type": "code",
   "execution_count": 156,
   "id": "f8a642bf",
   "metadata": {},
   "outputs": [
    {
     "data": {
      "text/plain": [
       "CBOWNegativeSampling(\n",
       "  (A): Embedding(63641, 300)\n",
       "  (B): Embedding(63641, 300)\n",
       ")"
      ]
     },
     "execution_count": 156,
     "metadata": {},
     "output_type": "execute_result"
    }
   ],
   "source": [
    "model"
   ]
  },
  {
   "cell_type": "code",
   "execution_count": 157,
   "id": "85773616",
   "metadata": {},
   "outputs": [
    {
     "name": "stdout",
     "output_type": "stream",
     "text": [
      "money: thunderstorm, permutation, aileen, additionally, enthroned, usenet, ferrell, inverses, cryogenically, lfo\n",
      "lion: hallucinogenic, clonaid, bouvier, thorton, disparaged, teixeira, complying, inputs, nagy, cremation\n",
      "africa: moguls, foreknowledge, lamented, caria, lauren, greenhouse, marcionism, verbs, corrected, philanthropist\n",
      "musician: detour, subsumed, jah, thebes, busing, crs, vigorous, doll, grisham, unaccented\n",
      "dance: denys, azaria, rutland, retainer, widow, chronically, sapphires, flathead, duchenne, aaronic\n",
      "\n",
      "\n"
     ]
    }
   ],
   "source": [
    "validate_embeddings(model, valid_ids, itos)"
   ]
  },
  {
   "cell_type": "code",
   "execution_count": null,
   "id": "66075f5e",
   "metadata": {},
   "outputs": [],
   "source": []
  },
  {
   "cell_type": "markdown",
   "id": "86476e2a",
   "metadata": {},
   "source": [
    "### Train the model"
   ]
  },
  {
   "cell_type": "code",
   "execution_count": 158,
   "id": "24950481",
   "metadata": {},
   "outputs": [],
   "source": [
    "ratios = []\n",
    "\n",
    "def train(dataloader, model, optimizer, epoch):\n",
    "    model.train()\n",
    "    total_acc, total_count, total_loss, total_batches = 0, 0, 0.0, 0.0\n",
    "    log_interval = 500\n",
    "    \n",
    "    for idx, x_batch in tqdm(enumerate(dataloader)):\n",
    "        \n",
    "        x_batch = x_batch[0]\n",
    "                \n",
    "        batch_size = x_batch.shape[0]\n",
    "        \n",
    "        # Zero the gradient so they don't accumulate.\n",
    "        optimizer.zero_grad()\n",
    "        \n",
    "        logits = model(x_batch)\n",
    "                        \n",
    "        # Get the positive samples loss. Notice we use weights here.\n",
    "        positive_loss = torch.nn.BCEWithLogitsLoss()(input=logits, target=torch.ones(batch_size).to(DEVICE).float())\n",
    "        \n",
    "        # For each batch, get some negative samples.\n",
    "        # We need a total of len(y_batch) * 2* WINDOW * K samples across a batch.\n",
    "        # We then reshape this batch.\n",
    "        # These are effectively the output words.\n",
    "        \n",
    "        negative_samples = torch.multinomial(p, batch_size * K, replacement=True)\n",
    "        # print(\"negative_samples\", negative_samples.size())\n",
    "\n",
    "        # Context words are 2m things, m = 1 so w_context is (N, 2) while wc is (N, 1)\n",
    "        w_context, wc = x_batch[:,0:2].to('cpu'), negative_samples \n",
    "        # print(\"w_context\", w_context.size())\n",
    "        # print(\"wc\", wc.size())\n",
    "\n",
    "        \"\"\"\n",
    "        if w_context looks like below (batch_size = 3)\n",
    "        [\n",
    "        (a, b),\n",
    "        (c, d),\n",
    "        (e, f)\n",
    "        ] and K = 2 we'd like to get:\n",
    "        \n",
    "        [\n",
    "        (a, b),\n",
    "        (a, b),\n",
    "        (c, d), \n",
    "        (c, d),\n",
    "        (e, f),\n",
    "        (e, f)\n",
    "        ]\n",
    "        \n",
    "        This will be batch_size * K rows.\n",
    "        \"\"\"\n",
    "        \n",
    "        # This should be (N * K, 2)\n",
    "        w_context = torch.concat([\n",
    "            w.repeat(K, 1) for w in torch.tensor(w_context).split(1)\n",
    "        ])\n",
    "        \n",
    "        # Remove the last dimension 1.\n",
    "        \n",
    "        wc = wc.view(wc.size()[0],1)\n",
    "        # print(\"w_context\", w_context.size())\n",
    "        # print(\"wc\", wc.size())\n",
    "\n",
    "        # Get the negative samples. This should be (N * K, 3).\n",
    "        # Concatenate the w_context and wc along the column. Make sure everything is on CUDA / MPS or CPU.\n",
    "        x_batch_negative = torch.cat([w_context, wc], axis = 1).to(DEVICE)\n",
    "                \n",
    "        \"\"\"\n",
    "        Note the way we formulated the targets: they are all 0 since these are negative samples.\n",
    "        We do the BCEWithLogitsLoss by hand basically here.\n",
    "        Notice we sum across the negative samples, per positive word.\n",
    "        \n",
    "        This is literally the equation in the lecture notes.\n",
    "        \"\"\"\n",
    "        \n",
    "        # (N, K, D) -> (N, D) -> (N)\n",
    "        # Look at the Skip-Gram notebook.\n",
    "        negative_loss = model(x_batch_negative).neg().sigmoid().log().reshape(\n",
    "            batch_size, K\n",
    "        ).sum(1).mean().neg().to(DEVICE)\n",
    "        \n",
    "        loss = (positive_loss + negative_loss).mean()\n",
    "                \n",
    "        # Get the gradients via back propagation. \n",
    "        loss.backward()\n",
    "                        \n",
    "        # Clip the gradients? Generally a good idea.\n",
    "        torch.nn.utils.clip_grad_norm_(model.parameters(), 0.1)\n",
    "        \n",
    "        # Used for optimization. This should be roughly 0.001, on average.\n",
    "        # You can use this to see if your learning rate is right - you can also plot the loss performance.\n",
    "        with torch.no_grad():\n",
    "            r = [\n",
    "                (LR * p.grad.std() / p.data.std()).log10().item() for _, p in model.named_parameters()\n",
    "            ]\n",
    "            ratios.append(r)  \n",
    "        \n",
    "        # Do an optimization step. Update the parameters A and B.\n",
    "        optimizer.step()\n",
    "        # Get the new loss.\n",
    "        total_loss += loss.item()\n",
    "        # Update the batch count.\n",
    "        total_batches += 1\n",
    "                \n",
    "        if idx % log_interval == 0:\n",
    "            print(\n",
    "                \"| epoch {:3d} | {:5d}/{:5d} batches \"\n",
    "                \"| loss {:8.3f} \".format(\n",
    "                    epoch,\n",
    "                    idx,\n",
    "                    len(dataloader),\n",
    "                    total_loss / total_batches\n",
    "                )\n",
    "            )\n",
    "            validate_embeddings(model, valid_ids, itos)\n",
    "            total_loss, total_batches = 0.0, 0.0"
   ]
  },
  {
   "cell_type": "code",
   "execution_count": null,
   "id": "987182aa",
   "metadata": {},
   "outputs": [],
   "source": []
  },
  {
   "cell_type": "markdown",
   "id": "0764d675",
   "metadata": {},
   "source": [
    "### Some results from the run look like below:\n",
    "\n",
    "Somewhere inside of 2 iterations you should get sensible associattions.\n",
    "Paste here a screenshot of the closest vectors."
   ]
  },
  {
   "cell_type": "code",
   "execution_count": 159,
   "id": "a9e02c09",
   "metadata": {},
   "outputs": [
    {
     "name": "stderr",
     "output_type": "stream",
     "text": [
      "0it [00:00, ?it/s]C:\\Users\\Alex\\AppData\\Local\\Temp\\ipykernel_16884\\973106114.py:57: UserWarning: To copy construct from a tensor, it is recommended to use sourceTensor.clone().detach() or sourceTensor.clone().detach().requires_grad_(True), rather than torch.tensor(sourceTensor).\n",
      "  w.repeat(K, 1) for w in torch.tensor(w_context).split(1)\n",
      "1it [00:00,  1.12it/s]"
     ]
    },
    {
     "name": "stdout",
     "output_type": "stream",
     "text": [
      "| epoch   1 |     0/32580 batches | loss    4.059 \n",
      "money: thunderstorm, permutation, aileen, additionally, enthroned, usenet, ferrell, inverses, cryogenically, lfo\n",
      "lion: hallucinogenic, clonaid, bouvier, thorton, disparaged, teixeira, complying, inputs, nagy, cremation\n",
      "africa: moguls, foreknowledge, lamented, caria, lauren, greenhouse, marcionism, verbs, corrected, philanthropist\n",
      "musician: detour, subsumed, jah, thebes, busing, crs, vigorous, doll, grisham, unaccented\n",
      "dance: denys, azaria, rutland, retainer, widow, chronically, sapphires, flathead, duchenne, aaronic\n",
      "\n",
      "\n"
     ]
    },
    {
     "name": "stderr",
     "output_type": "stream",
     "text": [
      "501it [01:16,  5.79it/s]"
     ]
    },
    {
     "name": "stdout",
     "output_type": "stream",
     "text": [
      "| epoch   1 |   500/32580 batches | loss    3.713 \n",
      "money: thunderstorm, permutation, aileen, additionally, enthroned, ferrell, usenet, cryogenically, vallabhbhai, lfo\n",
      "lion: hallucinogenic, clonaid, bouvier, thorton, disparaged, teixeira, complying, nagy, cremation, inputs\n",
      "africa: moguls, foreknowledge, caria, lamented, greenhouse, lauren, verbs, marcionism, corrected, philanthropist\n",
      "musician: detour, subsumed, thebes, jah, busing, crs, vigorous, grisham, doll, unaccented\n",
      "dance: denys, azaria, widow, rutland, retainer, chronically, sapphires, flathead, aaronic, duchenne\n",
      "\n",
      "\n"
     ]
    },
    {
     "name": "stderr",
     "output_type": "stream",
     "text": [
      "1001it [02:31,  5.83it/s]"
     ]
    },
    {
     "name": "stdout",
     "output_type": "stream",
     "text": [
      "| epoch   1 |  1000/32580 batches | loss    3.354 \n",
      "money: thunderstorm, aileen, permutation, additionally, enthroned, ferrell, cryogenically, usenet, vallabhbhai, lfo\n",
      "lion: hallucinogenic, clonaid, bouvier, thorton, disparaged, teixeira, complying, nagy, cremation, fim\n",
      "africa: foreknowledge, moguls, lauren, greenhouse, caria, verbs, lamented, resign, corrected, marcionism\n",
      "musician: detour, subsumed, jah, thebes, busing, crs, vigorous, doll, grisham, lumley\n",
      "dance: denys, widow, azaria, chronically, rutland, retainer, sapphires, flathead, aaronic, duchenne\n",
      "\n",
      "\n"
     ]
    },
    {
     "name": "stderr",
     "output_type": "stream",
     "text": [
      "1501it [03:45,  6.03it/s]"
     ]
    },
    {
     "name": "stdout",
     "output_type": "stream",
     "text": [
      "| epoch   1 |  1500/32580 batches | loss    3.025 \n",
      "money: thunderstorm, aileen, additionally, permutation, enthroned, ferrell, vallabhbhai, cryogenically, usenet, freighter\n",
      "lion: hallucinogenic, clonaid, bouvier, thorton, disparaged, teixeira, complying, nagy, solf, fim\n",
      "africa: foreknowledge, moguls, lauren, greenhouse, verbs, lamented, syndicate, caria, corrected, sweetened\n",
      "musician: detour, subsumed, thebes, jah, busing, crs, vigorous, lumley, which, grisham\n",
      "dance: denys, azaria, widow, chronically, retainer, rutland, flathead, sapphires, duchenne, aaronic\n",
      "\n",
      "\n"
     ]
    },
    {
     "name": "stderr",
     "output_type": "stream",
     "text": [
      "2001it [04:59,  5.83it/s]"
     ]
    },
    {
     "name": "stdout",
     "output_type": "stream",
     "text": [
      "| epoch   1 |  2000/32580 batches | loss    2.791 \n",
      "money: thunderstorm, additionally, aileen, permutation, ferrell, vallabhbhai, freighter, enthroned, usenet, cryogenically\n",
      "lion: hallucinogenic, clonaid, bouvier, teixeira, thorton, disparaged, complying, solf, nagy, fim\n",
      "africa: foreknowledge, greenhouse, verbs, lauren, moguls, lamented, syndicate, pc, resign, caria\n",
      "musician: detour, subsumed, there, which, thebes, jah, in, busing, crs, b\n",
      "dance: denys, widow, chronically, azaria, retainer, rutland, flathead, russa, sapphires, duchenne\n",
      "\n",
      "\n"
     ]
    },
    {
     "name": "stderr",
     "output_type": "stream",
     "text": [
      "2502it [06:14,  6.35it/s]"
     ]
    },
    {
     "name": "stdout",
     "output_type": "stream",
     "text": [
      "| epoch   1 |  2500/32580 batches | loss    2.622 \n",
      "money: thunderstorm, additionally, aileen, permutation, ferrell, vallabhbhai, freighter, cryogenically, lfo, artie\n",
      "lion: hallucinogenic, clonaid, bouvier, teixeira, disparaged, complying, thorton, solf, fim, nagy\n",
      "africa: foreknowledge, verbs, greenhouse, moguls, lauren, pc, ouguiya, lamented, syndicate, scrupulously\n",
      "musician: there, detour, which, subsumed, b, thebes, jah, that, used, his\n",
      "dance: denys, widow, chronically, azaria, retainer, rutland, flathead, russa, duchenne, aaronic\n",
      "\n",
      "\n"
     ]
    },
    {
     "name": "stderr",
     "output_type": "stream",
     "text": [
      "3002it [07:26,  6.29it/s]"
     ]
    },
    {
     "name": "stdout",
     "output_type": "stream",
     "text": [
      "| epoch   1 |  3000/32580 batches | loss    2.488 \n",
      "money: additionally, thunderstorm, aileen, permutation, ferrell, vallabhbhai, freighter, states, lfo, artie\n",
      "lion: hallucinogenic, clonaid, bouvier, teixeira, complying, solf, disparaged, thorton, fim, nagy\n",
      "africa: foreknowledge, verbs, greenhouse, lauren, pc, last, ouguiya, moguls, syndicate, than\n",
      "musician: there, detour, which, b, used, called, his, most, subsumed, thebes\n",
      "dance: denys, widow, chronically, azaria, retainer, flathead, aaronic, rutland, duchenne, sapphires\n",
      "\n",
      "\n"
     ]
    },
    {
     "name": "stderr",
     "output_type": "stream",
     "text": [
      "3501it [08:44,  5.58it/s]"
     ]
    },
    {
     "name": "stdout",
     "output_type": "stream",
     "text": [
      "| epoch   1 |  3500/32580 batches | loss    2.382 \n",
      "money: additionally, states, thunderstorm, permutation, ferrell, aileen, vallabhbhai, freighter, may, if\n",
      "lion: hallucinogenic, clonaid, bouvier, teixeira, solf, disparaged, complying, thorton, ren, wto\n",
      "africa: foreknowledge, than, verbs, greenhouse, last, second, lauren, pc, used\n",
      "musician: there, b, called, detour, used, most, which, use, same, it\n",
      "dance: denys, chronically, widow, azaria, retainer, duchenne, aaronic, flathead, rutland, russa\n",
      "\n",
      "\n"
     ]
    },
    {
     "name": "stderr",
     "output_type": "stream",
     "text": [
      "4001it [10:01,  5.89it/s]"
     ]
    },
    {
     "name": "stdout",
     "output_type": "stream",
     "text": [
      "| epoch   1 |  4000/32580 batches | loss    2.289 \n",
      "money: states, additionally, may, if, all, and, thunderstorm, but, ferrell, permutation\n",
      "lion: hallucinogenic, clonaid, bouvier, teixeira, complying, disparaged, solf, thorton, fim, sanfl\n",
      "africa: than, three, used, two, nine, some, last, it, second\n",
      "musician: b, there, called, most, used, use, which, same, many, detour\n",
      "dance: denys, chronically, widow, azaria, retainer, flathead, duchenne, aaronic, rutland, russa\n",
      "\n",
      "\n"
     ]
    },
    {
     "name": "stderr",
     "output_type": "stream",
     "text": [
      "4501it [11:18,  5.61it/s]"
     ]
    },
    {
     "name": "stdout",
     "output_type": "stream",
     "text": [
      "| epoch   1 |  4500/32580 batches | loss    2.217 \n",
      "money: states, may, if, additionally, as, or, all, city, but, called\n",
      "lion: hallucinogenic, clonaid, bouvier, teixeira, complying, disparaged, solf, thorton, fim, wings\n",
      "africa: than, nine, three, used, two, eight, many, five, some\n",
      "musician: there, b, called, use, used, most, same, often, which, his\n",
      "dance: denys, chronically, widow, azaria, retainer, flathead, an, duchenne, aaronic, rutland\n",
      "\n",
      "\n"
     ]
    },
    {
     "name": "stderr",
     "output_type": "stream",
     "text": [
      "5001it [12:37,  5.55it/s]"
     ]
    },
    {
     "name": "stdout",
     "output_type": "stream",
     "text": [
      "| epoch   1 |  5000/32580 batches | loss    2.158 \n",
      "money: states, but, all, called, if, may, as, both, or, city\n",
      "lion: hallucinogenic, clonaid, bouvier, teixeira, solf, complying, disparaged, thorton, fim, wto\n",
      "africa: nine, two, than, used, eight, zero, five, seven, three\n",
      "musician: b, there, called, use, most, used, same, often, which, one\n",
      "dance: denys, chronically, widow, azaria, an, retainer, duchenne, flathead, aaronic, counties\n",
      "\n",
      "\n"
     ]
    },
    {
     "name": "stderr",
     "output_type": "stream",
     "text": [
      "5501it [13:57,  5.67it/s]"
     ]
    },
    {
     "name": "stdout",
     "output_type": "stream",
     "text": [
      "| epoch   1 |  5500/32580 batches | loss    2.107 \n",
      "money: states, but, called, all, or, which, if, name, both, used\n",
      "lion: hallucinogenic, clonaid, bouvier, teixeira, solf, complying, disparaged, thorton, fim, wto\n",
      "africa: seven, nine, used, two, five, than, eight, four, zero, all\n",
      "musician: b, there, called, use, same, most, used, often, which, see\n",
      "dance: denys, an, chronically, widow, azaria, retainer, article, duchenne, being, counties\n",
      "\n",
      "\n"
     ]
    },
    {
     "name": "stderr",
     "output_type": "stream",
     "text": [
      "6001it [15:14,  5.72it/s]"
     ]
    },
    {
     "name": "stdout",
     "output_type": "stream",
     "text": [
      "| epoch   1 |  6000/32580 batches | loss    2.058 \n",
      "money: but, states, city, called, all, both, which, name, if, used\n",
      "lion: hallucinogenic, clonaid, bouvier, teixeira, solf, complying, disparaged, thorton, fim, wings\n",
      "africa: nine, seven, used, eight, five, four, than, six, one, two\n",
      "musician: b, called, use, used, most, same, there, often, which, see\n",
      "dance: an, denys, widow, chronically, article, azaria, retainer, being, duchenne, marriage\n",
      "\n",
      "\n"
     ]
    },
    {
     "name": "stderr",
     "output_type": "stream",
     "text": [
      "6501it [16:34,  5.49it/s]"
     ]
    },
    {
     "name": "stdout",
     "output_type": "stream",
     "text": [
      "| epoch   1 |  6500/32580 batches | loss    2.016 \n",
      "money: but, states, called, both, city, used, name, if, all, which\n",
      "lion: hallucinogenic, clonaid, bouvier, teixeira, solf, complying, disparaged, wings, wto, fim\n",
      "africa: seven, nine, used, eight, five, city, four, six, than\n",
      "musician: b, called, use, used, there, same, most, often, film, see\n",
      "dance: an, article, widow, denys, being, chronically, azaria, marriage, years, counties\n",
      "\n",
      "\n"
     ]
    },
    {
     "name": "stderr",
     "output_type": "stream",
     "text": [
      "7002it [17:55,  6.21it/s]"
     ]
    },
    {
     "name": "stdout",
     "output_type": "stream",
     "text": [
      "| epoch   1 |  7000/32580 batches | loss    1.976 \n",
      "money: but, both, states, called, used, all, if, city, name, up\n",
      "lion: hallucinogenic, clonaid, bouvier, teixeira, solf, complying, disparaged, wings, wto, ren\n",
      "africa: nine, eight, seven, used, five, city, than, three, six\n",
      "musician: b, called, use, used, same, most, there, film, often, do\n",
      "dance: an, article, being, widow, denys, years, chronically, marriage, actor, azaria\n",
      "\n",
      "\n"
     ]
    },
    {
     "name": "stderr",
     "output_type": "stream",
     "text": [
      "7501it [19:14,  5.43it/s]"
     ]
    },
    {
     "name": "stdout",
     "output_type": "stream",
     "text": [
      "| epoch   1 |  7500/32580 batches | loss    1.948 \n",
      "money: both, states, but, called, used, if, all, there, city, known\n",
      "lion: clonaid, hallucinogenic, teixeira, bouvier, complying, solf, wings, disparaged, ren, fim\n",
      "africa: nine, eight, seven, used, city, five, three, zero, four\n",
      "musician: called, b, used, use, same, there, film, most, see, do\n",
      "dance: an, article, being, widow, years, actor, over, marriage, now, interest\n",
      "\n",
      "\n"
     ]
    },
    {
     "name": "stderr",
     "output_type": "stream",
     "text": [
      "8002it [20:34,  5.90it/s]"
     ]
    },
    {
     "name": "stdout",
     "output_type": "stream",
     "text": [
      "| epoch   1 |  8000/32580 batches | loss    1.915 \n",
      "money: both, used, called, states, all, there, but, if, known, city\n",
      "lion: hallucinogenic, clonaid, teixeira, bouvier, complying, solf, wings, ren, disparaged, fim\n",
      "africa: nine, eight, seven, five, used, city, four, six, zero\n",
      "musician: called, b, used, use, film, same, there, most, form, do\n",
      "dance: an, article, being, years, actor, over, widow, country, considered, marriage\n",
      "\n",
      "\n"
     ]
    },
    {
     "name": "stderr",
     "output_type": "stream",
     "text": [
      "8501it [21:53,  5.61it/s]"
     ]
    },
    {
     "name": "stdout",
     "output_type": "stream",
     "text": [
      "| epoch   1 |  8500/32580 batches | loss    1.879 \n",
      "money: both, used, but, states, called, known, if, name, there, all\n",
      "lion: hallucinogenic, clonaid, teixeira, bouvier, complying, solf, ren, wings, disparaged, wto\n",
      "africa: nine, eight, city, seven, used, five, six, government, part, zero\n",
      "musician: called, b, use, used, film, same, form, there, do, united\n",
      "dance: an, article, being, actor, country, interest, years, based, called, considered\n",
      "\n",
      "\n"
     ]
    },
    {
     "name": "stderr",
     "output_type": "stream",
     "text": [
      "9001it [23:10,  6.02it/s]"
     ]
    },
    {
     "name": "stdout",
     "output_type": "stream",
     "text": [
      "| epoch   1 |  9000/32580 batches | loss    1.858 \n",
      "money: used, both, states, but, name, known, if, called, city, there\n",
      "lion: hallucinogenic, clonaid, teixeira, bouvier, complying, solf, ren, wings, disparaged, fim\n",
      "africa: city, nine, eight, five, used, seven, part, six, government, zero\n",
      "musician: called, b, use, used, film, same, form, united, there, made\n",
      "dance: an, article, actor, being, country, based, considered, god, interest, years\n",
      "\n",
      "\n"
     ]
    },
    {
     "name": "stderr",
     "output_type": "stream",
     "text": [
      "9502it [24:24,  6.27it/s]"
     ]
    },
    {
     "name": "stdout",
     "output_type": "stream",
     "text": [
      "| epoch   1 |  9500/32580 batches | loss    1.836 \n",
      "money: used, both, but, if, name, states, known, called, up, city\n",
      "lion: clonaid, hallucinogenic, teixeira, bouvier, solf, ren, complying, wings, effects, disparaged\n",
      "africa: nine, city, eight, seven, five, used, six, part, government, zero\n",
      "musician: called, b, use, used, film, same, form, united, do, made\n",
      "dance: an, article, country, actor, being, god, considered, example, years, play\n",
      "\n",
      "\n"
     ]
    },
    {
     "name": "stderr",
     "output_type": "stream",
     "text": [
      "10002it [25:38,  6.39it/s]"
     ]
    },
    {
     "name": "stdout",
     "output_type": "stream",
     "text": [
      "| epoch   1 | 10000/32580 batches | loss    1.814 \n",
      "money: used, both, if, but, states, called, name, city, known, them\n",
      "lion: clonaid, hallucinogenic, teixeira, bouvier, effects, ren, solf, complying, wings, disparaged\n",
      "africa: nine, city, eight, seven, part, five, used, six, government, zero\n",
      "musician: called, b, use, film, used, form, same, united, made, known\n",
      "dance: an, article, country, example, actor, play, interest, based, considered, god\n",
      "\n",
      "\n"
     ]
    },
    {
     "name": "stderr",
     "output_type": "stream",
     "text": [
      "10501it [26:49,  6.13it/s]"
     ]
    },
    {
     "name": "stdout",
     "output_type": "stream",
     "text": [
      "| epoch   1 | 10500/32580 batches | loss    1.794 \n",
      "money: used, both, but, if, called, states, city, made, known, them\n",
      "lion: clonaid, hallucinogenic, teixeira, effects, bouvier, ren, wings, solf, complying, disparaged\n",
      "africa: nine, city, eight, seven, five, part, six, used, zero, god\n",
      "musician: use, called, b, film, used, form, united, made, do, same\n",
      "dance: an, country, article, example, actor, based, play, interest, considered, development\n",
      "\n",
      "\n"
     ]
    },
    {
     "name": "stderr",
     "output_type": "stream",
     "text": [
      "11002it [28:02,  6.25it/s]"
     ]
    },
    {
     "name": "stdout",
     "output_type": "stream",
     "text": [
      "| epoch   1 | 11000/32580 batches | loss    1.775 \n",
      "money: used, but, made, both, called, name, known, if, states, them\n",
      "lion: clonaid, hallucinogenic, effects, teixeira, wings, bouvier, ren, solf, complying, disparaged\n",
      "africa: nine, city, seven, eight, five, part, used, six, zero, god\n",
      "musician: use, called, b, film, used, form, united, made, do, history\n",
      "dance: an, country, example, actor, play, article, interest, considered, based, god\n",
      "\n",
      "\n"
     ]
    },
    {
     "name": "stderr",
     "output_type": "stream",
     "text": [
      "11502it [29:15,  6.32it/s]"
     ]
    },
    {
     "name": "stdout",
     "output_type": "stream",
     "text": [
      "| epoch   1 | 11500/32580 batches | loss    1.758 \n",
      "money: used, known, made, both, called, but, name, states, them, up\n",
      "lion: clonaid, hallucinogenic, effects, teixeira, wings, ren, bouvier, solf, disparaged, complying\n",
      "africa: nine, seven, eight, city, part, six, five, god, zero, used\n",
      "musician: use, called, b, film, used, form, united, made, addition, do\n",
      "dance: an, example, actor, country, interest, play, article, god, considered, usually\n",
      "\n",
      "\n"
     ]
    },
    {
     "name": "stderr",
     "output_type": "stream",
     "text": [
      "12002it [30:27,  6.28it/s]"
     ]
    },
    {
     "name": "stdout",
     "output_type": "stream",
     "text": [
      "| epoch   1 | 12000/32580 batches | loss    1.747 \n",
      "money: used, known, but, both, made, name, them, called, states, well\n",
      "lion: clonaid, hallucinogenic, effects, teixeira, wings, ren, bouvier, solf, brussels, pass\n",
      "africa: nine, seven, eight, part, city, five, six, god, zero, end\n",
      "musician: use, called, b, film, form, united, made, used, addition, do\n",
      "dance: example, an, country, actor, play, interest, god, built, development, considered\n",
      "\n",
      "\n"
     ]
    },
    {
     "name": "stderr",
     "output_type": "stream",
     "text": [
      "12501it [31:44,  6.13it/s]"
     ]
    },
    {
     "name": "stdout",
     "output_type": "stream",
     "text": [
      "| epoch   1 | 12500/32580 batches | loss    1.723 \n",
      "money: used, known, but, both, seen, made, them, called, name, said\n",
      "lion: clonaid, hallucinogenic, effects, wings, teixeira, ren, solf, bouvier, brussels, pass\n",
      "africa: nine, seven, part, eight, city, five, zero, end, god, six\n",
      "musician: use, b, called, film, united, form, addition, used, made, history\n",
      "dance: example, country, an, actor, interest, play, development, based, built, god\n",
      "\n",
      "\n"
     ]
    },
    {
     "name": "stderr",
     "output_type": "stream",
     "text": [
      "13001it [32:56,  5.53it/s]"
     ]
    },
    {
     "name": "stdout",
     "output_type": "stream",
     "text": [
      "| epoch   1 | 13000/32580 batches | loss    1.708 \n",
      "money: used, both, known, but, made, them, called, said, seen, because\n",
      "lion: clonaid, hallucinogenic, effects, wings, pass, teixeira, ren, brussels, solf, bouvier\n",
      "africa: nine, seven, eight, part, city, end, five, six, u, zero\n",
      "musician: use, b, called, form, film, addition, united, used, made, history\n",
      "dance: example, country, development, an, interest, play, built, actor, based, god\n",
      "\n",
      "\n"
     ]
    },
    {
     "name": "stderr",
     "output_type": "stream",
     "text": [
      "13501it [34:11,  6.14it/s]"
     ]
    },
    {
     "name": "stdout",
     "output_type": "stream",
     "text": [
      "| epoch   1 | 13500/32580 batches | loss    1.694 \n",
      "money: used, both, seen, said, made, known, but, called, able, them\n",
      "lion: effects, clonaid, hallucinogenic, wings, pass, brussels, teixeira, ren, choose, style\n",
      "africa: nine, part, seven, eight, end, city, five, six, zero, u\n",
      "musician: use, form, called, addition, b, film, united, used, made, history\n",
      "dance: example, country, an, development, interest, play, built, actor, god, based\n",
      "\n",
      "\n"
     ]
    },
    {
     "name": "stderr",
     "output_type": "stream",
     "text": [
      "14002it [35:23,  6.42it/s]"
     ]
    },
    {
     "name": "stdout",
     "output_type": "stream",
     "text": [
      "| epoch   1 | 14000/32580 batches | loss    1.687 \n",
      "money: used, said, seen, known, created, both, them, able, called, made\n",
      "lion: clonaid, effects, hallucinogenic, wings, pass, brussels, teixeira, ren, choose, kind\n",
      "africa: nine, eight, part, seven, end, city, six, zero, u, five\n",
      "musician: use, form, addition, called, b, united, made, film, actor, used\n",
      "dance: example, country, play, actor, built, development, interest, based, battle, considered\n",
      "\n",
      "\n"
     ]
    },
    {
     "name": "stderr",
     "output_type": "stream",
     "text": [
      "14501it [36:34,  5.98it/s]"
     ]
    },
    {
     "name": "stdout",
     "output_type": "stream",
     "text": [
      "| epoch   1 | 14500/32580 batches | loss    1.674 \n",
      "money: used, said, seen, created, but, known, order, able, called, both\n",
      "lion: effects, clonaid, hallucinogenic, pass, wings, brussels, ren, choose, teixeira, kind\n",
      "africa: nine, eight, part, seven, end, city, six, germany, zero, u\n",
      "musician: use, form, addition, called, b, actor, united, made, considered, film\n",
      "dance: country, example, play, actor, battle, considered, built, interest, development, based\n",
      "\n",
      "\n"
     ]
    },
    {
     "name": "stderr",
     "output_type": "stream",
     "text": [
      "15002it [37:46,  6.43it/s]"
     ]
    },
    {
     "name": "stdout",
     "output_type": "stream",
     "text": [
      "| epoch   1 | 15000/32580 batches | loss    1.663 \n",
      "money: used, said, created, seen, known, both, order, able, called, development\n",
      "lion: effects, clonaid, hallucinogenic, wings, pass, brussels, ren, kind, choose, teixeira\n",
      "africa: nine, seven, part, eight, end, city, six, germany, zero, president\n",
      "musician: use, form, addition, actor, called, united, b, made, considered, history\n",
      "dance: country, example, play, based, built, actor, battle, considered, list, development\n",
      "\n",
      "\n"
     ]
    },
    {
     "name": "stderr",
     "output_type": "stream",
     "text": [
      "15501it [38:58,  6.18it/s]"
     ]
    },
    {
     "name": "stdout",
     "output_type": "stream",
     "text": [
      "| epoch   1 | 15500/32580 batches | loss    1.648 \n",
      "money: used, said, seen, created, both, order, able, development, known, made\n",
      "lion: effects, clonaid, pass, wings, hallucinogenic, kind, choose, ren, style, brussels\n",
      "africa: nine, eight, end, part, seven, zero, germany, city, six, president\n",
      "musician: use, addition, form, actor, united, called, considered, history, film, b\n",
      "dance: country, example, play, actor, built, battle, based, list, development, considered\n",
      "\n",
      "\n"
     ]
    },
    {
     "name": "stderr",
     "output_type": "stream",
     "text": [
      "16002it [40:10,  6.29it/s]"
     ]
    },
    {
     "name": "stdout",
     "output_type": "stream",
     "text": [
      "| epoch   1 | 16000/32580 batches | loss    1.635 \n",
      "money: used, seen, created, said, order, able, development, both, known, developed\n",
      "lion: effects, clonaid, pass, wings, hallucinogenic, kind, choose, style, losing, brussels\n",
      "africa: end, nine, part, seven, six, eight, zero, germany, city, order\n",
      "musician: use, addition, actor, form, called, united, considered, b, battle, history\n",
      "dance: country, example, battle, play, actor, list, development, built, based, interest\n",
      "\n",
      "\n"
     ]
    },
    {
     "name": "stderr",
     "output_type": "stream",
     "text": [
      "16502it [41:22,  6.50it/s]"
     ]
    },
    {
     "name": "stdout",
     "output_type": "stream",
     "text": [
      "| epoch   1 | 16500/32580 batches | loss    1.623 \n",
      "money: seen, used, created, said, order, both, able, made, what, developed\n",
      "lion: effects, clonaid, wings, pass, hallucinogenic, choose, losing, kind, rest, ren\n",
      "africa: nine, end, part, eight, seven, germany, zero, six, city, order\n",
      "musician: addition, use, form, actor, united, considered, nine, history, battle, b\n",
      "dance: example, country, battle, list, actor, play, built, interest, development, based\n",
      "\n",
      "\n"
     ]
    },
    {
     "name": "stderr",
     "output_type": "stream",
     "text": [
      "17001it [42:33,  6.13it/s]"
     ]
    },
    {
     "name": "stdout",
     "output_type": "stream",
     "text": [
      "| epoch   1 | 17000/32580 batches | loss    1.609 \n",
      "money: seen, used, order, created, said, able, development, made, known, both\n",
      "lion: effects, clonaid, wings, pass, kind, hallucinogenic, rest, style, choose, losing\n",
      "africa: nine, end, part, eight, seven, germany, six, zero, united, order\n",
      "musician: addition, actor, form, use, united, battle, considered, nine, actress, called\n",
      "dance: example, country, actor, list, battle, play, built, development, interest, considered\n",
      "\n",
      "\n"
     ]
    },
    {
     "name": "stderr",
     "output_type": "stream",
     "text": [
      "17502it [43:46,  6.25it/s]"
     ]
    },
    {
     "name": "stdout",
     "output_type": "stream",
     "text": [
      "| epoch   1 | 17500/32580 batches | loss    1.607 \n",
      "money: seen, used, order, created, able, said, development, both, known, made\n",
      "lion: effects, pass, wings, clonaid, kind, rest, style, choose, hallucinogenic, brussels\n",
      "africa: nine, end, part, eight, six, germany, seven, united, five, order\n",
      "musician: addition, actor, form, use, battle, nine, actress, united, considered, called\n",
      "dance: example, country, battle, actor, play, built, development, interest, list, book\n",
      "\n",
      "\n"
     ]
    },
    {
     "name": "stderr",
     "output_type": "stream",
     "text": [
      "18002it [44:58,  6.33it/s]"
     ]
    },
    {
     "name": "stdout",
     "output_type": "stream",
     "text": [
      "| epoch   1 | 18000/32580 batches | loss    1.591 \n",
      "money: seen, created, able, order, used, development, said, known, made, both\n",
      "lion: effects, pass, wings, kind, clonaid, rest, style, choose, brussels, hallucinogenic\n",
      "africa: nine, end, part, eight, six, germany, seven, united, five, zero\n",
      "musician: actor, addition, form, use, actress, battle, nine, united, considered, called\n",
      "dance: example, country, battle, play, actor, built, development, list, book, interest\n",
      "\n",
      "\n"
     ]
    },
    {
     "name": "stderr",
     "output_type": "stream",
     "text": [
      "18501it [46:11,  6.07it/s]"
     ]
    },
    {
     "name": "stdout",
     "output_type": "stream",
     "text": [
      "| epoch   1 | 18500/32580 batches | loss    1.590 \n",
      "money: seen, created, able, order, used, said, development, known, made, even\n",
      "lion: effects, pass, wings, kind, rest, clonaid, style, choose, brussels, inhabitants\n",
      "africa: end, nine, part, germany, eight, six, seven, united, five, india\n",
      "musician: actor, addition, use, actress, form, battle, nine, united, considered, history\n",
      "dance: example, country, battle, play, actor, built, development, based, interest, book\n",
      "\n",
      "\n"
     ]
    },
    {
     "name": "stderr",
     "output_type": "stream",
     "text": [
      "19002it [47:24,  6.33it/s]"
     ]
    },
    {
     "name": "stdout",
     "output_type": "stream",
     "text": [
      "| epoch   1 | 19000/32580 batches | loss    1.580 \n",
      "money: seen, able, order, created, used, said, known, development, made, developed\n",
      "lion: effects, pass, kind, wings, rest, style, clonaid, choose, inhabitants, brussels\n",
      "africa: nine, end, part, eight, germany, seven, six, india, australia, united\n",
      "musician: addition, actor, actress, battle, nine, form, use, united, considered, author\n",
      "dance: example, country, battle, play, actor, interest, development, built, based, list\n",
      "\n",
      "\n"
     ]
    },
    {
     "name": "stderr",
     "output_type": "stream",
     "text": [
      "19502it [48:38,  6.29it/s]"
     ]
    },
    {
     "name": "stdout",
     "output_type": "stream",
     "text": [
      "| epoch   1 | 19500/32580 batches | loss    1.573 \n",
      "money: seen, able, order, development, created, used, made, known, said, even\n",
      "lion: effects, pass, kind, wings, rest, style, choose, clonaid, inhabitants, brussels\n",
      "africa: nine, end, part, eight, germany, seven, six, india, united, west\n",
      "musician: actor, addition, actress, battle, nine, form, author, use, considered, united\n",
      "dance: country, example, battle, play, development, actor, interest, based, built, music\n",
      "\n",
      "\n"
     ]
    },
    {
     "name": "stderr",
     "output_type": "stream",
     "text": [
      "20001it [49:51,  5.95it/s]"
     ]
    },
    {
     "name": "stdout",
     "output_type": "stream",
     "text": [
      "| epoch   1 | 20000/32580 batches | loss    1.561 \n",
      "money: seen, able, development, order, used, known, said, created, made, even\n",
      "lion: effects, pass, kind, rest, wings, style, choose, inhabitants, clonaid, chapter\n",
      "africa: nine, end, part, germany, eight, india, united, six, west, seven\n",
      "musician: actor, addition, actress, battle, nine, author, form, united, considered, use\n",
      "dance: country, example, battle, play, actor, development, interest, based, built, list\n",
      "\n",
      "\n"
     ]
    },
    {
     "name": "stderr",
     "output_type": "stream",
     "text": [
      "20502it [51:02,  6.42it/s]"
     ]
    },
    {
     "name": "stdout",
     "output_type": "stream",
     "text": [
      "| epoch   1 | 20500/32580 batches | loss    1.553 \n",
      "money: seen, able, development, order, said, known, created, used, even, made\n",
      "lion: effects, pass, kind, rest, wings, style, choose, inhabitants, chapter, clonaid\n",
      "africa: nine, end, part, germany, india, eight, west, australia, united, seven\n",
      "musician: actor, addition, actress, battle, nine, author, form, considered, use, united\n",
      "dance: country, example, battle, play, actor, development, interest, based, built, music\n",
      "\n",
      "\n"
     ]
    },
    {
     "name": "stderr",
     "output_type": "stream",
     "text": [
      "21002it [52:14,  6.40it/s]"
     ]
    },
    {
     "name": "stdout",
     "output_type": "stream",
     "text": [
      "| epoch   1 | 21000/32580 batches | loss    1.545 \n",
      "money: seen, able, development, said, order, known, created, even, used, made\n",
      "lion: effects, pass, kind, rest, wings, choose, inhabitants, style, chapter, ability\n",
      "africa: nine, end, part, germany, eight, india, australia, united, europe, west\n",
      "musician: actor, addition, actress, battle, author, nine, form, united, born, considered\n",
      "dance: country, example, battle, play, actor, music, interest, development, built, based\n",
      "\n",
      "\n"
     ]
    },
    {
     "name": "stderr",
     "output_type": "stream",
     "text": [
      "21502it [53:27,  6.32it/s]"
     ]
    },
    {
     "name": "stdout",
     "output_type": "stream",
     "text": [
      "| epoch   1 | 21500/32580 batches | loss    1.541 \n",
      "money: seen, able, development, order, said, known, even, used, made, created\n",
      "lion: effects, kind, pass, rest, wings, choose, style, inhabitants, chapter, ability\n",
      "africa: end, nine, part, germany, india, australia, eight, united, west, europe\n",
      "musician: actor, addition, actress, battle, author, nine, form, born, united, considered\n",
      "dance: country, example, battle, play, actor, interest, music, development, built, case\n",
      "\n",
      "\n"
     ]
    },
    {
     "name": "stderr",
     "output_type": "stream",
     "text": [
      "22001it [54:38,  6.23it/s]"
     ]
    },
    {
     "name": "stdout",
     "output_type": "stream",
     "text": [
      "| epoch   1 | 22000/32580 batches | loss    1.530 \n",
      "money: seen, able, development, said, known, even, order, used, created, made\n",
      "lion: effects, pass, kind, rest, wings, choose, chapter, style, inhabitants, losing\n",
      "africa: nine, end, india, part, germany, europe, australia, united, eight, west\n",
      "musician: actor, addition, actress, battle, author, nine, form, born, united, considered\n",
      "dance: country, example, battle, actor, play, music, interest, development, list, case\n",
      "\n",
      "\n"
     ]
    },
    {
     "name": "stderr",
     "output_type": "stream",
     "text": [
      "22502it [55:50,  6.30it/s]"
     ]
    },
    {
     "name": "stdout",
     "output_type": "stream",
     "text": [
      "| epoch   1 | 22500/32580 batches | loss    1.530 \n",
      "money: seen, able, development, said, even, order, known, created, used, made\n",
      "lion: effects, pass, kind, rest, wings, choose, chapter, style, losing, ability\n",
      "africa: nine, end, india, germany, part, united, australia, europe, eight, north\n",
      "musician: actor, addition, actress, battle, author, nine, form, united, born, considered\n",
      "dance: country, example, battle, music, actor, interest, play, development, list, case\n",
      "\n",
      "\n"
     ]
    },
    {
     "name": "stderr",
     "output_type": "stream",
     "text": [
      "23001it [57:02,  6.12it/s]"
     ]
    },
    {
     "name": "stdout",
     "output_type": "stream",
     "text": [
      "| epoch   1 | 23000/32580 batches | loss    1.515 \n",
      "money: seen, able, development, said, even, known, used, order, created, made\n",
      "lion: effects, kind, pass, rest, wings, style, choose, chapter, ability, losing\n",
      "africa: nine, end, germany, india, part, australia, eight, europe, united, west\n",
      "musician: actor, addition, actress, battle, author, nine, form, writer, born, considered\n",
      "dance: country, example, battle, music, actor, interest, play, development, history, list\n",
      "\n",
      "\n"
     ]
    },
    {
     "name": "stderr",
     "output_type": "stream",
     "text": [
      "23502it [58:14,  6.38it/s]"
     ]
    },
    {
     "name": "stdout",
     "output_type": "stream",
     "text": [
      "| epoch   1 | 23500/32580 batches | loss    1.512 \n",
      "money: seen, able, development, said, even, known, it, used, order, developed\n",
      "lion: effects, pass, kind, rest, wings, choose, style, chapter, ability, losing\n",
      "africa: nine, end, germany, india, part, eight, australia, europe, united, japan\n",
      "musician: actor, addition, actress, author, battle, nine, writer, born, united, considered\n",
      "dance: country, music, example, battle, actor, history, interest, play, development, list\n",
      "\n",
      "\n"
     ]
    },
    {
     "name": "stderr",
     "output_type": "stream",
     "text": [
      "24001it [59:25,  6.21it/s]"
     ]
    },
    {
     "name": "stdout",
     "output_type": "stream",
     "text": [
      "| epoch   1 | 24000/32580 batches | loss    1.504 \n",
      "money: seen, able, development, said, even, known, order, developed, used, created\n",
      "lion: effects, pass, kind, rest, wings, choose, losing, aim, style, meet\n",
      "africa: nine, india, end, germany, part, australia, japan, eight, united, europe\n",
      "musician: actor, addition, actress, author, battle, nine, writer, born, united, considered\n",
      "dance: country, music, example, battle, actor, interest, history, development, play, list\n",
      "\n",
      "\n"
     ]
    },
    {
     "name": "stderr",
     "output_type": "stream",
     "text": [
      "24502it [1:00:37,  6.31it/s]"
     ]
    },
    {
     "name": "stdout",
     "output_type": "stream",
     "text": [
      "| epoch   1 | 24500/32580 batches | loss    1.499 \n",
      "money: seen, development, able, said, even, order, developed, created, known, it\n",
      "lion: effects, pass, kind, rest, wings, choose, losing, aim, chapter, style\n",
      "africa: india, nine, end, germany, eight, australia, part, japan, europe, united\n",
      "musician: actor, addition, actress, author, battle, nine, writer, born, considered, united\n",
      "dance: country, music, example, battle, actor, interest, development, play, based, list\n",
      "\n",
      "\n"
     ]
    },
    {
     "name": "stderr",
     "output_type": "stream",
     "text": [
      "25001it [1:01:49,  5.93it/s]"
     ]
    },
    {
     "name": "stdout",
     "output_type": "stream",
     "text": [
      "| epoch   1 | 25000/32580 batches | loss    1.494 \n",
      "money: development, seen, able, even, said, it, order, known, developed, created\n",
      "lion: effects, pass, kind, rest, wings, choose, aim, meet, chapter, losing\n",
      "africa: india, nine, end, germany, eight, australia, part, europe, japan, united\n",
      "musician: actor, addition, actress, author, battle, nine, writer, born, united, considered\n",
      "dance: country, music, battle, actor, example, interest, development, history, play, including\n",
      "\n",
      "\n"
     ]
    },
    {
     "name": "stderr",
     "output_type": "stream",
     "text": [
      "25502it [1:03:02,  6.28it/s]"
     ]
    },
    {
     "name": "stdout",
     "output_type": "stream",
     "text": [
      "| epoch   1 | 25500/32580 batches | loss    1.486 \n",
      "money: development, seen, even, able, order, it, said, known, used, well\n",
      "lion: effects, pass, rest, kind, wings, choose, aim, meet, chapter, style\n",
      "africa: india, nine, end, germany, australia, europe, part, eight, japan, seven\n",
      "musician: actor, actress, addition, author, battle, writer, nine, born, united, singer\n",
      "dance: country, music, actor, battle, example, interest, development, history, sense, play\n",
      "\n",
      "\n"
     ]
    },
    {
     "name": "stderr",
     "output_type": "stream",
     "text": [
      "26001it [1:04:15,  6.17it/s]"
     ]
    },
    {
     "name": "stdout",
     "output_type": "stream",
     "text": [
      "| epoch   1 | 26000/32580 batches | loss    1.482 \n",
      "money: it, seen, development, able, even, order, said, known, regarded, addition\n",
      "lion: effects, pass, rest, kind, wings, choose, meet, chapter, aim, losing\n",
      "africa: india, nine, end, germany, australia, eight, europe, part, china, japan\n",
      "musician: actor, actress, addition, author, writer, nine, battle, born, singer, united\n",
      "dance: music, country, actor, battle, interest, example, development, history, play, case\n",
      "\n",
      "\n"
     ]
    },
    {
     "name": "stderr",
     "output_type": "stream",
     "text": [
      "26501it [1:05:27,  6.12it/s]"
     ]
    },
    {
     "name": "stdout",
     "output_type": "stream",
     "text": [
      "| epoch   1 | 26500/32580 batches | loss    1.474 \n",
      "money: even, development, seen, able, it, order, said, known, well, regarded\n",
      "lion: pass, effects, rest, kind, wings, meet, choose, aim, chapter, losing\n",
      "africa: india, nine, end, germany, australia, europe, china, part, japan, eight\n",
      "musician: actor, actress, addition, author, writer, nine, battle, born, singer, united\n",
      "dance: music, country, battle, actor, interest, development, example, history, case, play\n",
      "\n",
      "\n"
     ]
    },
    {
     "name": "stderr",
     "output_type": "stream",
     "text": [
      "27002it [1:06:39,  6.40it/s]"
     ]
    },
    {
     "name": "stdout",
     "output_type": "stream",
     "text": [
      "| epoch   1 | 27000/32580 batches | loss    1.467 \n",
      "money: even, seen, able, development, said, it, order, well, regarded, perhaps\n",
      "lion: effects, rest, kind, pass, wings, aim, choose, meet, chapter, losing\n",
      "africa: india, nine, germany, end, australia, europe, china, japan, part, united\n",
      "musician: actor, actress, addition, author, writer, nine, battle, born, singer, united\n",
      "dance: music, country, battle, actor, example, interest, development, traditional, play, history\n",
      "\n",
      "\n"
     ]
    },
    {
     "name": "stderr",
     "output_type": "stream",
     "text": [
      "27502it [1:07:50,  6.40it/s]"
     ]
    },
    {
     "name": "stdout",
     "output_type": "stream",
     "text": [
      "| epoch   1 | 27500/32580 batches | loss    1.463 \n",
      "money: seen, even, able, development, said, regarded, order, perhaps, well, usually\n",
      "lion: rest, kind, effects, pass, wings, chapter, choose, aim, meet, distribution\n",
      "africa: india, nine, germany, australia, europe, end, china, japan, eight, part\n",
      "musician: actor, actress, addition, author, writer, nine, battle, born, singer, united\n",
      "dance: music, country, battle, actor, example, development, interest, traditional, history, play\n",
      "\n",
      "\n"
     ]
    },
    {
     "name": "stderr",
     "output_type": "stream",
     "text": [
      "28001it [1:09:02,  6.18it/s]"
     ]
    },
    {
     "name": "stdout",
     "output_type": "stream",
     "text": [
      "| epoch   1 | 28000/32580 batches | loss    1.459 \n",
      "money: seen, even, able, development, said, regarded, well, known, order, perhaps\n",
      "lion: rest, kind, effects, pass, wings, aim, choose, chapter, meet, losing\n",
      "africa: india, germany, nine, australia, europe, china, end, japan, united, part\n",
      "musician: actor, actress, addition, writer, author, battle, nine, singer, born, united\n",
      "dance: music, country, battle, actor, example, development, traditional, interest, history, based\n",
      "\n",
      "\n"
     ]
    },
    {
     "name": "stderr",
     "output_type": "stream",
     "text": [
      "28502it [1:10:14,  6.35it/s]"
     ]
    },
    {
     "name": "stdout",
     "output_type": "stream",
     "text": [
      "| epoch   1 | 28500/32580 batches | loss    1.455 \n",
      "money: seen, able, even, development, well, regarded, usually, perhaps, said, known\n",
      "lion: rest, kind, wings, effects, pass, aim, meet, chapter, choose, losing\n",
      "africa: india, nine, australia, germany, europe, china, end, japan, united, part\n",
      "musician: actor, actress, addition, writer, author, battle, singer, nine, born, united\n",
      "dance: music, country, battle, actor, development, example, interest, traditional, case, history\n",
      "\n",
      "\n"
     ]
    },
    {
     "name": "stderr",
     "output_type": "stream",
     "text": [
      "29001it [1:11:26,  6.18it/s]"
     ]
    },
    {
     "name": "stdout",
     "output_type": "stream",
     "text": [
      "| epoch   1 | 29000/32580 batches | loss    1.451 \n",
      "money: seen, even, able, well, development, regarded, said, usually, perhaps, it\n",
      "lion: rest, kind, wings, pass, chapter, aim, effects, meet, choose, losing\n",
      "africa: india, australia, nine, germany, europe, china, end, japan, united, part\n",
      "musician: actor, actress, addition, writer, author, battle, singer, nine, born, united\n",
      "dance: music, country, battle, actor, development, traditional, interest, example, based, list\n",
      "\n",
      "\n"
     ]
    },
    {
     "name": "stderr",
     "output_type": "stream",
     "text": [
      "29502it [1:12:38,  6.34it/s]"
     ]
    },
    {
     "name": "stdout",
     "output_type": "stream",
     "text": [
      "| epoch   1 | 29500/32580 batches | loss    1.448 \n",
      "money: seen, even, able, it, development, well, regarded, said, perhaps, addition\n",
      "lion: rest, wings, kind, pass, aim, chapter, meet, effects, choose, losing\n",
      "africa: india, nine, australia, germany, europe, china, end, japan, united, part\n",
      "musician: actor, actress, addition, writer, author, battle, nine, singer, born, united\n",
      "dance: music, country, battle, actor, based, development, traditional, case, example, interest\n",
      "\n",
      "\n"
     ]
    },
    {
     "name": "stderr",
     "output_type": "stream",
     "text": [
      "30002it [1:13:49,  6.32it/s]"
     ]
    },
    {
     "name": "stdout",
     "output_type": "stream",
     "text": [
      "| epoch   1 | 30000/32580 batches | loss    1.438 \n",
      "money: seen, even, able, development, it, regarded, well, usually, addition, perhaps\n",
      "lion: rest, wings, kind, chapter, aim, pass, meet, effects, choose, losing\n",
      "africa: india, australia, germany, europe, china, nine, end, united, japan, north\n",
      "musician: actor, actress, addition, writer, author, singer, battle, nine, born, united\n",
      "dance: music, country, battle, actor, based, development, traditional, popular, interest, modern\n",
      "\n",
      "\n"
     ]
    },
    {
     "name": "stderr",
     "output_type": "stream",
     "text": [
      "30502it [1:15:04,  6.44it/s]"
     ]
    },
    {
     "name": "stdout",
     "output_type": "stream",
     "text": [
      "| epoch   1 | 30500/32580 batches | loss    1.438 \n",
      "money: even, seen, able, development, it, well, regarded, usually, perhaps, addition\n",
      "lion: rest, wings, kind, chapter, aim, pass, choose, meet, effects, inhabitants\n",
      "africa: india, europe, china, australia, germany, nine, japan, end, united, north\n",
      "musician: actor, actress, writer, addition, author, singer, battle, nine, born, united\n",
      "dance: music, country, battle, actor, development, popular, traditional, based, history, interest\n",
      "\n",
      "\n"
     ]
    },
    {
     "name": "stderr",
     "output_type": "stream",
     "text": [
      "31002it [1:16:16,  6.39it/s]"
     ]
    },
    {
     "name": "stdout",
     "output_type": "stream",
     "text": [
      "| epoch   1 | 31000/32580 batches | loss    1.430 \n",
      "money: even, seen, able, development, regarded, well, it, usually, perhaps, fact\n",
      "lion: rest, wings, kind, aim, chapter, pass, choose, meet, effects, ability\n",
      "africa: india, europe, australia, china, germany, nine, end, japan, united, part\n",
      "musician: actor, actress, writer, addition, author, singer, battle, nine, born, united\n",
      "dance: music, country, battle, actor, development, popular, based, history, traditional, interest\n",
      "\n",
      "\n"
     ]
    },
    {
     "name": "stderr",
     "output_type": "stream",
     "text": [
      "31501it [1:17:28,  6.19it/s]"
     ]
    },
    {
     "name": "stdout",
     "output_type": "stream",
     "text": [
      "| epoch   1 | 31500/32580 batches | loss    1.431 \n",
      "money: seen, even, able, development, regarded, usually, well, fact, perhaps, addition\n",
      "lion: rest, wings, kind, aim, chapter, pass, choose, ability, meet, effects\n",
      "africa: india, europe, germany, australia, china, end, nine, japan, united, part\n",
      "musician: actor, actress, writer, addition, author, singer, battle, nine, born, united\n",
      "dance: music, country, actor, battle, development, popular, based, history, middle, interest\n",
      "\n",
      "\n"
     ]
    },
    {
     "name": "stderr",
     "output_type": "stream",
     "text": [
      "32001it [1:18:40,  6.11it/s]"
     ]
    },
    {
     "name": "stdout",
     "output_type": "stream",
     "text": [
      "| epoch   1 | 32000/32580 batches | loss    1.422 \n",
      "money: even, development, seen, able, it, regarded, usually, well, perhaps, often\n",
      "lion: rest, kind, wings, aim, chapter, pass, choose, ability, meet, inhabitants\n",
      "africa: india, europe, australia, china, germany, end, nine, japan, united, north\n",
      "musician: actor, actress, writer, addition, author, singer, battle, nine, born, united\n",
      "dance: music, country, battle, actor, popular, development, history, based, traditional, jazz\n",
      "\n",
      "\n"
     ]
    },
    {
     "name": "stderr",
     "output_type": "stream",
     "text": [
      "32502it [1:19:52,  6.37it/s]"
     ]
    },
    {
     "name": "stdout",
     "output_type": "stream",
     "text": [
      "| epoch   1 | 32500/32580 batches | loss    1.418 \n",
      "money: even, development, seen, able, regarded, it, usually, well, often, perhaps\n",
      "lion: rest, kind, wings, aim, chapter, choose, pass, ability, meet, inhabitants\n",
      "africa: india, australia, europe, china, germany, end, nine, united, japan, north\n",
      "musician: actor, actress, writer, addition, author, singer, nine, battle, born, united\n",
      "dance: music, country, battle, popular, actor, development, based, jazz, history, traditional\n",
      "\n",
      "\n"
     ]
    },
    {
     "name": "stderr",
     "output_type": "stream",
     "text": [
      "32580it [1:20:03,  6.78it/s]\n",
      "2it [00:01,  2.23it/s]"
     ]
    },
    {
     "name": "stdout",
     "output_type": "stream",
     "text": [
      "| epoch   2 |     0/32580 batches | loss    1.322 \n",
      "money: even, seen, development, able, it, regarded, well, usually, perhaps, often\n",
      "lion: rest, kind, wings, aim, chapter, choose, pass, ability, meet, inhabitants\n",
      "africa: india, europe, australia, china, germany, end, nine, united, japan, part\n",
      "musician: actor, actress, writer, addition, author, singer, nine, battle, born, united\n",
      "dance: music, country, battle, popular, actor, development, based, jazz, history, interest\n",
      "\n",
      "\n"
     ]
    },
    {
     "name": "stderr",
     "output_type": "stream",
     "text": [
      "502it [01:12,  6.36it/s]"
     ]
    },
    {
     "name": "stdout",
     "output_type": "stream",
     "text": [
      "| epoch   2 |   500/32580 batches | loss    1.372 \n",
      "money: even, seen, development, able, it, regarded, well, usually, perhaps, often\n",
      "lion: rest, kind, wings, aim, chapter, choose, pass, ability, meet, inhabitants\n",
      "africa: india, europe, australia, china, germany, nine, end, united, japan, north\n",
      "musician: actor, actress, writer, addition, author, singer, nine, battle, born, united\n",
      "dance: music, country, battle, popular, actor, development, based, jazz, history, interest\n",
      "\n",
      "\n"
     ]
    },
    {
     "name": "stderr",
     "output_type": "stream",
     "text": [
      "1001it [02:24,  6.15it/s]"
     ]
    },
    {
     "name": "stdout",
     "output_type": "stream",
     "text": [
      "| epoch   2 |  1000/32580 batches | loss    1.372 \n",
      "money: even, seen, development, able, it, regarded, well, usually, perhaps, often\n",
      "lion: rest, kind, wings, aim, chapter, choose, pass, ability, meet, inhabitants\n",
      "africa: india, europe, australia, china, germany, nine, end, japan, united, north\n",
      "musician: actor, actress, writer, addition, author, singer, nine, battle, born, united\n",
      "dance: music, country, battle, popular, actor, development, based, jazz, history, interest\n",
      "\n",
      "\n"
     ]
    },
    {
     "name": "stderr",
     "output_type": "stream",
     "text": [
      "1501it [03:36,  6.17it/s]"
     ]
    },
    {
     "name": "stdout",
     "output_type": "stream",
     "text": [
      "| epoch   2 |  1500/32580 batches | loss    1.371 \n",
      "money: even, seen, able, development, it, regarded, well, usually, perhaps, often\n",
      "lion: rest, kind, wings, aim, chapter, choose, pass, ability, meet, inhabitants\n",
      "africa: india, europe, australia, china, germany, nine, end, japan, united, north\n",
      "musician: actor, actress, writer, addition, author, singer, nine, battle, born, united\n",
      "dance: music, country, battle, popular, actor, development, based, jazz, history, interest\n",
      "\n",
      "\n"
     ]
    },
    {
     "name": "stderr",
     "output_type": "stream",
     "text": [
      "2002it [04:48,  6.35it/s]"
     ]
    },
    {
     "name": "stdout",
     "output_type": "stream",
     "text": [
      "| epoch   2 |  2000/32580 batches | loss    1.370 \n",
      "money: even, seen, able, development, regarded, it, well, usually, perhaps, often\n",
      "lion: rest, kind, wings, aim, chapter, choose, pass, ability, meet, inhabitants\n",
      "africa: india, europe, australia, china, germany, nine, end, japan, united, north\n",
      "musician: actor, actress, writer, author, addition, singer, nine, battle, born, united\n",
      "dance: music, country, battle, popular, actor, development, based, jazz, interest, history\n",
      "\n",
      "\n"
     ]
    },
    {
     "name": "stderr",
     "output_type": "stream",
     "text": [
      "2501it [06:00,  6.21it/s]"
     ]
    },
    {
     "name": "stdout",
     "output_type": "stream",
     "text": [
      "| epoch   2 |  2500/32580 batches | loss    1.371 \n",
      "money: even, seen, development, able, it, regarded, well, usually, perhaps, often\n",
      "lion: rest, kind, wings, aim, chapter, choose, ability, pass, meet, inhabitants\n",
      "africa: india, europe, australia, china, germany, nine, end, japan, united, north\n",
      "musician: actor, actress, writer, author, addition, singer, nine, battle, born, united\n",
      "dance: music, country, battle, popular, actor, development, based, jazz, traditional, interest\n",
      "\n",
      "\n"
     ]
    },
    {
     "name": "stderr",
     "output_type": "stream",
     "text": [
      "3001it [07:12,  6.05it/s]"
     ]
    },
    {
     "name": "stdout",
     "output_type": "stream",
     "text": [
      "| epoch   2 |  3000/32580 batches | loss    1.368 \n",
      "money: even, seen, development, able, it, regarded, well, usually, perhaps, often\n",
      "lion: rest, kind, wings, aim, chapter, choose, ability, pass, meet, inhabitants\n",
      "africa: india, europe, australia, china, germany, nine, end, japan, united, north\n",
      "musician: actor, actress, writer, author, addition, singer, nine, battle, born, united\n",
      "dance: music, country, battle, popular, actor, development, based, jazz, traditional, interest\n",
      "\n",
      "\n"
     ]
    },
    {
     "name": "stderr",
     "output_type": "stream",
     "text": [
      "3502it [08:23,  6.41it/s]"
     ]
    },
    {
     "name": "stdout",
     "output_type": "stream",
     "text": [
      "| epoch   2 |  3500/32580 batches | loss    1.363 \n",
      "money: even, seen, development, able, it, well, regarded, usually, perhaps, often\n",
      "lion: rest, kind, wings, aim, chapter, choose, ability, pass, meet, inhabitants\n",
      "africa: india, europe, australia, china, germany, nine, end, japan, united, north\n",
      "musician: actor, actress, writer, addition, author, singer, nine, battle, born, united\n",
      "dance: music, country, battle, popular, actor, development, based, jazz, traditional, interest\n",
      "\n",
      "\n"
     ]
    },
    {
     "name": "stderr",
     "output_type": "stream",
     "text": [
      "4001it [09:35,  6.21it/s]"
     ]
    },
    {
     "name": "stdout",
     "output_type": "stream",
     "text": [
      "| epoch   2 |  4000/32580 batches | loss    1.364 \n",
      "money: even, seen, development, able, it, regarded, well, usually, perhaps, often\n",
      "lion: rest, kind, wings, aim, chapter, choose, ability, pass, meet, inhabitants\n",
      "africa: india, europe, australia, china, germany, nine, end, japan, united, north\n",
      "musician: actor, actress, writer, author, addition, singer, nine, battle, born, united\n",
      "dance: music, country, battle, popular, actor, development, jazz, based, traditional, interest\n",
      "\n",
      "\n"
     ]
    },
    {
     "name": "stderr",
     "output_type": "stream",
     "text": [
      "4501it [10:48,  5.95it/s]"
     ]
    },
    {
     "name": "stdout",
     "output_type": "stream",
     "text": [
      "| epoch   2 |  4500/32580 batches | loss    1.368 \n",
      "money: even, development, seen, able, it, regarded, well, usually, perhaps, often\n",
      "lion: rest, kind, wings, aim, chapter, choose, ability, pass, meet, inhabitants\n",
      "africa: india, europe, australia, china, germany, nine, end, japan, united, north\n",
      "musician: actor, actress, writer, author, addition, singer, nine, battle, born, united\n",
      "dance: music, country, battle, popular, actor, development, jazz, based, traditional, interest\n",
      "\n",
      "\n"
     ]
    },
    {
     "name": "stderr",
     "output_type": "stream",
     "text": [
      "5001it [12:03,  5.70it/s]"
     ]
    },
    {
     "name": "stdout",
     "output_type": "stream",
     "text": [
      "| epoch   2 |  5000/32580 batches | loss    1.365 \n",
      "money: even, development, seen, able, it, regarded, well, usually, perhaps, often\n",
      "lion: rest, kind, wings, aim, chapter, choose, ability, pass, meet, inhabitants\n",
      "africa: india, europe, australia, china, germany, nine, end, japan, united, north\n",
      "musician: actor, actress, writer, author, addition, singer, nine, battle, born, united\n",
      "dance: music, country, battle, popular, actor, development, jazz, based, traditional, interest\n",
      "\n",
      "\n"
     ]
    },
    {
     "name": "stderr",
     "output_type": "stream",
     "text": [
      "5501it [13:18,  5.84it/s]"
     ]
    },
    {
     "name": "stdout",
     "output_type": "stream",
     "text": [
      "| epoch   2 |  5500/32580 batches | loss    1.359 \n",
      "money: even, seen, development, able, it, regarded, well, usually, perhaps, often\n",
      "lion: rest, kind, wings, aim, chapter, choose, ability, pass, meet, inhabitants\n",
      "africa: india, europe, australia, china, germany, nine, end, japan, united, north\n",
      "musician: actor, actress, writer, author, addition, singer, nine, battle, born, united\n",
      "dance: music, country, battle, popular, actor, development, jazz, based, traditional, interest\n",
      "\n",
      "\n"
     ]
    },
    {
     "name": "stderr",
     "output_type": "stream",
     "text": [
      "6001it [14:32,  6.00it/s]"
     ]
    },
    {
     "name": "stdout",
     "output_type": "stream",
     "text": [
      "| epoch   2 |  6000/32580 batches | loss    1.365 \n",
      "money: even, seen, able, development, it, regarded, well, usually, perhaps, often\n",
      "lion: rest, kind, wings, aim, chapter, choose, ability, pass, meet, inhabitants\n",
      "africa: india, europe, australia, china, germany, nine, end, japan, united, north\n",
      "musician: actor, actress, writer, author, addition, singer, nine, battle, born, united\n",
      "dance: music, country, battle, popular, actor, development, jazz, based, traditional, history\n",
      "\n",
      "\n"
     ]
    },
    {
     "name": "stderr",
     "output_type": "stream",
     "text": [
      "6501it [15:45,  6.03it/s]"
     ]
    },
    {
     "name": "stdout",
     "output_type": "stream",
     "text": [
      "| epoch   2 |  6500/32580 batches | loss    1.361 \n",
      "money: even, seen, able, development, it, regarded, well, usually, perhaps, often\n",
      "lion: rest, kind, wings, aim, chapter, choose, ability, pass, meet, inhabitants\n",
      "africa: india, europe, australia, china, germany, nine, end, japan, united, north\n",
      "musician: actor, actress, writer, author, addition, singer, nine, battle, born, united\n",
      "dance: music, country, popular, battle, actor, development, jazz, based, traditional, history\n",
      "\n",
      "\n"
     ]
    },
    {
     "name": "stderr",
     "output_type": "stream",
     "text": [
      "7001it [16:58,  6.01it/s]"
     ]
    },
    {
     "name": "stdout",
     "output_type": "stream",
     "text": [
      "| epoch   2 |  7000/32580 batches | loss    1.362 \n",
      "money: even, seen, able, development, it, regarded, well, usually, perhaps, often\n",
      "lion: rest, kind, wings, aim, chapter, choose, ability, pass, meet, inhabitants\n",
      "africa: india, europe, australia, china, germany, nine, end, japan, united, part\n",
      "musician: actor, actress, writer, author, addition, singer, nine, battle, born, united\n",
      "dance: music, country, popular, battle, actor, development, jazz, based, traditional, history\n",
      "\n",
      "\n"
     ]
    },
    {
     "name": "stderr",
     "output_type": "stream",
     "text": [
      "7501it [18:12,  5.98it/s]"
     ]
    },
    {
     "name": "stdout",
     "output_type": "stream",
     "text": [
      "| epoch   2 |  7500/32580 batches | loss    1.367 \n",
      "money: even, seen, able, development, it, regarded, well, usually, perhaps, often\n",
      "lion: rest, kind, wings, aim, chapter, choose, ability, pass, meet, inhabitants\n",
      "africa: india, europe, australia, china, germany, nine, end, japan, united, north\n",
      "musician: actor, actress, writer, author, addition, singer, nine, battle, born, united\n",
      "dance: music, country, popular, battle, actor, development, jazz, based, history, traditional\n",
      "\n",
      "\n"
     ]
    },
    {
     "name": "stderr",
     "output_type": "stream",
     "text": [
      "8001it [19:25,  6.00it/s]"
     ]
    },
    {
     "name": "stdout",
     "output_type": "stream",
     "text": [
      "| epoch   2 |  8000/32580 batches | loss    1.363 \n",
      "money: even, seen, able, development, it, regarded, well, usually, perhaps, fact\n",
      "lion: rest, kind, wings, aim, chapter, choose, ability, pass, meet, inhabitants\n",
      "africa: india, europe, australia, china, germany, nine, end, japan, united, north\n",
      "musician: actor, actress, writer, author, addition, singer, nine, battle, born, politician\n",
      "dance: music, country, popular, battle, actor, development, jazz, based, traditional, history\n",
      "\n",
      "\n"
     ]
    },
    {
     "name": "stderr",
     "output_type": "stream",
     "text": [
      "8501it [20:38,  6.03it/s]"
     ]
    },
    {
     "name": "stdout",
     "output_type": "stream",
     "text": [
      "| epoch   2 |  8500/32580 batches | loss    1.359 \n",
      "money: even, seen, able, development, it, regarded, well, usually, perhaps, fact\n",
      "lion: rest, kind, wings, aim, chapter, choose, ability, pass, meet, inhabitants\n",
      "africa: india, europe, australia, china, germany, nine, end, japan, united, north\n",
      "musician: actor, actress, writer, author, addition, singer, nine, battle, born, politician\n",
      "dance: music, country, popular, battle, actor, development, jazz, based, traditional, history\n",
      "\n",
      "\n"
     ]
    },
    {
     "name": "stderr",
     "output_type": "stream",
     "text": [
      "9002it [21:52,  6.28it/s]"
     ]
    },
    {
     "name": "stdout",
     "output_type": "stream",
     "text": [
      "| epoch   2 |  9000/32580 batches | loss    1.361 \n",
      "money: even, seen, able, development, it, regarded, well, usually, perhaps, fact\n",
      "lion: rest, kind, wings, aim, chapter, choose, ability, pass, meet, inhabitants\n",
      "africa: india, europe, australia, china, germany, nine, end, japan, united, north\n",
      "musician: actor, actress, writer, author, addition, singer, nine, battle, born, politician\n",
      "dance: music, country, popular, battle, actor, development, jazz, based, history, traditional\n",
      "\n",
      "\n"
     ]
    },
    {
     "name": "stderr",
     "output_type": "stream",
     "text": [
      "9501it [23:06,  5.90it/s]"
     ]
    },
    {
     "name": "stdout",
     "output_type": "stream",
     "text": [
      "| epoch   2 |  9500/32580 batches | loss    1.365 \n",
      "money: even, seen, able, development, it, regarded, usually, well, perhaps, often\n",
      "lion: rest, kind, wings, aim, chapter, choose, ability, pass, meet, inhabitants\n",
      "africa: india, europe, australia, china, germany, end, nine, japan, united, north\n",
      "musician: actor, actress, writer, author, addition, singer, nine, battle, born, politician\n",
      "dance: music, country, popular, battle, actor, jazz, development, based, traditional, history\n",
      "\n",
      "\n"
     ]
    },
    {
     "name": "stderr",
     "output_type": "stream",
     "text": [
      "10001it [24:19,  6.01it/s]"
     ]
    },
    {
     "name": "stdout",
     "output_type": "stream",
     "text": [
      "| epoch   2 | 10000/32580 batches | loss    1.357 \n",
      "money: even, seen, able, development, it, regarded, usually, well, perhaps, often\n",
      "lion: rest, kind, wings, aim, chapter, choose, ability, meet, pass, inhabitants\n",
      "africa: india, europe, australia, china, germany, nine, end, japan, united, north\n",
      "musician: actor, actress, writer, author, addition, singer, nine, battle, born, politician\n",
      "dance: music, country, popular, battle, actor, jazz, development, based, traditional, history\n",
      "\n",
      "\n"
     ]
    },
    {
     "name": "stderr",
     "output_type": "stream",
     "text": [
      "10501it [25:33,  5.99it/s]"
     ]
    },
    {
     "name": "stdout",
     "output_type": "stream",
     "text": [
      "| epoch   2 | 10500/32580 batches | loss    1.358 \n",
      "money: even, seen, able, it, development, regarded, usually, well, perhaps, fact\n",
      "lion: rest, kind, wings, aim, chapter, choose, ability, meet, pass, inhabitants\n",
      "africa: india, europe, australia, china, germany, nine, end, japan, united, america\n",
      "musician: actor, actress, writer, author, addition, singer, nine, battle, born, politician\n",
      "dance: music, country, popular, battle, actor, jazz, development, based, traditional, history\n",
      "\n",
      "\n"
     ]
    },
    {
     "name": "stderr",
     "output_type": "stream",
     "text": [
      "11001it [26:46,  6.01it/s]"
     ]
    },
    {
     "name": "stdout",
     "output_type": "stream",
     "text": [
      "| epoch   2 | 11000/32580 batches | loss    1.366 \n",
      "money: even, it, seen, able, development, regarded, usually, well, perhaps, often\n",
      "lion: rest, kind, wings, aim, chapter, choose, ability, meet, pass, inhabitants\n",
      "africa: india, europe, australia, china, germany, nine, end, japan, united, america\n",
      "musician: actor, actress, writer, author, addition, singer, nine, battle, born, politician\n",
      "dance: music, country, popular, battle, actor, jazz, development, based, history, traditional\n",
      "\n",
      "\n"
     ]
    },
    {
     "name": "stderr",
     "output_type": "stream",
     "text": [
      "11501it [27:59,  5.98it/s]"
     ]
    },
    {
     "name": "stdout",
     "output_type": "stream",
     "text": [
      "| epoch   2 | 11500/32580 batches | loss    1.357 \n",
      "money: even, seen, able, it, development, regarded, well, usually, perhaps, often\n",
      "lion: rest, kind, wings, aim, chapter, choose, ability, pass, meet, inhabitants\n",
      "africa: india, europe, australia, china, germany, nine, end, japan, united, america\n",
      "musician: actor, actress, writer, author, addition, singer, nine, battle, born, politician\n",
      "dance: music, country, popular, battle, actor, jazz, development, based, history, traditional\n",
      "\n",
      "\n"
     ]
    },
    {
     "name": "stderr",
     "output_type": "stream",
     "text": [
      "12001it [29:13,  5.99it/s]"
     ]
    },
    {
     "name": "stdout",
     "output_type": "stream",
     "text": [
      "| epoch   2 | 12000/32580 batches | loss    1.357 \n",
      "money: even, seen, able, development, it, regarded, well, usually, perhaps, often\n",
      "lion: rest, kind, wings, aim, chapter, choose, ability, pass, meet, inhabitants\n",
      "africa: india, europe, australia, china, germany, nine, end, japan, united, america\n",
      "musician: actor, actress, writer, author, addition, singer, nine, battle, born, politician\n",
      "dance: music, country, popular, battle, actor, jazz, development, based, traditional, history\n",
      "\n",
      "\n"
     ]
    },
    {
     "name": "stderr",
     "output_type": "stream",
     "text": [
      "12501it [30:26,  5.98it/s]"
     ]
    },
    {
     "name": "stdout",
     "output_type": "stream",
     "text": [
      "| epoch   2 | 12500/32580 batches | loss    1.358 \n",
      "money: even, seen, able, it, development, regarded, well, usually, perhaps, often\n",
      "lion: rest, kind, wings, aim, chapter, choose, ability, pass, meet, inhabitants\n",
      "africa: india, europe, australia, china, germany, nine, end, japan, united, america\n",
      "musician: actor, actress, writer, author, addition, singer, nine, battle, born, politician\n",
      "dance: music, country, popular, battle, actor, jazz, development, based, traditional, history\n",
      "\n",
      "\n"
     ]
    },
    {
     "name": "stderr",
     "output_type": "stream",
     "text": [
      "13001it [31:40,  5.94it/s]"
     ]
    },
    {
     "name": "stdout",
     "output_type": "stream",
     "text": [
      "| epoch   2 | 13000/32580 batches | loss    1.357 \n",
      "money: even, it, development, able, seen, regarded, well, usually, perhaps, often\n",
      "lion: rest, kind, wings, aim, chapter, choose, ability, pass, meet, inhabitants\n",
      "africa: india, europe, australia, china, germany, nine, end, japan, united, america\n",
      "musician: actor, actress, writer, author, addition, singer, nine, born, battle, politician\n",
      "dance: music, country, popular, battle, actor, jazz, development, based, traditional, history\n",
      "\n",
      "\n"
     ]
    },
    {
     "name": "stderr",
     "output_type": "stream",
     "text": [
      "13502it [32:54,  6.22it/s]"
     ]
    },
    {
     "name": "stdout",
     "output_type": "stream",
     "text": [
      "| epoch   2 | 13500/32580 batches | loss    1.359 \n",
      "money: even, development, able, it, seen, regarded, well, perhaps, usually, often\n",
      "lion: rest, kind, wings, aim, chapter, choose, ability, pass, meet, inhabitants\n",
      "africa: india, europe, australia, china, germany, nine, end, japan, united, america\n",
      "musician: actor, actress, writer, author, singer, addition, nine, born, battle, politician\n",
      "dance: music, country, popular, battle, actor, jazz, development, based, traditional, history\n",
      "\n",
      "\n"
     ]
    },
    {
     "name": "stderr",
     "output_type": "stream",
     "text": [
      "14001it [34:08,  6.01it/s]"
     ]
    },
    {
     "name": "stdout",
     "output_type": "stream",
     "text": [
      "| epoch   2 | 14000/32580 batches | loss    1.359 \n",
      "money: even, it, development, able, seen, regarded, well, usually, perhaps, often\n",
      "lion: rest, kind, wings, aim, chapter, choose, ability, pass, meet, inhabitants\n",
      "africa: india, europe, australia, china, germany, nine, end, japan, united, america\n",
      "musician: actor, actress, writer, author, singer, addition, nine, born, battle, politician\n",
      "dance: music, country, popular, battle, jazz, actor, development, traditional, based, history\n",
      "\n",
      "\n"
     ]
    },
    {
     "name": "stderr",
     "output_type": "stream",
     "text": [
      "14502it [35:22,  6.21it/s]"
     ]
    },
    {
     "name": "stdout",
     "output_type": "stream",
     "text": [
      "| epoch   2 | 14500/32580 batches | loss    1.355 \n",
      "money: even, it, development, able, seen, regarded, well, usually, perhaps, often\n",
      "lion: rest, kind, wings, aim, chapter, choose, ability, pass, meet, inhabitants\n",
      "africa: india, europe, australia, china, germany, nine, end, japan, united, america\n",
      "musician: actor, actress, writer, author, singer, addition, nine, born, battle, politician\n",
      "dance: music, country, popular, battle, jazz, actor, development, traditional, based, history\n",
      "\n",
      "\n"
     ]
    },
    {
     "name": "stderr",
     "output_type": "stream",
     "text": [
      "15001it [36:35,  6.02it/s]"
     ]
    },
    {
     "name": "stdout",
     "output_type": "stream",
     "text": [
      "| epoch   2 | 15000/32580 batches | loss    1.358 \n",
      "money: even, it, able, seen, development, regarded, usually, well, perhaps, often\n",
      "lion: rest, kind, wings, aim, chapter, choose, ability, meet, pass, inhabitants\n",
      "africa: india, europe, australia, china, germany, nine, end, japan, united, america\n",
      "musician: actor, actress, writer, author, singer, addition, nine, born, battle, politician\n",
      "dance: music, country, popular, battle, jazz, actor, development, traditional, based, history\n",
      "\n",
      "\n"
     ]
    },
    {
     "name": "stderr",
     "output_type": "stream",
     "text": [
      "15502it [37:49,  6.28it/s]"
     ]
    },
    {
     "name": "stdout",
     "output_type": "stream",
     "text": [
      "| epoch   2 | 15500/32580 batches | loss    1.358 \n",
      "money: even, it, able, seen, development, regarded, usually, well, perhaps, fact\n",
      "lion: rest, kind, wings, aim, chapter, choose, ability, meet, pass, inhabitants\n",
      "africa: india, europe, australia, china, germany, nine, end, japan, united, america\n",
      "musician: actor, actress, writer, author, singer, addition, nine, born, battle, politician\n",
      "dance: music, country, popular, battle, jazz, actor, development, traditional, based, history\n",
      "\n",
      "\n"
     ]
    },
    {
     "name": "stderr",
     "output_type": "stream",
     "text": [
      "16002it [39:02,  6.19it/s]"
     ]
    },
    {
     "name": "stdout",
     "output_type": "stream",
     "text": [
      "| epoch   2 | 16000/32580 batches | loss    1.350 \n",
      "money: even, it, seen, able, development, regarded, usually, well, perhaps, fact\n",
      "lion: rest, kind, wings, aim, chapter, choose, ability, meet, pass, inhabitants\n",
      "africa: india, europe, china, australia, germany, nine, end, japan, united, america\n",
      "musician: actor, actress, writer, author, singer, addition, nine, born, battle, politician\n",
      "dance: music, country, popular, battle, jazz, actor, development, traditional, based, history\n",
      "\n",
      "\n"
     ]
    },
    {
     "name": "stderr",
     "output_type": "stream",
     "text": [
      "16501it [40:15,  5.99it/s]"
     ]
    },
    {
     "name": "stdout",
     "output_type": "stream",
     "text": [
      "| epoch   2 | 16500/32580 batches | loss    1.353 \n",
      "money: even, it, seen, able, development, regarded, usually, well, perhaps, fact\n",
      "lion: rest, kind, wings, aim, chapter, choose, ability, meet, pass, inhabitants\n",
      "africa: india, europe, china, australia, germany, nine, end, japan, united, america\n",
      "musician: actor, actress, writer, author, singer, addition, nine, born, battle, politician\n",
      "dance: music, country, popular, battle, jazz, actor, development, traditional, based, history\n",
      "\n",
      "\n"
     ]
    },
    {
     "name": "stderr",
     "output_type": "stream",
     "text": [
      "17002it [41:29,  6.20it/s]"
     ]
    },
    {
     "name": "stdout",
     "output_type": "stream",
     "text": [
      "| epoch   2 | 17000/32580 batches | loss    1.348 \n",
      "money: even, it, able, seen, development, regarded, usually, perhaps, well, often\n",
      "lion: rest, kind, wings, aim, chapter, choose, ability, meet, pass, inhabitants\n",
      "africa: india, europe, china, australia, germany, nine, end, japan, united, america\n",
      "musician: actor, actress, writer, author, singer, addition, nine, born, battle, politician\n",
      "dance: music, country, popular, battle, jazz, actor, development, traditional, based, history\n",
      "\n",
      "\n"
     ]
    },
    {
     "name": "stderr",
     "output_type": "stream",
     "text": [
      "17501it [42:42,  5.94it/s]"
     ]
    },
    {
     "name": "stdout",
     "output_type": "stream",
     "text": [
      "| epoch   2 | 17500/32580 batches | loss    1.352 \n",
      "money: even, it, able, seen, development, regarded, usually, well, perhaps, often\n",
      "lion: rest, kind, wings, aim, chapter, choose, ability, meet, pass, inhabitants\n",
      "africa: india, europe, china, australia, germany, nine, end, japan, united, america\n",
      "musician: actor, actress, writer, author, singer, addition, nine, born, battle, politician\n",
      "dance: music, country, popular, battle, jazz, actor, development, traditional, based, history\n",
      "\n",
      "\n"
     ]
    },
    {
     "name": "stderr",
     "output_type": "stream",
     "text": [
      "18002it [43:55,  6.28it/s]"
     ]
    },
    {
     "name": "stdout",
     "output_type": "stream",
     "text": [
      "| epoch   2 | 18000/32580 batches | loss    1.354 \n",
      "money: even, it, able, seen, development, regarded, usually, perhaps, well, fact\n",
      "lion: rest, kind, wings, aim, chapter, choose, ability, meet, pass, inhabitants\n",
      "africa: india, europe, china, australia, germany, nine, end, japan, united, america\n",
      "musician: actor, actress, writer, author, singer, addition, nine, born, battle, politician\n",
      "dance: music, country, popular, battle, jazz, actor, development, traditional, based, history\n",
      "\n",
      "\n"
     ]
    },
    {
     "name": "stderr",
     "output_type": "stream",
     "text": [
      "18501it [45:08,  6.01it/s]"
     ]
    },
    {
     "name": "stdout",
     "output_type": "stream",
     "text": [
      "| epoch   2 | 18500/32580 batches | loss    1.351 \n",
      "money: even, it, able, seen, development, regarded, usually, perhaps, well, fact\n",
      "lion: rest, kind, wings, aim, chapter, choose, ability, meet, pass, inhabitants\n",
      "africa: india, europe, china, australia, germany, nine, japan, end, united, america\n",
      "musician: actor, actress, writer, author, singer, addition, nine, born, battle, politician\n",
      "dance: music, country, popular, battle, jazz, actor, development, traditional, based, history\n",
      "\n",
      "\n"
     ]
    },
    {
     "name": "stderr",
     "output_type": "stream",
     "text": [
      "19001it [46:22,  6.07it/s]"
     ]
    },
    {
     "name": "stdout",
     "output_type": "stream",
     "text": [
      "| epoch   2 | 19000/32580 batches | loss    1.349 \n",
      "money: even, it, able, seen, development, usually, regarded, perhaps, well, often\n",
      "lion: rest, kind, wings, aim, chapter, choose, ability, meet, pass, inhabitants\n",
      "africa: india, europe, australia, china, germany, nine, japan, end, united, america\n",
      "musician: actor, actress, writer, author, singer, addition, nine, born, battle, politician\n",
      "dance: music, country, popular, battle, jazz, actor, development, traditional, based, history\n",
      "\n",
      "\n"
     ]
    },
    {
     "name": "stderr",
     "output_type": "stream",
     "text": [
      "19501it [47:35,  5.99it/s]"
     ]
    },
    {
     "name": "stdout",
     "output_type": "stream",
     "text": [
      "| epoch   2 | 19500/32580 batches | loss    1.345 \n",
      "money: even, it, able, seen, development, usually, regarded, perhaps, well, often\n",
      "lion: rest, kind, wings, aim, chapter, choose, ability, meet, pass, inhabitants\n",
      "africa: india, europe, china, australia, germany, nine, japan, end, united, america\n",
      "musician: actor, actress, writer, author, singer, addition, nine, born, battle, politician\n",
      "dance: music, country, popular, battle, jazz, actor, development, traditional, based, history\n",
      "\n",
      "\n"
     ]
    },
    {
     "name": "stderr",
     "output_type": "stream",
     "text": [
      "20001it [48:49,  6.02it/s]"
     ]
    },
    {
     "name": "stdout",
     "output_type": "stream",
     "text": [
      "| epoch   2 | 20000/32580 batches | loss    1.350 \n",
      "money: even, it, able, seen, development, usually, regarded, perhaps, well, often\n",
      "lion: rest, kind, wings, aim, chapter, choose, ability, meet, pass, inhabitants\n",
      "africa: india, europe, china, australia, germany, nine, japan, end, united, america\n",
      "musician: actor, actress, writer, author, singer, addition, nine, born, battle, politician\n",
      "dance: music, country, popular, battle, jazz, actor, development, traditional, based, history\n",
      "\n",
      "\n"
     ]
    },
    {
     "name": "stderr",
     "output_type": "stream",
     "text": [
      "20501it [50:02,  6.00it/s]"
     ]
    },
    {
     "name": "stdout",
     "output_type": "stream",
     "text": [
      "| epoch   2 | 20500/32580 batches | loss    1.349 \n",
      "money: even, it, able, seen, development, usually, regarded, perhaps, well, often\n",
      "lion: rest, kind, wings, aim, chapter, choose, ability, meet, pass, inhabitants\n",
      "africa: india, europe, china, australia, germany, nine, japan, end, united, america\n",
      "musician: actor, actress, writer, author, singer, addition, nine, born, battle, politician\n",
      "dance: music, country, popular, battle, jazz, actor, development, traditional, based, history\n",
      "\n",
      "\n"
     ]
    },
    {
     "name": "stderr",
     "output_type": "stream",
     "text": [
      "21002it [51:17,  6.25it/s]"
     ]
    },
    {
     "name": "stdout",
     "output_type": "stream",
     "text": [
      "| epoch   2 | 21000/32580 batches | loss    1.347 \n",
      "money: even, it, able, seen, development, usually, regarded, perhaps, well, often\n",
      "lion: rest, kind, wings, aim, chapter, choose, ability, meet, pass, inhabitants\n",
      "africa: india, europe, china, australia, germany, nine, japan, end, united, america\n",
      "musician: actor, actress, writer, author, singer, addition, nine, born, battle, politician\n",
      "dance: music, country, popular, battle, jazz, actor, development, traditional, based, history\n",
      "\n",
      "\n"
     ]
    },
    {
     "name": "stderr",
     "output_type": "stream",
     "text": [
      "21502it [52:31,  6.20it/s]"
     ]
    },
    {
     "name": "stdout",
     "output_type": "stream",
     "text": [
      "| epoch   2 | 21500/32580 batches | loss    1.352 \n",
      "money: even, it, able, seen, development, regarded, usually, perhaps, well, often\n",
      "lion: rest, kind, wings, aim, chapter, choose, ability, meet, pass, inhabitants\n",
      "africa: india, europe, china, australia, germany, nine, japan, end, united, america\n",
      "musician: actor, actress, writer, author, singer, addition, nine, born, battle, politician\n",
      "dance: music, country, popular, battle, jazz, actor, development, traditional, based, history\n",
      "\n",
      "\n"
     ]
    },
    {
     "name": "stderr",
     "output_type": "stream",
     "text": [
      "22002it [53:44,  6.20it/s]"
     ]
    },
    {
     "name": "stdout",
     "output_type": "stream",
     "text": [
      "| epoch   2 | 22000/32580 batches | loss    1.350 \n",
      "money: even, it, able, seen, development, regarded, usually, perhaps, well, often\n",
      "lion: rest, kind, wings, aim, chapter, choose, ability, meet, pass, inhabitants\n",
      "africa: india, europe, china, australia, germany, nine, japan, end, united, america\n",
      "musician: actor, actress, writer, author, singer, addition, nine, born, battle, politician\n",
      "dance: music, country, popular, battle, jazz, actor, development, traditional, based, history\n",
      "\n",
      "\n"
     ]
    },
    {
     "name": "stderr",
     "output_type": "stream",
     "text": [
      "22501it [54:57,  5.99it/s]"
     ]
    },
    {
     "name": "stdout",
     "output_type": "stream",
     "text": [
      "| epoch   2 | 22500/32580 batches | loss    1.346 \n",
      "money: even, it, able, seen, development, regarded, usually, perhaps, well, fact\n",
      "lion: rest, kind, wings, aim, chapter, choose, ability, meet, pass, inhabitants\n",
      "africa: india, europe, china, australia, germany, nine, japan, end, united, america\n",
      "musician: actor, actress, writer, author, singer, addition, nine, born, battle, politician\n",
      "dance: music, country, popular, battle, jazz, actor, development, traditional, based, history\n",
      "\n",
      "\n"
     ]
    },
    {
     "name": "stderr",
     "output_type": "stream",
     "text": [
      "23001it [56:11,  6.00it/s]"
     ]
    },
    {
     "name": "stdout",
     "output_type": "stream",
     "text": [
      "| epoch   2 | 23000/32580 batches | loss    1.349 \n",
      "money: even, it, able, seen, development, regarded, usually, perhaps, well, often\n",
      "lion: rest, kind, wings, aim, chapter, choose, ability, meet, pass, inhabitants\n",
      "africa: india, europe, china, australia, germany, nine, japan, end, united, america\n",
      "musician: actor, actress, writer, author, singer, addition, nine, born, battle, politician\n",
      "dance: music, country, popular, battle, jazz, actor, development, traditional, based, interest\n",
      "\n",
      "\n"
     ]
    },
    {
     "name": "stderr",
     "output_type": "stream",
     "text": [
      "23502it [57:24,  6.28it/s]"
     ]
    },
    {
     "name": "stdout",
     "output_type": "stream",
     "text": [
      "| epoch   2 | 23500/32580 batches | loss    1.349 \n",
      "money: even, it, able, seen, development, regarded, usually, perhaps, well, often\n",
      "lion: rest, kind, wings, aim, chapter, choose, ability, meet, pass, inhabitants\n",
      "africa: india, europe, china, australia, germany, nine, japan, end, united, america\n",
      "musician: actor, actress, writer, author, singer, addition, nine, born, battle, politician\n",
      "dance: music, popular, country, battle, jazz, actor, development, traditional, based, history\n",
      "\n",
      "\n"
     ]
    },
    {
     "name": "stderr",
     "output_type": "stream",
     "text": [
      "24001it [58:37,  6.00it/s]"
     ]
    },
    {
     "name": "stdout",
     "output_type": "stream",
     "text": [
      "| epoch   2 | 24000/32580 batches | loss    1.345 \n",
      "money: even, it, able, seen, development, usually, regarded, perhaps, well, often\n",
      "lion: rest, kind, wings, aim, chapter, choose, ability, meet, pass, inhabitants\n",
      "africa: india, europe, china, australia, germany, nine, japan, end, united, america\n",
      "musician: actor, actress, writer, author, singer, addition, nine, born, battle, politician\n",
      "dance: music, popular, country, jazz, battle, actor, development, traditional, based, history\n",
      "\n",
      "\n"
     ]
    },
    {
     "name": "stderr",
     "output_type": "stream",
     "text": [
      "24501it [59:51,  5.98it/s]"
     ]
    },
    {
     "name": "stdout",
     "output_type": "stream",
     "text": [
      "| epoch   2 | 24500/32580 batches | loss    1.353 \n",
      "money: even, it, able, seen, development, usually, regarded, perhaps, well, often\n",
      "lion: rest, kind, wings, aim, chapter, choose, ability, meet, pass, inhabitants\n",
      "africa: india, europe, australia, china, germany, nine, japan, end, united, america\n",
      "musician: actor, actress, writer, author, singer, addition, nine, born, battle, politician\n",
      "dance: music, popular, country, jazz, battle, actor, development, traditional, based, history\n",
      "\n",
      "\n"
     ]
    },
    {
     "name": "stderr",
     "output_type": "stream",
     "text": [
      "25002it [1:01:04,  6.25it/s]"
     ]
    },
    {
     "name": "stdout",
     "output_type": "stream",
     "text": [
      "| epoch   2 | 25000/32580 batches | loss    1.347 \n",
      "money: even, it, able, seen, development, usually, regarded, perhaps, well, often\n",
      "lion: rest, kind, wings, aim, chapter, choose, ability, meet, pass, inhabitants\n",
      "africa: india, europe, australia, china, germany, nine, japan, end, united, america\n",
      "musician: actor, actress, writer, author, singer, addition, nine, born, battle, politician\n",
      "dance: music, popular, country, jazz, battle, actor, traditional, development, based, history\n",
      "\n",
      "\n"
     ]
    },
    {
     "name": "stderr",
     "output_type": "stream",
     "text": [
      "25501it [1:02:17,  5.92it/s]"
     ]
    },
    {
     "name": "stdout",
     "output_type": "stream",
     "text": [
      "| epoch   2 | 25500/32580 batches | loss    1.348 \n",
      "money: even, it, able, seen, development, usually, regarded, perhaps, well, often\n",
      "lion: rest, kind, wings, aim, chapter, choose, ability, meet, pass, inhabitants\n",
      "africa: india, europe, australia, china, germany, nine, japan, end, united, america\n",
      "musician: actor, actress, writer, author, singer, addition, nine, born, battle, politician\n",
      "dance: music, popular, country, jazz, battle, actor, traditional, development, based, history\n",
      "\n",
      "\n"
     ]
    },
    {
     "name": "stderr",
     "output_type": "stream",
     "text": [
      "26002it [1:03:31,  6.26it/s]"
     ]
    },
    {
     "name": "stdout",
     "output_type": "stream",
     "text": [
      "| epoch   2 | 26000/32580 batches | loss    1.346 \n",
      "money: even, it, able, seen, development, usually, regarded, perhaps, well, often\n",
      "lion: rest, kind, wings, aim, chapter, choose, ability, meet, pass, inhabitants\n",
      "africa: india, europe, australia, china, germany, nine, japan, end, united, america\n",
      "musician: actor, actress, writer, author, singer, addition, nine, born, battle, politician\n",
      "dance: music, popular, country, jazz, battle, actor, traditional, development, based, history\n",
      "\n",
      "\n"
     ]
    },
    {
     "name": "stderr",
     "output_type": "stream",
     "text": [
      "26501it [1:04:44,  6.09it/s]"
     ]
    },
    {
     "name": "stdout",
     "output_type": "stream",
     "text": [
      "| epoch   2 | 26500/32580 batches | loss    1.343 \n",
      "money: even, it, able, seen, development, usually, regarded, perhaps, well, often\n",
      "lion: rest, kind, wings, aim, chapter, choose, ability, meet, pass, inhabitants\n",
      "africa: india, europe, australia, china, germany, nine, japan, end, united, america\n",
      "musician: actor, actress, writer, author, singer, addition, nine, born, battle, politician\n",
      "dance: music, popular, country, jazz, battle, actor, traditional, development, based, history\n",
      "\n",
      "\n"
     ]
    },
    {
     "name": "stderr",
     "output_type": "stream",
     "text": [
      "27002it [1:05:58,  6.30it/s]"
     ]
    },
    {
     "name": "stdout",
     "output_type": "stream",
     "text": [
      "| epoch   2 | 27000/32580 batches | loss    1.343 \n",
      "money: even, it, able, seen, development, usually, regarded, perhaps, well, often\n",
      "lion: rest, kind, wings, aim, chapter, choose, ability, meet, pass, inhabitants\n",
      "africa: india, europe, australia, china, germany, japan, nine, end, united, america\n",
      "musician: actor, actress, writer, author, singer, addition, nine, born, battle, politician\n",
      "dance: music, popular, country, jazz, battle, actor, traditional, development, based, history\n",
      "\n",
      "\n"
     ]
    },
    {
     "name": "stderr",
     "output_type": "stream",
     "text": [
      "27502it [1:07:11,  6.19it/s]"
     ]
    },
    {
     "name": "stdout",
     "output_type": "stream",
     "text": [
      "| epoch   2 | 27500/32580 batches | loss    1.348 \n",
      "money: even, it, able, seen, development, usually, regarded, perhaps, well, often\n",
      "lion: rest, kind, wings, aim, chapter, choose, ability, meet, pass, inhabitants\n",
      "africa: india, europe, australia, china, germany, japan, nine, end, united, america\n",
      "musician: actor, actress, writer, author, singer, addition, nine, born, battle, politician\n",
      "dance: music, popular, country, jazz, battle, actor, traditional, development, based, history\n",
      "\n",
      "\n"
     ]
    },
    {
     "name": "stderr",
     "output_type": "stream",
     "text": [
      "28001it [1:08:24,  5.98it/s]"
     ]
    },
    {
     "name": "stdout",
     "output_type": "stream",
     "text": [
      "| epoch   2 | 28000/32580 batches | loss    1.347 \n",
      "money: even, it, able, seen, development, usually, regarded, perhaps, well, often\n",
      "lion: rest, kind, wings, aim, chapter, choose, ability, meet, pass, inhabitants\n",
      "africa: india, europe, australia, china, germany, nine, japan, end, united, america\n",
      "musician: actor, actress, writer, author, singer, addition, nine, born, battle, politician\n",
      "dance: music, popular, country, jazz, battle, actor, traditional, development, based, history\n",
      "\n",
      "\n"
     ]
    },
    {
     "name": "stderr",
     "output_type": "stream",
     "text": [
      "28501it [1:09:38,  6.01it/s]"
     ]
    },
    {
     "name": "stdout",
     "output_type": "stream",
     "text": [
      "| epoch   2 | 28500/32580 batches | loss    1.339 \n",
      "money: even, it, able, seen, development, usually, regarded, perhaps, well, often\n",
      "lion: rest, kind, wings, aim, chapter, choose, ability, meet, pass, inhabitants\n",
      "africa: india, europe, australia, china, germany, nine, japan, end, united, america\n",
      "musician: actor, actress, writer, author, singer, addition, nine, born, battle, politician\n",
      "dance: music, popular, country, jazz, battle, actor, traditional, development, based, history\n",
      "\n",
      "\n"
     ]
    },
    {
     "name": "stderr",
     "output_type": "stream",
     "text": [
      "29001it [1:10:51,  5.98it/s]"
     ]
    },
    {
     "name": "stdout",
     "output_type": "stream",
     "text": [
      "| epoch   2 | 29000/32580 batches | loss    1.345 \n",
      "money: even, it, able, seen, development, usually, regarded, perhaps, well, often\n",
      "lion: rest, kind, wings, aim, chapter, ability, choose, meet, pass, inhabitants\n",
      "africa: india, europe, australia, china, germany, japan, nine, end, america, united\n",
      "musician: actor, actress, writer, author, singer, addition, nine, born, battle, politician\n",
      "dance: music, popular, country, jazz, battle, actor, traditional, development, based, history\n",
      "\n",
      "\n"
     ]
    },
    {
     "name": "stderr",
     "output_type": "stream",
     "text": [
      "29501it [1:12:06,  6.08it/s]"
     ]
    },
    {
     "name": "stdout",
     "output_type": "stream",
     "text": [
      "| epoch   2 | 29500/32580 batches | loss    1.340 \n",
      "money: even, it, able, seen, development, usually, regarded, perhaps, well, often\n",
      "lion: rest, kind, wings, aim, chapter, ability, choose, meet, pass, inhabitants\n",
      "africa: india, europe, australia, china, germany, japan, nine, end, america, united\n",
      "musician: actor, actress, writer, author, singer, addition, nine, born, battle, politician\n",
      "dance: music, popular, country, jazz, battle, actor, traditional, development, based, history\n",
      "\n",
      "\n"
     ]
    },
    {
     "name": "stderr",
     "output_type": "stream",
     "text": [
      "30001it [1:13:19,  5.99it/s]"
     ]
    },
    {
     "name": "stdout",
     "output_type": "stream",
     "text": [
      "| epoch   2 | 30000/32580 batches | loss    1.344 \n",
      "money: even, it, able, development, seen, usually, regarded, perhaps, well, often\n",
      "lion: rest, kind, wings, aim, chapter, ability, choose, meet, pass, inhabitants\n",
      "africa: india, europe, australia, china, germany, japan, nine, end, america, united\n",
      "musician: actor, actress, writer, author, singer, addition, nine, born, battle, politician\n",
      "dance: music, popular, country, jazz, battle, actor, traditional, development, based, history\n",
      "\n",
      "\n"
     ]
    },
    {
     "name": "stderr",
     "output_type": "stream",
     "text": [
      "30501it [1:14:35,  5.99it/s]"
     ]
    },
    {
     "name": "stdout",
     "output_type": "stream",
     "text": [
      "| epoch   2 | 30500/32580 batches | loss    1.340 \n",
      "money: even, it, able, seen, development, usually, regarded, perhaps, well, often\n",
      "lion: rest, kind, wings, aim, chapter, ability, choose, meet, pass, inhabitants\n",
      "africa: india, europe, australia, china, germany, japan, nine, end, united, america\n",
      "musician: actor, actress, writer, author, singer, addition, nine, born, battle, politician\n",
      "dance: music, popular, country, jazz, battle, actor, traditional, development, history, based\n",
      "\n",
      "\n"
     ]
    },
    {
     "name": "stderr",
     "output_type": "stream",
     "text": [
      "31001it [1:15:49,  6.03it/s]"
     ]
    },
    {
     "name": "stdout",
     "output_type": "stream",
     "text": [
      "| epoch   2 | 31000/32580 batches | loss    1.345 \n",
      "money: even, it, able, development, seen, usually, regarded, perhaps, well, often\n",
      "lion: rest, kind, wings, aim, chapter, ability, choose, meet, pass, inhabitants\n",
      "africa: india, europe, australia, china, germany, japan, nine, end, united, america\n",
      "musician: actor, actress, writer, singer, author, addition, nine, born, battle, politician\n",
      "dance: music, popular, country, jazz, battle, actor, traditional, development, based, history\n",
      "\n",
      "\n"
     ]
    },
    {
     "name": "stderr",
     "output_type": "stream",
     "text": [
      "31501it [1:17:02,  6.01it/s]"
     ]
    },
    {
     "name": "stdout",
     "output_type": "stream",
     "text": [
      "| epoch   2 | 31500/32580 batches | loss    1.340 \n",
      "money: even, it, able, development, seen, usually, regarded, perhaps, well, often\n",
      "lion: rest, kind, wings, aim, chapter, ability, choose, meet, pass, inhabitants\n",
      "africa: india, europe, australia, china, germany, japan, nine, end, united, america\n",
      "musician: actor, actress, writer, singer, author, addition, nine, born, battle, politician\n",
      "dance: music, popular, country, jazz, battle, actor, traditional, development, based, history\n",
      "\n",
      "\n"
     ]
    },
    {
     "name": "stderr",
     "output_type": "stream",
     "text": [
      "32001it [1:18:15,  5.99it/s]"
     ]
    },
    {
     "name": "stdout",
     "output_type": "stream",
     "text": [
      "| epoch   2 | 32000/32580 batches | loss    1.339 \n",
      "money: even, it, able, development, seen, usually, regarded, perhaps, well, often\n",
      "lion: rest, kind, wings, aim, chapter, ability, choose, meet, pass, inhabitants\n",
      "africa: india, europe, australia, china, germany, japan, nine, end, america, united\n",
      "musician: actor, actress, writer, singer, author, addition, nine, born, battle, politician\n",
      "dance: music, popular, country, jazz, battle, actor, traditional, development, based, history\n",
      "\n",
      "\n"
     ]
    },
    {
     "name": "stderr",
     "output_type": "stream",
     "text": [
      "32501it [1:19:27,  5.97it/s]"
     ]
    },
    {
     "name": "stdout",
     "output_type": "stream",
     "text": [
      "| epoch   2 | 32500/32580 batches | loss    1.340 \n",
      "money: even, it, able, development, seen, usually, regarded, perhaps, well, often\n",
      "lion: rest, kind, wings, aim, chapter, ability, choose, meet, pass, inhabitants\n",
      "africa: india, europe, australia, china, germany, japan, nine, end, united, america\n",
      "musician: actor, actress, writer, singer, author, addition, nine, born, battle, politician\n",
      "dance: music, popular, country, jazz, battle, traditional, actor, development, history, based\n",
      "\n",
      "\n"
     ]
    },
    {
     "name": "stderr",
     "output_type": "stream",
     "text": [
      "32580it [1:19:41,  6.81it/s]\n",
      "1it [00:00,  1.14it/s]"
     ]
    },
    {
     "name": "stdout",
     "output_type": "stream",
     "text": [
      "| epoch   3 |     0/32580 batches | loss    1.312 \n",
      "money: even, it, able, development, seen, usually, regarded, perhaps, well, often\n",
      "lion: rest, kind, wings, aim, chapter, ability, choose, meet, pass, inhabitants\n",
      "africa: india, europe, australia, china, germany, japan, nine, end, america, united\n",
      "musician: actor, actress, writer, singer, author, addition, nine, born, battle, politician\n",
      "dance: music, popular, country, jazz, battle, traditional, actor, development, history, based\n",
      "\n",
      "\n"
     ]
    },
    {
     "name": "stderr",
     "output_type": "stream",
     "text": [
      "501it [01:14,  6.03it/s]"
     ]
    },
    {
     "name": "stdout",
     "output_type": "stream",
     "text": [
      "| epoch   3 |   500/32580 batches | loss    1.335 \n",
      "money: even, it, able, development, seen, usually, regarded, perhaps, well, often\n",
      "lion: rest, kind, wings, aim, chapter, ability, choose, meet, pass, inhabitants\n",
      "africa: india, europe, australia, china, germany, japan, nine, end, america, united\n",
      "musician: actor, actress, writer, singer, author, addition, nine, born, battle, politician\n",
      "dance: music, popular, country, jazz, battle, traditional, actor, development, history, based\n",
      "\n",
      "\n"
     ]
    },
    {
     "name": "stderr",
     "output_type": "stream",
     "text": [
      "1001it [02:27,  6.08it/s]"
     ]
    },
    {
     "name": "stdout",
     "output_type": "stream",
     "text": [
      "| epoch   3 |  1000/32580 batches | loss    1.330 \n",
      "money: even, it, able, development, seen, usually, regarded, perhaps, well, often\n",
      "lion: rest, kind, wings, aim, chapter, ability, choose, meet, pass, inhabitants\n",
      "africa: india, europe, australia, china, germany, japan, nine, end, america, united\n",
      "musician: actor, actress, writer, singer, author, addition, nine, born, battle, politician\n",
      "dance: music, popular, country, jazz, battle, traditional, actor, development, history, based\n",
      "\n",
      "\n"
     ]
    },
    {
     "name": "stderr",
     "output_type": "stream",
     "text": [
      "1501it [03:40,  6.13it/s]"
     ]
    },
    {
     "name": "stdout",
     "output_type": "stream",
     "text": [
      "| epoch   3 |  1500/32580 batches | loss    1.333 \n",
      "money: even, it, able, development, seen, usually, regarded, perhaps, well, often\n",
      "lion: rest, kind, wings, aim, chapter, ability, choose, meet, pass, inhabitants\n",
      "africa: india, europe, australia, china, germany, japan, nine, end, america, united\n",
      "musician: actor, actress, writer, singer, author, addition, nine, born, battle, politician\n",
      "dance: music, popular, country, jazz, battle, traditional, actor, development, history, based\n",
      "\n",
      "\n"
     ]
    },
    {
     "name": "stderr",
     "output_type": "stream",
     "text": [
      "2001it [04:53,  6.09it/s]"
     ]
    },
    {
     "name": "stdout",
     "output_type": "stream",
     "text": [
      "| epoch   3 |  2000/32580 batches | loss    1.332 \n",
      "money: even, it, able, development, seen, usually, regarded, perhaps, well, often\n",
      "lion: rest, kind, wings, aim, chapter, ability, choose, meet, pass, inhabitants\n",
      "africa: india, europe, australia, china, germany, japan, nine, end, america, united\n",
      "musician: actor, actress, writer, singer, author, addition, nine, born, battle, politician\n",
      "dance: music, popular, country, jazz, battle, traditional, actor, development, history, based\n",
      "\n",
      "\n"
     ]
    },
    {
     "name": "stderr",
     "output_type": "stream",
     "text": [
      "2502it [06:06,  6.36it/s]"
     ]
    },
    {
     "name": "stdout",
     "output_type": "stream",
     "text": [
      "| epoch   3 |  2500/32580 batches | loss    1.331 \n",
      "money: even, it, able, development, seen, usually, regarded, perhaps, well, often\n",
      "lion: rest, kind, wings, aim, chapter, ability, choose, meet, pass, inhabitants\n",
      "africa: india, europe, australia, china, germany, japan, nine, end, america, united\n",
      "musician: actor, actress, writer, singer, author, addition, nine, born, battle, politician\n",
      "dance: music, popular, country, jazz, battle, traditional, actor, development, history, based\n",
      "\n",
      "\n"
     ]
    },
    {
     "name": "stderr",
     "output_type": "stream",
     "text": [
      "3001it [07:18,  6.16it/s]"
     ]
    },
    {
     "name": "stdout",
     "output_type": "stream",
     "text": [
      "| epoch   3 |  3000/32580 batches | loss    1.337 \n",
      "money: even, it, able, development, seen, usually, regarded, perhaps, well, often\n",
      "lion: rest, kind, wings, aim, chapter, ability, choose, meet, pass, inhabitants\n",
      "africa: india, europe, australia, china, germany, japan, nine, end, america, united\n",
      "musician: actor, actress, writer, singer, author, addition, nine, born, battle, politician\n",
      "dance: music, popular, country, jazz, battle, traditional, actor, development, history, based\n",
      "\n",
      "\n"
     ]
    },
    {
     "name": "stderr",
     "output_type": "stream",
     "text": [
      "3502it [08:30,  6.43it/s]"
     ]
    },
    {
     "name": "stdout",
     "output_type": "stream",
     "text": [
      "| epoch   3 |  3500/32580 batches | loss    1.333 \n",
      "money: even, it, able, development, seen, usually, regarded, perhaps, well, often\n",
      "lion: rest, kind, wings, aim, chapter, ability, choose, meet, pass, inhabitants\n",
      "africa: india, europe, australia, china, germany, japan, nine, end, america, united\n",
      "musician: actor, actress, writer, singer, author, addition, nine, born, battle, politician\n",
      "dance: music, popular, country, jazz, battle, traditional, actor, development, history, based\n",
      "\n",
      "\n"
     ]
    },
    {
     "name": "stderr",
     "output_type": "stream",
     "text": [
      "4001it [09:42,  6.16it/s]"
     ]
    },
    {
     "name": "stdout",
     "output_type": "stream",
     "text": [
      "| epoch   3 |  4000/32580 batches | loss    1.334 \n",
      "money: even, it, able, development, seen, usually, regarded, perhaps, well, often\n",
      "lion: rest, kind, wings, aim, chapter, ability, choose, meet, pass, inhabitants\n",
      "africa: india, europe, australia, china, germany, japan, nine, end, america, united\n",
      "musician: actor, actress, writer, singer, author, addition, nine, born, battle, politician\n",
      "dance: music, popular, country, jazz, battle, traditional, actor, development, history, based\n",
      "\n",
      "\n"
     ]
    },
    {
     "name": "stderr",
     "output_type": "stream",
     "text": [
      "4501it [10:54,  6.10it/s]"
     ]
    },
    {
     "name": "stdout",
     "output_type": "stream",
     "text": [
      "| epoch   3 |  4500/32580 batches | loss    1.333 \n",
      "money: even, it, able, development, seen, usually, regarded, perhaps, well, often\n",
      "lion: rest, kind, wings, aim, chapter, ability, choose, meet, pass, inhabitants\n",
      "africa: india, europe, australia, china, germany, japan, nine, end, america, united\n",
      "musician: actor, actress, writer, singer, author, addition, nine, born, battle, politician\n",
      "dance: music, popular, country, jazz, battle, traditional, actor, development, history, based\n",
      "\n",
      "\n"
     ]
    },
    {
     "name": "stderr",
     "output_type": "stream",
     "text": [
      "5001it [12:06,  6.10it/s]"
     ]
    },
    {
     "name": "stdout",
     "output_type": "stream",
     "text": [
      "| epoch   3 |  5000/32580 batches | loss    1.336 \n",
      "money: even, it, able, development, seen, usually, regarded, perhaps, well, often\n",
      "lion: rest, kind, wings, aim, chapter, ability, choose, meet, pass, inhabitants\n",
      "africa: india, europe, australia, china, germany, japan, nine, end, america, united\n",
      "musician: actor, actress, writer, singer, author, addition, nine, born, battle, politician\n",
      "dance: music, popular, country, jazz, battle, traditional, actor, development, history, based\n",
      "\n",
      "\n"
     ]
    },
    {
     "name": "stderr",
     "output_type": "stream",
     "text": [
      "5501it [13:18,  6.06it/s]"
     ]
    },
    {
     "name": "stdout",
     "output_type": "stream",
     "text": [
      "| epoch   3 |  5500/32580 batches | loss    1.332 \n",
      "money: even, it, able, development, seen, usually, regarded, perhaps, well, often\n",
      "lion: rest, kind, wings, aim, chapter, ability, choose, meet, pass, inhabitants\n",
      "africa: india, europe, australia, china, germany, japan, nine, end, america, united\n",
      "musician: actor, actress, writer, singer, author, addition, nine, born, battle, politician\n",
      "dance: music, popular, country, jazz, battle, traditional, actor, development, history, based\n",
      "\n",
      "\n"
     ]
    },
    {
     "name": "stderr",
     "output_type": "stream",
     "text": [
      "6002it [14:30,  6.30it/s]"
     ]
    },
    {
     "name": "stdout",
     "output_type": "stream",
     "text": [
      "| epoch   3 |  6000/32580 batches | loss    1.334 \n",
      "money: even, it, able, development, seen, usually, regarded, perhaps, well, often\n",
      "lion: rest, kind, wings, aim, chapter, ability, choose, meet, pass, inhabitants\n",
      "africa: india, europe, australia, china, germany, japan, nine, end, america, united\n",
      "musician: actor, actress, writer, singer, author, addition, nine, born, battle, politician\n",
      "dance: music, popular, country, jazz, battle, traditional, actor, development, history, based\n",
      "\n",
      "\n"
     ]
    },
    {
     "name": "stderr",
     "output_type": "stream",
     "text": [
      "6501it [15:42,  6.10it/s]"
     ]
    },
    {
     "name": "stdout",
     "output_type": "stream",
     "text": [
      "| epoch   3 |  6500/32580 batches | loss    1.331 \n",
      "money: even, it, able, development, seen, usually, regarded, perhaps, well, often\n",
      "lion: rest, kind, wings, aim, chapter, ability, choose, meet, pass, inhabitants\n",
      "africa: india, europe, australia, china, germany, japan, nine, end, america, united\n",
      "musician: actor, actress, writer, singer, author, addition, nine, born, battle, politician\n",
      "dance: music, popular, country, jazz, battle, traditional, actor, development, history, based\n",
      "\n",
      "\n"
     ]
    },
    {
     "name": "stderr",
     "output_type": "stream",
     "text": [
      "7001it [29:48,  6.01it/s] "
     ]
    },
    {
     "name": "stdout",
     "output_type": "stream",
     "text": [
      "| epoch   3 |  7000/32580 batches | loss    1.329 \n",
      "money: even, it, able, development, seen, usually, regarded, perhaps, well, often\n",
      "lion: rest, kind, wings, aim, chapter, ability, choose, meet, pass, inhabitants\n",
      "africa: india, europe, australia, china, germany, japan, nine, end, america, united\n",
      "musician: actor, actress, writer, singer, author, addition, nine, born, battle, politician\n",
      "dance: music, popular, country, jazz, battle, traditional, actor, development, history, based\n",
      "\n",
      "\n"
     ]
    },
    {
     "name": "stderr",
     "output_type": "stream",
     "text": [
      "7502it [31:02,  6.20it/s]"
     ]
    },
    {
     "name": "stdout",
     "output_type": "stream",
     "text": [
      "| epoch   3 |  7500/32580 batches | loss    1.335 \n",
      "money: even, it, able, development, seen, usually, regarded, perhaps, well, often\n",
      "lion: rest, kind, wings, aim, chapter, ability, choose, meet, pass, inhabitants\n",
      "africa: india, europe, australia, china, germany, japan, nine, end, america, united\n",
      "musician: actor, actress, writer, singer, author, addition, nine, born, battle, politician\n",
      "dance: music, popular, country, jazz, battle, traditional, actor, development, history, based\n",
      "\n",
      "\n"
     ]
    },
    {
     "name": "stderr",
     "output_type": "stream",
     "text": [
      "8002it [32:17,  6.22it/s]"
     ]
    },
    {
     "name": "stdout",
     "output_type": "stream",
     "text": [
      "| epoch   3 |  8000/32580 batches | loss    1.336 \n",
      "money: even, it, able, development, seen, usually, regarded, perhaps, well, often\n",
      "lion: rest, kind, wings, aim, chapter, ability, choose, meet, pass, inhabitants\n",
      "africa: india, europe, australia, china, germany, japan, nine, end, america, united\n",
      "musician: actor, actress, writer, singer, author, addition, nine, born, battle, politician\n",
      "dance: music, popular, country, jazz, battle, traditional, actor, development, history, based\n",
      "\n",
      "\n"
     ]
    },
    {
     "name": "stderr",
     "output_type": "stream",
     "text": [
      "8501it [33:32,  5.36it/s]"
     ]
    },
    {
     "name": "stdout",
     "output_type": "stream",
     "text": [
      "| epoch   3 |  8500/32580 batches | loss    1.334 \n",
      "money: even, it, able, development, seen, usually, regarded, perhaps, well, often\n",
      "lion: rest, kind, wings, aim, chapter, ability, choose, meet, pass, inhabitants\n",
      "africa: india, europe, australia, china, germany, japan, nine, end, america, united\n",
      "musician: actor, actress, writer, singer, author, addition, nine, born, battle, politician\n",
      "dance: music, popular, country, jazz, battle, traditional, actor, development, history, based\n",
      "\n",
      "\n"
     ]
    },
    {
     "name": "stderr",
     "output_type": "stream",
     "text": [
      "9001it [34:47,  5.95it/s]"
     ]
    },
    {
     "name": "stdout",
     "output_type": "stream",
     "text": [
      "| epoch   3 |  9000/32580 batches | loss    1.332 \n",
      "money: even, it, able, development, seen, usually, regarded, perhaps, well, often\n",
      "lion: rest, kind, wings, aim, chapter, ability, choose, meet, pass, inhabitants\n",
      "africa: india, europe, australia, china, germany, japan, nine, end, america, united\n",
      "musician: actor, actress, writer, singer, author, addition, nine, born, battle, politician\n",
      "dance: music, popular, country, jazz, battle, traditional, actor, development, history, based\n",
      "\n",
      "\n"
     ]
    },
    {
     "name": "stderr",
     "output_type": "stream",
     "text": [
      "9501it [36:00,  5.62it/s]"
     ]
    },
    {
     "name": "stdout",
     "output_type": "stream",
     "text": [
      "| epoch   3 |  9500/32580 batches | loss    1.332 \n",
      "money: even, it, able, development, seen, usually, regarded, perhaps, well, often\n",
      "lion: rest, kind, wings, aim, chapter, ability, choose, meet, pass, inhabitants\n",
      "africa: india, europe, australia, china, germany, japan, nine, end, america, united\n",
      "musician: actor, actress, writer, singer, author, addition, nine, born, battle, politician\n",
      "dance: music, popular, country, jazz, battle, traditional, actor, development, history, based\n",
      "\n",
      "\n"
     ]
    },
    {
     "name": "stderr",
     "output_type": "stream",
     "text": [
      "10001it [37:18,  5.76it/s]"
     ]
    },
    {
     "name": "stdout",
     "output_type": "stream",
     "text": [
      "| epoch   3 | 10000/32580 batches | loss    1.330 \n",
      "money: even, it, able, development, seen, usually, regarded, perhaps, well, often\n",
      "lion: rest, kind, wings, aim, chapter, ability, choose, meet, pass, inhabitants\n",
      "africa: india, europe, australia, china, germany, japan, nine, end, america, united\n",
      "musician: actor, actress, writer, singer, author, addition, nine, born, battle, politician\n",
      "dance: music, popular, country, jazz, battle, traditional, actor, development, history, based\n",
      "\n",
      "\n"
     ]
    },
    {
     "name": "stderr",
     "output_type": "stream",
     "text": [
      "10501it [38:33,  5.67it/s]"
     ]
    },
    {
     "name": "stdout",
     "output_type": "stream",
     "text": [
      "| epoch   3 | 10500/32580 batches | loss    1.336 \n",
      "money: even, it, able, development, seen, usually, regarded, perhaps, well, often\n",
      "lion: rest, kind, wings, aim, chapter, ability, choose, meet, pass, inhabitants\n",
      "africa: india, europe, australia, china, germany, japan, nine, end, america, united\n",
      "musician: actor, actress, writer, singer, author, addition, nine, born, battle, politician\n",
      "dance: music, popular, country, jazz, battle, traditional, actor, development, history, based\n",
      "\n",
      "\n"
     ]
    },
    {
     "name": "stderr",
     "output_type": "stream",
     "text": [
      "11001it [39:48,  6.12it/s]"
     ]
    },
    {
     "name": "stdout",
     "output_type": "stream",
     "text": [
      "| epoch   3 | 11000/32580 batches | loss    1.333 \n",
      "money: even, it, able, development, seen, usually, regarded, perhaps, well, often\n",
      "lion: rest, kind, wings, aim, chapter, ability, choose, meet, pass, inhabitants\n",
      "africa: india, europe, australia, china, germany, japan, nine, end, america, united\n",
      "musician: actor, actress, writer, singer, author, addition, nine, born, battle, politician\n",
      "dance: music, popular, country, jazz, battle, traditional, actor, development, history, based\n",
      "\n",
      "\n"
     ]
    },
    {
     "name": "stderr",
     "output_type": "stream",
     "text": [
      "11501it [41:01,  6.13it/s]"
     ]
    },
    {
     "name": "stdout",
     "output_type": "stream",
     "text": [
      "| epoch   3 | 11500/32580 batches | loss    1.336 \n",
      "money: even, it, able, development, seen, usually, regarded, perhaps, well, often\n",
      "lion: rest, kind, wings, aim, chapter, ability, choose, meet, pass, inhabitants\n",
      "africa: india, europe, australia, china, germany, japan, nine, end, america, united\n",
      "musician: actor, actress, writer, singer, author, addition, nine, born, battle, politician\n",
      "dance: music, popular, country, jazz, battle, traditional, actor, development, history, based\n",
      "\n",
      "\n"
     ]
    },
    {
     "name": "stderr",
     "output_type": "stream",
     "text": [
      "12001it [42:13,  6.14it/s]"
     ]
    },
    {
     "name": "stdout",
     "output_type": "stream",
     "text": [
      "| epoch   3 | 12000/32580 batches | loss    1.330 \n",
      "money: even, it, able, development, seen, usually, regarded, perhaps, well, often\n",
      "lion: rest, kind, wings, aim, chapter, ability, choose, meet, pass, inhabitants\n",
      "africa: india, europe, australia, china, germany, japan, nine, end, america, united\n",
      "musician: actor, actress, writer, singer, author, addition, nine, born, battle, politician\n",
      "dance: music, popular, country, jazz, battle, traditional, actor, development, history, based\n",
      "\n",
      "\n"
     ]
    },
    {
     "name": "stderr",
     "output_type": "stream",
     "text": [
      "12502it [43:26,  6.34it/s]"
     ]
    },
    {
     "name": "stdout",
     "output_type": "stream",
     "text": [
      "| epoch   3 | 12500/32580 batches | loss    1.332 \n",
      "money: even, it, able, development, seen, usually, regarded, perhaps, well, often\n",
      "lion: rest, kind, wings, aim, chapter, ability, choose, meet, pass, inhabitants\n",
      "africa: india, europe, australia, china, germany, japan, nine, end, america, united\n",
      "musician: actor, actress, writer, singer, author, addition, nine, born, battle, politician\n",
      "dance: music, popular, country, jazz, battle, traditional, actor, development, history, based\n",
      "\n",
      "\n"
     ]
    },
    {
     "name": "stderr",
     "output_type": "stream",
     "text": [
      "13002it [44:38,  6.37it/s]"
     ]
    },
    {
     "name": "stdout",
     "output_type": "stream",
     "text": [
      "| epoch   3 | 13000/32580 batches | loss    1.334 \n",
      "money: even, it, able, development, seen, usually, regarded, perhaps, well, often\n",
      "lion: rest, kind, wings, aim, chapter, ability, choose, meet, pass, inhabitants\n",
      "africa: india, europe, australia, china, germany, japan, nine, end, america, united\n",
      "musician: actor, actress, writer, singer, author, addition, nine, born, battle, politician\n",
      "dance: music, popular, country, jazz, battle, traditional, actor, development, history, based\n",
      "\n",
      "\n"
     ]
    },
    {
     "name": "stderr",
     "output_type": "stream",
     "text": [
      "13501it [45:50,  6.15it/s]"
     ]
    },
    {
     "name": "stdout",
     "output_type": "stream",
     "text": [
      "| epoch   3 | 13500/32580 batches | loss    1.335 \n",
      "money: even, it, able, development, seen, usually, regarded, perhaps, well, often\n",
      "lion: rest, kind, wings, aim, chapter, ability, choose, meet, pass, inhabitants\n",
      "africa: india, europe, australia, china, germany, japan, nine, end, america, united\n",
      "musician: actor, actress, writer, singer, author, addition, nine, born, battle, politician\n",
      "dance: music, popular, country, jazz, battle, traditional, actor, development, history, based\n",
      "\n",
      "\n"
     ]
    },
    {
     "name": "stderr",
     "output_type": "stream",
     "text": [
      "14002it [47:02,  6.36it/s]"
     ]
    },
    {
     "name": "stdout",
     "output_type": "stream",
     "text": [
      "| epoch   3 | 14000/32580 batches | loss    1.332 \n",
      "money: even, it, able, development, seen, usually, regarded, perhaps, well, often\n",
      "lion: rest, kind, wings, aim, chapter, ability, choose, meet, pass, inhabitants\n",
      "africa: india, europe, australia, china, germany, japan, nine, end, america, united\n",
      "musician: actor, actress, writer, singer, author, addition, nine, born, battle, politician\n",
      "dance: music, popular, country, jazz, battle, traditional, actor, development, history, based\n",
      "\n",
      "\n"
     ]
    },
    {
     "name": "stderr",
     "output_type": "stream",
     "text": [
      "14501it [48:13,  6.11it/s]"
     ]
    },
    {
     "name": "stdout",
     "output_type": "stream",
     "text": [
      "| epoch   3 | 14500/32580 batches | loss    1.337 \n",
      "money: even, it, able, development, seen, usually, regarded, perhaps, well, often\n",
      "lion: rest, kind, wings, aim, chapter, ability, choose, meet, pass, inhabitants\n",
      "africa: india, europe, australia, china, germany, japan, nine, end, america, united\n",
      "musician: actor, actress, writer, singer, author, addition, nine, born, battle, politician\n",
      "dance: music, popular, country, jazz, battle, traditional, actor, development, history, based\n",
      "\n",
      "\n"
     ]
    },
    {
     "name": "stderr",
     "output_type": "stream",
     "text": [
      "15001it [49:27,  5.83it/s]"
     ]
    },
    {
     "name": "stdout",
     "output_type": "stream",
     "text": [
      "| epoch   3 | 15000/32580 batches | loss    1.331 \n",
      "money: even, it, able, development, seen, usually, regarded, perhaps, well, often\n",
      "lion: rest, kind, wings, aim, chapter, ability, choose, meet, pass, inhabitants\n",
      "africa: india, europe, australia, china, germany, japan, nine, end, america, united\n",
      "musician: actor, actress, writer, singer, author, addition, nine, born, battle, politician\n",
      "dance: music, popular, country, jazz, battle, traditional, actor, development, history, based\n",
      "\n",
      "\n"
     ]
    },
    {
     "name": "stderr",
     "output_type": "stream",
     "text": [
      "15501it [50:41,  5.96it/s]"
     ]
    },
    {
     "name": "stdout",
     "output_type": "stream",
     "text": [
      "| epoch   3 | 15500/32580 batches | loss    1.332 \n",
      "money: even, it, able, development, seen, usually, regarded, perhaps, well, often\n",
      "lion: rest, kind, wings, aim, chapter, ability, choose, meet, pass, inhabitants\n",
      "africa: india, europe, australia, china, germany, japan, nine, end, america, united\n",
      "musician: actor, actress, writer, singer, author, addition, nine, born, battle, politician\n",
      "dance: music, popular, country, jazz, battle, traditional, actor, development, history, based\n",
      "\n",
      "\n"
     ]
    },
    {
     "name": "stderr",
     "output_type": "stream",
     "text": [
      "16001it [51:54,  6.16it/s]"
     ]
    },
    {
     "name": "stdout",
     "output_type": "stream",
     "text": [
      "| epoch   3 | 16000/32580 batches | loss    1.331 \n",
      "money: even, it, able, development, seen, usually, regarded, perhaps, well, often\n",
      "lion: rest, kind, wings, aim, chapter, ability, choose, meet, pass, inhabitants\n",
      "africa: india, europe, australia, china, germany, japan, nine, end, america, united\n",
      "musician: actor, actress, writer, singer, author, addition, nine, born, battle, politician\n",
      "dance: music, popular, country, jazz, battle, traditional, actor, development, history, based\n",
      "\n",
      "\n"
     ]
    },
    {
     "name": "stderr",
     "output_type": "stream",
     "text": [
      "16501it [53:10,  5.89it/s]"
     ]
    },
    {
     "name": "stdout",
     "output_type": "stream",
     "text": [
      "| epoch   3 | 16500/32580 batches | loss    1.336 \n",
      "money: even, it, able, development, seen, usually, regarded, perhaps, well, often\n",
      "lion: rest, kind, wings, aim, chapter, ability, choose, meet, pass, inhabitants\n",
      "africa: india, europe, australia, china, germany, japan, nine, end, america, united\n",
      "musician: actor, actress, writer, singer, author, addition, nine, born, battle, politician\n",
      "dance: music, popular, country, jazz, battle, traditional, actor, development, history, based\n",
      "\n",
      "\n"
     ]
    },
    {
     "name": "stderr",
     "output_type": "stream",
     "text": [
      "17001it [54:25,  5.81it/s]"
     ]
    },
    {
     "name": "stdout",
     "output_type": "stream",
     "text": [
      "| epoch   3 | 17000/32580 batches | loss    1.331 \n",
      "money: even, it, able, development, seen, usually, regarded, perhaps, well, often\n",
      "lion: rest, kind, wings, aim, chapter, ability, choose, meet, pass, inhabitants\n",
      "africa: india, europe, australia, china, germany, japan, nine, end, america, united\n",
      "musician: actor, actress, writer, singer, author, addition, nine, born, battle, politician\n",
      "dance: music, popular, country, jazz, battle, traditional, actor, development, history, based\n",
      "\n",
      "\n"
     ]
    },
    {
     "name": "stderr",
     "output_type": "stream",
     "text": [
      "17502it [55:41,  6.02it/s]"
     ]
    },
    {
     "name": "stdout",
     "output_type": "stream",
     "text": [
      "| epoch   3 | 17500/32580 batches | loss    1.328 \n",
      "money: even, it, able, development, seen, usually, regarded, perhaps, well, often\n",
      "lion: rest, kind, wings, aim, chapter, ability, choose, meet, pass, inhabitants\n",
      "africa: india, europe, australia, china, germany, japan, nine, end, america, united\n",
      "musician: actor, actress, writer, singer, author, addition, nine, born, battle, politician\n",
      "dance: music, popular, country, jazz, battle, traditional, actor, development, history, based\n",
      "\n",
      "\n"
     ]
    },
    {
     "name": "stderr",
     "output_type": "stream",
     "text": [
      "18001it [56:57,  6.05it/s]"
     ]
    },
    {
     "name": "stdout",
     "output_type": "stream",
     "text": [
      "| epoch   3 | 18000/32580 batches | loss    1.334 \n",
      "money: even, it, able, development, seen, usually, regarded, perhaps, well, often\n",
      "lion: rest, kind, wings, aim, chapter, ability, choose, meet, pass, inhabitants\n",
      "africa: india, europe, australia, china, germany, japan, nine, end, america, united\n",
      "musician: actor, actress, writer, singer, author, addition, nine, born, battle, politician\n",
      "dance: music, popular, country, jazz, battle, traditional, actor, development, history, based\n",
      "\n",
      "\n"
     ]
    },
    {
     "name": "stderr",
     "output_type": "stream",
     "text": [
      "18501it [58:12,  5.86it/s]"
     ]
    },
    {
     "name": "stdout",
     "output_type": "stream",
     "text": [
      "| epoch   3 | 18500/32580 batches | loss    1.332 \n",
      "money: even, it, able, development, seen, usually, regarded, perhaps, well, often\n",
      "lion: rest, kind, wings, aim, chapter, ability, choose, meet, pass, inhabitants\n",
      "africa: india, europe, australia, china, germany, japan, nine, end, america, united\n",
      "musician: actor, actress, writer, singer, author, addition, nine, born, battle, politician\n",
      "dance: music, popular, country, jazz, battle, traditional, actor, development, history, based\n",
      "\n",
      "\n"
     ]
    },
    {
     "name": "stderr",
     "output_type": "stream",
     "text": [
      "19001it [59:27,  6.17it/s]"
     ]
    },
    {
     "name": "stdout",
     "output_type": "stream",
     "text": [
      "| epoch   3 | 19000/32580 batches | loss    1.332 \n",
      "money: even, it, able, development, seen, usually, regarded, perhaps, well, often\n",
      "lion: rest, kind, wings, aim, chapter, ability, choose, meet, pass, inhabitants\n",
      "africa: india, europe, australia, china, germany, japan, nine, end, america, united\n",
      "musician: actor, actress, writer, singer, author, addition, nine, born, battle, politician\n",
      "dance: music, popular, country, jazz, battle, traditional, actor, development, history, based\n",
      "\n",
      "\n"
     ]
    },
    {
     "name": "stderr",
     "output_type": "stream",
     "text": [
      "19501it [1:00:40,  5.96it/s]"
     ]
    },
    {
     "name": "stdout",
     "output_type": "stream",
     "text": [
      "| epoch   3 | 19500/32580 batches | loss    1.331 \n",
      "money: even, it, able, development, seen, usually, regarded, perhaps, well, often\n",
      "lion: rest, kind, wings, aim, chapter, ability, choose, meet, pass, inhabitants\n",
      "africa: india, europe, australia, china, germany, japan, nine, end, america, united\n",
      "musician: actor, actress, writer, singer, author, addition, nine, born, battle, politician\n",
      "dance: music, popular, country, jazz, battle, traditional, actor, development, history, based\n",
      "\n",
      "\n"
     ]
    },
    {
     "name": "stderr",
     "output_type": "stream",
     "text": [
      "20001it [1:01:54,  5.77it/s]"
     ]
    },
    {
     "name": "stdout",
     "output_type": "stream",
     "text": [
      "| epoch   3 | 20000/32580 batches | loss    1.333 \n",
      "money: even, it, able, development, seen, usually, regarded, perhaps, well, often\n",
      "lion: rest, kind, wings, aim, chapter, ability, choose, meet, pass, inhabitants\n",
      "africa: india, europe, australia, china, germany, japan, nine, end, america, united\n",
      "musician: actor, actress, writer, singer, author, addition, nine, born, battle, politician\n",
      "dance: music, popular, country, jazz, battle, traditional, actor, development, history, based\n",
      "\n",
      "\n"
     ]
    },
    {
     "name": "stderr",
     "output_type": "stream",
     "text": [
      "20501it [1:03:09,  5.91it/s]"
     ]
    },
    {
     "name": "stdout",
     "output_type": "stream",
     "text": [
      "| epoch   3 | 20500/32580 batches | loss    1.332 \n",
      "money: even, it, able, development, seen, usually, regarded, perhaps, well, often\n",
      "lion: rest, kind, wings, aim, chapter, ability, choose, meet, pass, inhabitants\n",
      "africa: india, europe, australia, china, germany, japan, nine, end, america, united\n",
      "musician: actor, actress, writer, singer, author, addition, nine, born, battle, politician\n",
      "dance: music, popular, country, jazz, battle, traditional, actor, development, history, based\n",
      "\n",
      "\n"
     ]
    },
    {
     "name": "stderr",
     "output_type": "stream",
     "text": [
      "21001it [1:04:22,  6.10it/s]"
     ]
    },
    {
     "name": "stdout",
     "output_type": "stream",
     "text": [
      "| epoch   3 | 21000/32580 batches | loss    1.330 \n",
      "money: even, it, able, development, seen, usually, regarded, perhaps, well, often\n",
      "lion: rest, kind, wings, aim, chapter, ability, choose, meet, pass, inhabitants\n",
      "africa: india, europe, australia, china, germany, japan, nine, america, end, united\n",
      "musician: actor, actress, writer, singer, author, addition, nine, born, battle, politician\n",
      "dance: music, popular, country, jazz, battle, traditional, actor, development, history, based\n",
      "\n",
      "\n"
     ]
    },
    {
     "name": "stderr",
     "output_type": "stream",
     "text": [
      "21322it [1:05:11,  5.45it/s]\n"
     ]
    },
    {
     "ename": "KeyboardInterrupt",
     "evalue": "",
     "output_type": "error",
     "traceback": [
      "\u001b[1;31m---------------------------------------------------------------------------\u001b[0m",
      "\u001b[1;31mKeyboardInterrupt\u001b[0m                         Traceback (most recent call last)",
      "Cell \u001b[1;32mIn[159], line 4\u001b[0m\n\u001b[0;32m      1\u001b[0m \u001b[39mfor\u001b[39;00m epoch \u001b[39min\u001b[39;00m \u001b[39mrange\u001b[39m(\u001b[39m1\u001b[39m, NUM_EPOCHS \u001b[39m+\u001b[39m \u001b[39m1\u001b[39m):\n\u001b[0;32m      2\u001b[0m     epoch_start_time \u001b[39m=\u001b[39m time\u001b[39m.\u001b[39mtime()\n\u001b[1;32m----> 4\u001b[0m     train(train_dl, model, optimizer, epoch)\n\u001b[0;32m      5\u001b[0m     \u001b[39m# We have a learning rate scheduler here.\u001b[39;00m\n\u001b[0;32m      6\u001b[0m     \u001b[39m# Basically, given the state of the optimizer, this lowers the learning rate in a smart way.\u001b[39;00m\n\u001b[0;32m      7\u001b[0m     scheduler\u001b[39m.\u001b[39mstep()\n",
      "Cell \u001b[1;32mIn[158], line 95\u001b[0m, in \u001b[0;36mtrain\u001b[1;34m(dataloader, model, optimizer, epoch)\u001b[0m\n\u001b[0;32m     92\u001b[0m \u001b[39m# Used for optimization. This should be roughly 0.001, on average.\u001b[39;00m\n\u001b[0;32m     93\u001b[0m \u001b[39m# You can use this to see if your learning rate is right - you can also plot the loss performance.\u001b[39;00m\n\u001b[0;32m     94\u001b[0m \u001b[39mwith\u001b[39;00m torch\u001b[39m.\u001b[39mno_grad():\n\u001b[1;32m---> 95\u001b[0m     r \u001b[39m=\u001b[39m [\n\u001b[0;32m     96\u001b[0m         (LR \u001b[39m*\u001b[39m p\u001b[39m.\u001b[39mgrad\u001b[39m.\u001b[39mstd() \u001b[39m/\u001b[39m p\u001b[39m.\u001b[39mdata\u001b[39m.\u001b[39mstd())\u001b[39m.\u001b[39mlog10()\u001b[39m.\u001b[39mitem() \u001b[39mfor\u001b[39;00m _, p \u001b[39min\u001b[39;00m model\u001b[39m.\u001b[39mnamed_parameters()\n\u001b[0;32m     97\u001b[0m     ]\n\u001b[0;32m     98\u001b[0m     ratios\u001b[39m.\u001b[39mappend(r)  \n\u001b[0;32m    100\u001b[0m \u001b[39m# Do an optimization step. Update the parameters A and B.\u001b[39;00m\n",
      "Cell \u001b[1;32mIn[158], line 96\u001b[0m, in \u001b[0;36m<listcomp>\u001b[1;34m(.0)\u001b[0m\n\u001b[0;32m     92\u001b[0m \u001b[39m# Used for optimization. This should be roughly 0.001, on average.\u001b[39;00m\n\u001b[0;32m     93\u001b[0m \u001b[39m# You can use this to see if your learning rate is right - you can also plot the loss performance.\u001b[39;00m\n\u001b[0;32m     94\u001b[0m \u001b[39mwith\u001b[39;00m torch\u001b[39m.\u001b[39mno_grad():\n\u001b[0;32m     95\u001b[0m     r \u001b[39m=\u001b[39m [\n\u001b[1;32m---> 96\u001b[0m         (LR \u001b[39m*\u001b[39m p\u001b[39m.\u001b[39mgrad\u001b[39m.\u001b[39mstd() \u001b[39m/\u001b[39m p\u001b[39m.\u001b[39;49mdata\u001b[39m.\u001b[39;49mstd())\u001b[39m.\u001b[39mlog10()\u001b[39m.\u001b[39mitem() \u001b[39mfor\u001b[39;00m _, p \u001b[39min\u001b[39;00m model\u001b[39m.\u001b[39mnamed_parameters()\n\u001b[0;32m     97\u001b[0m     ]\n\u001b[0;32m     98\u001b[0m     ratios\u001b[39m.\u001b[39mappend(r)  \n\u001b[0;32m    100\u001b[0m \u001b[39m# Do an optimization step. Update the parameters A and B.\u001b[39;00m\n",
      "\u001b[1;31mKeyboardInterrupt\u001b[0m: "
     ]
    }
   ],
   "source": [
    "for epoch in range(1, NUM_EPOCHS + 1):\n",
    "    epoch_start_time = time.time()\n",
    "    \n",
    "    train(train_dl, model, optimizer, epoch)\n",
    "    # We have a learning rate scheduler here.\n",
    "    # Basically, given the state of the optimizer, this lowers the learning rate in a smart way.\n",
    "    scheduler.step()"
   ]
  },
  {
   "cell_type": "code",
   "execution_count": null,
   "id": "b0227888",
   "metadata": {},
   "outputs": [],
   "source": []
  },
  {
   "cell_type": "markdown",
   "id": "7187dcf9",
   "metadata": {},
   "source": [
    "### Some diagnostics."
   ]
  },
  {
   "cell_type": "markdown",
   "id": "ae40d972",
   "metadata": {},
   "source": [
    "Sometimes you want to add diagnostics to your NN.\n",
    "- For each iteration, get the $L_2$ norm of the gradients* learning_rate and divide this by the parameters. This should be about -3 on the log scale, i.e. the ratio should be about 0.001. If the ratios are smaller, the learning rate might be too small, otherwise too large. Below we do this for the Skip-Gram model above.\n"
   ]
  },
  {
   "cell_type": "code",
   "execution_count": null,
   "id": "f5d9d9e3",
   "metadata": {},
   "outputs": [
    {
     "data": {
      "text/plain": [
       "<matplotlib.legend.Legend at 0x4a5b6f7f0>"
      ]
     },
     "execution_count": 56,
     "metadata": {},
     "output_type": "execute_result"
    },
    {
     "data": {
      "image/png": "[encoded data removed]",
      "text/plain": [
       "<Figure size 2000x400 with 1 Axes>"
      ]
     },
     "metadata": {},
     "output_type": "display_data"
    }
   ],
   "source": [
    "\"\"\" FILL IN\"\"\""
   ]
  },
  {
   "cell_type": "markdown",
   "id": "c013aadc",
   "metadata": {},
   "source": [
    "How do you make sure the learing rate is good? Look at the above plots and suppose we have $log(LR * ratio) = -5$. Then $LR * ratio = 10^{-5}$. Assuming the ratio does not vary much, this probably means we need to increase the learing rate $LR$. Similarly for a reverse direction."
   ]
  },
  {
   "cell_type": "code",
   "execution_count": null,
   "id": "c08e311d",
   "metadata": {},
   "outputs": [],
   "source": []
  }
 ],
 "metadata": {
  "kernelspec": {
   "display_name": "base",
   "language": "python",
   "name": "python3"
  },
  "language_info": {
   "codemirror_mode": {
    "name": "ipython",
    "version": 3
   },
   "file_extension": ".py",
   "mimetype": "text/x-python",
   "name": "python",
   "nbconvert_exporter": "python",
   "pygments_lexer": "ipython3",
   "version": "3.10.8 | packaged by conda-forge | (main, Nov 24 2022, 14:07:00) [MSC v.1916 64 bit (AMD64)]"
  },
  "vscode": {
   "interpreter": {
    "hash": "e9f4c2e3c7edcc74941d763c22ae9bb8d5716b7961b59c0906229ce5f7f5dcfc"
   }
  }
 },
 "nbformat": 4,
 "nbformat_minor": 5
}
