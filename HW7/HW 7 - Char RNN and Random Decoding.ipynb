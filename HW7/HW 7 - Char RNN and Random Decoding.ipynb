{
 "cells": [
  {
   "cell_type": "code",
   "execution_count": 1,
   "id": "97ab5757",
   "metadata": {},
   "outputs": [
    {
     "name": "stderr",
     "output_type": "stream",
     "text": [
      "c:\\Users\\Alex\\miniconda3\\lib\\site-packages\\tqdm\\auto.py:22: TqdmWarning: IProgress not found. Please update jupyter and ipywidgets. See https://ipywidgets.readthedocs.io/en/stable/user_install.html\n",
      "  from .autonotebook import tqdm as notebook_tqdm\n"
     ]
    }
   ],
   "source": [
    "from tqdm import tqdm\n",
    "import torch.nn as nn\n",
    "import numpy as np\n",
    "import torch\n",
    "from torch.utils.data import Dataset\n",
    "from torch.utils.data import DataLoader"
   ]
  },
  {
   "cell_type": "code",
   "execution_count": 2,
   "id": "9ffd0ed7",
   "metadata": {},
   "outputs": [],
   "source": [
    "FILL_IN = \"FILL_IN\""
   ]
  },
  {
   "cell_type": "code",
   "execution_count": null,
   "id": "7bd215dd",
   "metadata": {},
   "outputs": [],
   "source": []
  },
  {
   "cell_type": "markdown",
   "id": "64c0320b",
   "metadata": {},
   "source": [
    "### Get the data and process\n",
    "- This is the Mysterious island found in Project Gutenberg."
   ]
  },
  {
   "cell_type": "code",
   "execution_count": 3,
   "id": "4bb6aa0c",
   "metadata": {},
   "outputs": [
    {
     "data": {
      "text/plain": [
       "766"
      ]
     },
     "execution_count": 3,
     "metadata": {},
     "output_type": "execute_result"
    }
   ],
   "source": [
    "with open('1268-0.txt', 'r', encoding=\"utf8\") as fp:\n",
    "    text=fp.read()\n",
    "\n",
    "text.index('THE MYSTERIOUS ISLAND')\n"
   ]
  },
  {
   "cell_type": "code",
   "execution_count": 4,
   "id": "d4e64a98",
   "metadata": {},
   "outputs": [],
   "source": [
    "# ## Reading and processing text\n",
    "# with open('1268-0.txt', 'r', encoding=\"utf8\") as fp:\n",
    "#     text=fp.read()\n",
    "\n",
    "# # Get the index of 'THE MYSTERIOUS ISLAND'\n",
    "# start_indx = text.index('THE MYSTERIOUS ISLAND')\n",
    "# # Get the index of 'End of the Project Gutenberg'\n",
    "# end_indx = text.index('END OF THE PROJECT GUTENBERG')\n",
    "\n",
    "# # Set text to the text between start and end idx.\n",
    "# text = text[start_indx:end_indx]\n",
    "# # Get the unique set of characters.\n",
    "# char_set = set(text)\n",
    "# print('Total Length:', len(text))\n",
    "# print('Unique Characters:', len(char_set))\n",
    "# assert(len(text) == 1130711)\n",
    "# assert(len(char_set) == 85)"
   ]
  },
  {
   "cell_type": "code",
   "execution_count": 5,
   "id": "5067480c",
   "metadata": {},
   "outputs": [
    {
     "name": "stdout",
     "output_type": "stream",
     "text": [
      "Total Length: 1112300\n",
      "Unique Characters: 80\n"
     ]
    }
   ],
   "source": [
    "## Reading and processing text\n",
    "with open('1268-0.txt', 'r', encoding=\"utf8\") as fp:\n",
    "    text=fp.read()\n",
    "\n",
    "# Get the index of 'THE MYSTERIOUS ISLAND'\n",
    "start_indx = text.index('THE MYSTERIOUS ISLAND')\n",
    "# Get the index of 'End of the Project Gutenberg'\n",
    "end_indx = text.index('END OF THE PROJECT GUTENBERG')\n",
    "\n",
    "# Set text to the text between start and end idx.\n",
    "text = text[start_indx:end_indx]\n",
    "# Get the unique set of characters.\n",
    "char_set = set(text)\n",
    "print('Total Length:', len(text))\n",
    "print('Unique Characters:', len(char_set))\n",
    "assert(len(text) == 1112300)\n",
    "assert(len(char_set) == 80)"
   ]
  },
  {
   "cell_type": "markdown",
   "id": "76393bdb",
   "metadata": {},
   "source": [
    "### Tokenze and get other helpers\n",
    "- We do this manually since everything is character based."
   ]
  },
  {
   "cell_type": "code",
   "execution_count": 6,
   "id": "3a445114",
   "metadata": {},
   "outputs": [
    {
     "name": "stdout",
     "output_type": "stream",
     "text": [
      "Text encoded shape:  (1112300,)\n",
      "THE MYSTERIOUS       == Encoding ==>  [44 32 29  1 37 48 43 44 29 42 33 39 45 43  1]\n",
      "[33 43 36 25 38 28]  == Reverse  ==>  ISLAND\n"
     ]
    }
   ],
   "source": [
    "# The universe of words.\n",
    "chars_sorted = sorted(char_set)\n",
    "\n",
    "# Effectively, these maps are the tokenizer.\n",
    "# Map each char to a unique int. This is a dict.\n",
    "char2int = {c:i for i, c in enumerate(chars_sorted)}\n",
    "# Do the revverse of the above, this should be a np array.\n",
    "int2char = np.array(chars_sorted)\n",
    "\n",
    "# Tokenize the entire corpus. This should be an np array of np.int32 type.\n",
    "text_encoded = np.array([char2int[char] for char in text], dtype=np.int32)\n",
    "\n",
    "print('Text encoded shape: ', text_encoded.shape)\n",
    "\n",
    "print(text[:15], '     == Encoding ==> ', text_encoded[:15])\n",
    "print(text_encoded[15:21], ' == Reverse  ==> ', ''.join(int2char[text_encoded[15:21]]))"
   ]
  },
  {
   "cell_type": "code",
   "execution_count": null,
   "id": "0d8e0270",
   "metadata": {},
   "outputs": [],
   "source": []
  },
  {
   "cell_type": "markdown",
   "id": "720cd752",
   "metadata": {},
   "source": [
    "#### Examples"
   ]
  },
  {
   "cell_type": "code",
   "execution_count": 7,
   "id": "e2743a57",
   "metadata": {},
   "outputs": [
    {
     "name": "stdout",
     "output_type": "stream",
     "text": [
      "Text encoded shape:  (1112300,)\n",
      "THE MYSTERIOUS       == Encoding ==>  [44 32 29  1 37 48 43 44 29 42 33 39 45 43  1]\n",
      "[33 43 36 25 38 28]  == Reverse  ==>  ISLAND\n"
     ]
    }
   ],
   "source": [
    "print('Text encoded shape: ', text_encoded.shape)\n",
    "print(text[:15], '     == Encoding ==> ', text_encoded[:15])\n",
    "print(text_encoded[15:21], ' == Reverse  ==> ', ''.join(int2char[text_encoded[15:21]]))"
   ]
  },
  {
   "cell_type": "code",
   "execution_count": 8,
   "id": "367e733d",
   "metadata": {},
   "outputs": [],
   "source": [
    "# assert(\n",
    "#     np.array_equal(\n",
    "#     text_encoded[:15],\n",
    "#         [48, 36, 33, 1, 41, 53, 47, 48, 33, 46, 37, 43, 49, 47,  1]\n",
    "#     )\n",
    "# )"
   ]
  },
  {
   "cell_type": "code",
   "execution_count": 9,
   "id": "2cdcafe4",
   "metadata": {},
   "outputs": [],
   "source": [
    "assert(\n",
    "    np.array_equal(\n",
    "    text_encoded[:15],\n",
    "        [44, 32, 29,  1, 37, 48, 43, 44, 29, 42, 33, 39, 45, 43,  1]\n",
    "    )\n",
    ")"
   ]
  },
  {
   "cell_type": "markdown",
   "id": "0c418ca0",
   "metadata": {},
   "source": [
    "### Process the data and get the data loader"
   ]
  },
  {
   "cell_type": "code",
   "execution_count": 10,
   "id": "f429dc3d",
   "metadata": {},
   "outputs": [],
   "source": [
    "seq_length = 40\n",
    "chunk_size = seq_length + 1\n",
    "\n",
    "# Break up the data into chunks of size 41. This should be a list of lists.\n",
    "# Use text_encoded. This will be used to get (x, y) pairs.\n",
    "text_chunks = [text_encoded[i:i+chunk_size]for i in range(0, len(text_encoded)-chunk_size)]"
   ]
  },
  {
   "cell_type": "code",
   "execution_count": 11,
   "id": "e329fffd",
   "metadata": {},
   "outputs": [
    {
     "name": "stderr",
     "output_type": "stream",
     "text": [
      "C:\\Users\\Alex\\AppData\\Local\\Temp\\ipykernel_13916\\788824669.py:15: UserWarning: Creating a tensor from a list of numpy.ndarrays is extremely slow. Please consider converting the list to a single numpy.ndarray with numpy.array() before converting to a tensor. (Triggered internally at C:\\cb\\pytorch_1000000000000\\work\\torch\\csrc\\utils\\tensor_new.cpp:233.)\n",
      "  seq_dataset = TextDataset(torch.tensor(text_chunks))\n"
     ]
    }
   ],
   "source": [
    "class TextDataset(Dataset):\n",
    "    def __init__(self, text_chunks):\n",
    "        self.text_chunks = text_chunks\n",
    "\n",
    "    def __len__(self):\n",
    "        return len(self.text_chunks)\n",
    "    \n",
    "    def __getitem__(self, idx):\n",
    "        # Get the text chunk at index idx.\n",
    "        text_chunk = text_chunks[idx]\n",
    "        # Return (x, y) where x has length 40 and y has length 40.\n",
    "        # y should be x shifted by 1 time.\n",
    "        return torch.tensor(text_chunk[:-1]), torch.tensor(text_chunk[1:])\n",
    "    \n",
    "seq_dataset = TextDataset(torch.tensor(text_chunks))"
   ]
  },
  {
   "cell_type": "code",
   "execution_count": 12,
   "id": "71328555",
   "metadata": {},
   "outputs": [
    {
     "name": "stdout",
     "output_type": "stream",
     "text": [
      "torch.Size([40]) torch.Size([40])\n",
      "Input (x): 'THE MYSTERIOUS ISLAND ***\\n\\n\\n\\n\\nTHE MYSTER'\n",
      "Target (y): 'HE MYSTERIOUS ISLAND ***\\n\\n\\n\\n\\nTHE MYSTERI'\n",
      "\n",
      "torch.Size([40]) torch.Size([40])\n",
      "Input (x): 'HE MYSTERIOUS ISLAND ***\\n\\n\\n\\n\\nTHE MYSTERI'\n",
      "Target (y): 'E MYSTERIOUS ISLAND ***\\n\\n\\n\\n\\nTHE MYSTERIO'\n",
      "\n"
     ]
    }
   ],
   "source": [
    "for i, (seq, target) in enumerate(seq_dataset):\n",
    "    # 40 characters for source and target ...\n",
    "    print(seq.shape, target.shape)\n",
    "    print('Input (x):', repr(''.join(int2char[seq])))\n",
    "    print('Target (y):', repr(''.join(int2char[target])))\n",
    "    print()\n",
    "    if i == 1:\n",
    "        break "
   ]
  },
  {
   "cell_type": "code",
   "execution_count": 13,
   "id": "ebb989c3",
   "metadata": {},
   "outputs": [],
   "source": [
    "device = torch.device(\"cuda:0\")"
   ]
  },
  {
   "cell_type": "code",
   "execution_count": 14,
   "id": "a881b316",
   "metadata": {},
   "outputs": [],
   "source": [
    "batch_size = 64\n",
    "torch.manual_seed(1)\n",
    "seq_dl = iter(DataLoader(seq_dataset, batch_size=batch_size, shuffle=True, drop_last=True))"
   ]
  },
  {
   "cell_type": "code",
   "execution_count": null,
   "id": "0f77f7f8",
   "metadata": {},
   "outputs": [],
   "source": []
  },
  {
   "cell_type": "markdown",
   "id": "45ed0b2f",
   "metadata": {},
   "source": [
    "### Write the models"
   ]
  },
  {
   "cell_type": "code",
   "execution_count": 15,
   "id": "1b4cbf1e",
   "metadata": {},
   "outputs": [],
   "source": [
    "class RNN(nn.Module):\n",
    "    def __init__(self, vocab_size, embed_dim, rnn_hidden_size):\n",
    "        super().__init__()\n",
    "        # Set to an embedding layer of vocab_size by embed_dim.\n",
    "        self.embedding = torch.nn.Embedding(vocab_size, embed_dim) \n",
    "        self.rnn_hidden_size = rnn_hidden_size\n",
    "        # Set to an LSTM with x having embed_dim and h dimension rnn_hidden_size.\n",
    "        # batch_first shoould be true.\n",
    "        self.rnn = torch.nn.LSTM(input_size=embed_dim, \n",
    "                                 hidden_size=self.rnn_hidden_size, \n",
    "                                 batch_first=True)\n",
    "        \n",
    "        # Make a linear layer from rnn_hidden_size to vocab_size.\n",
    "        # This will be used to get the yt for each xt.\n",
    "        self.fc = torch.nn.Linear(rnn_hidden_size, vocab_size)\n",
    "\n",
    "    def forward(self, text, hidden=None, cell=None):\n",
    "        # Get the embeddings for text.\n",
    "        out = self.embedding(text)\n",
    "        \n",
    "        # Pass out, hidden and cell through the rnn.\n",
    "        # If hidden is None, don't specify it and just use out.\n",
    "        if hidden is not None:\n",
    "            out, (hidden, cell) = self.rnn(out,(hidden, cell))\n",
    "        else:\n",
    "            out, (hidden, cell) = self.rnn(out)\n",
    "        \n",
    "        # Pass out through fc.\n",
    "        out = self.fc(out)\n",
    "        \n",
    "        return out, (hidden, cell)\n",
    "\n",
    "    def init_hidden(self, batch_size):\n",
    "        # Initialize to zeros of 1 by ??? appropriate dimensions.\n",
    "        hidden = torch.zeros(1, batch_size, self.rnn_hidden_size)\n",
    "        cell = torch.zeros(1, batch_size, self.rnn_hidden_size)\n",
    "        return hidden.to(device), cell.to(device)"
   ]
  },
  {
   "cell_type": "code",
   "execution_count": null,
   "id": "f16c03dc",
   "metadata": {},
   "outputs": [],
   "source": []
  },
  {
   "cell_type": "markdown",
   "id": "00789dfd",
   "metadata": {},
   "source": [
    "### Do this right way - across all data all at once!"
   ]
  },
  {
   "cell_type": "code",
   "execution_count": 16,
   "id": "33380607",
   "metadata": {},
   "outputs": [
    {
     "data": {
      "text/plain": [
       "RNN(\n",
       "  (embedding): Embedding(80, 256)\n",
       "  (rnn): LSTM(256, 512, batch_first=True)\n",
       "  (fc): Linear(in_features=512, out_features=80, bias=True)\n",
       ")"
      ]
     },
     "execution_count": 16,
     "metadata": {},
     "output_type": "execute_result"
    }
   ],
   "source": [
    "vocab_size = len(int2char)\n",
    "embed_dim = 256\n",
    "rnn_hidden_size = 512\n",
    "\n",
    "torch.manual_seed(1)\n",
    "model = RNN(vocab_size, embed_dim, rnn_hidden_size) \n",
    "model = model.to(device)\n",
    "model"
   ]
  },
  {
   "cell_type": "code",
   "execution_count": 17,
   "id": "2f47f48a",
   "metadata": {},
   "outputs": [
    {
     "name": "stdout",
     "output_type": "stream",
     "text": [
      "Epoch 0 loss: 4.3710\n",
      "Epoch 100 loss: 1.6866\n",
      "Epoch 200 loss: 1.5154\n",
      "Epoch 300 loss: 1.4382\n",
      "Epoch 400 loss: 1.4096\n",
      "Epoch 500 loss: 1.3793\n",
      "Epoch 600 loss: 1.4246\n",
      "Epoch 700 loss: 1.3709\n",
      "Epoch 800 loss: 1.3341\n",
      "Epoch 900 loss: 1.2611\n",
      "Epoch 1000 loss: 1.3631\n",
      "Epoch 1100 loss: 1.2731\n",
      "Epoch 1200 loss: 1.2680\n",
      "Epoch 1300 loss: 1.2585\n",
      "Epoch 1400 loss: 1.2136\n",
      "Epoch 1500 loss: 1.2267\n",
      "Epoch 1600 loss: 1.2505\n",
      "Epoch 1700 loss: 1.1825\n",
      "Epoch 1800 loss: 1.2406\n",
      "Epoch 1900 loss: 1.2116\n",
      "Epoch 2000 loss: 1.1868\n",
      "Epoch 2100 loss: 1.2404\n",
      "Epoch 2200 loss: 1.1593\n",
      "Epoch 2300 loss: 1.1979\n",
      "Epoch 2400 loss: 1.1915\n",
      "Epoch 2500 loss: 1.2149\n",
      "Epoch 2600 loss: 1.2341\n",
      "Epoch 2700 loss: 1.2748\n",
      "Epoch 2800 loss: 1.1813\n",
      "Epoch 2900 loss: 1.1380\n",
      "Epoch 3000 loss: 1.1813\n",
      "Epoch 3100 loss: 1.1856\n",
      "Epoch 3200 loss: 1.1827\n",
      "Epoch 3300 loss: 1.1994\n",
      "Epoch 3400 loss: 1.2012\n",
      "Epoch 3500 loss: 1.1736\n",
      "Epoch 3600 loss: 1.2060\n",
      "Epoch 3700 loss: 1.1165\n",
      "Epoch 3800 loss: 1.1612\n",
      "Epoch 3900 loss: 1.1531\n",
      "Epoch 4000 loss: 1.1882\n",
      "Epoch 4100 loss: 1.1555\n",
      "Epoch 4200 loss: 1.1679\n",
      "Epoch 4300 loss: 1.1616\n",
      "Epoch 4400 loss: 1.1607\n",
      "Epoch 4500 loss: 1.1498\n",
      "Epoch 4600 loss: 1.1530\n",
      "Epoch 4700 loss: 1.1455\n",
      "Epoch 4800 loss: 1.1110\n",
      "Epoch 4900 loss: 1.1148\n",
      "Epoch 5000 loss: 1.1054\n",
      "Epoch 5100 loss: 1.1775\n",
      "Epoch 5200 loss: 1.1167\n",
      "Epoch 5300 loss: 1.1716\n",
      "Epoch 5400 loss: 1.1385\n",
      "Epoch 5500 loss: 1.1324\n",
      "Epoch 5600 loss: 1.1278\n",
      "Epoch 5700 loss: 1.1378\n",
      "Epoch 5800 loss: 1.0631\n",
      "Epoch 5900 loss: 1.1306\n",
      "Epoch 6000 loss: 1.1763\n",
      "Epoch 6100 loss: 1.1507\n",
      "Epoch 6200 loss: 1.1725\n",
      "Epoch 6300 loss: 1.1513\n",
      "Epoch 6400 loss: 1.1893\n",
      "Epoch 6500 loss: 1.1002\n",
      "Epoch 6600 loss: 1.1958\n",
      "Epoch 6700 loss: 1.1279\n",
      "Epoch 6800 loss: 1.1171\n",
      "Epoch 6900 loss: 1.1471\n",
      "Epoch 7000 loss: 1.1325\n",
      "Epoch 7100 loss: 1.1246\n",
      "Epoch 7200 loss: 1.1124\n",
      "Epoch 7300 loss: 1.1120\n",
      "Epoch 7400 loss: 1.1246\n",
      "Epoch 7500 loss: 1.0908\n",
      "Epoch 7600 loss: 1.1410\n",
      "Epoch 7700 loss: 1.0987\n",
      "Epoch 7800 loss: 1.1366\n",
      "Epoch 7900 loss: 1.1763\n",
      "Epoch 8000 loss: 1.1151\n",
      "Epoch 8100 loss: 1.1364\n",
      "Epoch 8200 loss: 1.1301\n",
      "Epoch 8300 loss: 1.1372\n",
      "Epoch 8400 loss: 1.1309\n",
      "Epoch 8500 loss: 1.2266\n",
      "Epoch 8600 loss: 1.1399\n",
      "Epoch 8700 loss: 1.1420\n",
      "Epoch 8800 loss: 1.1256\n",
      "Epoch 8900 loss: 1.1839\n",
      "Epoch 9000 loss: 1.1060\n",
      "Epoch 9100 loss: 1.1283\n",
      "Epoch 9200 loss: 1.1277\n",
      "Epoch 9300 loss: 1.0817\n",
      "Epoch 9400 loss: 1.1246\n",
      "Epoch 9500 loss: 1.1517\n",
      "Epoch 9600 loss: 1.2233\n",
      "Epoch 9700 loss: 1.0945\n",
      "Epoch 9800 loss: 1.1467\n",
      "Epoch 9900 loss: 1.1165\n"
     ]
    }
   ],
   "source": [
    "criterion = nn.CrossEntropyLoss()\n",
    "optimizer = torch.optim.Adam(model.parameters(), lr=0.005)\n",
    "\n",
    "# Set to 10000.\n",
    "num_epochs = 10000\n",
    "\n",
    "torch.manual_seed(1)\n",
    "\n",
    "# epochs here will mean batches.\n",
    "# If the above takes too long, use 1000.\n",
    "\n",
    "for epoch in range(num_epochs):\n",
    "    hidden, cell = model.init_hidden(batch_size)\n",
    "    \n",
    "    # Get the next batch from seq_dl\n",
    "    seq_batch, target_batch = next(seq_dl)\n",
    "    seq_batch, target_batch = seq_batch.type(torch.LongTensor), target_batch.type(torch.LongTensor)\n",
    "        \n",
    "    seq_batch = seq_batch.to(device)\n",
    "    target_batch = target_batch.to(device)\n",
    "    \n",
    "    optimizer.zero_grad()\n",
    "    \n",
    "    loss = 0\n",
    "\n",
    "    # Pass through the model.\n",
    "    logits, _ = model(seq_batch, hidden, cell)\n",
    "    \n",
    "    # Get the loss.\n",
    "    # You'll need to reshape / view things to make this work.\n",
    "    loss += criterion(logits.view(-1,vocab_size), target_batch.view(-1))\n",
    "        \n",
    "    # Do back prop.\n",
    "    loss.backward()\n",
    "    optimizer.step()\n",
    "    \n",
    "    # Get the value in the tensor loss.\n",
    "    loss = loss.item()\n",
    "    \n",
    "    if epoch % 100 == 0:\n",
    "        print(f'Epoch {epoch} loss: {loss:.4f}')"
   ]
  },
  {
   "cell_type": "code",
   "execution_count": 18,
   "id": "20979e06",
   "metadata": {},
   "outputs": [
    {
     "name": "stdout",
     "output_type": "stream",
     "text": [
      "Probabilities: tensor([[0.0159, 0.1173, 0.8668]])\n",
      "[[1]\n",
      " [2]\n",
      " [2]\n",
      " [2]\n",
      " [2]\n",
      " [1]\n",
      " [2]\n",
      " [2]\n",
      " [2]\n",
      " [2]]\n"
     ]
    }
   ],
   "source": [
    "from torch.distributions.categorical import Categorical\n",
    "\n",
    "torch.manual_seed(1)\n",
    "\n",
    "logits = torch.tensor([[-1.0, 1.0, 3.0]])\n",
    "\n",
    "# Get the probabilities for these logits.\n",
    "print('Probabilities:', torch.nn.Softmax(dim=1)(logits))\n",
    "\n",
    "# Get a Categorical random variable with the above probabilities for each of the classes.\n",
    "m = Categorical(probs=torch.nn.Softmax(dim=1)(logits))\n",
    "# Generate 10 things.\n",
    "samples = m.sample(torch.Size([10]))\n",
    "\n",
    "print(samples.numpy())"
   ]
  },
  {
   "cell_type": "markdown",
   "id": "0547467d",
   "metadata": {},
   "source": [
    "### Random decoding.\n",
    "- This compounds problems: once you make a mistake, you can't undo it."
   ]
  },
  {
   "cell_type": "code",
   "execution_count": 19,
   "id": "f68537dd",
   "metadata": {},
   "outputs": [
    {
     "data": {
      "text/plain": [
       "tensor([44, 57, 54,  1, 58, 68, 61, 50, 63, 53])"
      ]
     },
     "execution_count": 19,
     "metadata": {},
     "output_type": "execute_result"
    }
   ],
   "source": [
    "encoded_input = torch.tensor([char2int[s] for s in 'The island'])\n",
    "encoded_input.view(1,-1).shape\n",
    "encoded_input"
   ]
  },
  {
   "cell_type": "code",
   "execution_count": null,
   "id": "9aa9cdf6",
   "metadata": {},
   "outputs": [],
   "source": []
  },
  {
   "cell_type": "code",
   "execution_count": 20,
   "id": "614fb236",
   "metadata": {},
   "outputs": [
    {
     "name": "stdout",
     "output_type": "stream",
     "text": [
      "torch.Size([1, 1, 512]) torch.Size([1, 1, 512])\n",
      "The islands of a moment when I have died to pigeons too mark.”\n",
      "\n",
      "“My friends!” exclaimed.\n",
      "\n",
      "As to prove of him, and stupefied the annual of the soda was followed to find a name of the turtle. There was a water of the Unitedy outsidered into scener. Theyther evidently one of\n",
      "the Daklingless on the colonists we can make nothing!”\n",
      "\n",
      "“And that we have have not very that the whom a look?” said Mangles, they\n",
      "reached, four miles to-sailor, rendered into the north of the lower colonists, are condermed their dwelling\n"
     ]
    }
   ],
   "source": [
    "def random_sample(\n",
    "    model,\n",
    "    starting_str, \n",
    "    len_generated_text=500, \n",
    "):\n",
    "\n",
    "    # Encode starting string into a tensor using char2str.\n",
    "    encoded_input = torch.tensor([char2int[s] for s in starting_str]).to(device)\n",
    "    \n",
    "    # Reshape to be 1 by ??? - let PyTorch figure this out.\n",
    "    encoded_input = encoded_input.view(1,-1)\n",
    "\n",
    "    # This will be what you generate, but it starts off with something.\n",
    "    generated_str = starting_str\n",
    "\n",
    "    # Put model in eval mode. This matters if we had dropout o batch / layer norms.\n",
    "    model.eval()\n",
    "    \n",
    "    hidden, cell = model.init_hidden(1)\n",
    "    print(hidden.shape, cell.shape)\n",
    "    \n",
    "    hidden = hidden.to(device)\n",
    "    \n",
    "    cell = cell.to(device)\n",
    "        \n",
    "    # Build up the starting hidden and cell states.\n",
    "    # You can do this all in one go?\n",
    "    for c in range(len(starting_str)-1):\n",
    "        # Feed each letter 1 by 1 and then get the final hidden state.\n",
    "        out = encoded_input[:,c].unsqueeze(0)\n",
    "        # Pass out through, note we update hidden and cell and use them again\n",
    "        _, (hidden, cell) = model(out, hidden, cell)\n",
    "    \n",
    "    # Gte the last char; note we did not do go to the last char above.\n",
    "    last_char = encoded_input[:,-1]\n",
    "    # Generate chars one at a time, add them to generated_str.\n",
    "    # Do this over and over until you get the desired length.\n",
    "\n",
    "    for i in range(len_generated_text):\n",
    "        last_char = last_char.unsqueeze(0)\n",
    "        # Use hidden and cell from the above.\n",
    "        # Use last_char, which will be updated over and over.\n",
    "        logits, (hidden, cell) = model(last_char, hidden, cell)\n",
    "        # Get the logits.\n",
    "        logits = logits.squeeze()\n",
    "        \n",
    "        # m is a random variable with probabilities based on the softmax of the logits.\n",
    "        m = Categorical(probs=torch.nn.Softmax(dim=0)(logits))\n",
    "        \n",
    "        # Generate from m 1 char.\n",
    "        last_char = m.sample().unsqueeze(0)\n",
    "        \n",
    "        # Add the geenrated char to generated_str, but pass it through int2str so that\n",
    "        generated_str += int2char[last_char.item()]\n",
    "        \n",
    "    return generated_str\n",
    "\n",
    "torch.manual_seed(1)\n",
    "model.to(device)\n",
    "print(random_sample(model, starting_str='The island'))"
   ]
  },
  {
   "cell_type": "code",
   "execution_count": null,
   "id": "98f3279f",
   "metadata": {},
   "outputs": [],
   "source": []
  }
 ],
 "metadata": {
  "kernelspec": {
   "display_name": "Python 3 (ipykernel)",
   "language": "python",
   "name": "python3"
  },
  "language_info": {
   "codemirror_mode": {
    "name": "ipython",
    "version": 3
   },
   "file_extension": ".py",
   "mimetype": "text/x-python",
   "name": "python",
   "nbconvert_exporter": "python",
   "pygments_lexer": "ipython3",
   "version": "3.10.8"
  }
 },
 "nbformat": 4,
 "nbformat_minor": 5
}
