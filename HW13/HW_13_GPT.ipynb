{
  "cells": [
    {
      "cell_type": "code",
      "execution_count": 1,
      "id": "9abce638",
      "metadata": {
        "colab": {
          "base_uri": "https://localhost:8080/"
        },
        "id": "9abce638",
        "outputId": "105fff4a-e048-4701-87fd-69d485fa08c8"
      },
      "outputs": [
        {
          "name": "stderr",
          "output_type": "stream",
          "text": [
            "c:\\Users\\Alex\\miniconda3\\lib\\site-packages\\tqdm\\auto.py:22: TqdmWarning: IProgress not found. Please update jupyter and ipywidgets. See https://ipywidgets.readthedocs.io/en/stable/user_install.html\n",
            "  from .autonotebook import tqdm as notebook_tqdm\n"
          ]
        },
        {
          "data": {
            "text/plain": [
              "<torch._C.Generator at 0x2015c921910>"
            ]
          },
          "execution_count": 1,
          "metadata": {},
          "output_type": "execute_result"
        }
      ],
      "source": [
        "import torch\n",
        "import torch.nn as nn\n",
        "from torch.nn import functional as F\n",
        "\n",
        "# Hyperparameters.\n",
        "# I suggest you start with very small values, unless you have a strong PC or are running on the cluster                                                                                                                       \n",
        "batch_size = 64 # How many independent sequences will we process in parallel?                                                           \n",
        "block_size = 128 # What is the maximum context length for predictions?                                                                  \n",
        "max_iters = 5000 # Max iterations we run the optimization\n",
        "# How often we evaluate across the optimization; every 500 iterations\n",
        "eval_interval = 500\n",
        "learning_rate = 3e-4\n",
        "\"\"\"\n",
        "Use 'mps' if on a mac as below:\n",
        "\n",
        "device = 'mps' if torch.backends.mps.is_available() else 'cpu'\n",
        "\"\"\"\n",
        "device = 'cpu'\n",
        "# How many batches we use each time we evaluate\n",
        "eval_iters = 200\n",
        "# d_model = 96\n",
        "# n_head = 6 # This implied that each head has a dimension for the key, query, and values of d_model / 6.\n",
        "# n_layer = 6 # This implies we have 6 turns to mix the embeddigs; this is \"Nx\" in the paper\n",
        "# dropout = 0.2\n",
        "# ------------\n",
        "\n",
        "d_model = 10\n",
        "n_head = 2 # This implied that each head has a dimension for the key, query, and values of d_model / 6.\n",
        "n_layer = 2 # This implies we have 6 turns to mix the embeddigs; this is \"Nx\" in the paper\n",
        "dropout = 0.2\n",
        "\n",
        "\n",
        "FILL_IN = \"FILL_IN\"\n",
        "\n",
        "torch.manual_seed(1337)"
      ]
    },
    {
      "cell_type": "code",
      "execution_count": 2,
      "id": "FONrRI-iKuaB",
      "metadata": {
        "colab": {
          "base_uri": "https://localhost:8080/"
        },
        "id": "FONrRI-iKuaB",
        "outputId": "d2720cdc-ff9f-48c0-ad45-ba47ff993031"
      },
      "outputs": [
        {
          "name": "stderr",
          "output_type": "stream",
          "text": [
            "'gdown' is not recognized as an internal or external command,\n",
            "operable program or batch file.\n",
            "'id' is not recognized as an internal or external command,\n",
            "operable program or batch file.\n"
          ]
        }
      ],
      "source": [
        "!gdown 'https://drive.google.com/uc?export=download&id=1RlmRmXiWVKpZq98ftdtOIdM2lsA1uw3j'"
      ]
    },
    {
      "cell_type": "markdown",
      "id": "HXK8qBjo01Yy",
      "metadata": {
        "id": "HXK8qBjo01Yy"
      },
      "source": [
        "As usual, we read the text file and then get two dictionaries from char to idx and in reverse. char embeddings is what we will use here."
      ]
    },
    {
      "cell_type": "code",
      "execution_count": 3,
      "id": "1930b1d3",
      "metadata": {
        "id": "1930b1d3"
      },
      "outputs": [],
      "source": [
        "with open('hemingway.txt', 'r', encoding='utf-8') as f:\n",
        "    text = f.read()\n",
        "\n",
        "# Here are all the unique characters that occur in this text                                                                            \n",
        "chars = sorted(list(set(text)))\n",
        "vocab_size = len(chars)\n",
        "# Create a mapping from characters to integers                                                                                          \n",
        "stoi = { ch:i for i,ch in enumerate(chars) }\n",
        "itos = { i:ch for i,ch in enumerate(chars) }\n",
        "encode = lambda s: [stoi[c] for c in s] # Encoder: take a string, output a list of integers                                             \n",
        "decode = lambda l: ''.join([itos[i] for i in l]) # Decoder: take a list of integers, output a string                                    \n",
        "\n",
        "# Train and Test splits                                                                                                                 \n",
        "data = torch.tensor(encode(text), dtype=torch.long)\n",
        "n = int(0.9*len(data)) # First 90% will be train, rest val                                                                              \n",
        "train_data = data[:n]\n",
        "val_data = data[n:]"
      ]
    },
    {
      "cell_type": "code",
      "execution_count": 4,
      "id": "4e8048d9",
      "metadata": {},
      "outputs": [
        {
          "data": {
            "text/plain": [
              "119907"
            ]
          },
          "execution_count": 4,
          "metadata": {},
          "output_type": "execute_result"
        }
      ],
      "source": [
        "train_data.shape[0]"
      ]
    },
    {
      "cell_type": "code",
      "execution_count": 5,
      "id": "bade6f32",
      "metadata": {
        "id": "bade6f32"
      },
      "outputs": [],
      "source": [
        "# Data loading                                                                                                                          \n",
        "def get_batch(split):\n",
        "    # Generate a small batch of data of inputs x and targets y                                                                          \n",
        "    data = train_data if split == 'train' else val_data\n",
        "    # Randomly select batch_size rows from data's row indices\n",
        "    ix = torch.randint(0, train_data.shape[0]-block_size, (batch_size, ))\n",
        "    # Select batch_size chuncks of text each of size block_size; stack them\n",
        "    xb = torch.tensor([data[i.item():i.item()+block_size] for i in ix])\n",
        "    # Do the same for y, but make sure that this is shifted over by 1\n",
        "    yb = torch.tensor([data[i.item()+block_size] for i in ix])\n",
        "    # I.e. if you select xb (1, 2, 3, 4), yb should be (2, 3, 4, 5)\n",
        "    xb, yb = xb.to(device), yb.to(device)\n",
        "    # Each of xb, yb should be (batch_size, block_size)\n",
        "    return xb, yb"
      ]
    },
    {
      "cell_type": "code",
      "execution_count": 13,
      "id": "938086a6",
      "metadata": {
        "id": "938086a6"
      },
      "outputs": [],
      "source": [
        "@torch.no_grad()\n",
        "def estimate_loss(model):\n",
        "    out = {}\n",
        "    # Put the model in eval mode here\n",
        "    model.eval()\n",
        "    for split in ['train', 'val']:\n",
        "        losses = torch.zeros(eval_iters, device = device)\n",
        "        for k in range(eval_iters):\n",
        "            # Get a batch of data\n",
        "            xb, yb = get_batch(split)\n",
        "            # Get the mean and loss\n",
        "            logits, loss = model(xb, yb)\n",
        "            # Get the loss for this batch\n",
        "            losses[k] = loss.item()\n",
        "        # Insert the mean estimate for the loss, based on the slit you are in\n",
        "        out[split] = loss.mean().item()\n",
        "    # Put the model in train mode here\n",
        "    model.train()\n",
        "    return out"
      ]
    },
    {
      "cell_type": "code",
      "execution_count": null,
      "id": "a54adb41",
      "metadata": {
        "id": "a54adb41"
      },
      "outputs": [],
      "source": []
    },
    {
      "cell_type": "code",
      "execution_count": 26,
      "id": "799dfe6b",
      "metadata": {},
      "outputs": [
        {
          "name": "stdout",
          "output_type": "stream",
          "text": [
            "tensor([[0.2094, 0.2952, 0.6807, 0.7514, 0.7955],\n",
            "        [0.0387, 0.3795, 0.8632, 0.2056, 0.1443],\n",
            "        [0.8193, 0.7120, 0.2796, 0.2455, 0.0516],\n",
            "        [0.5531, 0.7896, 0.0966, 0.5480, 0.8106],\n",
            "        [0.8791, 0.8122, 0.7541, 0.2819, 0.6150]])\n",
            "tensor([[0.2094,   -inf,   -inf,   -inf,   -inf],\n",
            "        [0.0387, 0.3795,   -inf,   -inf,   -inf],\n",
            "        [0.8193, 0.7120, 0.2796,   -inf,   -inf],\n",
            "        [0.5531, 0.7896, 0.0966, 0.5480,   -inf],\n",
            "        [0.8791, 0.8122, 0.7541, 0.2819, 0.6150]])\n"
          ]
        }
      ],
      "source": [
        "test = torch.rand(5,5)\n",
        "print(test)\n",
        "test1 = test.masked_fill(test.tril()==0, torch.tensor(float('-inf')))\n",
        "print(test1)"
      ]
    },
    {
      "cell_type": "code",
      "execution_count": null,
      "id": "10e26176",
      "metadata": {
        "id": "10e26176"
      },
      "outputs": [],
      "source": [
        "class Head(nn.Module):\n",
        "    \"\"\"\n",
        "    This class represents one head of self-attention\n",
        "    Note that since this is a Decoder, this is masked-self-attention\n",
        "    There is no Encoder, so there is no cross-self-attention\n",
        "    \"\"\"\n",
        "\n",
        "    def __init__(self, d_head):\n",
        "        super().__init__()\n",
        "        # Map each key, query, or value in to a d_head dimensional model.\n",
        "        # Each should be matcies from d_model to d_head\n",
        "        self.W_K = nn.Embedding(d_model, d_head)\n",
        "        self.W_Q = nn.Embedding(d_model, d_head)\n",
        "        self.W_V = nn.Embedding(d_model, d_head)\n",
        "        self.d_head = d_head\n",
        "        self.register_buffer('tril', torch.tril(torch.ones(block_size, block_size)))\n",
        "\n",
        "        self.dropout = nn.Dropout(dropout)\n",
        "\n",
        "    def forward(self, x):\n",
        "        # (B, T, d_model)\n",
        "        # B = batch_size, T = block_size in the below\n",
        "        B,T,d = x.shape\n",
        "        # Get the key and query representations from the embedding x\n",
        "        # (B,T,d_head)\n",
        "        k = self.W_K(x)\n",
        "        # (B,T,d_head)                                                                                                       \n",
        "        q = self.W_Q(x)\n",
        "        # (B,T,d_head)\n",
        "        v = self.W_V(x)                                                                                          \n",
        "        \n",
        "        # Compute attention scores, and get the new representations for this head\n",
        "        \n",
        "        # (B T, d_head) @ (B, d_head, T) = (B, T, T)\n",
        "        # Multiply q by k and divide by the appropriate constant\n",
        "        scores = torch.bmm(q, k.view(B, self.d_head, T))/torch.sqrt(self.d_head)\n",
        "        \n",
        "        # (B, T, T)  \n",
        "        # Apply a mask to scores, making all scores above the diagonal -inf                                                      \n",
        "        scores = scores.masked_fill(scores.tril()==0, torch.tensor(float('-inf')))\n",
        "        \n",
        "        # (B, T, T) \n",
        "        # Apply softmax to the final dimension of scores                                                      \n",
        "        a =  torch.nn.Softmax(dim=-1)(scores)\n",
        "\n",
        "        # Apply dropout                                                                                      \n",
        "        a = self.dropout(a)\n",
        "        # Perform the weighted aggregation of the values         \n",
        "        # Using a and v, get the new representations\n",
        "        # (B, T, T) @ (B, T, d_head) -> (B, T, d_head)                                                                                                     \n",
        "        out = torch.bmm(a, n) \n",
        "        # For each token, return the weighted sum of the values\n",
        "        return out\n",
        "\n",
        "class MultiHeadAttention(nn.Module):\n",
        "    \"\"\"\n",
        "    Multiple heads of self-attention in parallel\n",
        "    You can have just sequential code below\n",
        "    \"\"\"\n",
        "\n",
        "    def __init__(self, num_heads, d_head):\n",
        "        super().__init__()\n",
        "        self.heads = nn.ModuleList([Head(d_head) for _ in range(num_heads)])\n",
        "        # This is to project back to the dimension of d_model. In this case, it is just a learned linear map\n",
        "        self.W_O = torch.nn.Linear(num_heads*d_head, d_model)\n",
        "        self.dropout = nn.Dropout(dropout)\n",
        "\n",
        "    def forward(self, x):\n",
        "        # Concatenate the different representations per head along the last dimension\n",
        "        out = torch.cat([head(x) for head in self.heads], dim=-1)\n",
        "        # Project the concatenation and apply dropout; this is the W_O in \"Attention is all you need\"\n",
        "        out = self.dropout(self.W_O(out))\n",
        "        return out\n"
      ]
    },
    {
      "cell_type": "code",
      "execution_count": 27,
      "id": "XdEtmrPm7ZCD",
      "metadata": {
        "id": "XdEtmrPm7ZCD"
      },
      "outputs": [],
      "source": [
        "class FeedFoward(nn.Module):\n",
        "    \"\"\"\n",
        "    A simple linear layer followed by a non-linearity; this is applied at the token level\n",
        "    \"\"\"\n",
        "\n",
        "    def __init__(self, d_model):\n",
        "        super().__init__()\n",
        "        d_ff = 4 * d_model\n",
        "        # Map each token via a linear map to d_ff, apply ReLU, map back to d_model, and then apply dropout \n",
        "        # This can be done with nn.Sequential\n",
        "        self.ff = torch.nn.Sequential(\n",
        "            torch.nn.linear(d_model, d_ff),\n",
        "            torch.nn.ReLU(),\n",
        "            torch.nn.linear(d_ff, d_model),\n",
        "            torch.nn.Dropout(dropout)\n",
        "        )\n",
        "    def forward(self, x):\n",
        "        return self.ff(x)"
      ]
    },
    {
      "cell_type": "code",
      "execution_count": 28,
      "id": "ddb29049",
      "metadata": {
        "id": "ddb29049"
      },
      "outputs": [],
      "source": [
        "class DecoderBlock(nn.Module):\n",
        "    \"\"\"\n",
        "    Transformer decoder block: communication followed by computation\n",
        "    These are stacked on top of each other one after another\n",
        "    \"\"\"\n",
        "\n",
        "    def __init__(self, d_model, n_head):\n",
        "        super().__init__()\n",
        "        # Each head gets a smaller dimensional representation of the data\n",
        "        # Assume each head gets a representation of dimension d_head and d_model is divisible by n_head\n",
        "        d_head = d_model // n_head\n",
        "        self.sa = MultiHeadAttention(n_head, d_head)\n",
        "        self.ff = FeedFoward(d_model)\n",
        "        self.ln1 = nn.LayerNorm(d_model)\n",
        "        self.ln2 = nn.LayerNorm(d_model)\n",
        "\n",
        "    def forward(self, x):\n",
        "        \"\"\"\n",
        "        This is different from the originl transformer paper\n",
        "        In the \"Attention is all you need\" paper, we had\n",
        "        x = self.ln1(x + self.sa(x))\n",
        "        x = self.ln2(x + self.ffwd(x))\n",
        "        See Figure 1 here, and mimic that: https://arxiv.org/pdf/2002.04745.pdf\n",
        "        \"\"\"\n",
        "        x = x + self.sa(self.ln1(x))\n",
        "        x = x + self.ff(self.ln2(x))\n",
        "        return x\n"
      ]
    },
    {
      "cell_type": "code",
      "execution_count": 11,
      "id": "1d02f0a8",
      "metadata": {},
      "outputs": [
        {
          "name": "stdout",
          "output_type": "stream",
          "text": [
            "tensor([[-1,  0, -1,  ...,  0,  0,  0],\n",
            "        [-2,  0,  0,  ...,  0,  0,  0],\n",
            "        [ 0,  1,  0,  ...,  0,  0,  0],\n",
            "        ...,\n",
            "        [ 0, -1,  0,  ...,  1, -1,  1],\n",
            "        [ 0,  0,  0,  ...,  0,  0, -1],\n",
            "        [ 0, -1,  1,  ...,  0, -1,  0]])\n"
          ]
        }
      ],
      "source": [
        "idx_test = torch.randn(64, 128).to(torch.int64)\n",
        "print(idx_test)"
      ]
    },
    {
      "cell_type": "code",
      "execution_count": 13,
      "id": "80086be9",
      "metadata": {},
      "outputs": [
        {
          "name": "stdout",
          "output_type": "stream",
          "text": [
            "torch.Size([64, 128, 10])\n"
          ]
        }
      ],
      "source": [
        "emb1 = torch.nn.Embedding(vocab_size, d_model)\n",
        "idx_test = torch.rand(64, 128).long()\n",
        "test2 = emb1(idx_test)\n",
        "print(test2.shape)"
      ]
    },
    {
      "cell_type": "code",
      "execution_count": null,
      "id": "5c230527",
      "metadata": {
        "id": "5c230527"
      },
      "outputs": [],
      "source": [
        "class GPT(nn.Module):\n",
        "    def __init__(self):\n",
        "        super().__init__()\n",
        "        # Each token directly reads off the logits for the next token from a lookup table \n",
        "        # Token embeddings are from vocab_size to d_model                                                                                                                                                                                                                                                                                                                                                                                                                                                           \n",
        "        self.token_embedding_table = torch.nn.Embedding(vocab_size, d_model)\n",
        "        # Position embeddings are from block_size (T) to d_model\n",
        "        self.position_embedding_table = torch.nn.Embedding(block_size, d_model)\n",
        "        # This should be n_sequential applications of a DecoderBlock\n",
        "        # This is the \"Nx\" piece in the paper\n",
        "        self.blocks = torch.nn.Sequential(*[DecoderBlock(d_model, n_head) for _ in range(n_layer)])\n",
        "         # Final layer norm   \n",
        "        self.ln = nn.LayerNorm(d_model)                                                                                                                                                                                                                                                                                                                                                                                                                                                                                    \n",
        "        self.ff = nn.Linear(d_model, vocab_size)\n",
        "\n",
        "    def forward(self, idx, targets=None):\n",
        "        B, T = idx.shape\n",
        "\n",
        "        # idx and targets are both (B,T) tensor of integers\n",
        "        # (B,T,d_model)  \n",
        "        tok_emb = self.token_embedding_table(idx)\n",
        "        # (T,d_model)\n",
        "        pos_emb = self.position_embedding_table(idx) \n",
        "        # Add positional encodings to encodings\n",
        "        # (B,T,d_model)    \n",
        "        x = FILL_IN\n",
        "\n",
        "        # Mix up the token representations over and over via the blocks\n",
        "        # (B,T,d_model)  \n",
        "        x = self.blocks(x) \n",
        "        \n",
        "        # Apply layer norm\n",
        "        # (B,T,d_model)\n",
        "        x = FILL_IN \n",
        "        \n",
        "        # Apply the final linear map, to get to dimension vocab_size\n",
        "        # (B,T,vocab_size) \n",
        "        logits = FILL_IN                                                                                                                                                                                                                                                                                                                                                                                                                                                                                             \n",
        "\n",
        "        if targets is None:\n",
        "            loss = None\n",
        "        else:\n",
        "            B, T, V = logits.shape\n",
        "            logits = logits.view(B*T, V)\n",
        "            targets = targets.view(B*T)\n",
        "            loss = F.cross_entropy(logits, targets)\n",
        "\n",
        "        return logits, loss\n",
        "\n",
        "    def generate(self, idx, max_new_tokens):\n",
        "        \"\"\"\n",
        "        idx is (B, T) array of indices in the current context\n",
        "        This will generate B total paths in parrallel\n",
        "        We will just geenrate 1 batch below\n",
        "        \"\"\"\n",
        "        self.eval()\n",
        "        for _ in range(max_new_tokens):\n",
        "            # crop idx to the last block_size tokens\n",
        "            # The model only has kowledge of the context of maximum size block_size\n",
        "            # Get the newest (B, T) data; T = block_size\n",
        "            idx_cond = FILL_IN\n",
        "            \n",
        "            # Get the predictions\n",
        "            # (B, T, vocab_size)\n",
        "            logits, loss = FILL_IN\n",
        "            \n",
        "            # Focus only on the last time step, get the logits \n",
        "            # (B, vocab_size)                                                                                                                                                                                                                                                                                                                                                                                                                                                                                                      \n",
        "            logits = FILL_IN                                                                                                                                                                                                                                                                                                                                                                                                                                                                                               \n",
        "            \n",
        "            # Apply softmax to get probabilities \n",
        "            # (B, vocab_size)                                                                                                                                                                                                                                                                                                                                                                                                                                                                                                      \n",
        "            probs = FILL_IN                                                                                                                                                                                                                                                                                                                                                                                                                                                                                              \n",
        "            \n",
        "            # Sample from the distribution proporttional to probs\n",
        "            # (B, 1)                                                                                                                                                                                                                                                                                                                                                                                                                                                                                                           \n",
        "            idx_next = FILL_IN                                                                                                                                                                                                                                                                                                                                                                                                                                                                              \n",
        "            \n",
        "            # Append sampled index to the running sequence \n",
        "            # (B, T+1)                                                                                                                                                                                                                                                                                                                                                                                                                                                                                           \n",
        "            idx = FILL_IN    \n",
        "        self.train()                                                                                                                                                                                                                                                                                                                                                                                                                                                                                   \n",
        "        return idx\n",
        "\n",
        "\n"
      ]
    },
    {
      "cell_type": "code",
      "execution_count": null,
      "id": "ThiIDDj1gWse",
      "metadata": {
        "id": "ThiIDDj1gWse"
      },
      "outputs": [],
      "source": [
        "class EarlyStopping:\n",
        "    def __init__(self, tolerance=5, min_delta=0):\n",
        "\n",
        "        self.tolerance = tolerance\n",
        "        self.min_delta = min_delta\n",
        "        self.counter = 0\n",
        "        self.early_stop = False\n",
        "\n",
        "    def __call__(self, train_loss, validation_loss):\n",
        "        if (validation_loss - train_loss) / train_loss > self.min_delta:\n",
        "            self.counter += 1\n",
        "            if self.counter >= self.tolerance:  \n",
        "                self.early_stop = True"
      ]
    },
    {
      "cell_type": "code",
      "execution_count": 7,
      "id": "sJu3FQkBqT_o",
      "metadata": {
        "colab": {
          "base_uri": "https://localhost:8080/",
          "height": 240
        },
        "id": "sJu3FQkBqT_o",
        "outputId": "f6ebbff4-45ce-432c-f2fb-c1ed76fc81f0"
      },
      "outputs": [
        {
          "ename": "NameError",
          "evalue": "ignored",
          "output_type": "error",
          "traceback": [
            "\u001b[0;31m---------------------------------------------------------------------------\u001b[0m",
            "\u001b[0;31mNameError\u001b[0m                                 Traceback (most recent call last)",
            "\u001b[0;32m<ipython-input-7-22a3dc7a92de>\u001b[0m in \u001b[0;36m<cell line: 1>\u001b[0;34m()\u001b[0m\n\u001b[0;32m----> 1\u001b[0;31m \u001b[0mmodel\u001b[0m \u001b[0;34m=\u001b[0m \u001b[0mGPT\u001b[0m\u001b[0;34m(\u001b[0m\u001b[0;34m)\u001b[0m\u001b[0;34m.\u001b[0m\u001b[0mto\u001b[0m\u001b[0;34m(\u001b[0m\u001b[0mdevice\u001b[0m\u001b[0;34m)\u001b[0m\u001b[0;34m\u001b[0m\u001b[0;34m\u001b[0m\u001b[0m\n\u001b[0m\u001b[1;32m      2\u001b[0m \u001b[0;31m# Print the number of parameters in the model\u001b[0m\u001b[0;34m\u001b[0m\u001b[0;34m\u001b[0m\u001b[0m\n\u001b[1;32m      3\u001b[0m \u001b[0mprint\u001b[0m\u001b[0;34m(\u001b[0m\u001b[0msum\u001b[0m\u001b[0;34m(\u001b[0m\u001b[0mp\u001b[0m\u001b[0;34m.\u001b[0m\u001b[0mnumel\u001b[0m\u001b[0;34m(\u001b[0m\u001b[0;34m)\u001b[0m \u001b[0;32mfor\u001b[0m \u001b[0mp\u001b[0m \u001b[0;32min\u001b[0m \u001b[0mmodel\u001b[0m\u001b[0;34m.\u001b[0m\u001b[0mparameters\u001b[0m\u001b[0;34m(\u001b[0m\u001b[0;34m)\u001b[0m\u001b[0;34m)\u001b[0m \u001b[0;34m/\u001b[0m \u001b[0;36m1e6\u001b[0m\u001b[0;34m,\u001b[0m \u001b[0;34m'M parameters'\u001b[0m\u001b[0;34m)\u001b[0m\u001b[0;34m\u001b[0m\u001b[0;34m\u001b[0m\u001b[0m\n\u001b[1;32m      4\u001b[0m \u001b[0;34m\u001b[0m\u001b[0m\n\u001b[1;32m      5\u001b[0m \u001b[0;31m# create a PyTorch optimizer\u001b[0m\u001b[0;34m\u001b[0m\u001b[0;34m\u001b[0m\u001b[0m\n",
            "\u001b[0;31mNameError\u001b[0m: name 'GPT' is not defined"
          ]
        }
      ],
      "source": [
        "model = GPT().to(device)\n",
        "# Print the number of parameters in the model                                                                                                                                                                                                                                                                                                                                                                                                                                                                                                        \n",
        "FILL_IN\n",
        "\n",
        "# Create a PyTorch optimizer                                                                                                                                                                                                                                                                                                                                                                                                                                                                                                                         \n",
        "optimizer = torch.optim.AdamW(model.parameters(), lr=learning_rate)\n",
        "scheduler = torch.optim.lr_scheduler.StepLR(optimizer, 1, gamma=0.9)\n",
        "early_stopping = EarlyStopping(tolerance=1, min_delta=0.2)\n",
        "\n",
        "for iter in range(max_iters):\n",
        "    \n",
        "    # every once in a while evaluate the loss on train and val sets                                                                                                                                                                                                                                                                                                                                                                                                                                                                                  \n",
        "    if iter % eval_interval == 0 or iter == max_iters - 1:\n",
        "        if iter:\n",
        "          scheduler.step()\n",
        "        losses = estimate_loss(model)\n",
        "        print(f\"step {iter}: train loss {losses['train']:.4f}, val loss {losses['val']:.4f}\")\n",
        "        early_stopping(losses['train'], losses['val'])\n",
        "        if early_stopping.early_stop:\n",
        "          print(\"We stop at epoch {}\".format(iter))\n",
        "          break\n",
        "\n",
        "\n",
        "    # Sample a batch of data                                                                                                                                                                                                                                                                                                                                                                                                                                                                                                                         \n",
        "    xb, yb = get_batch('train')\n",
        "\n",
        "    # Evaluate the loss                                                                                                                                                                                                                                                                                                                                                                                                                                                                                                                              \n",
        "    logits, loss = model(xb, yb)\n",
        "    optimizer.zero_grad(set_to_none=True)\n",
        "    loss.backward()\n",
        "    optimizer.step()\n",
        "    "
      ]
    },
    {
      "cell_type": "code",
      "execution_count": null,
      "id": "2037f214",
      "metadata": {
        "id": "2037f214"
      },
      "outputs": [],
      "source": [
        "# Start the model with a new line, generate up to 10000 tokens\n",
        "# This is technically doing generations in batches, but here we have a batch size of 1 and 1 element to start in the batch\n",
        "# If you have a model that's very large, d_model = 384, n_head = 6, n_layer = 6, you'll get fairly decent results\n",
        "context = torch.zeros((1, 1), dtype=torch.long, device=device)\n",
        "print(decode(model.generate(context, max_new_tokens=100)[0].tolist()))\n",
        "open('fake_hemingway.txt', 'w').write(decode(model.generate(context, max_new_tokens=100)[0].tolist()))                            "
      ]
    },
    {
      "cell_type": "code",
      "execution_count": null,
      "id": "8163ae4f",
      "metadata": {
        "id": "8163ae4f"
      },
      "outputs": [],
      "source": [
        "torch.save(model.state_dict(), 'gpt.pt')"
      ]
    },
    {
      "cell_type": "code",
      "execution_count": null,
      "id": "ea4432ff",
      "metadata": {
        "id": "ea4432ff"
      },
      "outputs": [],
      "source": []
    }
  ],
  "metadata": {
    "accelerator": "GPU",
    "colab": {
      "provenance": []
    },
    "gpuClass": "standard",
    "kernelspec": {
      "display_name": "Python 3 (ipykernel)",
      "language": "python",
      "name": "python3"
    },
    "language_info": {
      "codemirror_mode": {
        "name": "ipython",
        "version": 3
      },
      "file_extension": ".py",
      "mimetype": "text/x-python",
      "name": "python",
      "nbconvert_exporter": "python",
      "pygments_lexer": "ipython3",
      "version": "3.10.8"
    }
  },
  "nbformat": 4,
  "nbformat_minor": 5
}
